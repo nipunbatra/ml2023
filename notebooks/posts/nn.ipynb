{
 "cells": [
  {
   "attachments": {},
   "cell_type": "raw",
   "metadata": {},
   "source": [
    "---\n",
    "author: Nipun Batra\n",
    "date: 2023-02-28\n",
    "description: Neural Network\n",
    "tags: [technical]\n",
    "title: 'Neural Network'\n",
    "---"
   ]
  },
  {
   "cell_type": "code",
   "execution_count": 1,
   "metadata": {},
   "outputs": [
    {
     "data": {
      "text/plain": [
       "'2.0.0+cu118'"
      ]
     },
     "execution_count": 1,
     "metadata": {},
     "output_type": "execute_result"
    }
   ],
   "source": [
    "import torch\n",
    "import torch.nn as nn\n",
    "import torch.nn.functional as F\n",
    "import torch.optim as optim\n",
    "\n",
    "import numpy as np\n",
    "import matplotlib.pyplot as plt\n",
    "\n",
    "from torch.utils.data import DataLoader, TensorDataset\n",
    "\n",
    "%matplotlib inline\n",
    "%config InlineBackend.figure_format = 'retina'\n",
    "\n",
    "# Set random seed for reproducibility\n",
    "torch.manual_seed(0)\n",
    "\n",
    "# Torch version\n",
    "torch.__version__"
   ]
  },
  {
   "cell_type": "code",
   "execution_count": 2,
   "metadata": {},
   "outputs": [],
   "source": [
    "# MNIST dataset\n",
    "\n",
    "from torchvision import datasets, transforms\n",
    "import torchvision\n",
    "\n",
    "# Split MNIST into train, validation, and test sets\n",
    "train_data = datasets.MNIST(root='data', train=True, download=True, transform=transforms.ToTensor())\n",
    "test_data = datasets.MNIST(root='data', train=False, download=True, transform=transforms.ToTensor())\n",
    "\n",
    "# Split train_data into train and validation sets\n",
    "val_data = torch.utils.data.Subset(train_data, range(50000, 51000))\n",
    "\n",
    "# Reduce the size of the training set to 5,000\n",
    "train_data = torch.utils.data.Subset(train_data, range(0, 5000))\n"
   ]
  },
  {
   "cell_type": "code",
   "execution_count": 3,
   "metadata": {},
   "outputs": [],
   "source": [
    "# Create data loaders\n",
    "batch_size = 64\n",
    "\n",
    "train_loader = DataLoader(train_data, batch_size=batch_size, shuffle=True)\n",
    "val_loader = DataLoader(val_data, batch_size=batch_size, shuffle=True)\n",
    "test_loader = DataLoader(test_data, batch_size=batch_size, shuffle=True)"
   ]
  },
  {
   "cell_type": "code",
   "execution_count": 4,
   "metadata": {},
   "outputs": [
    {
     "name": "stdout",
     "output_type": "stream",
     "text": [
      "torch.Size([64, 1, 28, 28])\n",
      "torch.Size([64])\n"
     ]
    }
   ],
   "source": [
    "img, target = next(iter(train_loader))\n",
    "print(img.shape)\n",
    "print(target.shape)"
   ]
  },
  {
   "cell_type": "code",
   "execution_count": 5,
   "metadata": {},
   "outputs": [
    {
     "data": {
      "image/png": "[encoded data removed]",
      "text/plain": [
       "<Figure size 432x288 with 1 Axes>"
      ]
     },
     "metadata": {
      "image/png": {
       "height": 248,
       "width": 251
      },
      "needs_background": "light"
     },
     "output_type": "display_data"
    }
   ],
   "source": [
    "plt.imshow(img[0].numpy().squeeze(), cmap='gray_r');"
   ]
  },
  {
   "cell_type": "code",
   "execution_count": 6,
   "metadata": {},
   "outputs": [
    {
     "data": {
      "text/plain": [
       "tensor([3, 4, 1, 8, 9, 3, 9, 8, 4, 8, 3, 0, 0, 7, 7, 1, 6, 6, 9, 7, 4, 3, 3, 4,\n",
       "        5, 7, 3, 2, 8, 4, 8, 2, 8, 3, 1, 4, 2, 1, 4, 8, 5, 3, 5, 1, 8, 7, 3, 7,\n",
       "        7, 2, 0, 3, 1, 3, 7, 0, 7, 1, 7, 6, 4, 1, 8, 0])"
      ]
     },
     "execution_count": 6,
     "metadata": {},
     "output_type": "execute_result"
    }
   ],
   "source": [
    "target"
   ]
  },
  {
   "cell_type": "code",
   "execution_count": 7,
   "metadata": {},
   "outputs": [],
   "source": [
    "# Store the labels and Images in TensorBoard\n",
    "\n",
    "from torch.utils.tensorboard import SummaryWriter\n",
    "\n",
    "# Clean up any old runs\n",
    "!rm -rf runs\n",
    "\n",
    "# Default `log_dir` is \"runs\"\n",
    "writer = SummaryWriter('runs/mnist')\n",
    "\n",
    "# Add images to tensorboard in the form of a grid in batches of 64\n",
    "dataiter = iter(DataLoader(train_data, batch_size=64, shuffle=True))\n",
    "\n",
    "# Add a slider in tensorboard to iterate through the batches\n",
    "for i in range(10):\n",
    "    images, labels = next(dataiter)\n",
    "    images = torchvision.utils.make_grid(images)\n",
    "    # Add images with labels to tensorboard\n",
    "    writer.add_image(f'mnist_images_{i}', images, global_step=i)"
   ]
  },
  {
   "cell_type": "code",
   "execution_count": 8,
   "metadata": {},
   "outputs": [],
   "source": [
    "# Define model for 10-class MNIST classification\n",
    "\n",
    "class MNISTClassifier(nn.Module):\n",
    "    def __init__(self):\n",
    "        super().__init__()\n",
    "        self.fc1 = nn.Linear(784, 64)\n",
    "        self.fc2 = nn.Linear(64, 32)\n",
    "        self.fc3 = nn.Linear(32, 10)\n",
    "        \n",
    "    def forward(self, x):\n",
    "        z1 = self.fc1(x)\n",
    "        a1 = F.relu(z1)\n",
    "        z2 = self.fc2(a1)\n",
    "        a2 = F.relu(z2)\n",
    "        z3 = self.fc3(a2) # logits\n",
    "        return z3"
   ]
  },
  {
   "cell_type": "code",
   "execution_count": 10,
   "metadata": {},
   "outputs": [],
   "source": [
    "model = MNISTClassifier()"
   ]
  },
  {
   "cell_type": "code",
   "execution_count": 11,
   "metadata": {},
   "outputs": [
    {
     "name": "stdout",
     "output_type": "stream",
     "text": [
      "torch.Size([64, 784])\n",
      "tensor([-0.1859, -0.1648,  0.0156,  0.0309,  0.1785, -0.1567, -0.0472,  0.1143,\n",
      "        -0.0400, -0.0006])\n",
      "tensor([0.0846, 0.0864, 0.1035, 0.1051, 0.1218, 0.0871, 0.0972, 0.1143, 0.0979,\n",
      "        0.1019])\n"
     ]
    },
    {
     "data": {
      "image/png": "[encoded data removed]",
      "text/plain": [
       "<Figure size 432x288 with 1 Axes>"
      ]
     },
     "metadata": {
      "image/png": {
       "height": 263,
       "width": 251
      },
      "needs_background": "light"
     },
     "output_type": "display_data"
    }
   ],
   "source": [
    "# Forward pass through the model\n",
    "\n",
    "\n",
    "\n",
    "saved_img, saved_target = next(iter(train_loader))\n",
    "saved_img = saved_img.view(saved_img.shape[0], -1)\n",
    "print(saved_img.shape)\n",
    "\n",
    "plt.imshow(saved_img[0].reshape(28, 28), cmap='gray_r')\n",
    "plt.title(saved_target[0].item())\n",
    "\n",
    "\n",
    "with torch.no_grad():\n",
    "    out = model(saved_img.view(saved_img.shape[0], -1))\n",
    "\n",
    "\n",
    "\n",
    "print(out[0])\n",
    "\n",
    "# Softmax\n",
    "probas = F.softmax(out, dim=1)\n",
    "print(probas[0])"
   ]
  },
  {
   "cell_type": "code",
   "execution_count": 12,
   "metadata": {},
   "outputs": [
    {
     "data": {
      "text/plain": [
       "tensor([[0.0846, 0.0864, 0.1035, 0.1051, 0.1218, 0.0871, 0.0972, 0.1143, 0.0979,\n",
       "         0.1019]])"
      ]
     },
     "execution_count": 12,
     "metadata": {},
     "output_type": "execute_result"
    }
   ],
   "source": [
    "probas[0:1]"
   ]
  },
  {
   "cell_type": "code",
   "execution_count": 13,
   "metadata": {},
   "outputs": [
    {
     "name": "stdout",
     "output_type": "stream",
     "text": [
      "Prediction:  4, True label: 2\n"
     ]
    }
   ],
   "source": [
    "# Predicted label before training\n",
    "\n",
    "pred = torch.argmax(probas[0:1], dim=1).item()\n",
    "print(f\"Prediction:  {pred}, True label: {saved_target[0].item()}\")"
   ]
  },
  {
   "cell_type": "code",
   "execution_count": 14,
   "metadata": {},
   "outputs": [
    {
     "data": {
      "text/plain": [
       "(torch.Size([64, 784]), torch.Size([64]))"
      ]
     },
     "execution_count": 14,
     "metadata": {},
     "output_type": "execute_result"
    }
   ],
   "source": [
    "model.fc1.weight.shape, model.fc1.bias.shape"
   ]
  },
  {
   "cell_type": "code",
   "execution_count": 15,
   "metadata": {},
   "outputs": [
    {
     "name": "stdout",
     "output_type": "stream",
     "text": [
      "fc1 50240\n",
      "fc2 2080\n",
      "fc3 330\n"
     ]
    }
   ],
   "source": [
    "# Number of parameters in fc1\n",
    "print(\"fc1\", model.fc1.weight.numel() + model.fc1.bias.numel())\n",
    "\n",
    "# Number of parameters in fc2\n",
    "print(\"fc2\", model.fc2.weight.numel() + model.fc2.bias.numel())\n",
    "\n",
    "# Number of parameters in fc3\n",
    "print(\"fc3\", model.fc3.weight.numel() + model.fc3.bias.numel())"
   ]
  },
  {
   "cell_type": "code",
   "execution_count": 16,
   "metadata": {},
   "outputs": [
    {
     "name": "stdout",
     "output_type": "stream",
     "text": [
      "Total number of parameters: 52650\n"
     ]
    }
   ],
   "source": [
    "# Get total number of parameters\n",
    "print(\"Total number of parameters:\", sum(p.numel() for p in model.parameters()))"
   ]
  },
  {
   "cell_type": "code",
   "execution_count": 54,
   "metadata": {},
   "outputs": [
    {
     "data": {
      "text/plain": [
       "79"
      ]
     },
     "execution_count": 54,
     "metadata": {},
     "output_type": "execute_result"
    }
   ],
   "source": [
    "len(train_loader)"
   ]
  },
  {
   "cell_type": "code",
   "execution_count": 52,
   "metadata": {},
   "outputs": [
    {
     "name": "stdout",
     "output_type": "stream",
     "text": [
      "Epoch [1/1], Step [0/79], Loss: 2.3027\n"
     ]
    }
   ],
   "source": [
    "# Forward pass through the model and writing to tensorboard\n",
    "\n",
    "lr = 0.001\n",
    "optimizer = optim.Adam(model.parameters(), lr=lr)\n",
    "criterion = nn.CrossEntropyLoss()\n",
    "\n",
    "num_epochs = 1\n",
    "for epoch in range(num_epochs):\n",
    "    for batch_idx, (data_test, target) in enumerate(train_loader):\n",
    "        # Reshape data to input to the network\n",
    "        data_test = data_test.view(data_test.shape[0], -1)\n",
    "        # Forward pass\n",
    "        output = model(data_test)\n",
    "        loss = criterion(output, target)\n",
    "        # Backward and optimize\n",
    "        optimizer.zero_grad()\n",
    "        loss.backward()\n",
    "        optimizer.step()\n",
    "\n",
    "        iteration_num = epoch * len(train_loader) + batch_idx\n",
    "        \n",
    "        # Write to tensorboard\n",
    "        writer.add_scalar('Loss/train', loss.item(), iteration_num)\n",
    "        writer.add_scalar('Accuracy/train', (output.argmax(dim=1) == target).float().mean(), iteration_num)\n",
    "\n",
    "        # Find test loss and accuracy\n",
    "        runing_loss = 0.0\n",
    "        running_acc = 0.0\n",
    "        with torch.no_grad():\n",
    "            for data_test, target_test in val_loader:\n",
    "                data_test = data_test.view(data_test.shape[0], -1)\n",
    "                output_test = model(data_test)\n",
    "                loss_test = criterion(output_test, target_test)\n",
    "                runing_loss += loss_test.item()\n",
    "                running_acc += (output_test.argmax(dim=1) == target_test).float().mean()\n",
    "        writer.add_scalar('Loss/validation', runing_loss / len(val_loader), iteration_num)\n",
    "        writer.add_scalar('Accuracy/validation', running_acc / len(val_loader), iteration_num)\n",
    "\n",
    "        if batch_idx % 100 == 0:\n",
    "            print (f'Epoch [{epoch+1}/{num_epochs}], Step [{batch_idx}/{len(train_loader)}], Loss: {loss.item():.4f}')"
   ]
  },
  {
   "cell_type": "code",
   "execution_count": 60,
   "metadata": {},
   "outputs": [
    {
     "name": "stdout",
     "output_type": "stream",
     "text": [
      "1 1\n"
     ]
    }
   ],
   "source": [
    "# Prediction on the saved image\n",
    "\n",
    "with torch.no_grad():\n",
    "    out = model(saved_img[0:1])\n",
    "    probas = F.softmax(out, dim=1)\n",
    "    pred = torch.argmax(probas, dim=1).item()\n",
    "    print(pred, saved_target[0].item())"
   ]
  },
  {
   "cell_type": "code",
   "execution_count": 98,
   "metadata": {},
   "outputs": [
    {
     "name": "stdout",
     "output_type": "stream",
     "text": [
      "Batch size: 32, Learning rate: 0.001\n",
      "Batch size: 32, Learning rate: 0.01\n",
      "Batch size: 32, Learning rate: 0.1\n",
      "Batch size: 64, Learning rate: 0.001\n",
      "Batch size: 64, Learning rate: 0.01\n",
      "Batch size: 64, Learning rate: 0.1\n",
      "Batch size: 512, Learning rate: 0.001\n",
      "Batch size: 512, Learning rate: 0.01\n",
      "Batch size: 512, Learning rate: 0.1\n"
     ]
    }
   ],
   "source": [
    "# Create a HParam dictionary for batch size and learning rate for tensorboard\n",
    "\n",
    "b_sizes = [32, 64, 512]\n",
    "lrs = [0.001, 0.01, 0.1]\n",
    "\n",
    "\n",
    "num_epochs  = 1\n",
    "for epoch in range(num_epochs):\n",
    "    for b_size in b_sizes:\n",
    "        train_loader = DataLoader(train_data, batch_size=b_size, shuffle=True)\n",
    "        model = MNISTClassifier()\n",
    "        for lr in lrs:\n",
    "            print(f\"Batch size: {b_size}, Learning rate: {lr}\")\n",
    "            optimizer = optim.Adam(model.parameters(), lr=lr)\n",
    "            criterion = nn.CrossEntropyLoss()\n",
    "            for batch_idx, (data, target) in enumerate(train_loader):\n",
    "                # Reshape data to input to the network\n",
    "                data = data.view(data.shape[0], -1)\n",
    "                # Forward pass\n",
    "                output = model(data)\n",
    "                loss = criterion(output, target)\n",
    "                # Backward and optimize\n",
    "                optimizer.zero_grad()\n",
    "                loss.backward()\n",
    "                optimizer.step()\n",
    "                \n",
    "\n",
    "                # Write loss as scalar to Tensorboard and hyperparameters to HParams\n",
    "                writer.add_scalar('training loss',\n",
    "                                loss.item(),\n",
    "                                epoch * len(train_loader) + batch_idx)\n",
    "                writer.add_hparams({'lr': lr, 'bsize': b_size},\n",
    "                                { 'hparam/loss': loss.item()})\n",
    "                \n",
    "\n",
    "    "
   ]
  },
  {
   "cell_type": "code",
   "execution_count": null,
   "metadata": {},
   "outputs": [],
   "source": []
  }
 ],
 "metadata": {
  "kernelspec": {
   "display_name": "Python 3",
   "language": "python",
   "name": "python3"
  },
  "language_info": {
   "codemirror_mode": {
    "name": "ipython",
    "version": 3
   },
   "file_extension": ".py",
   "mimetype": "text/x-python",
   "name": "python",
   "nbconvert_exporter": "python",
   "pygments_lexer": "ipython3",
   "version": "3.9.7"
  },
  "orig_nbformat": 4
 },
 "nbformat": 4,
 "nbformat_minor": 2
}
