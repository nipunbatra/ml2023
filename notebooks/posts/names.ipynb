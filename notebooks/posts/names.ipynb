{
 "cells": [
  {
   "cell_type": "raw",
   "metadata": {},
   "source": [
    "---\n",
    "author: Nipun Batra\n",
    "date: 2023-03-31\n",
    "description: Generating names\n",
    "tags: [technical]\n",
    "title: 'Generating names using MLPs'\n",
    "---"
   ]
  },
  {
   "cell_type": "code",
   "execution_count": 3,
   "metadata": {},
   "outputs": [],
   "source": [
    "import torch\n",
    "import torch.nn.functional as F\n",
    "from torch import nn\n",
    "import pandas as pd\n",
    "import matplotlib.pyplot as plt # for making figures\n",
    "%matplotlib inline\n",
    "%config InlineBackend.figure_format = 'retina'"
   ]
  },
  {
   "cell_type": "code",
   "execution_count": 4,
   "metadata": {},
   "outputs": [
    {
     "data": {
      "text/plain": [
       "'2.0.0+cu118'"
      ]
     },
     "execution_count": 4,
     "metadata": {},
     "output_type": "execute_result"
    }
   ],
   "source": [
    "torch.__version__"
   ]
  },
  {
   "cell_type": "code",
   "execution_count": 5,
   "metadata": {},
   "outputs": [],
   "source": [
    "device = torch.device(\"cuda\" if torch.cuda.is_available() else \"cpu\")"
   ]
  },
  {
   "cell_type": "code",
   "execution_count": 6,
   "metadata": {},
   "outputs": [],
   "source": [
    "# Get some names from https://github.com/MASTREX/List-of-Indian-Names"
   ]
  },
  {
   "cell_type": "code",
   "execution_count": 7,
   "metadata": {},
   "outputs": [
    {
     "name": "stdout",
     "output_type": "stream",
     "text": [
      "--2023-03-31 16:39:52--  https://raw.githubusercontent.com/balasahebgulave/Dataset-Indian-Names/master/Indian_Names.csv\n",
      "Resolving raw.githubusercontent.com (raw.githubusercontent.com)... 185.199.111.133, 185.199.108.133, 185.199.109.133, ...\n",
      "Connecting to raw.githubusercontent.com (raw.githubusercontent.com)|185.199.111.133|:443... connected.\n",
      "HTTP request sent, awaiting response... 200 OK\n",
      "Length: 85538 (84K) [text/plain]\n",
      "Saving to: ‘names-long.csv’\n",
      "\n",
      "names-long.csv      100%[===================>]  83.53K  --.-KB/s    in 0.07s   \n",
      "\n",
      "2023-03-31 16:39:53 (1.19 MB/s) - ‘names-long.csv’ saved [85538/85538]\n",
      "\n"
     ]
    }
   ],
   "source": [
    "!wget https://raw.githubusercontent.com/balasahebgulave/Dataset-Indian-Names/master/Indian_Names.csv -O names-long.csv"
   ]
  },
  {
   "cell_type": "code",
   "execution_count": 8,
   "metadata": {},
   "outputs": [
    {
     "name": "stdout",
     "output_type": "stream",
     "text": [
      ",Name\n",
      "0,aabid\n",
      "1,aabida\n",
      "2,aachal\n",
      "3,aadesh\n",
      "4,aadil\n",
      "5,aadish\n",
      "6,aaditya\n",
      "7,aaenab\n",
      "8,aafreen\n"
     ]
    }
   ],
   "source": [
    "!head names-long.csv"
   ]
  },
  {
   "cell_type": "code",
   "execution_count": 9,
   "metadata": {},
   "outputs": [
    {
     "data": {
      "text/plain": [
       "['khushbu',\n",
       " 'partyush',\n",
       " 'shiwani',\n",
       " 'shakun',\n",
       " 'meenakshi',\n",
       " 'raniya',\n",
       " 'poonam',\n",
       " 'chandini',\n",
       " 'jabir',\n",
       " 'gurnam']"
      ]
     },
     "execution_count": 9,
     "metadata": {},
     "output_type": "execute_result"
    }
   ],
   "source": [
    "words = pd.read_csv('names-long.csv')[\"Name\"]\n",
    "words = words.str.lower()\n",
    "words = words.str.strip()\n",
    "words = words.str.replace(\" \", \"\")\n",
    "\n",
    "words = words[words.str.len() > 2]\n",
    "words = words[words.str.len() < 10]\n",
    "\n",
    "# Randomly shuffle the words\n",
    "words = words.sample(frac=1).reset_index(drop=True)\n",
    "words = words.tolist()\n",
    "\n",
    "# Remove words having non alphabets\n",
    "words = [word for word in words if word.isalpha()]\n",
    "words[:10]\n"
   ]
  },
  {
   "cell_type": "code",
   "execution_count": 10,
   "metadata": {},
   "outputs": [
    {
     "data": {
      "text/plain": [
       "6184"
      ]
     },
     "execution_count": 10,
     "metadata": {},
     "output_type": "execute_result"
    }
   ],
   "source": [
    "len(words)"
   ]
  },
  {
   "cell_type": "code",
   "execution_count": 11,
   "metadata": {},
   "outputs": [
    {
     "name": "stdout",
     "output_type": "stream",
     "text": [
      "{1: 'a', 2: 'b', 3: 'c', 4: 'd', 5: 'e', 6: 'f', 7: 'g', 8: 'h', 9: 'i', 10: 'j', 11: 'k', 12: 'l', 13: 'm', 14: 'n', 15: 'o', 16: 'p', 17: 'q', 18: 'r', 19: 's', 20: 't', 21: 'u', 22: 'v', 23: 'w', 24: 'x', 25: 'y', 26: 'z', 0: '.'}\n"
     ]
    }
   ],
   "source": [
    "# build the vocabulary of characters and mappings to/from integers\n",
    "chars = sorted(list(set(''.join(words))))\n",
    "stoi = {s:i+1 for i,s in enumerate(chars)}\n",
    "stoi['.'] = 0\n",
    "itos = {i:s for s,i in stoi.items()}\n",
    "print(itos)"
   ]
  },
  {
   "cell_type": "code",
   "execution_count": 12,
   "metadata": {},
   "outputs": [],
   "source": [
    "block_size = 4 # context length: how many characters do we take to predict the next one?\n",
    "X, Y = [], []\n",
    "for w in words[:]:\n",
    "  \n",
    "  #print(w)\n",
    "  context = [0] * block_size\n",
    "  for ch in w + '.':\n",
    "    ix = stoi[ch]\n",
    "    X.append(context)\n",
    "    Y.append(ix)\n",
    "    #print(''.join(itos[i] for i in context), '--->', itos[ix])\n",
    "    context = context[1:] + [ix] # crop and append\n",
    "  \n",
    "# Move data to GPU\n",
    "\n",
    "X = torch.tensor(X).to(device)\n",
    "Y = torch.tensor(Y).to(device)"
   ]
  },
  {
   "cell_type": "code",
   "execution_count": 13,
   "metadata": {},
   "outputs": [
    {
     "data": {
      "text/plain": [
       "(torch.Size([44325, 4]), torch.int64, torch.Size([44325]), torch.int64)"
      ]
     },
     "execution_count": 13,
     "metadata": {},
     "output_type": "execute_result"
    }
   ],
   "source": [
    "X.shape, X.dtype, Y.shape, Y.dtype"
   ]
  },
  {
   "cell_type": "code",
   "execution_count": 17,
   "metadata": {},
   "outputs": [],
   "source": [
    "# Embedding layer for the context\n",
    "\n",
    "emb_dim = 2\n",
    "emb = torch.nn.Embedding(len(stoi), emb_dim)\n"
   ]
  },
  {
   "cell_type": "code",
   "execution_count": 18,
   "metadata": {},
   "outputs": [
    {
     "data": {
      "text/plain": [
       "Parameter containing:\n",
       "tensor([[-6.3959e-01, -1.7073e-01],\n",
       "        [-1.7382e+00,  1.7466e-01],\n",
       "        [-6.6321e-01,  4.1073e-01],\n",
       "        [-1.6856e+00,  1.0051e+00],\n",
       "        [ 1.0346e+00, -3.9237e-01],\n",
       "        [ 9.7926e-01, -9.8037e-01],\n",
       "        [ 6.1960e-01,  1.6536e-03],\n",
       "        [-8.0376e-01, -1.8423e-01],\n",
       "        [-8.7847e-01, -9.9468e-01],\n",
       "        [-5.0439e-01,  2.1360e-01],\n",
       "        [-1.7855e+00,  4.7049e-01],\n",
       "        [-7.9968e-01, -6.4335e-01],\n",
       "        [-1.1365e+00,  7.7208e-01],\n",
       "        [-4.9984e-01, -7.7792e-01],\n",
       "        [ 6.4796e-01, -3.1718e-03],\n",
       "        [ 1.8831e-01,  1.6474e+00],\n",
       "        [ 9.5616e-01, -1.0264e+00],\n",
       "        [-1.3072e+00,  2.1557e+00],\n",
       "        [ 1.0139e+00,  5.7146e-01],\n",
       "        [-4.7440e-01, -4.6429e-01],\n",
       "        [-7.4398e-01,  1.5965e-01],\n",
       "        [ 2.0270e-01,  1.3207e-01],\n",
       "        [-2.2629e-02,  3.5132e-01],\n",
       "        [-5.5195e-01, -9.0722e-02],\n",
       "        [ 2.0707e-01,  3.0502e-01],\n",
       "        [-1.8043e+00,  4.0086e-02],\n",
       "        [-4.1971e-01,  1.7808e+00]], requires_grad=True)"
      ]
     },
     "execution_count": 18,
     "metadata": {},
     "output_type": "execute_result"
    }
   ],
   "source": [
    "emb.weight"
   ]
  },
  {
   "cell_type": "code",
   "execution_count": 19,
   "metadata": {},
   "outputs": [
    {
     "data": {
      "text/plain": [
       "<AxesSubplot:>"
      ]
     },
     "execution_count": 19,
     "metadata": {},
     "output_type": "execute_result"
    },
    {
     "data": {
      "image/png": "[encoded data removed]",
      "text/plain": [
       "<Figure size 432x288 with 1 Axes>"
      ]
     },
     "metadata": {
      "image/png": {
       "height": 249,
       "width": 380
      },
      "needs_background": "light"
     },
     "output_type": "display_data"
    }
   ],
   "source": [
    "# Function to visualize the embedding in 2d space\n",
    "\n",
    "def plot_emb(emb, itos, ax=None):\n",
    "    if ax is None:\n",
    "        fig, ax = plt.subplots()\n",
    "    for i in range(len(itos)):\n",
    "        x, y = emb.weight[i].detach().cpu().numpy()\n",
    "        ax.scatter(x, y, color='k')\n",
    "        ax.text(x + 0.05, y + 0.05, itos[i])\n",
    "    return ax\n",
    "\n",
    "plot_emb(emb, itos)"
   ]
  },
  {
   "cell_type": "code",
   "execution_count": 20,
   "metadata": {},
   "outputs": [],
   "source": [
    "class NextChar(nn.Module):\n",
    "  def __init__(self, block_size, vocab_size, emb_dim, hidden_size):\n",
    "    super().__init__()\n",
    "    self.emb = nn.Embedding(vocab_size, emb_dim)\n",
    "    self.lin1 = nn.Linear(block_size * emb_dim, hidden_size)\n",
    "    self.lin2 = nn.Linear(hidden_size, vocab_size)\n",
    "\n",
    "  def forward(self, x):\n",
    "    x = self.emb(x)\n",
    "    x = x.view(x.shape[0], -1)\n",
    "    x = F.relu(self.lin1(x))\n",
    "    x = self.lin2(x)\n",
    "    return x\n",
    "    "
   ]
  },
  {
   "cell_type": "code",
   "execution_count": 21,
   "metadata": {},
   "outputs": [
    {
     "name": "stdout",
     "output_type": "stream",
     "text": [
      "njjnlvjpze\n",
      "a\n",
      "qiklym\n",
      "lzeridzkyp\n",
      "safkfxwloa\n",
      "dabymmslou\n",
      "llfanwytrp\n",
      "fpyyyyjcty\n",
      "ckzdcedwhy\n",
      "afvymrxuhl\n"
     ]
    }
   ],
   "source": [
    "# Generate names from untrained model\n",
    "\n",
    "\n",
    "model = NextChar(block_size, len(stoi), emb_dim, 50).to(device)\n",
    "\n",
    "g = torch.Generator()\n",
    "g.manual_seed(4000002)\n",
    "def generate_name(model, itos, stoi, block_size, max_len=10):\n",
    "    context = [0] * block_size\n",
    "    name = ''\n",
    "    for i in range(max_len):\n",
    "        x = torch.tensor(context).view(1, -1).to(device)\n",
    "        y_pred = model(x)\n",
    "        ix = torch.distributions.categorical.Categorical(logits=y_pred).sample().item()\n",
    "        ch = itos[ix]\n",
    "        if ch == '.':\n",
    "            break\n",
    "        name += ch\n",
    "        context = context[1:] + [ix]\n",
    "    return name\n",
    "\n",
    "for i in range(10):\n",
    "    print(generate_name(model, itos, stoi, block_size))"
   ]
  },
  {
   "cell_type": "code",
   "execution_count": 22,
   "metadata": {},
   "outputs": [
    {
     "name": "stdout",
     "output_type": "stream",
     "text": [
      "emb.weight torch.Size([27, 2])\n",
      "lin1.weight torch.Size([50, 8])\n",
      "lin1.bias torch.Size([50])\n",
      "lin2.weight torch.Size([27, 50])\n",
      "lin2.bias torch.Size([27])\n"
     ]
    }
   ],
   "source": [
    "for param_name, param in model.named_parameters():\n",
    "    print(param_name, param.shape)"
   ]
  },
  {
   "cell_type": "code",
   "execution_count": 23,
   "metadata": {},
   "outputs": [
    {
     "name": "stdout",
     "output_type": "stream",
     "text": [
      "0 3.3009612560272217\n",
      "Time taken for 1 epochs: 6.783246994018554e-05 seconds\n",
      "200 2.64089035987854\n",
      "Time taken for 1 epochs: 0.002798807621002197 seconds\n",
      "400 2.464935779571533\n",
      "Time taken for 1 epochs: 0.005505086183547974 seconds\n",
      "600 2.3540990352630615\n",
      "Time taken for 1 epochs: 0.008209853172302247 seconds\n",
      "800 2.2896411418914795\n",
      "Time taken for 1 epochs: 0.010902423858642579 seconds\n",
      "1000 2.253048896789551\n",
      "Time taken for 1 epochs: 0.01357825517654419 seconds\n",
      "1200 2.230181932449341\n",
      "Time taken for 1 epochs: 0.01625855326652527 seconds\n",
      "1400 2.214463949203491\n",
      "Time taken for 1 epochs: 0.018946928977966307 seconds\n",
      "1600 2.2014658451080322\n",
      "Time taken for 1 epochs: 0.021631813049316405 seconds\n",
      "1800 2.189743995666504\n",
      "Time taken for 1 epochs: 0.024313094615936278 seconds\n",
      "2000 2.1792221069335938\n",
      "Time taken for 1 epochs: 0.02699194073677063 seconds\n",
      "2200 2.1697933673858643\n",
      "Time taken for 1 epochs: 0.029654964208602905 seconds\n",
      "2400 2.162414073944092\n",
      "Time taken for 1 epochs: 0.032336957454681396 seconds\n",
      "2600 2.1558170318603516\n",
      "Time taken for 1 epochs: 0.03502406120300293 seconds\n",
      "2800 2.1498494148254395\n",
      "Time taken for 1 epochs: 0.03770299792289734 seconds\n",
      "3000 2.144392967224121\n",
      "Time taken for 1 epochs: 0.04039113163948059 seconds\n",
      "3200 2.1393423080444336\n",
      "Time taken for 1 epochs: 0.04307005882263184 seconds\n",
      "3400 2.1347291469573975\n",
      "Time taken for 1 epochs: 0.0457495379447937 seconds\n",
      "3600 2.1302402019500732\n",
      "Time taken for 1 epochs: 0.048431719541549685 seconds\n",
      "3800 2.1258442401885986\n",
      "Time taken for 1 epochs: 0.051105326414108275 seconds\n",
      "4000 2.122455596923828\n",
      "Time taken for 1 epochs: 0.05379113078117371 seconds\n",
      "4200 2.1197619438171387\n",
      "Time taken for 1 epochs: 0.05647063016891479 seconds\n",
      "4400 2.1175715923309326\n",
      "Time taken for 1 epochs: 0.05915060043334961 seconds\n",
      "4600 2.1157424449920654\n",
      "Time taken for 1 epochs: 0.061825689077377316 seconds\n",
      "4800 2.114236354827881\n",
      "Time taken for 1 epochs: 0.06450188517570496 seconds\n"
     ]
    }
   ],
   "source": [
    "# Train the model\n",
    "\n",
    "loss_fn = nn.CrossEntropyLoss()\n",
    "opt = torch.optim.AdamW(model.parameters(), lr=0.001)\n",
    "import time\n",
    "# Mini-batch training\n",
    "batch_size = 4096*16\n",
    "print_every = 200\n",
    "elapsed_time = []\n",
    "for epoch in range(5000):\n",
    "    start_time = time.time()\n",
    "    for i in range(0, X.shape[0], batch_size):\n",
    "        x = X[i:i+batch_size]\n",
    "        y = Y[i:i+batch_size]\n",
    "        y_pred = model(x)\n",
    "        loss = loss_fn(y_pred, y)\n",
    "        loss.backward()\n",
    "        opt.step()\n",
    "        opt.zero_grad()\n",
    "    end_time = time.time()\n",
    "    elapsed_time.append(end_time - start_time)\n",
    "    if epoch % print_every == 0:\n",
    "        print(epoch, loss.item())\n",
    "        print(\"Time taken for 1 epochs: {} seconds\".format(sum(elapsed_time)/print_every))\n"
   ]
  },
  {
   "cell_type": "code",
   "execution_count": 24,
   "metadata": {},
   "outputs": [
    {
     "data": {
      "text/plain": [
       "<AxesSubplot:>"
      ]
     },
     "execution_count": 24,
     "metadata": {},
     "output_type": "execute_result"
    },
    {
     "data": {
      "image/png": "[encoded data removed]",
      "text/plain": [
       "<Figure size 432x288 with 1 Axes>"
      ]
     },
     "metadata": {
      "image/png": {
       "height": 248,
       "width": 378
      },
      "needs_background": "light"
     },
     "output_type": "display_data"
    }
   ],
   "source": [
    "# Visualize the embedding\n",
    "\n",
    "plot_emb(model.emb, itos)"
   ]
  },
  {
   "cell_type": "code",
   "execution_count": 31,
   "metadata": {},
   "outputs": [
    {
     "ename": "RuntimeError",
     "evalue": "Expected tensor for argument #1 'indices' to have one of the following scalar types: Long, Int; but got torch.cuda.FloatTensor instead (while checking arguments for embedding)",
     "output_type": "error",
     "traceback": [
      "\u001b[0;31m---------------------------------------------------------------------------\u001b[0m",
      "\u001b[0;31mRuntimeError\u001b[0m                              Traceback (most recent call last)",
      "\u001b[1;32m/home/nipun.batra/git/ml2023/notebooks/posts/names.ipynb Cell 21\u001b[0m in \u001b[0;36m<module>\u001b[0;34m\u001b[0m\n\u001b[1;32m      <a href='vscode-notebook-cell://ssh-remote%2B10.0.62.168/home/nipun.batra/git/ml2023/notebooks/posts/names.ipynb#X26sdnNjb2RlLXJlbW90ZQ%3D%3D?line=0'>1</a>\u001b[0m \u001b[39mimport\u001b[39;00m \u001b[39mtorchsummary\u001b[39;00m\n\u001b[1;32m      <a href='vscode-notebook-cell://ssh-remote%2B10.0.62.168/home/nipun.batra/git/ml2023/notebooks/posts/names.ipynb#X26sdnNjb2RlLXJlbW90ZQ%3D%3D?line=2'>3</a>\u001b[0m \u001b[39m# Create a summary of the model\u001b[39;00m\n\u001b[0;32m----> <a href='vscode-notebook-cell://ssh-remote%2B10.0.62.168/home/nipun.batra/git/ml2023/notebooks/posts/names.ipynb#X26sdnNjb2RlLXJlbW90ZQ%3D%3D?line=4'>5</a>\u001b[0m torchsummary\u001b[39m.\u001b[39;49msummary(model, X\u001b[39m.\u001b[39;49mshape)\n",
      "File \u001b[0;32m~/miniforge3/lib/python3.9/site-packages/torchsummary/torchsummary.py:72\u001b[0m, in \u001b[0;36msummary\u001b[0;34m(model, input_size, batch_size, device)\u001b[0m\n\u001b[1;32m     68\u001b[0m model\u001b[39m.\u001b[39mapply(register_hook)\n\u001b[1;32m     70\u001b[0m \u001b[39m# make a forward pass\u001b[39;00m\n\u001b[1;32m     71\u001b[0m \u001b[39m# print(x.shape)\u001b[39;00m\n\u001b[0;32m---> 72\u001b[0m model(\u001b[39m*\u001b[39;49mx)\n\u001b[1;32m     74\u001b[0m \u001b[39m# remove these hooks\u001b[39;00m\n\u001b[1;32m     75\u001b[0m \u001b[39mfor\u001b[39;00m h \u001b[39min\u001b[39;00m hooks:\n",
      "File \u001b[0;32m~/miniforge3/lib/python3.9/site-packages/torch/nn/modules/module.py:1501\u001b[0m, in \u001b[0;36mModule._call_impl\u001b[0;34m(self, *args, **kwargs)\u001b[0m\n\u001b[1;32m   1496\u001b[0m \u001b[39m# If we don't have any hooks, we want to skip the rest of the logic in\u001b[39;00m\n\u001b[1;32m   1497\u001b[0m \u001b[39m# this function, and just call forward.\u001b[39;00m\n\u001b[1;32m   1498\u001b[0m \u001b[39mif\u001b[39;00m \u001b[39mnot\u001b[39;00m (\u001b[39mself\u001b[39m\u001b[39m.\u001b[39m_backward_hooks \u001b[39mor\u001b[39;00m \u001b[39mself\u001b[39m\u001b[39m.\u001b[39m_backward_pre_hooks \u001b[39mor\u001b[39;00m \u001b[39mself\u001b[39m\u001b[39m.\u001b[39m_forward_hooks \u001b[39mor\u001b[39;00m \u001b[39mself\u001b[39m\u001b[39m.\u001b[39m_forward_pre_hooks\n\u001b[1;32m   1499\u001b[0m         \u001b[39mor\u001b[39;00m _global_backward_pre_hooks \u001b[39mor\u001b[39;00m _global_backward_hooks\n\u001b[1;32m   1500\u001b[0m         \u001b[39mor\u001b[39;00m _global_forward_hooks \u001b[39mor\u001b[39;00m _global_forward_pre_hooks):\n\u001b[0;32m-> 1501\u001b[0m     \u001b[39mreturn\u001b[39;00m forward_call(\u001b[39m*\u001b[39;49margs, \u001b[39m*\u001b[39;49m\u001b[39m*\u001b[39;49mkwargs)\n\u001b[1;32m   1502\u001b[0m \u001b[39m# Do not call functions when jit is used\u001b[39;00m\n\u001b[1;32m   1503\u001b[0m full_backward_hooks, non_full_backward_hooks \u001b[39m=\u001b[39m [], []\n",
      "\u001b[1;32m/home/nipun.batra/git/ml2023/notebooks/posts/names.ipynb Cell 21\u001b[0m in \u001b[0;36mNextChar.forward\u001b[0;34m(self, x)\u001b[0m\n\u001b[1;32m      <a href='vscode-notebook-cell://ssh-remote%2B10.0.62.168/home/nipun.batra/git/ml2023/notebooks/posts/names.ipynb#X26sdnNjb2RlLXJlbW90ZQ%3D%3D?line=7'>8</a>\u001b[0m \u001b[39mdef\u001b[39;00m \u001b[39mforward\u001b[39m(\u001b[39mself\u001b[39m, x):\n\u001b[0;32m----> <a href='vscode-notebook-cell://ssh-remote%2B10.0.62.168/home/nipun.batra/git/ml2023/notebooks/posts/names.ipynb#X26sdnNjb2RlLXJlbW90ZQ%3D%3D?line=8'>9</a>\u001b[0m   x \u001b[39m=\u001b[39m \u001b[39mself\u001b[39;49m\u001b[39m.\u001b[39;49memb(x)\n\u001b[1;32m     <a href='vscode-notebook-cell://ssh-remote%2B10.0.62.168/home/nipun.batra/git/ml2023/notebooks/posts/names.ipynb#X26sdnNjb2RlLXJlbW90ZQ%3D%3D?line=9'>10</a>\u001b[0m   x \u001b[39m=\u001b[39m x\u001b[39m.\u001b[39mview(x\u001b[39m.\u001b[39mshape[\u001b[39m0\u001b[39m], \u001b[39m-\u001b[39m\u001b[39m1\u001b[39m)\n\u001b[1;32m     <a href='vscode-notebook-cell://ssh-remote%2B10.0.62.168/home/nipun.batra/git/ml2023/notebooks/posts/names.ipynb#X26sdnNjb2RlLXJlbW90ZQ%3D%3D?line=10'>11</a>\u001b[0m   x \u001b[39m=\u001b[39m F\u001b[39m.\u001b[39mrelu(\u001b[39mself\u001b[39m\u001b[39m.\u001b[39mlin1(x))\n",
      "File \u001b[0;32m~/miniforge3/lib/python3.9/site-packages/torch/nn/modules/module.py:1538\u001b[0m, in \u001b[0;36mModule._call_impl\u001b[0;34m(self, *args, **kwargs)\u001b[0m\n\u001b[1;32m   1535\u001b[0m     bw_hook \u001b[39m=\u001b[39m hooks\u001b[39m.\u001b[39mBackwardHook(\u001b[39mself\u001b[39m, full_backward_hooks, backward_pre_hooks)\n\u001b[1;32m   1536\u001b[0m     args \u001b[39m=\u001b[39m bw_hook\u001b[39m.\u001b[39msetup_input_hook(args)\n\u001b[0;32m-> 1538\u001b[0m result \u001b[39m=\u001b[39m forward_call(\u001b[39m*\u001b[39;49margs, \u001b[39m*\u001b[39;49m\u001b[39m*\u001b[39;49mkwargs)\n\u001b[1;32m   1539\u001b[0m \u001b[39mif\u001b[39;00m _global_forward_hooks \u001b[39mor\u001b[39;00m \u001b[39mself\u001b[39m\u001b[39m.\u001b[39m_forward_hooks:\n\u001b[1;32m   1540\u001b[0m     \u001b[39mfor\u001b[39;00m hook_id, hook \u001b[39min\u001b[39;00m (\n\u001b[1;32m   1541\u001b[0m         \u001b[39m*\u001b[39m_global_forward_hooks\u001b[39m.\u001b[39mitems(),\n\u001b[1;32m   1542\u001b[0m         \u001b[39m*\u001b[39m\u001b[39mself\u001b[39m\u001b[39m.\u001b[39m_forward_hooks\u001b[39m.\u001b[39mitems(),\n\u001b[1;32m   1543\u001b[0m     ):\n",
      "File \u001b[0;32m~/miniforge3/lib/python3.9/site-packages/torch/nn/modules/sparse.py:162\u001b[0m, in \u001b[0;36mEmbedding.forward\u001b[0;34m(self, input)\u001b[0m\n\u001b[1;32m    161\u001b[0m \u001b[39mdef\u001b[39;00m \u001b[39mforward\u001b[39m(\u001b[39mself\u001b[39m, \u001b[39minput\u001b[39m: Tensor) \u001b[39m-\u001b[39m\u001b[39m>\u001b[39m Tensor:\n\u001b[0;32m--> 162\u001b[0m     \u001b[39mreturn\u001b[39;00m F\u001b[39m.\u001b[39;49membedding(\n\u001b[1;32m    163\u001b[0m         \u001b[39minput\u001b[39;49m, \u001b[39mself\u001b[39;49m\u001b[39m.\u001b[39;49mweight, \u001b[39mself\u001b[39;49m\u001b[39m.\u001b[39;49mpadding_idx, \u001b[39mself\u001b[39;49m\u001b[39m.\u001b[39;49mmax_norm,\n\u001b[1;32m    164\u001b[0m         \u001b[39mself\u001b[39;49m\u001b[39m.\u001b[39;49mnorm_type, \u001b[39mself\u001b[39;49m\u001b[39m.\u001b[39;49mscale_grad_by_freq, \u001b[39mself\u001b[39;49m\u001b[39m.\u001b[39;49msparse)\n",
      "File \u001b[0;32m~/miniforge3/lib/python3.9/site-packages/torch/nn/functional.py:2210\u001b[0m, in \u001b[0;36membedding\u001b[0;34m(input, weight, padding_idx, max_norm, norm_type, scale_grad_by_freq, sparse)\u001b[0m\n\u001b[1;32m   2204\u001b[0m     \u001b[39m# Note [embedding_renorm set_grad_enabled]\u001b[39;00m\n\u001b[1;32m   2205\u001b[0m     \u001b[39m# XXX: equivalent to\u001b[39;00m\n\u001b[1;32m   2206\u001b[0m     \u001b[39m# with torch.no_grad():\u001b[39;00m\n\u001b[1;32m   2207\u001b[0m     \u001b[39m#   torch.embedding_renorm_\u001b[39;00m\n\u001b[1;32m   2208\u001b[0m     \u001b[39m# remove once script supports set_grad_enabled\u001b[39;00m\n\u001b[1;32m   2209\u001b[0m     _no_grad_embedding_renorm_(weight, \u001b[39minput\u001b[39m, max_norm, norm_type)\n\u001b[0;32m-> 2210\u001b[0m \u001b[39mreturn\u001b[39;00m torch\u001b[39m.\u001b[39;49membedding(weight, \u001b[39minput\u001b[39;49m, padding_idx, scale_grad_by_freq, sparse)\n",
      "\u001b[0;31mRuntimeError\u001b[0m: Expected tensor for argument #1 'indices' to have one of the following scalar types: Long, Int; but got torch.cuda.FloatTensor instead (while checking arguments for embedding)"
     ]
    }
   ],
   "source": [
    "import torchsummary\n",
    "\n",
    "# Create a summary of the model\n",
    "\n",
    "torchsummary.summary(model, X.shape)"
   ]
  },
  {
   "cell_type": "code",
   "execution_count": 50,
   "metadata": {},
   "outputs": [
    {
     "name": "stdout",
     "output_type": "stream",
     "text": [
      "gendeepand\n",
      "magb\n",
      "jarved\n",
      "naved\n",
      "mair\n",
      "suba\n",
      "pahresh\n",
      "mramaw\n",
      "goley\n",
      "srishalman\n"
     ]
    }
   ],
   "source": [
    "# Generate names from trained model\n",
    "\n",
    "for i in range(10):\n",
    "    print(generate_name(model, itos, stoi, block_size))"
   ]
  },
  {
   "attachments": {},
   "cell_type": "markdown",
   "metadata": {},
   "source": [
    "aabid\n",
    "\n",
    "\n",
    "___ a\n",
    "__a b\n",
    "_aa b\n",
    "aab i \n",
    "abi d \n",
    "bid _\n",
    "\n",
    "\n",
    "__ a\n",
    "_a a\n",
    "aa b\n",
    "ab i\n",
    "bi d\n",
    "id _\n"
   ]
  }
 ],
 "metadata": {
  "kernelspec": {
   "display_name": "base",
   "language": "python",
   "name": "python3"
  },
  "language_info": {
   "codemirror_mode": {
    "name": "ipython",
    "version": 3
   },
   "file_extension": ".py",
   "mimetype": "text/x-python",
   "name": "python",
   "nbconvert_exporter": "python",
   "pygments_lexer": "ipython3",
   "version": "3.9.7"
  },
  "orig_nbformat": 4
 },
 "nbformat": 4,
 "nbformat_minor": 2
}
