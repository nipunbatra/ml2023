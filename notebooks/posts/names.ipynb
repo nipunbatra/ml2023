{
 "cells": [
  {
   "cell_type": "raw",
   "metadata": {},
   "source": [
    "---\n",
    "author: Nipun Batra\n",
    "date: 2023-03-31\n",
    "description: Generating names\n",
    "tags: [technical]\n",
    "title: 'Generating names using MLPs'\n",
    "---"
   ]
  },
  {
   "cell_type": "code",
   "execution_count": 1,
   "metadata": {},
   "outputs": [],
   "source": [
    "import torch\n",
    "import torch.nn.functional as F\n",
    "from torch import nn\n",
    "import pandas as pd\n",
    "import matplotlib.pyplot as plt # for making figures\n",
    "%matplotlib inline\n",
    "%config InlineBackend.figure_format = 'retina'"
   ]
  },
  {
   "cell_type": "code",
   "execution_count": 2,
   "metadata": {},
   "outputs": [
    {
     "data": {
      "text/plain": [
       "'2.0.0+cu118'"
      ]
     },
     "execution_count": 2,
     "metadata": {},
     "output_type": "execute_result"
    }
   ],
   "source": [
    "torch.__version__"
   ]
  },
  {
   "cell_type": "code",
   "execution_count": 3,
   "metadata": {},
   "outputs": [],
   "source": [
    "device = torch.device(\"cuda\" if torch.cuda.is_available() else \"cpu\")"
   ]
  },
  {
   "cell_type": "code",
   "execution_count": 4,
   "metadata": {},
   "outputs": [],
   "source": [
    "# Get some names from https://github.com/MASTREX/List-of-Indian-Names"
   ]
  },
  {
   "cell_type": "code",
   "execution_count": 5,
   "metadata": {},
   "outputs": [
    {
     "name": "stdout",
     "output_type": "stream",
     "text": [
      "--2023-03-31 17:00:55--  https://raw.githubusercontent.com/balasahebgulave/Dataset-Indian-Names/master/Indian_Names.csv\n",
      "Resolving raw.githubusercontent.com (raw.githubusercontent.com)... 185.199.110.133, 185.199.109.133, 185.199.108.133, ...\n",
      "Connecting to raw.githubusercontent.com (raw.githubusercontent.com)|185.199.110.133|:443... connected.\n",
      "HTTP request sent, awaiting response... 200 OK\n",
      "Length: 85538 (84K) [text/plain]\n",
      "Saving to: ‘names-long.csv’\n",
      "\n",
      "names-long.csv      100%[===================>]  83.53K  --.-KB/s    in 0.07s   \n",
      "\n",
      "2023-03-31 17:00:55 (1.12 MB/s) - ‘names-long.csv’ saved [85538/85538]\n",
      "\n"
     ]
    }
   ],
   "source": [
    "!wget https://raw.githubusercontent.com/balasahebgulave/Dataset-Indian-Names/master/Indian_Names.csv -O names-long.csv"
   ]
  },
  {
   "cell_type": "code",
   "execution_count": 6,
   "metadata": {},
   "outputs": [
    {
     "name": "stdout",
     "output_type": "stream",
     "text": [
      ",Name\n",
      "0,aabid\n",
      "1,aabida\n",
      "2,aachal\n",
      "3,aadesh\n",
      "4,aadil\n",
      "5,aadish\n",
      "6,aaditya\n",
      "7,aaenab\n",
      "8,aafreen\n"
     ]
    }
   ],
   "source": [
    "!head names-long.csv"
   ]
  },
  {
   "cell_type": "code",
   "execution_count": 7,
   "metadata": {},
   "outputs": [
    {
     "data": {
      "text/plain": [
       "['sehran',\n",
       " 'iema',\n",
       " 'bajinder',\n",
       " 'manoj',\n",
       " 'nayaka',\n",
       " 'ajmal',\n",
       " 'navleen',\n",
       " 'akhtari',\n",
       " 'samsung',\n",
       " 'imtyaz']"
      ]
     },
     "execution_count": 7,
     "metadata": {},
     "output_type": "execute_result"
    }
   ],
   "source": [
    "words = pd.read_csv('names-long.csv')[\"Name\"]\n",
    "words = words.str.lower()\n",
    "words = words.str.strip()\n",
    "words = words.str.replace(\" \", \"\")\n",
    "\n",
    "words = words[words.str.len() > 2]\n",
    "words = words[words.str.len() < 10]\n",
    "\n",
    "# Randomly shuffle the words\n",
    "words = words.sample(frac=1).reset_index(drop=True)\n",
    "words = words.tolist()\n",
    "\n",
    "# Remove words having non alphabets\n",
    "words = [word for word in words if word.isalpha()]\n",
    "words[:10]\n"
   ]
  },
  {
   "cell_type": "code",
   "execution_count": 8,
   "metadata": {},
   "outputs": [
    {
     "data": {
      "text/plain": [
       "6184"
      ]
     },
     "execution_count": 8,
     "metadata": {},
     "output_type": "execute_result"
    }
   ],
   "source": [
    "len(words)"
   ]
  },
  {
   "cell_type": "code",
   "execution_count": 9,
   "metadata": {},
   "outputs": [
    {
     "name": "stdout",
     "output_type": "stream",
     "text": [
      "{1: 'a', 2: 'b', 3: 'c', 4: 'd', 5: 'e', 6: 'f', 7: 'g', 8: 'h', 9: 'i', 10: 'j', 11: 'k', 12: 'l', 13: 'm', 14: 'n', 15: 'o', 16: 'p', 17: 'q', 18: 'r', 19: 's', 20: 't', 21: 'u', 22: 'v', 23: 'w', 24: 'x', 25: 'y', 26: 'z', 0: '.'}\n"
     ]
    }
   ],
   "source": [
    "# build the vocabulary of characters and mappings to/from integers\n",
    "chars = sorted(list(set(''.join(words))))\n",
    "stoi = {s:i+1 for i,s in enumerate(chars)}\n",
    "stoi['.'] = 0\n",
    "itos = {i:s for s,i in stoi.items()}\n",
    "print(itos)"
   ]
  },
  {
   "cell_type": "code",
   "execution_count": 10,
   "metadata": {},
   "outputs": [],
   "source": [
    "block_size = 4 # context length: how many characters do we take to predict the next one?\n",
    "X, Y = [], []\n",
    "for w in words[:]:\n",
    "  \n",
    "  #print(w)\n",
    "  context = [0] * block_size\n",
    "  for ch in w + '.':\n",
    "    ix = stoi[ch]\n",
    "    X.append(context)\n",
    "    Y.append(ix)\n",
    "    #print(''.join(itos[i] for i in context), '--->', itos[ix])\n",
    "    context = context[1:] + [ix] # crop and append\n",
    "  \n",
    "# Move data to GPU\n",
    "\n",
    "X = torch.tensor(X).to(device)\n",
    "Y = torch.tensor(Y).to(device)"
   ]
  },
  {
   "cell_type": "code",
   "execution_count": 11,
   "metadata": {},
   "outputs": [
    {
     "data": {
      "text/plain": [
       "(torch.Size([44325, 4]), torch.int64, torch.Size([44325]), torch.int64)"
      ]
     },
     "execution_count": 11,
     "metadata": {},
     "output_type": "execute_result"
    }
   ],
   "source": [
    "X.shape, X.dtype, Y.shape, Y.dtype"
   ]
  },
  {
   "cell_type": "code",
   "execution_count": 12,
   "metadata": {},
   "outputs": [],
   "source": [
    "# Embedding layer for the context\n",
    "\n",
    "emb_dim = 2\n",
    "emb = torch.nn.Embedding(len(stoi), emb_dim)\n"
   ]
  },
  {
   "cell_type": "code",
   "execution_count": 13,
   "metadata": {},
   "outputs": [
    {
     "data": {
      "text/plain": [
       "Parameter containing:\n",
       "tensor([[-0.7321, -0.0133],\n",
       "        [ 0.9890, -0.3715],\n",
       "        [-1.2565, -0.3346],\n",
       "        [ 0.3989,  1.4209],\n",
       "        [-0.5718, -0.1615],\n",
       "        [ 0.4853,  2.2499],\n",
       "        [ 0.1107,  2.7214],\n",
       "        [-1.7009,  1.1288],\n",
       "        [-0.6636, -1.1188],\n",
       "        [-1.6768,  1.0876],\n",
       "        [ 0.1645,  0.0063],\n",
       "        [-1.0367, -0.9603],\n",
       "        [-3.0939,  1.9831],\n",
       "        [-0.8332,  0.8572],\n",
       "        [-1.4305, -0.6878],\n",
       "        [-0.5197, -0.9626],\n",
       "        [-2.3395,  0.6205],\n",
       "        [-0.7045,  0.2387],\n",
       "        [ 2.8074, -0.8545],\n",
       "        [-0.2396, -0.7623],\n",
       "        [-1.1135, -0.1288],\n",
       "        [-0.5464, -0.0345],\n",
       "        [-1.2686,  1.0719],\n",
       "        [-1.3973, -0.5510],\n",
       "        [ 0.9127,  1.2566],\n",
       "        [ 0.6278,  1.1915],\n",
       "        [ 0.0465,  1.2633]], requires_grad=True)"
      ]
     },
     "execution_count": 13,
     "metadata": {},
     "output_type": "execute_result"
    }
   ],
   "source": [
    "emb.weight"
   ]
  },
  {
   "cell_type": "code",
   "execution_count": 14,
   "metadata": {},
   "outputs": [
    {
     "data": {
      "text/plain": [
       "<AxesSubplot:>"
      ]
     },
     "execution_count": 14,
     "metadata": {},
     "output_type": "execute_result"
    },
    {
     "data": {
      "image/png": "[encoded data removed]",
      "text/plain": [
       "<Figure size 432x288 with 1 Axes>"
      ]
     },
     "metadata": {
      "image/png": {
       "height": 248,
       "width": 380
      },
      "needs_background": "light"
     },
     "output_type": "display_data"
    }
   ],
   "source": [
    "# Function to visualize the embedding in 2d space\n",
    "\n",
    "def plot_emb(emb, itos, ax=None):\n",
    "    if ax is None:\n",
    "        fig, ax = plt.subplots()\n",
    "    for i in range(len(itos)):\n",
    "        x, y = emb.weight[i].detach().cpu().numpy()\n",
    "        ax.scatter(x, y, color='k')\n",
    "        ax.text(x + 0.05, y + 0.05, itos[i])\n",
    "    return ax\n",
    "\n",
    "plot_emb(emb, itos)"
   ]
  },
  {
   "cell_type": "code",
   "execution_count": 15,
   "metadata": {},
   "outputs": [],
   "source": [
    "class NextChar(nn.Module):\n",
    "  def __init__(self, block_size, vocab_size, emb_dim, hidden_size):\n",
    "    super().__init__()\n",
    "    self.emb = nn.Embedding(vocab_size, emb_dim)\n",
    "    self.lin1 = nn.Linear(block_size * emb_dim, hidden_size)\n",
    "    self.lin2 = nn.Linear(hidden_size, vocab_size)\n",
    "\n",
    "  def forward(self, x):\n",
    "    x = self.emb(x)\n",
    "    x = x.view(x.shape[0], -1)\n",
    "    x = F.relu(self.lin1(x))\n",
    "    x = self.lin2(x)\n",
    "    return x\n",
    "    "
   ]
  },
  {
   "cell_type": "code",
   "execution_count": 21,
   "metadata": {},
   "outputs": [
    {
     "name": "stderr",
     "output_type": "stream",
     "text": [
      "/home/nipun.batra/miniforge3/lib/python3.9/site-packages/torch/_inductor/compile_fx.py:90: UserWarning: TensorFloat32 tensor cores for float32 matrix multiplication available but not enabled. Consider setting `torch.set_float32_matmul_precision('high')` for better performance.\n",
      "  warnings.warn(\n"
     ]
    },
    {
     "name": "stdout",
     "output_type": "stream",
     "text": [
      "ihjzyewjrp\n",
      "puijjpnwfk\n",
      "gcvvflic\n",
      "eeokqgmlse\n",
      "yiaghsikiv\n",
      "smmggfnsot\n",
      "ptdmdlmwfi\n",
      "yitpyixshw\n",
      "gjqapafodl\n",
      "dfuhgoowtb\n"
     ]
    }
   ],
   "source": [
    "# Generate names from untrained model\n",
    "\n",
    "\n",
    "model = NextChar(block_size, len(stoi), emb_dim, 50).to(device)\n",
    "model = torch.compile(model)\n",
    "\n",
    "g = torch.Generator()\n",
    "g.manual_seed(4000002)\n",
    "def generate_name(model, itos, stoi, block_size, max_len=10):\n",
    "    context = [0] * block_size\n",
    "    name = ''\n",
    "    for i in range(max_len):\n",
    "        x = torch.tensor(context).view(1, -1).to(device)\n",
    "        y_pred = model(x)\n",
    "        ix = torch.distributions.categorical.Categorical(logits=y_pred).sample().item()\n",
    "        ch = itos[ix]\n",
    "        if ch == '.':\n",
    "            break\n",
    "        name += ch\n",
    "        context = context[1:] + [ix]\n",
    "    return name\n",
    "\n",
    "for i in range(10):\n",
    "    print(generate_name(model, itos, stoi, block_size))"
   ]
  },
  {
   "cell_type": "code",
   "execution_count": 17,
   "metadata": {},
   "outputs": [
    {
     "name": "stdout",
     "output_type": "stream",
     "text": [
      "emb.weight torch.Size([27, 2])\n",
      "lin1.weight torch.Size([50, 8])\n",
      "lin1.bias torch.Size([50])\n",
      "lin2.weight torch.Size([27, 50])\n",
      "lin2.bias torch.Size([27])\n"
     ]
    }
   ],
   "source": [
    "for param_name, param in model.named_parameters():\n",
    "    print(param_name, param.shape)"
   ]
  },
  {
   "cell_type": "code",
   "execution_count": 25,
   "metadata": {},
   "outputs": [
    {
     "name": "stdout",
     "output_type": "stream",
     "text": [
      "0 2.0890238285064697\n",
      "Time taken for 1 epochs: 6.577968597412109e-06 seconds\n",
      "400 2.0890519618988037\n",
      "Time taken for 1 epochs: 0.0018871128559112549 seconds\n",
      "800 2.088754177093506\n",
      "Time taken for 1 epochs: 0.0037400954961776733 seconds\n",
      "1200 2.0887293815612793\n",
      "Time taken for 1 epochs: 0.005593389868736267 seconds\n",
      "1600 2.0884861946105957\n",
      "Time taken for 1 epochs: 0.007446771860122681 seconds\n",
      "2000 2.0891528129577637\n",
      "Time taken for 1 epochs: 0.009300289154052734 seconds\n",
      "2400 2.0879929065704346\n",
      "Time taken for 1 epochs: 0.011153245568275452 seconds\n",
      "2800 2.088449239730835\n",
      "Time taken for 1 epochs: 0.013006348609924317 seconds\n",
      "3200 2.0879693031311035\n",
      "Time taken for 1 epochs: 0.014860434532165527 seconds\n",
      "3600 2.0881006717681885\n",
      "Time taken for 1 epochs: 0.016712880134582518 seconds\n",
      "4000 2.087575912475586\n",
      "Time taken for 1 epochs: 0.01856597661972046 seconds\n",
      "4400 2.087235689163208\n",
      "Time taken for 1 epochs: 0.020418978929519653 seconds\n",
      "4800 2.087622880935669\n",
      "Time taken for 1 epochs: 0.02227234423160553 seconds\n",
      "5200 2.087576150894165\n",
      "Time taken for 1 epochs: 0.02412549138069153 seconds\n",
      "5600 2.0879015922546387\n",
      "Time taken for 1 epochs: 0.025978831052780153 seconds\n",
      "6000 2.088137626647949\n",
      "Time taken for 1 epochs: 0.027831865549087523 seconds\n",
      "6400 2.0875606536865234\n",
      "Time taken for 1 epochs: 0.029685078263282774 seconds\n",
      "6800 2.0870373249053955\n",
      "Time taken for 1 epochs: 0.031538299322128295 seconds\n",
      "7200 2.0867090225219727\n",
      "Time taken for 1 epochs: 0.033391504883766174 seconds\n",
      "7600 2.085026979446411\n",
      "Time taken for 1 epochs: 0.035245080590248105 seconds\n",
      "8000 2.0854732990264893\n",
      "Time taken for 1 epochs: 0.03710031807422638 seconds\n",
      "8400 2.0843679904937744\n",
      "Time taken for 1 epochs: 0.03895375490188599 seconds\n",
      "8800 2.084249258041382\n",
      "Time taken for 1 epochs: 0.04080682039260864 seconds\n",
      "9200 2.0851705074310303\n",
      "Time taken for 1 epochs: 0.042660011649131774 seconds\n",
      "9600 2.0844883918762207\n",
      "Time taken for 1 epochs: 0.044512977004051206 seconds\n"
     ]
    }
   ],
   "source": [
    "# Train the model\n",
    "\n",
    "loss_fn = nn.CrossEntropyLoss()\n",
    "opt = torch.optim.AdamW(model.parameters(), lr=0.01)\n",
    "import time\n",
    "# Mini-batch training\n",
    "batch_size = 4096*32\n",
    "print_every = 400\n",
    "elapsed_time = []\n",
    "for epoch in range(10000):\n",
    "    start_time = time.time()\n",
    "    for i in range(0, X.shape[0], batch_size):\n",
    "        x = X[i:i+batch_size]\n",
    "        y = Y[i:i+batch_size]\n",
    "        y_pred = model(x)\n",
    "        loss = loss_fn(y_pred, y)\n",
    "        loss.backward()\n",
    "        opt.step()\n",
    "        opt.zero_grad()\n",
    "    end_time = time.time()\n",
    "    elapsed_time.append(end_time - start_time)\n",
    "    if epoch % print_every == 0:\n",
    "        print(epoch, loss.item())\n",
    "        print(\"Time taken for 1 epochs: {} seconds\".format(sum(elapsed_time)/print_every))\n"
   ]
  },
  {
   "cell_type": "code",
   "execution_count": 26,
   "metadata": {},
   "outputs": [
    {
     "data": {
      "text/plain": [
       "<AxesSubplot:>"
      ]
     },
     "execution_count": 26,
     "metadata": {},
     "output_type": "execute_result"
    },
    {
     "data": {
      "image/png": "[encoded data removed]",
      "text/plain": [
       "<Figure size 432x288 with 1 Axes>"
      ]
     },
     "metadata": {
      "image/png": {
       "height": 248,
       "width": 370
      },
      "needs_background": "light"
     },
     "output_type": "display_data"
    }
   ],
   "source": [
    "# Visualize the embedding\n",
    "\n",
    "plot_emb(model.emb, itos)"
   ]
  },
  {
   "cell_type": "code",
   "execution_count": 27,
   "metadata": {},
   "outputs": [
    {
     "name": "stdout",
     "output_type": "stream",
     "text": [
      "swina\n",
      "miter\n",
      "jakul\n",
      "poshaban\n",
      "nahmishsir\n",
      "jaillanam\n",
      "fibwahir\n",
      "gurs\n",
      "sakinu\n",
      "ramta\n"
     ]
    }
   ],
   "source": [
    "# Generate names from trained model\n",
    "\n",
    "for i in range(10):\n",
    "    print(generate_name(model, itos, stoi, block_size))"
   ]
  },
  {
   "attachments": {},
   "cell_type": "markdown",
   "metadata": {},
   "source": [
    "Tuning knobs\n",
    "\n",
    "1. Embedding size\n",
    "2. MLP \n",
    "3. Context length"
   ]
  },
  {
   "cell_type": "code",
   "execution_count": null,
   "metadata": {},
   "outputs": [],
   "source": []
  }
 ],
 "metadata": {
  "kernelspec": {
   "display_name": "base",
   "language": "python",
   "name": "python3"
  },
  "language_info": {
   "codemirror_mode": {
    "name": "ipython",
    "version": 3
   },
   "file_extension": ".py",
   "mimetype": "text/x-python",
   "name": "python",
   "nbconvert_exporter": "python",
   "pygments_lexer": "ipython3",
   "version": "3.9.7"
  },
  "orig_nbformat": 4
 },
 "nbformat": 4,
 "nbformat_minor": 2
}
