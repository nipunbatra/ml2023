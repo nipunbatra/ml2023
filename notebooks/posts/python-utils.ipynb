{
 "cells": [
  {
   "cell_type": "raw",
   "metadata": {},
   "source": [
    "---\n",
    "author: Nipun Batra\n",
    "date: 2023-01-17\n",
    "description: Python Utilities\n",
    "tags: [technical]\n",
    "title: 'Some Python Utilities'\n",
    "---"
   ]
  },
  {
   "attachments": {},
   "cell_type": "markdown",
   "metadata": {},
   "source": [
    "#### Function Argument Unpacking\n",
    "\n",
    "Reference: https://www.youtube.com/watch?v=YWY4BZi_o28"
   ]
  },
  {
   "cell_type": "code",
   "execution_count": 1,
   "metadata": {},
   "outputs": [],
   "source": [
    "def print_vec(x, y, z):\n",
    "    print(f\"[{x} \\n{y} \\n{z}]\")"
   ]
  },
  {
   "cell_type": "code",
   "execution_count": 2,
   "metadata": {},
   "outputs": [
    {
     "name": "stdout",
     "output_type": "stream",
     "text": [
      "[1 \n",
      "2 \n",
      "3]\n"
     ]
    }
   ],
   "source": [
    "print_vec(1, 2, 3)"
   ]
  },
  {
   "cell_type": "code",
   "execution_count": 3,
   "metadata": {},
   "outputs": [
    {
     "name": "stdout",
     "output_type": "stream",
     "text": [
      "[1 \n",
      "0 \n",
      "1]\n",
      "********************\n",
      "[1 \n",
      "0 \n",
      "1]\n",
      "********************\n",
      "[1 \n",
      "0 \n",
      "1]\n"
     ]
    }
   ],
   "source": [
    "tuple_vec = (1, 0, 1)\n",
    "list_vec = [1, 0, 1]\n",
    "\n",
    "print_vec(tuple_vec[0], tuple_vec[1], tuple_vec[2])\n",
    "print(\"*\"*20)\n",
    "print_vec(*tuple_vec)\n",
    "print(\"*\"*20)\n",
    "\n",
    "print_vec(*list_vec)"
   ]
  },
  {
   "cell_type": "code",
   "execution_count": 4,
   "metadata": {},
   "outputs": [
    {
     "name": "stdout",
     "output_type": "stream",
     "text": [
      "[1 \n",
      "0 \n",
      "1]\n"
     ]
    }
   ],
   "source": [
    "dictionary_vec = {\"x\": 1, \"y\": 0, \"z\": 1}\n",
    "print_vec(**dictionary_vec)"
   ]
  },
  {
   "cell_type": "code",
   "execution_count": 5,
   "metadata": {},
   "outputs": [
    {
     "ename": "TypeError",
     "evalue": "print_vec() got an unexpected keyword argument 'a'",
     "output_type": "error",
     "traceback": [
      "\u001b[0;31m---------------------------------------------------------------------------\u001b[0m",
      "\u001b[0;31mTypeError\u001b[0m                                 Traceback (most recent call last)",
      "Cell \u001b[0;32mIn[5], line 2\u001b[0m\n\u001b[1;32m      1\u001b[0m dictionary_vec \u001b[39m=\u001b[39m {\u001b[39m\"\u001b[39m\u001b[39ma\u001b[39m\u001b[39m\"\u001b[39m: \u001b[39m1\u001b[39m, \u001b[39m\"\u001b[39m\u001b[39mb\u001b[39m\u001b[39m\"\u001b[39m: \u001b[39m0\u001b[39m, \u001b[39m\"\u001b[39m\u001b[39mc\u001b[39m\u001b[39m\"\u001b[39m:\u001b[39m1\u001b[39m}\n\u001b[0;32m----> 2\u001b[0m print_vec(\u001b[39m*\u001b[39;49m\u001b[39m*\u001b[39;49mdictionary_vec)\n",
      "\u001b[0;31mTypeError\u001b[0m: print_vec() got an unexpected keyword argument 'a'"
     ]
    }
   ],
   "source": [
    "dictionary_vec = {\"a\": 1, \"b\": 0, \"c\":1}\n",
    "print_vec(**dictionary_vec)"
   ]
  },
  {
   "cell_type": "code",
   "execution_count": 6,
   "metadata": {},
   "outputs": [
    {
     "name": "stdout",
     "output_type": "stream",
     "text": [
      "a b c\n"
     ]
    }
   ],
   "source": [
    "print(*dictionary_vec)"
   ]
  },
  {
   "attachments": {},
   "cell_type": "markdown",
   "metadata": {},
   "source": [
    "#### Zip"
   ]
  },
  {
   "cell_type": "code",
   "execution_count": 7,
   "metadata": {},
   "outputs": [
    {
     "data": {
      "text/plain": [
       "[(1, 'a', 7), (2, 'b', 8), (3, 'c', 9)]"
      ]
     },
     "execution_count": 7,
     "metadata": {},
     "output_type": "execute_result"
    }
   ],
   "source": [
    "list(zip([1, 2, 3], ['a', 'b', 'c'], [7, 8, 9]))"
   ]
  },
  {
   "attachments": {},
   "cell_type": "markdown",
   "metadata": {},
   "source": [
    "#### Itertools Product"
   ]
  },
  {
   "cell_type": "code",
   "execution_count": 8,
   "metadata": {},
   "outputs": [
    {
     "data": {
      "text/plain": [
       "[(1, 'a', 7),\n",
       " (1, 'a', 8),\n",
       " (1, 'a', 9),\n",
       " (1, 'b', 7),\n",
       " (1, 'b', 8),\n",
       " (1, 'b', 9),\n",
       " (1, 'c', 7),\n",
       " (1, 'c', 8),\n",
       " (1, 'c', 9),\n",
       " (2, 'a', 7),\n",
       " (2, 'a', 8),\n",
       " (2, 'a', 9),\n",
       " (2, 'b', 7),\n",
       " (2, 'b', 8),\n",
       " (2, 'b', 9),\n",
       " (2, 'c', 7),\n",
       " (2, 'c', 8),\n",
       " (2, 'c', 9)]"
      ]
     },
     "execution_count": 8,
     "metadata": {},
     "output_type": "execute_result"
    }
   ],
   "source": [
    "import itertools\n",
    "list(itertools.product([1, 2], ['a', 'b', 'c'], [7, 8, 9]))"
   ]
  }
 ],
 "metadata": {
  "kernelspec": {
   "display_name": "base",
   "language": "python",
   "name": "python3"
  },
  "language_info": {
   "codemirror_mode": {
    "name": "ipython",
    "version": 3
   },
   "file_extension": ".py",
   "mimetype": "text/x-python",
   "name": "python",
   "nbconvert_exporter": "python",
   "pygments_lexer": "ipython3",
   "version": "3.9.15 | packaged by conda-forge | (main, Nov 22 2022, 08:55:37) \n[Clang 14.0.6 ]"
  },
  "orig_nbformat": 4,
  "vscode": {
   "interpreter": {
    "hash": "a5a8a649fae9f7dd41e8adc1d2fca9d99b1b7a58cc684de3b9310442441ba4ba"
   }
  }
 },
 "nbformat": 4,
 "nbformat_minor": 2
}
