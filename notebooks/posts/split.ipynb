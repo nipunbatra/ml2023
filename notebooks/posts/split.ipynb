{
 "cells": [
  {
   "cell_type": "raw",
   "id": "2137c394",
   "metadata": {},
   "source": [
    "---\n",
    "author: Nipun Batra\n",
    "date: 2023-01-10\n",
    "description: Misc tips\n",
    "tags: [technical]\n",
    "title: 'Misc tips'\n",
    "---"
   ]
  },
  {
   "cell_type": "code",
   "execution_count": 1,
   "id": "05a6ce84",
   "metadata": {},
   "outputs": [],
   "source": [
    "import numpy as np\n",
    "import matplotlib.pyplot as plt\n",
    "import pandas as pd\n",
    "\n",
    "%matplotlib inline\n",
    "%config InlineBackend.figure_format='retina'\n"
   ]
  },
  {
   "cell_type": "code",
   "execution_count": 4,
   "id": "d1773930",
   "metadata": {},
   "outputs": [
    {
     "data": {
      "text/html": [
       "<div>\n",
       "<style scoped>\n",
       "    .dataframe tbody tr th:only-of-type {\n",
       "        vertical-align: middle;\n",
       "    }\n",
       "\n",
       "    .dataframe tbody tr th {\n",
       "        vertical-align: top;\n",
       "    }\n",
       "\n",
       "    .dataframe thead th {\n",
       "        text-align: right;\n",
       "    }\n",
       "</style>\n",
       "<table border=\"1\" class=\"dataframe\">\n",
       "  <thead>\n",
       "    <tr style=\"text-align: right;\">\n",
       "      <th></th>\n",
       "      <th>A</th>\n",
       "      <th>B</th>\n",
       "      <th>C</th>\n",
       "      <th>D</th>\n",
       "    </tr>\n",
       "  </thead>\n",
       "  <tbody>\n",
       "    <tr>\n",
       "      <th>0</th>\n",
       "      <td>0.112981</td>\n",
       "      <td>-0.033889</td>\n",
       "      <td>0.348708</td>\n",
       "      <td>1</td>\n",
       "    </tr>\n",
       "    <tr>\n",
       "      <th>1</th>\n",
       "      <td>1.821601</td>\n",
       "      <td>1.267423</td>\n",
       "      <td>0.274915</td>\n",
       "      <td>1</td>\n",
       "    </tr>\n",
       "    <tr>\n",
       "      <th>2</th>\n",
       "      <td>0.148040</td>\n",
       "      <td>-1.412712</td>\n",
       "      <td>-0.271345</td>\n",
       "      <td>1</td>\n",
       "    </tr>\n",
       "    <tr>\n",
       "      <th>3</th>\n",
       "      <td>0.004766</td>\n",
       "      <td>-1.209944</td>\n",
       "      <td>0.122512</td>\n",
       "      <td>1</td>\n",
       "    </tr>\n",
       "    <tr>\n",
       "      <th>4</th>\n",
       "      <td>0.854442</td>\n",
       "      <td>-0.559497</td>\n",
       "      <td>-0.605376</td>\n",
       "      <td>1</td>\n",
       "    </tr>\n",
       "    <tr>\n",
       "      <th>...</th>\n",
       "      <td>...</td>\n",
       "      <td>...</td>\n",
       "      <td>...</td>\n",
       "      <td>...</td>\n",
       "    </tr>\n",
       "    <tr>\n",
       "      <th>995</th>\n",
       "      <td>0.161444</td>\n",
       "      <td>-0.969567</td>\n",
       "      <td>-2.079664</td>\n",
       "      <td>0</td>\n",
       "    </tr>\n",
       "    <tr>\n",
       "      <th>996</th>\n",
       "      <td>1.615938</td>\n",
       "      <td>0.219218</td>\n",
       "      <td>-0.322223</td>\n",
       "      <td>0</td>\n",
       "    </tr>\n",
       "    <tr>\n",
       "      <th>997</th>\n",
       "      <td>0.501970</td>\n",
       "      <td>-0.874313</td>\n",
       "      <td>1.571102</td>\n",
       "      <td>1</td>\n",
       "    </tr>\n",
       "    <tr>\n",
       "      <th>998</th>\n",
       "      <td>0.386063</td>\n",
       "      <td>-1.481215</td>\n",
       "      <td>-1.974313</td>\n",
       "      <td>1</td>\n",
       "    </tr>\n",
       "    <tr>\n",
       "      <th>999</th>\n",
       "      <td>0.468528</td>\n",
       "      <td>1.060850</td>\n",
       "      <td>0.612252</td>\n",
       "      <td>1</td>\n",
       "    </tr>\n",
       "  </tbody>\n",
       "</table>\n",
       "<p>1000 rows × 4 columns</p>\n",
       "</div>"
      ],
      "text/plain": [
       "            A         B         C  D\n",
       "0    0.112981 -0.033889  0.348708  1\n",
       "1    1.821601  1.267423  0.274915  1\n",
       "2    0.148040 -1.412712 -0.271345  1\n",
       "3    0.004766 -1.209944  0.122512  1\n",
       "4    0.854442 -0.559497 -0.605376  1\n",
       "..        ...       ...       ... ..\n",
       "995  0.161444 -0.969567 -2.079664  0\n",
       "996  1.615938  0.219218 -0.322223  0\n",
       "997  0.501970 -0.874313  1.571102  1\n",
       "998  0.386063 -1.481215 -1.974313  1\n",
       "999  0.468528  1.060850  0.612252  1\n",
       "\n",
       "[1000 rows x 4 columns]"
      ]
     },
     "execution_count": 4,
     "metadata": {},
     "output_type": "execute_result"
    }
   ],
   "source": [
    "# Create a dataset with 3 features and 1000 samples for a classification problem\n",
    "\n",
    "df = pd.DataFrame(np.random.randn(1000, 3), columns=['A', 'B', 'C'])\n",
    "df['D'] = np.random.randint(0, 2, 1000)\n",
    "\n",
    "df"
   ]
  },
  {
   "cell_type": "code",
   "execution_count": 5,
   "id": "969f1fd2",
   "metadata": {},
   "outputs": [],
   "source": [
    "X, y = df[['A', 'B', 'C']], df['D']"
   ]
  },
  {
   "cell_type": "code",
   "execution_count": 6,
   "id": "4e7f176c",
   "metadata": {},
   "outputs": [],
   "source": [
    "train_X, test_X = X[:800], X[800:]\n",
    "train_y, test_y = y[:800], y[800:]\n"
   ]
  },
  {
   "cell_type": "code",
   "execution_count": 12,
   "id": "b3de3aa0",
   "metadata": {},
   "outputs": [],
   "source": [
    "from sklearn.tree import DecisionTreeClassifier\n"
   ]
  },
  {
   "cell_type": "code",
   "execution_count": 15,
   "id": "c11f82ee",
   "metadata": {},
   "outputs": [
    {
     "data": {
      "text/html": [
       "<style>#sk-container-id-2 {color: black;background-color: white;}#sk-container-id-2 pre{padding: 0;}#sk-container-id-2 div.sk-toggleable {background-color: white;}#sk-container-id-2 label.sk-toggleable__label {cursor: pointer;display: block;width: 100%;margin-bottom: 0;padding: 0.3em;box-sizing: border-box;text-align: center;}#sk-container-id-2 label.sk-toggleable__label-arrow:before {content: \"▸\";float: left;margin-right: 0.25em;color: #696969;}#sk-container-id-2 label.sk-toggleable__label-arrow:hover:before {color: black;}#sk-container-id-2 div.sk-estimator:hover label.sk-toggleable__label-arrow:before {color: black;}#sk-container-id-2 div.sk-toggleable__content {max-height: 0;max-width: 0;overflow: hidden;text-align: left;background-color: #f0f8ff;}#sk-container-id-2 div.sk-toggleable__content pre {margin: 0.2em;color: black;border-radius: 0.25em;background-color: #f0f8ff;}#sk-container-id-2 input.sk-toggleable__control:checked~div.sk-toggleable__content {max-height: 200px;max-width: 100%;overflow: auto;}#sk-container-id-2 input.sk-toggleable__control:checked~label.sk-toggleable__label-arrow:before {content: \"▾\";}#sk-container-id-2 div.sk-estimator input.sk-toggleable__control:checked~label.sk-toggleable__label {background-color: #d4ebff;}#sk-container-id-2 div.sk-label input.sk-toggleable__control:checked~label.sk-toggleable__label {background-color: #d4ebff;}#sk-container-id-2 input.sk-hidden--visually {border: 0;clip: rect(1px 1px 1px 1px);clip: rect(1px, 1px, 1px, 1px);height: 1px;margin: -1px;overflow: hidden;padding: 0;position: absolute;width: 1px;}#sk-container-id-2 div.sk-estimator {font-family: monospace;background-color: #f0f8ff;border: 1px dotted black;border-radius: 0.25em;box-sizing: border-box;margin-bottom: 0.5em;}#sk-container-id-2 div.sk-estimator:hover {background-color: #d4ebff;}#sk-container-id-2 div.sk-parallel-item::after {content: \"\";width: 100%;border-bottom: 1px solid gray;flex-grow: 1;}#sk-container-id-2 div.sk-label:hover label.sk-toggleable__label {background-color: #d4ebff;}#sk-container-id-2 div.sk-serial::before {content: \"\";position: absolute;border-left: 1px solid gray;box-sizing: border-box;top: 0;bottom: 0;left: 50%;z-index: 0;}#sk-container-id-2 div.sk-serial {display: flex;flex-direction: column;align-items: center;background-color: white;padding-right: 0.2em;padding-left: 0.2em;position: relative;}#sk-container-id-2 div.sk-item {position: relative;z-index: 1;}#sk-container-id-2 div.sk-parallel {display: flex;align-items: stretch;justify-content: center;background-color: white;position: relative;}#sk-container-id-2 div.sk-item::before, #sk-container-id-2 div.sk-parallel-item::before {content: \"\";position: absolute;border-left: 1px solid gray;box-sizing: border-box;top: 0;bottom: 0;left: 50%;z-index: -1;}#sk-container-id-2 div.sk-parallel-item {display: flex;flex-direction: column;z-index: 1;position: relative;background-color: white;}#sk-container-id-2 div.sk-parallel-item:first-child::after {align-self: flex-end;width: 50%;}#sk-container-id-2 div.sk-parallel-item:last-child::after {align-self: flex-start;width: 50%;}#sk-container-id-2 div.sk-parallel-item:only-child::after {width: 0;}#sk-container-id-2 div.sk-dashed-wrapped {border: 1px dashed gray;margin: 0 0.4em 0.5em 0.4em;box-sizing: border-box;padding-bottom: 0.4em;background-color: white;}#sk-container-id-2 div.sk-label label {font-family: monospace;font-weight: bold;display: inline-block;line-height: 1.2em;}#sk-container-id-2 div.sk-label-container {text-align: center;}#sk-container-id-2 div.sk-container {/* jupyter's `normalize.less` sets `[hidden] { display: none; }` but bootstrap.min.css set `[hidden] { display: none !important; }` so we also need the `!important` here to be able to override the default hidden behavior on the sphinx rendered scikit-learn.org. See: https://github.com/scikit-learn/scikit-learn/issues/21755 */display: inline-block !important;position: relative;}#sk-container-id-2 div.sk-text-repr-fallback {display: none;}</style><div id=\"sk-container-id-2\" class=\"sk-top-container\"><div class=\"sk-text-repr-fallback\"><pre>DecisionTreeClassifier(max_depth=2)</pre><b>In a Jupyter environment, please rerun this cell to show the HTML representation or trust the notebook. <br />On GitHub, the HTML representation is unable to render, please try loading this page with nbviewer.org.</b></div><div class=\"sk-container\" hidden><div class=\"sk-item\"><div class=\"sk-estimator sk-toggleable\"><input class=\"sk-toggleable__control sk-hidden--visually\" id=\"sk-estimator-id-2\" type=\"checkbox\" checked><label for=\"sk-estimator-id-2\" class=\"sk-toggleable__label sk-toggleable__label-arrow\">DecisionTreeClassifier</label><div class=\"sk-toggleable__content\"><pre>DecisionTreeClassifier(max_depth=2)</pre></div></div></div></div></div>"
      ],
      "text/plain": [
       "DecisionTreeClassifier(max_depth=2)"
      ]
     },
     "execution_count": 15,
     "metadata": {},
     "output_type": "execute_result"
    }
   ],
   "source": [
    "dt = DecisionTreeClassifier(max_depth=2)\n",
    "dt.fit(train_X, train_y)\n"
   ]
  },
  {
   "cell_type": "code",
   "execution_count": 16,
   "id": "a1e1a5b6",
   "metadata": {},
   "outputs": [
    {
     "data": {
      "text/plain": [
       "[Text(0.5, 0.8333333333333334, 'X[0] <= -0.17\\ngini = 0.5\\nsamples = 800\\nvalue = [400, 400]'),\n",
       " Text(0.25, 0.5, 'X[0] <= -0.307\\ngini = 0.495\\nsamples = 348\\nvalue = [157, 191]'),\n",
       " Text(0.125, 0.16666666666666666, 'gini = 0.499\\nsamples = 316\\nvalue = [153, 163]'),\n",
       " Text(0.375, 0.16666666666666666, 'gini = 0.219\\nsamples = 32\\nvalue = [4, 28]'),\n",
       " Text(0.75, 0.5, 'X[2] <= 1.656\\ngini = 0.497\\nsamples = 452\\nvalue = [243, 209]'),\n",
       " Text(0.625, 0.16666666666666666, 'gini = 0.495\\nsamples = 434\\nvalue = [239, 195]'),\n",
       " Text(0.875, 0.16666666666666666, 'gini = 0.346\\nsamples = 18\\nvalue = [4, 14]')]"
      ]
     },
     "execution_count": 16,
     "metadata": {},
     "output_type": "execute_result"
    },
    {
     "data": {
      "image/png": "[encoded data removed]",
      "text/plain": [
       "<Figure size 432x288 with 1 Axes>"
      ]
     },
     "metadata": {
      "image/png": {
       "height": 231,
       "width": 349
      },
      "needs_background": "light"
     },
     "output_type": "display_data"
    }
   ],
   "source": [
    "from sklearn import tree\n",
    "tree.plot_tree(dt)"
   ]
  },
  {
   "cell_type": "code",
   "execution_count": 20,
   "id": "2688b676",
   "metadata": {},
   "outputs": [
    {
     "data": {
      "text/html": [
       "<div>\n",
       "<style scoped>\n",
       "    .dataframe tbody tr th:only-of-type {\n",
       "        vertical-align: middle;\n",
       "    }\n",
       "\n",
       "    .dataframe tbody tr th {\n",
       "        vertical-align: top;\n",
       "    }\n",
       "\n",
       "    .dataframe thead th {\n",
       "        text-align: right;\n",
       "    }\n",
       "</style>\n",
       "<table border=\"1\" class=\"dataframe\">\n",
       "  <thead>\n",
       "    <tr style=\"text-align: right;\">\n",
       "      <th></th>\n",
       "      <th>y_true</th>\n",
       "      <th>y_hat</th>\n",
       "    </tr>\n",
       "  </thead>\n",
       "  <tbody>\n",
       "    <tr>\n",
       "      <th>800</th>\n",
       "      <td>0</td>\n",
       "      <td>1</td>\n",
       "    </tr>\n",
       "    <tr>\n",
       "      <th>801</th>\n",
       "      <td>0</td>\n",
       "      <td>0</td>\n",
       "    </tr>\n",
       "    <tr>\n",
       "      <th>802</th>\n",
       "      <td>1</td>\n",
       "      <td>1</td>\n",
       "    </tr>\n",
       "    <tr>\n",
       "      <th>803</th>\n",
       "      <td>1</td>\n",
       "      <td>1</td>\n",
       "    </tr>\n",
       "    <tr>\n",
       "      <th>804</th>\n",
       "      <td>0</td>\n",
       "      <td>1</td>\n",
       "    </tr>\n",
       "    <tr>\n",
       "      <th>...</th>\n",
       "      <td>...</td>\n",
       "      <td>...</td>\n",
       "    </tr>\n",
       "    <tr>\n",
       "      <th>995</th>\n",
       "      <td>0</td>\n",
       "      <td>1</td>\n",
       "    </tr>\n",
       "    <tr>\n",
       "      <th>996</th>\n",
       "      <td>0</td>\n",
       "      <td>0</td>\n",
       "    </tr>\n",
       "    <tr>\n",
       "      <th>997</th>\n",
       "      <td>1</td>\n",
       "      <td>0</td>\n",
       "    </tr>\n",
       "    <tr>\n",
       "      <th>998</th>\n",
       "      <td>1</td>\n",
       "      <td>1</td>\n",
       "    </tr>\n",
       "    <tr>\n",
       "      <th>999</th>\n",
       "      <td>1</td>\n",
       "      <td>1</td>\n",
       "    </tr>\n",
       "  </tbody>\n",
       "</table>\n",
       "<p>200 rows × 2 columns</p>\n",
       "</div>"
      ],
      "text/plain": [
       "     y_true  y_hat\n",
       "800       0      1\n",
       "801       0      0\n",
       "802       1      1\n",
       "803       1      1\n",
       "804       0      1\n",
       "..      ...    ...\n",
       "995       0      1\n",
       "996       0      0\n",
       "997       1      0\n",
       "998       1      1\n",
       "999       1      1\n",
       "\n",
       "[200 rows x 2 columns]"
      ]
     },
     "execution_count": 20,
     "metadata": {},
     "output_type": "execute_result"
    }
   ],
   "source": [
    "y_hat = dt.predict(test_X)\n",
    "pd.DataFrame({\"y_true\": test_y, \"y_hat\": y_hat})\n"
   ]
  },
  {
   "cell_type": "code",
   "execution_count": 17,
   "id": "08ab9654",
   "metadata": {},
   "outputs": [],
   "source": [
    "from sklearn.tree import DecisionTreeClassifier\n",
    "\n",
    "train_scores = {}\n",
    "test_scores = {}\n",
    "\n",
    "for i in range(1, 20):\n",
    "    dt = DecisionTreeClassifier(max_depth=i)\n",
    "    dt.fit(train_X, train_y)\n",
    "    train_scores[i] = dt.score(train_X, train_y)\n",
    "    \n",
    "    test_scores[i] = dt.score(test_X, test_y)\n"
   ]
  },
  {
   "cell_type": "code",
   "execution_count": 18,
   "id": "5a0e6be5",
   "metadata": {},
   "outputs": [
    {
     "data": {
      "text/plain": [
       "<AxesSubplot:>"
      ]
     },
     "execution_count": 18,
     "metadata": {},
     "output_type": "execute_result"
    },
    {
     "data": {
      "image/png": "[encoded data removed]",
      "text/plain": [
       "<Figure size 432x288 with 1 Axes>"
      ]
     },
     "metadata": {
      "image/png": {
       "height": 248,
       "width": 372
      },
      "needs_background": "light"
     },
     "output_type": "display_data"
    }
   ],
   "source": [
    "scores_df = pd.DataFrame({'train': train_scores, 'test': test_scores})\n",
    "scores_df.plot()"
   ]
  },
  {
   "cell_type": "code",
   "execution_count": 2,
   "id": "104b81e7",
   "metadata": {},
   "outputs": [],
   "source": [
    "\n",
    "df = pd.DataFrame(np.random.randn(50, 3), columns=['A', 'B', 'C'])"
   ]
  },
  {
   "cell_type": "code",
   "execution_count": 3,
   "id": "6348514a",
   "metadata": {},
   "outputs": [
    {
     "data": {
      "text/html": [
       "<div>\n",
       "<style scoped>\n",
       "    .dataframe tbody tr th:only-of-type {\n",
       "        vertical-align: middle;\n",
       "    }\n",
       "\n",
       "    .dataframe tbody tr th {\n",
       "        vertical-align: top;\n",
       "    }\n",
       "\n",
       "    .dataframe thead th {\n",
       "        text-align: right;\n",
       "    }\n",
       "</style>\n",
       "<table border=\"1\" class=\"dataframe\">\n",
       "  <thead>\n",
       "    <tr style=\"text-align: right;\">\n",
       "      <th></th>\n",
       "      <th>A</th>\n",
       "      <th>B</th>\n",
       "      <th>C</th>\n",
       "    </tr>\n",
       "  </thead>\n",
       "  <tbody>\n",
       "    <tr>\n",
       "      <th>0</th>\n",
       "      <td>-0.606795</td>\n",
       "      <td>0.603885</td>\n",
       "      <td>-0.665010</td>\n",
       "    </tr>\n",
       "    <tr>\n",
       "      <th>1</th>\n",
       "      <td>0.590053</td>\n",
       "      <td>0.412133</td>\n",
       "      <td>-0.866187</td>\n",
       "    </tr>\n",
       "    <tr>\n",
       "      <th>2</th>\n",
       "      <td>-0.537821</td>\n",
       "      <td>0.563512</td>\n",
       "      <td>-0.496078</td>\n",
       "    </tr>\n",
       "    <tr>\n",
       "      <th>3</th>\n",
       "      <td>0.968567</td>\n",
       "      <td>-0.664447</td>\n",
       "      <td>0.511859</td>\n",
       "    </tr>\n",
       "    <tr>\n",
       "      <th>4</th>\n",
       "      <td>0.071371</td>\n",
       "      <td>-1.117417</td>\n",
       "      <td>-0.187521</td>\n",
       "    </tr>\n",
       "    <tr>\n",
       "      <th>5</th>\n",
       "      <td>1.022793</td>\n",
       "      <td>0.623958</td>\n",
       "      <td>0.938148</td>\n",
       "    </tr>\n",
       "    <tr>\n",
       "      <th>6</th>\n",
       "      <td>1.472920</td>\n",
       "      <td>-0.118809</td>\n",
       "      <td>0.983386</td>\n",
       "    </tr>\n",
       "    <tr>\n",
       "      <th>7</th>\n",
       "      <td>-1.376462</td>\n",
       "      <td>-0.206712</td>\n",
       "      <td>1.108670</td>\n",
       "    </tr>\n",
       "    <tr>\n",
       "      <th>8</th>\n",
       "      <td>0.840399</td>\n",
       "      <td>1.171411</td>\n",
       "      <td>0.410430</td>\n",
       "    </tr>\n",
       "    <tr>\n",
       "      <th>9</th>\n",
       "      <td>-0.299937</td>\n",
       "      <td>-0.882552</td>\n",
       "      <td>-0.860850</td>\n",
       "    </tr>\n",
       "    <tr>\n",
       "      <th>10</th>\n",
       "      <td>2.544334</td>\n",
       "      <td>-0.301064</td>\n",
       "      <td>0.115521</td>\n",
       "    </tr>\n",
       "    <tr>\n",
       "      <th>11</th>\n",
       "      <td>-2.316799</td>\n",
       "      <td>-0.630088</td>\n",
       "      <td>0.572983</td>\n",
       "    </tr>\n",
       "    <tr>\n",
       "      <th>12</th>\n",
       "      <td>0.025732</td>\n",
       "      <td>-0.759950</td>\n",
       "      <td>0.632044</td>\n",
       "    </tr>\n",
       "    <tr>\n",
       "      <th>13</th>\n",
       "      <td>-0.326920</td>\n",
       "      <td>0.275182</td>\n",
       "      <td>-0.554632</td>\n",
       "    </tr>\n",
       "    <tr>\n",
       "      <th>14</th>\n",
       "      <td>-1.165008</td>\n",
       "      <td>-0.226062</td>\n",
       "      <td>0.600481</td>\n",
       "    </tr>\n",
       "    <tr>\n",
       "      <th>15</th>\n",
       "      <td>0.002296</td>\n",
       "      <td>1.438975</td>\n",
       "      <td>-0.744245</td>\n",
       "    </tr>\n",
       "    <tr>\n",
       "      <th>16</th>\n",
       "      <td>-0.692646</td>\n",
       "      <td>-0.669372</td>\n",
       "      <td>-0.605073</td>\n",
       "    </tr>\n",
       "    <tr>\n",
       "      <th>17</th>\n",
       "      <td>-1.321740</td>\n",
       "      <td>-0.444826</td>\n",
       "      <td>-1.467668</td>\n",
       "    </tr>\n",
       "    <tr>\n",
       "      <th>18</th>\n",
       "      <td>2.250800</td>\n",
       "      <td>0.726728</td>\n",
       "      <td>-1.210004</td>\n",
       "    </tr>\n",
       "    <tr>\n",
       "      <th>19</th>\n",
       "      <td>0.650150</td>\n",
       "      <td>2.088973</td>\n",
       "      <td>-0.132469</td>\n",
       "    </tr>\n",
       "    <tr>\n",
       "      <th>20</th>\n",
       "      <td>0.871767</td>\n",
       "      <td>1.061867</td>\n",
       "      <td>0.893009</td>\n",
       "    </tr>\n",
       "    <tr>\n",
       "      <th>21</th>\n",
       "      <td>-1.111509</td>\n",
       "      <td>0.943877</td>\n",
       "      <td>0.107494</td>\n",
       "    </tr>\n",
       "    <tr>\n",
       "      <th>22</th>\n",
       "      <td>-1.307825</td>\n",
       "      <td>-1.154533</td>\n",
       "      <td>0.769019</td>\n",
       "    </tr>\n",
       "    <tr>\n",
       "      <th>23</th>\n",
       "      <td>0.662569</td>\n",
       "      <td>1.301350</td>\n",
       "      <td>2.730599</td>\n",
       "    </tr>\n",
       "    <tr>\n",
       "      <th>24</th>\n",
       "      <td>0.056357</td>\n",
       "      <td>1.093952</td>\n",
       "      <td>-2.472302</td>\n",
       "    </tr>\n",
       "    <tr>\n",
       "      <th>25</th>\n",
       "      <td>-0.510605</td>\n",
       "      <td>2.275169</td>\n",
       "      <td>0.790699</td>\n",
       "    </tr>\n",
       "    <tr>\n",
       "      <th>26</th>\n",
       "      <td>-0.665979</td>\n",
       "      <td>0.263746</td>\n",
       "      <td>0.427778</td>\n",
       "    </tr>\n",
       "    <tr>\n",
       "      <th>27</th>\n",
       "      <td>-0.229247</td>\n",
       "      <td>-0.302009</td>\n",
       "      <td>0.838662</td>\n",
       "    </tr>\n",
       "    <tr>\n",
       "      <th>28</th>\n",
       "      <td>-0.397009</td>\n",
       "      <td>-0.384748</td>\n",
       "      <td>1.110741</td>\n",
       "    </tr>\n",
       "    <tr>\n",
       "      <th>29</th>\n",
       "      <td>0.867817</td>\n",
       "      <td>-0.061789</td>\n",
       "      <td>0.698880</td>\n",
       "    </tr>\n",
       "    <tr>\n",
       "      <th>30</th>\n",
       "      <td>1.755470</td>\n",
       "      <td>-0.924920</td>\n",
       "      <td>1.280419</td>\n",
       "    </tr>\n",
       "    <tr>\n",
       "      <th>31</th>\n",
       "      <td>-1.404238</td>\n",
       "      <td>-0.000453</td>\n",
       "      <td>0.563271</td>\n",
       "    </tr>\n",
       "    <tr>\n",
       "      <th>32</th>\n",
       "      <td>0.982608</td>\n",
       "      <td>-0.198800</td>\n",
       "      <td>0.178124</td>\n",
       "    </tr>\n",
       "    <tr>\n",
       "      <th>33</th>\n",
       "      <td>0.859206</td>\n",
       "      <td>0.689893</td>\n",
       "      <td>-0.131601</td>\n",
       "    </tr>\n",
       "    <tr>\n",
       "      <th>34</th>\n",
       "      <td>0.987187</td>\n",
       "      <td>-0.739007</td>\n",
       "      <td>-1.186841</td>\n",
       "    </tr>\n",
       "    <tr>\n",
       "      <th>35</th>\n",
       "      <td>-0.535150</td>\n",
       "      <td>-0.324964</td>\n",
       "      <td>-0.457249</td>\n",
       "    </tr>\n",
       "    <tr>\n",
       "      <th>36</th>\n",
       "      <td>-1.315508</td>\n",
       "      <td>-0.457650</td>\n",
       "      <td>0.477115</td>\n",
       "    </tr>\n",
       "    <tr>\n",
       "      <th>37</th>\n",
       "      <td>-1.009071</td>\n",
       "      <td>0.438258</td>\n",
       "      <td>0.550145</td>\n",
       "    </tr>\n",
       "    <tr>\n",
       "      <th>38</th>\n",
       "      <td>1.682689</td>\n",
       "      <td>0.918549</td>\n",
       "      <td>1.608067</td>\n",
       "    </tr>\n",
       "    <tr>\n",
       "      <th>39</th>\n",
       "      <td>-0.395561</td>\n",
       "      <td>0.273146</td>\n",
       "      <td>-1.344895</td>\n",
       "    </tr>\n",
       "    <tr>\n",
       "      <th>40</th>\n",
       "      <td>1.066968</td>\n",
       "      <td>1.422297</td>\n",
       "      <td>-1.006022</td>\n",
       "    </tr>\n",
       "    <tr>\n",
       "      <th>41</th>\n",
       "      <td>-0.467694</td>\n",
       "      <td>-1.390412</td>\n",
       "      <td>-0.856720</td>\n",
       "    </tr>\n",
       "    <tr>\n",
       "      <th>42</th>\n",
       "      <td>0.295047</td>\n",
       "      <td>2.054184</td>\n",
       "      <td>0.726142</td>\n",
       "    </tr>\n",
       "    <tr>\n",
       "      <th>43</th>\n",
       "      <td>1.683840</td>\n",
       "      <td>-2.310817</td>\n",
       "      <td>-1.063813</td>\n",
       "    </tr>\n",
       "    <tr>\n",
       "      <th>44</th>\n",
       "      <td>0.749187</td>\n",
       "      <td>0.717967</td>\n",
       "      <td>1.761293</td>\n",
       "    </tr>\n",
       "    <tr>\n",
       "      <th>45</th>\n",
       "      <td>1.726590</td>\n",
       "      <td>-0.943809</td>\n",
       "      <td>0.987574</td>\n",
       "    </tr>\n",
       "    <tr>\n",
       "      <th>46</th>\n",
       "      <td>1.810616</td>\n",
       "      <td>-0.665637</td>\n",
       "      <td>-1.755620</td>\n",
       "    </tr>\n",
       "    <tr>\n",
       "      <th>47</th>\n",
       "      <td>-0.476114</td>\n",
       "      <td>-1.251142</td>\n",
       "      <td>-1.128895</td>\n",
       "    </tr>\n",
       "    <tr>\n",
       "      <th>48</th>\n",
       "      <td>-0.977472</td>\n",
       "      <td>0.182898</td>\n",
       "      <td>-1.632349</td>\n",
       "    </tr>\n",
       "    <tr>\n",
       "      <th>49</th>\n",
       "      <td>0.476070</td>\n",
       "      <td>-1.063004</td>\n",
       "      <td>0.593864</td>\n",
       "    </tr>\n",
       "  </tbody>\n",
       "</table>\n",
       "</div>"
      ],
      "text/plain": [
       "           A         B         C\n",
       "0  -0.606795  0.603885 -0.665010\n",
       "1   0.590053  0.412133 -0.866187\n",
       "2  -0.537821  0.563512 -0.496078\n",
       "3   0.968567 -0.664447  0.511859\n",
       "4   0.071371 -1.117417 -0.187521\n",
       "5   1.022793  0.623958  0.938148\n",
       "6   1.472920 -0.118809  0.983386\n",
       "7  -1.376462 -0.206712  1.108670\n",
       "8   0.840399  1.171411  0.410430\n",
       "9  -0.299937 -0.882552 -0.860850\n",
       "10  2.544334 -0.301064  0.115521\n",
       "11 -2.316799 -0.630088  0.572983\n",
       "12  0.025732 -0.759950  0.632044\n",
       "13 -0.326920  0.275182 -0.554632\n",
       "14 -1.165008 -0.226062  0.600481\n",
       "15  0.002296  1.438975 -0.744245\n",
       "16 -0.692646 -0.669372 -0.605073\n",
       "17 -1.321740 -0.444826 -1.467668\n",
       "18  2.250800  0.726728 -1.210004\n",
       "19  0.650150  2.088973 -0.132469\n",
       "20  0.871767  1.061867  0.893009\n",
       "21 -1.111509  0.943877  0.107494\n",
       "22 -1.307825 -1.154533  0.769019\n",
       "23  0.662569  1.301350  2.730599\n",
       "24  0.056357  1.093952 -2.472302\n",
       "25 -0.510605  2.275169  0.790699\n",
       "26 -0.665979  0.263746  0.427778\n",
       "27 -0.229247 -0.302009  0.838662\n",
       "28 -0.397009 -0.384748  1.110741\n",
       "29  0.867817 -0.061789  0.698880\n",
       "30  1.755470 -0.924920  1.280419\n",
       "31 -1.404238 -0.000453  0.563271\n",
       "32  0.982608 -0.198800  0.178124\n",
       "33  0.859206  0.689893 -0.131601\n",
       "34  0.987187 -0.739007 -1.186841\n",
       "35 -0.535150 -0.324964 -0.457249\n",
       "36 -1.315508 -0.457650  0.477115\n",
       "37 -1.009071  0.438258  0.550145\n",
       "38  1.682689  0.918549  1.608067\n",
       "39 -0.395561  0.273146 -1.344895\n",
       "40  1.066968  1.422297 -1.006022\n",
       "41 -0.467694 -1.390412 -0.856720\n",
       "42  0.295047  2.054184  0.726142\n",
       "43  1.683840 -2.310817 -1.063813\n",
       "44  0.749187  0.717967  1.761293\n",
       "45  1.726590 -0.943809  0.987574\n",
       "46  1.810616 -0.665637 -1.755620\n",
       "47 -0.476114 -1.251142 -1.128895\n",
       "48 -0.977472  0.182898 -1.632349\n",
       "49  0.476070 -1.063004  0.593864"
      ]
     },
     "execution_count": 3,
     "metadata": {},
     "output_type": "execute_result"
    }
   ],
   "source": [
    "df"
   ]
  },
  {
   "cell_type": "code",
   "execution_count": 14,
   "id": "efec6c4c",
   "metadata": {},
   "outputs": [
    {
     "data": {
      "text/plain": [
       "((100, 20), (20, 50))"
      ]
     },
     "execution_count": 14,
     "metadata": {},
     "output_type": "execute_result"
    }
   ],
   "source": [
    "n = 100\n",
    "k = 20\n",
    "m = 50\n",
    "\n",
    "np.random.seed(0)\n",
    "a = np.random.randn(n, k)\n",
    "b = np.random.randn(k, m)\n",
    "a.shape, b.shape"
   ]
  },
  {
   "cell_type": "code",
   "execution_count": null,
   "id": "33e39d8f",
   "metadata": {},
   "outputs": [],
   "source": []
  },
  {
   "cell_type": "code",
   "execution_count": 18,
   "id": "db5e1b78",
   "metadata": {},
   "outputs": [
    {
     "data": {
      "text/plain": [
       "list"
      ]
     },
     "execution_count": 18,
     "metadata": {},
     "output_type": "execute_result"
    }
   ],
   "source": [
    "a_list_of_list = a.tolist()\n",
    "a_list_of_list[0]"
   ]
  },
  {
   "cell_type": "code",
   "execution_count": 28,
   "id": "0d342356",
   "metadata": {},
   "outputs": [
    {
     "data": {
      "text/plain": [
       "False"
      ]
     },
     "execution_count": 28,
     "metadata": {},
     "output_type": "execute_result"
    }
   ],
   "source": [
    "\"list\" in dir(a)[:]"
   ]
  },
  {
   "cell_type": "code",
   "execution_count": 38,
   "id": "2976fcd0",
   "metadata": {},
   "outputs": [
    {
     "data": {
      "text/html": [
       "<pre style=\"white-space:pre;overflow-x:auto;line-height:normal;font-family:Menlo,'DejaVu Sans Mono',consolas,'Courier New',monospace\"><span style=\"color: #000080; text-decoration-color: #000080\">╭──────────────────────── </span><span style=\"color: #000080; text-decoration-color: #000080; font-weight: bold\">&lt;</span><span style=\"color: #ff00ff; text-decoration-color: #ff00ff; font-weight: bold\">built-in</span><span style=\"color: #000000; text-decoration-color: #000000\"> method tolist of numpy.ndarray object at </span><span style=\"color: #008080; text-decoration-color: #008080; font-weight: bold\">0x164cbb8d0</span><span style=\"color: #000080; text-decoration-color: #000080; font-weight: bold\">&gt;</span><span style=\"color: #000080; text-decoration-color: #000080\"> ────────────────────────╮</span>\n",
       "<span style=\"color: #000080; text-decoration-color: #000080\">│</span> <span style=\"color: #00ffff; text-decoration-color: #00ffff; font-style: italic\">def </span><span style=\"color: #800000; text-decoration-color: #800000; font-weight: bold\">ndarray.tolist</span><span style=\"font-weight: bold\">(</span><span style=\"color: #808000; text-decoration-color: #808000\">...</span><span style=\"font-weight: bold\">)</span>                                                                                         <span style=\"color: #000080; text-decoration-color: #000080\">│</span>\n",
       "<span style=\"color: #000080; text-decoration-color: #000080\">│</span>                                                                                                                 <span style=\"color: #000080; text-decoration-color: #000080\">│</span>\n",
       "<span style=\"color: #000080; text-decoration-color: #000080\">│</span> <span style=\"color: #800080; text-decoration-color: #800080; font-weight: bold\">a.tolist</span><span style=\"color: #008080; text-decoration-color: #008080; font-weight: bold\">()</span>                                                                                                      <span style=\"color: #000080; text-decoration-color: #000080\">│</span>\n",
       "<span style=\"color: #000080; text-decoration-color: #000080\">│</span>                                                                                                                 <span style=\"color: #000080; text-decoration-color: #000080\">│</span>\n",
       "<span style=\"color: #000080; text-decoration-color: #000080\">│</span>            <span style=\"color: #bfbf7f; text-decoration-color: #bfbf7f; font-style: italic\">__doc__</span> = <span style=\"color: #008000; text-decoration-color: #008000\">\"a.tolist()\\n\\n    Return the array as an ``a.ndim``-levels deep nested list of Python </span>    <span style=\"color: #000080; text-decoration-color: #000080\">│</span>\n",
       "<span style=\"color: #000080; text-decoration-color: #000080\">│</span>                      <span style=\"color: #008000; text-decoration-color: #008000\">scalars.\\n\\n    Return a copy of the array data as a (nested) Python list.\\n    Data items</span> <span style=\"color: #000080; text-decoration-color: #000080\">│</span>\n",
       "<span style=\"color: #000080; text-decoration-color: #000080\">│</span>                      <span style=\"color: #008000; text-decoration-color: #008000\">are converted to the nearest compatible builtin Python type, via\\n    the </span>                 <span style=\"color: #000080; text-decoration-color: #000080\">│</span>\n",
       "<span style=\"color: #000080; text-decoration-color: #000080\">│</span>                      <span style=\"color: #008000; text-decoration-color: #008000\">`~numpy.ndarray.item` function.\\n\\n    If ``a.ndim`` is 0, then since the depth of the </span>    <span style=\"color: #000080; text-decoration-color: #000080\">│</span>\n",
       "<span style=\"color: #000080; text-decoration-color: #000080\">│</span>                      <span style=\"color: #008000; text-decoration-color: #008000\">nested list is 0, it will\\n    not be a list at all, but a simple Python scalar.\\n\\n    </span>   <span style=\"color: #000080; text-decoration-color: #000080\">│</span>\n",
       "<span style=\"color: #000080; text-decoration-color: #000080\">│</span>                      <span style=\"color: #008000; text-decoration-color: #008000\">Parameters\\n    ----------\\n    none\\n\\n    Returns\\n    -------\\n    y : object, or list </span> <span style=\"color: #000080; text-decoration-color: #000080\">│</span>\n",
       "<span style=\"color: #000080; text-decoration-color: #000080\">│</span>                      <span style=\"color: #008000; text-decoration-color: #008000\">of object, or list of list of object, or ...\\n        The possibly nested list of array </span>   <span style=\"color: #000080; text-decoration-color: #000080\">│</span>\n",
       "<span style=\"color: #000080; text-decoration-color: #000080\">│</span>                      <span style=\"color: #008000; text-decoration-color: #008000\">elements.\\n\\n    Notes\\n    -----\\n    The array may be recreated via ``a = </span>               <span style=\"color: #000080; text-decoration-color: #000080\">│</span>\n",
       "<span style=\"color: #000080; text-decoration-color: #000080\">│</span>                      <span style=\"color: #008000; text-decoration-color: #008000\">np.array(a.tolist())``, although this\\n    may sometimes lose precision.\\n\\n    Examples\\n</span> <span style=\"color: #000080; text-decoration-color: #000080\">│</span>\n",
       "<span style=\"color: #000080; text-decoration-color: #000080\">│</span>                      <span style=\"color: #008000; text-decoration-color: #008000\">--------\\n    For a 1D array, ``a.tolist()`` is almost the same as ``list(a)``,\\n    </span>      <span style=\"color: #000080; text-decoration-color: #000080\">│</span>\n",
       "<span style=\"color: #000080; text-decoration-color: #000080\">│</span>                      <span style=\"color: #008000; text-decoration-color: #008000\">except that ``tolist`` changes numpy scalars to Python scalars:\\n\\n    &gt;&gt;&gt; a = </span>            <span style=\"color: #000080; text-decoration-color: #000080\">│</span>\n",
       "<span style=\"color: #000080; text-decoration-color: #000080\">│</span>                      <span style=\"color: #008000; text-decoration-color: #008000\">np.uint32([1, 2])\\n    &gt;&gt;&gt; a_list = list(a)\\n    &gt;&gt;&gt; a_list\\n    [1, 2]\\n    &gt;&gt;&gt; </span>          <span style=\"color: #000080; text-decoration-color: #000080\">│</span>\n",
       "<span style=\"color: #000080; text-decoration-color: #000080\">│</span>                      <span style=\"color: #008000; text-decoration-color: #008000\">type(a_list[0])\\n    &lt;class 'numpy.uint32'&gt;\\n    &gt;&gt;&gt; a_tolist = a.tolist()\\n    &gt;&gt;&gt; </span>       <span style=\"color: #000080; text-decoration-color: #000080\">│</span>\n",
       "<span style=\"color: #000080; text-decoration-color: #000080\">│</span>                      <span style=\"color: #008000; text-decoration-color: #008000\">a_tolist\\n    [1, 2]\\n    &gt;&gt;&gt; type(a_tolist[0])\\n    &lt;class 'int'&gt;\\n\\n    Additionally, </span>   <span style=\"color: #000080; text-decoration-color: #000080\">│</span>\n",
       "<span style=\"color: #000080; text-decoration-color: #000080\">│</span>                      <span style=\"color: #008000; text-decoration-color: #008000\">for a 2D array, ``tolist`` applies recursively:\\n\\n    &gt;&gt;&gt; a = np.array([[1, 2], [3, </span>      <span style=\"color: #000080; text-decoration-color: #000080\">│</span>\n",
       "<span style=\"color: #000080; text-decoration-color: #000080\">│</span>                      <span style=\"color: #008000; text-decoration-color: #008000\">4]])\\n    &gt;&gt;&gt; list(a)\\n    [array([1, 2]), array([3, 4])]\\n    &gt;&gt;&gt; a.tolist()\\n    [[1, </span>   <span style=\"color: #000080; text-decoration-color: #000080\">│</span>\n",
       "<span style=\"color: #000080; text-decoration-color: #000080\">│</span>                      <span style=\"color: #008000; text-decoration-color: #008000\">2], [3, 4]]\\n\\n    The base case for this recursion is a 0D array:\\n\\n    &gt;&gt;&gt; a = </span>         <span style=\"color: #000080; text-decoration-color: #000080\">│</span>\n",
       "<span style=\"color: #000080; text-decoration-color: #000080\">│</span>                      <span style=\"color: #008000; text-decoration-color: #008000\">np.array(1)\\n    &gt;&gt;&gt; list(a)\\n    Traceback (most recent call last):\\n      ...\\n    </span>      <span style=\"color: #000080; text-decoration-color: #000080\">│</span>\n",
       "<span style=\"color: #000080; text-decoration-color: #000080\">│</span>                      <span style=\"color: #008000; text-decoration-color: #008000\">TypeError: iteration over a 0-d array\\n    &gt;&gt;&gt; a.tolist()\\n    1\"</span>                          <span style=\"color: #000080; text-decoration-color: #000080\">│</span>\n",
       "<span style=\"color: #000080; text-decoration-color: #000080\">│</span>         <span style=\"color: #bfbf7f; text-decoration-color: #bfbf7f; font-style: italic\">__module__</span> = <span style=\"color: #800080; text-decoration-color: #800080; font-style: italic\">None</span>                                                                                       <span style=\"color: #000080; text-decoration-color: #000080\">│</span>\n",
       "<span style=\"color: #000080; text-decoration-color: #000080\">│</span>           <span style=\"color: #bfbf7f; text-decoration-color: #bfbf7f; font-style: italic\">__name__</span> = <span style=\"color: #008000; text-decoration-color: #008000\">'tolist'</span>                                                                                   <span style=\"color: #000080; text-decoration-color: #000080\">│</span>\n",
       "<span style=\"color: #000080; text-decoration-color: #000080\">│</span>       <span style=\"color: #bfbf7f; text-decoration-color: #bfbf7f; font-style: italic\">__qualname__</span> = <span style=\"color: #008000; text-decoration-color: #008000\">'ndarray.tolist'</span>                                                                           <span style=\"color: #000080; text-decoration-color: #000080\">│</span>\n",
       "<span style=\"color: #000080; text-decoration-color: #000080\">│</span>           <span style=\"color: #bfbf7f; text-decoration-color: #bfbf7f; font-style: italic\">__self__</span> = <span style=\"color: #800080; text-decoration-color: #800080; font-weight: bold\">array</span><span style=\"font-weight: bold\">([[</span> <span style=\"color: #008080; text-decoration-color: #008080; font-weight: bold\">1.76405235e+00</span>,  <span style=\"color: #008080; text-decoration-color: #008080; font-weight: bold\">4.00157208e-01</span>,  <span style=\"color: #008080; text-decoration-color: #008080; font-weight: bold\">9.78737984e-01</span>, <span style=\"color: #808000; text-decoration-color: #808000\">...</span>,                            <span style=\"color: #000080; text-decoration-color: #000080\">│</span>\n",
       "<span style=\"color: #000080; text-decoration-color: #000080\">│</span>                              <span style=\"color: #008080; text-decoration-color: #008080; font-weight: bold\">-2.05158264e-01</span>,  <span style=\"color: #008080; text-decoration-color: #008080; font-weight: bold\">3.13067702e-01</span>, <span style=\"color: #008080; text-decoration-color: #008080; font-weight: bold\">-8.54095739e-01</span><span style=\"font-weight: bold\">]</span>,                                <span style=\"color: #000080; text-decoration-color: #000080\">│</span>\n",
       "<span style=\"color: #000080; text-decoration-color: #000080\">│</span>                             <span style=\"font-weight: bold\">[</span><span style=\"color: #008080; text-decoration-color: #008080; font-weight: bold\">-2.55298982e+00</span>,  <span style=\"color: #008080; text-decoration-color: #008080; font-weight: bold\">6.53618595e-01</span>,  <span style=\"color: #008080; text-decoration-color: #008080; font-weight: bold\">8.64436199e-01</span>, <span style=\"color: #808000; text-decoration-color: #808000\">...</span>,                            <span style=\"color: #000080; text-decoration-color: #000080\">│</span>\n",
       "<span style=\"color: #000080; text-decoration-color: #000080\">│</span>                               <span style=\"color: #008080; text-decoration-color: #008080; font-weight: bold\">1.20237985e+00</span>, <span style=\"color: #008080; text-decoration-color: #008080; font-weight: bold\">-3.87326817e-01</span>, <span style=\"color: #008080; text-decoration-color: #008080; font-weight: bold\">-3.02302751e-01</span><span style=\"font-weight: bold\">]</span>,                                <span style=\"color: #000080; text-decoration-color: #000080\">│</span>\n",
       "<span style=\"color: #000080; text-decoration-color: #000080\">│</span>                             <span style=\"font-weight: bold\">[</span><span style=\"color: #008080; text-decoration-color: #008080; font-weight: bold\">-1.04855297e+00</span>, <span style=\"color: #008080; text-decoration-color: #008080; font-weight: bold\">-1.42001794e+00</span>, <span style=\"color: #008080; text-decoration-color: #008080; font-weight: bold\">-1.70627019e+00</span>, <span style=\"color: #808000; text-decoration-color: #808000\">...</span>,                            <span style=\"color: #000080; text-decoration-color: #000080\">│</span>\n",
       "<span style=\"color: #000080; text-decoration-color: #000080\">│</span>                               <span style=\"color: #008080; text-decoration-color: #008080; font-weight: bold\">3.02471898e-01</span>, <span style=\"color: #008080; text-decoration-color: #008080; font-weight: bold\">-6.34322094e-01</span>, <span style=\"color: #008080; text-decoration-color: #008080; font-weight: bold\">-3.62741166e-01</span><span style=\"font-weight: bold\">]</span>,                                <span style=\"color: #000080; text-decoration-color: #000080\">│</span>\n",
       "<span style=\"color: #000080; text-decoration-color: #000080\">│</span>                             <span style=\"color: #808000; text-decoration-color: #808000\">...</span>,                                                                                <span style=\"color: #000080; text-decoration-color: #000080\">│</span>\n",
       "<span style=\"color: #000080; text-decoration-color: #000080\">│</span>                             <span style=\"font-weight: bold\">[</span> <span style=\"color: #008080; text-decoration-color: #008080; font-weight: bold\">8.73311836e-01</span>,  <span style=\"color: #008080; text-decoration-color: #008080; font-weight: bold\">1.19973618e+00</span>,  <span style=\"color: #008080; text-decoration-color: #008080; font-weight: bold\">4.56153036e-01</span>, <span style=\"color: #808000; text-decoration-color: #808000\">...</span>,                            <span style=\"color: #000080; text-decoration-color: #000080\">│</span>\n",
       "<span style=\"color: #000080; text-decoration-color: #000080\">│</span>                              <span style=\"color: #008080; text-decoration-color: #008080; font-weight: bold\">-1.24021634e+00</span>,  <span style=\"color: #008080; text-decoration-color: #008080; font-weight: bold\">9.00054243e-01</span>,  <span style=\"color: #008080; text-decoration-color: #008080; font-weight: bold\">1.80224223e+00</span><span style=\"font-weight: bold\">]</span>,                                <span style=\"color: #000080; text-decoration-color: #000080\">│</span>\n",
       "<span style=\"color: #000080; text-decoration-color: #000080\">│</span>                             <span style=\"font-weight: bold\">[</span><span style=\"color: #008080; text-decoration-color: #008080; font-weight: bold\">-2.08285103e-01</span>,  <span style=\"color: #008080; text-decoration-color: #008080; font-weight: bold\">1.57437124e+00</span>,  <span style=\"color: #008080; text-decoration-color: #008080; font-weight: bold\">1.98989494e-01</span>, <span style=\"color: #808000; text-decoration-color: #808000\">...</span>,                            <span style=\"color: #000080; text-decoration-color: #000080\">│</span>\n",
       "<span style=\"color: #000080; text-decoration-color: #000080\">│</span>                               <span style=\"color: #008080; text-decoration-color: #008080; font-weight: bold\">4.32837621e-01</span>, <span style=\"color: #008080; text-decoration-color: #008080; font-weight: bold\">-8.08717532e-01</span>, <span style=\"color: #008080; text-decoration-color: #008080; font-weight: bold\">-1.10412399e+00</span><span style=\"font-weight: bold\">]</span>,                                <span style=\"color: #000080; text-decoration-color: #000080\">│</span>\n",
       "<span style=\"color: #000080; text-decoration-color: #000080\">│</span>                             <span style=\"font-weight: bold\">[</span><span style=\"color: #008080; text-decoration-color: #008080; font-weight: bold\">-7.89102180e-01</span>,  <span style=\"color: #008080; text-decoration-color: #008080; font-weight: bold\">1.24845579e-03</span>, <span style=\"color: #008080; text-decoration-color: #008080; font-weight: bold\">-1.59939788e-01</span>, <span style=\"color: #808000; text-decoration-color: #808000\">...</span>,                            <span style=\"color: #000080; text-decoration-color: #000080\">│</span>\n",
       "<span style=\"color: #000080; text-decoration-color: #000080\">│</span>                               <span style=\"color: #008080; text-decoration-color: #008080; font-weight: bold\">1.58433847e-01</span>, <span style=\"color: #008080; text-decoration-color: #008080; font-weight: bold\">-1.14190142e+00</span>, <span style=\"color: #008080; text-decoration-color: #008080; font-weight: bold\">-1.31097037e+00</span><span style=\"font-weight: bold\">]])</span>                               <span style=\"color: #000080; text-decoration-color: #000080\">│</span>\n",
       "<span style=\"color: #000080; text-decoration-color: #000080\">│</span> <span style=\"color: #bfbf7f; text-decoration-color: #bfbf7f; font-style: italic\">__text_signature__</span> = <span style=\"color: #800080; text-decoration-color: #800080; font-style: italic\">None</span>                                                                                       <span style=\"color: #000080; text-decoration-color: #000080\">│</span>\n",
       "<span style=\"color: #000080; text-decoration-color: #000080\">│</span>           <span style=\"color: #bfbf7f; text-decoration-color: #bfbf7f; font-style: italic\">__call__</span> = <span style=\"color: #00ffff; text-decoration-color: #00ffff; font-style: italic\">def </span><span style=\"color: #800000; text-decoration-color: #800000; font-weight: bold\">__call__</span><span style=\"font-weight: bold\">(</span>*args, **kwargs<span style=\"font-weight: bold\">)</span>: <span style=\"color: #7f7f7f; text-decoration-color: #7f7f7f\">Call self as a function.</span>                                    <span style=\"color: #000080; text-decoration-color: #000080\">│</span>\n",
       "<span style=\"color: #000080; text-decoration-color: #000080\">│</span>          <span style=\"color: #bfbf7f; text-decoration-color: #bfbf7f; font-style: italic\">__class__</span> = <span style=\"color: #00ffff; text-decoration-color: #00ffff; font-style: italic\">class </span><span style=\"color: #800000; text-decoration-color: #800000; font-weight: bold\">__class__</span><span style=\"font-weight: bold\">()</span>:                                                                         <span style=\"color: #000080; text-decoration-color: #000080\">│</span>\n",
       "<span style=\"color: #000080; text-decoration-color: #000080\">│</span>        <span style=\"color: #bfbf7f; text-decoration-color: #bfbf7f; font-style: italic\">__delattr__</span> = <span style=\"color: #00ffff; text-decoration-color: #00ffff; font-style: italic\">def </span><span style=\"color: #800000; text-decoration-color: #800000; font-weight: bold\">__delattr__</span><span style=\"font-weight: bold\">(</span>name, <span style=\"color: #800080; text-decoration-color: #800080\">/</span><span style=\"font-weight: bold\">)</span>: <span style=\"color: #7f7f7f; text-decoration-color: #7f7f7f\">Implement </span><span style=\"color: #bf7fbf; text-decoration-color: #bf7fbf; font-weight: bold\">delattr</span><span style=\"color: #7f7f7f; text-decoration-color: #7f7f7f; font-weight: bold\">(</span><span style=\"color: #7f7f7f; text-decoration-color: #7f7f7f\">self, name</span><span style=\"color: #7f7f7f; text-decoration-color: #7f7f7f; font-weight: bold\">)</span><span style=\"color: #7f7f7f; text-decoration-color: #7f7f7f\">.</span>                                   <span style=\"color: #000080; text-decoration-color: #000080\">│</span>\n",
       "<span style=\"color: #000080; text-decoration-color: #000080\">│</span>            <span style=\"color: #bfbf7f; text-decoration-color: #bfbf7f; font-style: italic\">__dir__</span> = <span style=\"color: #00ffff; text-decoration-color: #00ffff; font-style: italic\">def </span><span style=\"color: #800000; text-decoration-color: #800000; font-weight: bold\">__dir__</span><span style=\"font-weight: bold\">()</span>: <span style=\"color: #7f7f7f; text-decoration-color: #7f7f7f\">Default </span><span style=\"color: #bf7fbf; text-decoration-color: #bf7fbf; font-weight: bold\">dir</span><span style=\"color: #7f7f7f; text-decoration-color: #7f7f7f; font-weight: bold\">()</span><span style=\"color: #7f7f7f; text-decoration-color: #7f7f7f\"> implementation.</span>                                               <span style=\"color: #000080; text-decoration-color: #000080\">│</span>\n",
       "<span style=\"color: #000080; text-decoration-color: #000080\">│</span>             <span style=\"color: #bfbf7f; text-decoration-color: #bfbf7f; font-style: italic\">__eq__</span> = <span style=\"color: #00ffff; text-decoration-color: #00ffff; font-style: italic\">def </span><span style=\"color: #800000; text-decoration-color: #800000; font-weight: bold\">__eq__</span><span style=\"font-weight: bold\">(</span>value, <span style=\"color: #800080; text-decoration-color: #800080\">/</span><span style=\"font-weight: bold\">)</span>: <span style=\"color: #7f7f7f; text-decoration-color: #7f7f7f\">Return </span><span style=\"color: #bfbf7f; text-decoration-color: #bfbf7f\">self</span><span style=\"color: #7f7f7f; text-decoration-color: #7f7f7f\">==value.</span>                                                  <span style=\"color: #000080; text-decoration-color: #000080\">│</span>\n",
       "<span style=\"color: #000080; text-decoration-color: #000080\">│</span>         <span style=\"color: #bfbf7f; text-decoration-color: #bfbf7f; font-style: italic\">__format__</span> = <span style=\"color: #00ffff; text-decoration-color: #00ffff; font-style: italic\">def </span><span style=\"color: #800000; text-decoration-color: #800000; font-weight: bold\">__format__</span><span style=\"font-weight: bold\">(</span>format_spec, <span style=\"color: #800080; text-decoration-color: #800080\">/</span><span style=\"font-weight: bold\">)</span>: <span style=\"color: #7f7f7f; text-decoration-color: #7f7f7f\">Default object formatter.</span>                                  <span style=\"color: #000080; text-decoration-color: #000080\">│</span>\n",
       "<span style=\"color: #000080; text-decoration-color: #000080\">│</span>             <span style=\"color: #bfbf7f; text-decoration-color: #bfbf7f; font-style: italic\">__ge__</span> = <span style=\"color: #00ffff; text-decoration-color: #00ffff; font-style: italic\">def </span><span style=\"color: #800000; text-decoration-color: #800000; font-weight: bold\">__ge__</span><span style=\"font-weight: bold\">(</span>value, <span style=\"color: #800080; text-decoration-color: #800080\">/</span><span style=\"font-weight: bold\">)</span>: <span style=\"color: #7f7f7f; text-decoration-color: #7f7f7f\">Return self&gt;=value.</span>                                                  <span style=\"color: #000080; text-decoration-color: #000080\">│</span>\n",
       "<span style=\"color: #000080; text-decoration-color: #000080\">│</span>   <span style=\"color: #bfbf7f; text-decoration-color: #bfbf7f; font-style: italic\">__getattribute__</span> = <span style=\"color: #00ffff; text-decoration-color: #00ffff; font-style: italic\">def </span><span style=\"color: #800000; text-decoration-color: #800000; font-weight: bold\">__getattribute__</span><span style=\"font-weight: bold\">(</span>name, <span style=\"color: #800080; text-decoration-color: #800080\">/</span><span style=\"font-weight: bold\">)</span>: <span style=\"color: #7f7f7f; text-decoration-color: #7f7f7f\">Return </span><span style=\"color: #bf7fbf; text-decoration-color: #bf7fbf; font-weight: bold\">getattr</span><span style=\"color: #7f7f7f; text-decoration-color: #7f7f7f; font-weight: bold\">(</span><span style=\"color: #7f7f7f; text-decoration-color: #7f7f7f\">self, name</span><span style=\"color: #7f7f7f; text-decoration-color: #7f7f7f; font-weight: bold\">)</span><span style=\"color: #7f7f7f; text-decoration-color: #7f7f7f\">.</span>                                 <span style=\"color: #000080; text-decoration-color: #000080\">│</span>\n",
       "<span style=\"color: #000080; text-decoration-color: #000080\">│</span>             <span style=\"color: #bfbf7f; text-decoration-color: #bfbf7f; font-style: italic\">__gt__</span> = <span style=\"color: #00ffff; text-decoration-color: #00ffff; font-style: italic\">def </span><span style=\"color: #800000; text-decoration-color: #800000; font-weight: bold\">__gt__</span><span style=\"font-weight: bold\">(</span>value, <span style=\"color: #800080; text-decoration-color: #800080\">/</span><span style=\"font-weight: bold\">)</span>: <span style=\"color: #7f7f7f; text-decoration-color: #7f7f7f\">Return self&gt;value.</span>                                                   <span style=\"color: #000080; text-decoration-color: #000080\">│</span>\n",
       "<span style=\"color: #000080; text-decoration-color: #000080\">│</span>           <span style=\"color: #bfbf7f; text-decoration-color: #bfbf7f; font-style: italic\">__hash__</span> = <span style=\"color: #00ffff; text-decoration-color: #00ffff; font-style: italic\">def </span><span style=\"color: #800000; text-decoration-color: #800000; font-weight: bold\">__hash__</span><span style=\"font-weight: bold\">()</span>: <span style=\"color: #7f7f7f; text-decoration-color: #7f7f7f\">Return </span><span style=\"color: #bf7fbf; text-decoration-color: #bf7fbf; font-weight: bold\">hash</span><span style=\"color: #7f7f7f; text-decoration-color: #7f7f7f; font-weight: bold\">(</span><span style=\"color: #7f7f7f; text-decoration-color: #7f7f7f\">self</span><span style=\"color: #7f7f7f; text-decoration-color: #7f7f7f; font-weight: bold\">)</span><span style=\"color: #7f7f7f; text-decoration-color: #7f7f7f\">.</span>                                                         <span style=\"color: #000080; text-decoration-color: #000080\">│</span>\n",
       "<span style=\"color: #000080; text-decoration-color: #000080\">│</span>           <span style=\"color: #bfbf7f; text-decoration-color: #bfbf7f; font-style: italic\">__init__</span> = <span style=\"color: #00ffff; text-decoration-color: #00ffff; font-style: italic\">def </span><span style=\"color: #800000; text-decoration-color: #800000; font-weight: bold\">__init__</span><span style=\"font-weight: bold\">(</span>*args, **kwargs<span style=\"font-weight: bold\">)</span>: <span style=\"color: #7f7f7f; text-decoration-color: #7f7f7f\">Initialize self.  See </span><span style=\"color: #bf7fbf; text-decoration-color: #bf7fbf; font-weight: bold\">help</span><span style=\"color: #7f7f7f; text-decoration-color: #7f7f7f; font-weight: bold\">(</span><span style=\"color: #bf7fbf; text-decoration-color: #bf7fbf; font-weight: bold\">type</span><span style=\"color: #7f7f7f; text-decoration-color: #7f7f7f; font-weight: bold\">(</span><span style=\"color: #7f7f7f; text-decoration-color: #7f7f7f\">self</span><span style=\"color: #7f7f7f; text-decoration-color: #7f7f7f; font-weight: bold\">))</span><span style=\"color: #7f7f7f; text-decoration-color: #7f7f7f\"> for accurate </span>        <span style=\"color: #000080; text-decoration-color: #000080\">│</span>\n",
       "<span style=\"color: #000080; text-decoration-color: #000080\">│</span>                      <span style=\"color: #7f7f7f; text-decoration-color: #7f7f7f\">signature.</span>                                                                                 <span style=\"color: #000080; text-decoration-color: #000080\">│</span>\n",
       "<span style=\"color: #000080; text-decoration-color: #000080\">│</span>  <span style=\"color: #bfbf7f; text-decoration-color: #bfbf7f; font-style: italic\">__init_subclass__</span> = <span style=\"color: #00ffff; text-decoration-color: #00ffff; font-style: italic\">def </span><span style=\"color: #800000; text-decoration-color: #800000; font-weight: bold\">__init_subclass__</span><span style=\"font-weight: bold\">(</span><span style=\"color: #808000; text-decoration-color: #808000\">...</span><span style=\"font-weight: bold\">)</span> <span style=\"color: #7f7f7f; text-decoration-color: #7f7f7f\">This method is called when a class is subclassed.</span>               <span style=\"color: #000080; text-decoration-color: #000080\">│</span>\n",
       "<span style=\"color: #000080; text-decoration-color: #000080\">│</span>             <span style=\"color: #bfbf7f; text-decoration-color: #bfbf7f; font-style: italic\">__le__</span> = <span style=\"color: #00ffff; text-decoration-color: #00ffff; font-style: italic\">def </span><span style=\"color: #800000; text-decoration-color: #800000; font-weight: bold\">__le__</span><span style=\"font-weight: bold\">(</span>value, <span style=\"color: #800080; text-decoration-color: #800080\">/</span><span style=\"font-weight: bold\">)</span>: <span style=\"color: #7f7f7f; text-decoration-color: #7f7f7f\">Return self&lt;=value.</span>                                                  <span style=\"color: #000080; text-decoration-color: #000080\">│</span>\n",
       "<span style=\"color: #000080; text-decoration-color: #000080\">│</span>             <span style=\"color: #bfbf7f; text-decoration-color: #bfbf7f; font-style: italic\">__lt__</span> = <span style=\"color: #00ffff; text-decoration-color: #00ffff; font-style: italic\">def </span><span style=\"color: #800000; text-decoration-color: #800000; font-weight: bold\">__lt__</span><span style=\"font-weight: bold\">(</span>value, <span style=\"color: #800080; text-decoration-color: #800080\">/</span><span style=\"font-weight: bold\">)</span>: <span style=\"color: #7f7f7f; text-decoration-color: #7f7f7f\">Return self&lt;value.</span>                                                   <span style=\"color: #000080; text-decoration-color: #000080\">│</span>\n",
       "<span style=\"color: #000080; text-decoration-color: #000080\">│</span>             <span style=\"color: #bfbf7f; text-decoration-color: #bfbf7f; font-style: italic\">__ne__</span> = <span style=\"color: #00ffff; text-decoration-color: #00ffff; font-style: italic\">def </span><span style=\"color: #800000; text-decoration-color: #800000; font-weight: bold\">__ne__</span><span style=\"font-weight: bold\">(</span>value, <span style=\"color: #800080; text-decoration-color: #800080\">/</span><span style=\"font-weight: bold\">)</span>: <span style=\"color: #7f7f7f; text-decoration-color: #7f7f7f\">Return self!=value.</span>                                                  <span style=\"color: #000080; text-decoration-color: #000080\">│</span>\n",
       "<span style=\"color: #000080; text-decoration-color: #000080\">│</span>            <span style=\"color: #bfbf7f; text-decoration-color: #bfbf7f; font-style: italic\">__new__</span> = <span style=\"color: #00ffff; text-decoration-color: #00ffff; font-style: italic\">def </span><span style=\"color: #800000; text-decoration-color: #800000; font-weight: bold\">__new__</span><span style=\"font-weight: bold\">(</span>*args, **kwargs<span style=\"font-weight: bold\">)</span>: <span style=\"color: #7f7f7f; text-decoration-color: #7f7f7f\">Create and return a new object.  See </span><span style=\"color: #bf7fbf; text-decoration-color: #bf7fbf; font-weight: bold\">help</span><span style=\"color: #7f7f7f; text-decoration-color: #7f7f7f; font-weight: bold\">(</span><span style=\"color: #7f7f7f; text-decoration-color: #7f7f7f\">type</span><span style=\"color: #7f7f7f; text-decoration-color: #7f7f7f; font-weight: bold\">)</span><span style=\"color: #7f7f7f; text-decoration-color: #7f7f7f\"> for accurate</span> <span style=\"color: #000080; text-decoration-color: #000080\">│</span>\n",
       "<span style=\"color: #000080; text-decoration-color: #000080\">│</span>                      <span style=\"color: #7f7f7f; text-decoration-color: #7f7f7f\">signature.</span>                                                                                 <span style=\"color: #000080; text-decoration-color: #000080\">│</span>\n",
       "<span style=\"color: #000080; text-decoration-color: #000080\">│</span>         <span style=\"color: #bfbf7f; text-decoration-color: #bfbf7f; font-style: italic\">__reduce__</span> = <span style=\"color: #00ffff; text-decoration-color: #00ffff; font-style: italic\">def </span><span style=\"color: #800000; text-decoration-color: #800000; font-weight: bold\">__reduce__</span><span style=\"font-weight: bold\">(</span><span style=\"color: #808000; text-decoration-color: #808000\">...</span><span style=\"font-weight: bold\">)</span> <span style=\"color: #7f7f7f; text-decoration-color: #7f7f7f\">Helper for pickle.</span>                                                     <span style=\"color: #000080; text-decoration-color: #000080\">│</span>\n",
       "<span style=\"color: #000080; text-decoration-color: #000080\">│</span>      <span style=\"color: #bfbf7f; text-decoration-color: #bfbf7f; font-style: italic\">__reduce_ex__</span> = <span style=\"color: #00ffff; text-decoration-color: #00ffff; font-style: italic\">def </span><span style=\"color: #800000; text-decoration-color: #800000; font-weight: bold\">__reduce_ex__</span><span style=\"font-weight: bold\">(</span>protocol, <span style=\"color: #800080; text-decoration-color: #800080\">/</span><span style=\"font-weight: bold\">)</span>: <span style=\"color: #7f7f7f; text-decoration-color: #7f7f7f\">Helper for pickle.</span>                                         <span style=\"color: #000080; text-decoration-color: #000080\">│</span>\n",
       "<span style=\"color: #000080; text-decoration-color: #000080\">│</span>           <span style=\"color: #bfbf7f; text-decoration-color: #bfbf7f; font-style: italic\">__repr__</span> = <span style=\"color: #00ffff; text-decoration-color: #00ffff; font-style: italic\">def </span><span style=\"color: #800000; text-decoration-color: #800000; font-weight: bold\">__repr__</span><span style=\"font-weight: bold\">()</span>: <span style=\"color: #7f7f7f; text-decoration-color: #7f7f7f\">Return </span><span style=\"color: #bf7fbf; text-decoration-color: #bf7fbf; font-weight: bold\">repr</span><span style=\"color: #7f7f7f; text-decoration-color: #7f7f7f; font-weight: bold\">(</span><span style=\"color: #7f7f7f; text-decoration-color: #7f7f7f\">self</span><span style=\"color: #7f7f7f; text-decoration-color: #7f7f7f; font-weight: bold\">)</span><span style=\"color: #7f7f7f; text-decoration-color: #7f7f7f\">.</span>                                                         <span style=\"color: #000080; text-decoration-color: #000080\">│</span>\n",
       "<span style=\"color: #000080; text-decoration-color: #000080\">│</span>        <span style=\"color: #bfbf7f; text-decoration-color: #bfbf7f; font-style: italic\">__setattr__</span> = <span style=\"color: #00ffff; text-decoration-color: #00ffff; font-style: italic\">def </span><span style=\"color: #800000; text-decoration-color: #800000; font-weight: bold\">__setattr__</span><span style=\"font-weight: bold\">(</span>name, value, <span style=\"color: #800080; text-decoration-color: #800080\">/</span><span style=\"font-weight: bold\">)</span>: <span style=\"color: #7f7f7f; text-decoration-color: #7f7f7f\">Implement </span><span style=\"color: #bf7fbf; text-decoration-color: #bf7fbf; font-weight: bold\">setattr</span><span style=\"color: #7f7f7f; text-decoration-color: #7f7f7f; font-weight: bold\">(</span><span style=\"color: #7f7f7f; text-decoration-color: #7f7f7f\">self, name, value</span><span style=\"color: #7f7f7f; text-decoration-color: #7f7f7f; font-weight: bold\">)</span><span style=\"color: #7f7f7f; text-decoration-color: #7f7f7f\">.</span>                     <span style=\"color: #000080; text-decoration-color: #000080\">│</span>\n",
       "<span style=\"color: #000080; text-decoration-color: #000080\">│</span>         <span style=\"color: #bfbf7f; text-decoration-color: #bfbf7f; font-style: italic\">__sizeof__</span> = <span style=\"color: #00ffff; text-decoration-color: #00ffff; font-style: italic\">def </span><span style=\"color: #800000; text-decoration-color: #800000; font-weight: bold\">__sizeof__</span><span style=\"font-weight: bold\">()</span>: <span style=\"color: #7f7f7f; text-decoration-color: #7f7f7f\">Size of object in memory, in bytes.</span>                                      <span style=\"color: #000080; text-decoration-color: #000080\">│</span>\n",
       "<span style=\"color: #000080; text-decoration-color: #000080\">│</span>            <span style=\"color: #bfbf7f; text-decoration-color: #bfbf7f; font-style: italic\">__str__</span> = <span style=\"color: #00ffff; text-decoration-color: #00ffff; font-style: italic\">def </span><span style=\"color: #800000; text-decoration-color: #800000; font-weight: bold\">__str__</span><span style=\"font-weight: bold\">()</span>: <span style=\"color: #7f7f7f; text-decoration-color: #7f7f7f\">Return </span><span style=\"color: #bf7fbf; text-decoration-color: #bf7fbf; font-weight: bold\">str</span><span style=\"color: #7f7f7f; text-decoration-color: #7f7f7f; font-weight: bold\">(</span><span style=\"color: #7f7f7f; text-decoration-color: #7f7f7f\">self</span><span style=\"color: #7f7f7f; text-decoration-color: #7f7f7f; font-weight: bold\">)</span><span style=\"color: #7f7f7f; text-decoration-color: #7f7f7f\">.</span>                                                           <span style=\"color: #000080; text-decoration-color: #000080\">│</span>\n",
       "<span style=\"color: #000080; text-decoration-color: #000080\">│</span>   <span style=\"color: #bfbf7f; text-decoration-color: #bfbf7f; font-style: italic\">__subclasshook__</span> = <span style=\"color: #00ffff; text-decoration-color: #00ffff; font-style: italic\">def </span><span style=\"color: #800000; text-decoration-color: #800000; font-weight: bold\">__subclasshook__</span><span style=\"font-weight: bold\">(</span><span style=\"color: #808000; text-decoration-color: #808000\">...</span><span style=\"font-weight: bold\">)</span> <span style=\"color: #7f7f7f; text-decoration-color: #7f7f7f\">Abstract classes can override this to customize </span><span style=\"color: #bf7fbf; text-decoration-color: #bf7fbf; font-weight: bold\">issubclass</span><span style=\"color: #7f7f7f; text-decoration-color: #7f7f7f; font-weight: bold\">()</span><span style=\"color: #7f7f7f; text-decoration-color: #7f7f7f\">.</span>    <span style=\"color: #000080; text-decoration-color: #000080\">│</span>\n",
       "<span style=\"color: #000080; text-decoration-color: #000080\">╰─────────────────────────────────────────────────────────────────────────────────────────────────────────────────╯</span>\n",
       "</pre>\n"
      ],
      "text/plain": [
       "\u001b[34m╭─\u001b[0m\u001b[34m───────────────────────\u001b[0m\u001b[34m \u001b[0m\u001b[1;34m<\u001b[0m\u001b[1;95mbuilt-in\u001b[0m\u001b[39m method tolist of numpy.ndarray object at \u001b[0m\u001b[1;36m0x164cbb8d0\u001b[0m\u001b[1;34m>\u001b[0m\u001b[34m \u001b[0m\u001b[34m───────────────────────\u001b[0m\u001b[34m─╮\u001b[0m\n",
       "\u001b[34m│\u001b[0m \u001b[3;96mdef \u001b[0m\u001b[1;31mndarray.tolist\u001b[0m\u001b[1m(\u001b[0m\u001b[33m...\u001b[0m\u001b[1m)\u001b[0m                                                                                         \u001b[34m│\u001b[0m\n",
       "\u001b[34m│\u001b[0m                                                                                                                 \u001b[34m│\u001b[0m\n",
       "\u001b[34m│\u001b[0m \u001b[1;35ma.tolist\u001b[0m\u001b[1;36m(\u001b[0m\u001b[1;36m)\u001b[0m                                                                                                      \u001b[34m│\u001b[0m\n",
       "\u001b[34m│\u001b[0m                                                                                                                 \u001b[34m│\u001b[0m\n",
       "\u001b[34m│\u001b[0m            \u001b[2;3;33m__doc__\u001b[0m = \u001b[32m\"a.tolist\u001b[0m\u001b[32m(\u001b[0m\u001b[32m)\u001b[0m\u001b[32m\\n\\n    Return the array as an ``a.ndim``-levels deep nested list of Python \u001b[0m    \u001b[34m│\u001b[0m\n",
       "\u001b[34m│\u001b[0m                      \u001b[32mscalars.\\n\\n    Return a copy of the array data as a \u001b[0m\u001b[32m(\u001b[0m\u001b[32mnested\u001b[0m\u001b[32m)\u001b[0m\u001b[32m Python list.\\n    Data items\u001b[0m \u001b[34m│\u001b[0m\n",
       "\u001b[34m│\u001b[0m                      \u001b[32mare converted to the nearest compatible builtin Python type, via\\n    the \u001b[0m                 \u001b[34m│\u001b[0m\n",
       "\u001b[34m│\u001b[0m                      \u001b[32m`~numpy.ndarray.item` function.\\n\\n    If ``a.ndim`` is 0, then since the depth of the \u001b[0m    \u001b[34m│\u001b[0m\n",
       "\u001b[34m│\u001b[0m                      \u001b[32mnested list is 0, it will\\n    not be a list at all, but a simple Python scalar.\\n\\n    \u001b[0m   \u001b[34m│\u001b[0m\n",
       "\u001b[34m│\u001b[0m                      \u001b[32mParameters\\n    ----------\\n    none\\n\\n    Returns\\n    -------\\n    y : object, or list \u001b[0m \u001b[34m│\u001b[0m\n",
       "\u001b[34m│\u001b[0m                      \u001b[32mof object, or list of list of object, or ...\\n        The possibly nested list of array \u001b[0m   \u001b[34m│\u001b[0m\n",
       "\u001b[34m│\u001b[0m                      \u001b[32melements.\\n\\n    Notes\\n    -----\\n    The array may be recreated via ``a = \u001b[0m               \u001b[34m│\u001b[0m\n",
       "\u001b[34m│\u001b[0m                      \u001b[32mnp.array\u001b[0m\u001b[32m(\u001b[0m\u001b[32ma.tolist\u001b[0m\u001b[32m(\u001b[0m\u001b[32m)\u001b[0m\u001b[32m)\u001b[0m\u001b[32m``, although this\\n    may sometimes lose precision.\\n\\n    Examples\\n\u001b[0m \u001b[34m│\u001b[0m\n",
       "\u001b[34m│\u001b[0m                      \u001b[32m--------\\n    For a 1D array, ``a.tolist\u001b[0m\u001b[32m(\u001b[0m\u001b[32m)\u001b[0m\u001b[32m`` is almost the same as ``list\u001b[0m\u001b[32m(\u001b[0m\u001b[32ma\u001b[0m\u001b[32m)\u001b[0m\u001b[32m``,\\n    \u001b[0m      \u001b[34m│\u001b[0m\n",
       "\u001b[34m│\u001b[0m                      \u001b[32mexcept that ``tolist`` changes numpy scalars to Python scalars:\\n\\n    >>> a = \u001b[0m            \u001b[34m│\u001b[0m\n",
       "\u001b[34m│\u001b[0m                      \u001b[32mnp.uint32\u001b[0m\u001b[32m(\u001b[0m\u001b[32m[\u001b[0m\u001b[32m1, 2\u001b[0m\u001b[32m]\u001b[0m\u001b[32m)\u001b[0m\u001b[32m\\n    >>> a_list = list\u001b[0m\u001b[32m(\u001b[0m\u001b[32ma\u001b[0m\u001b[32m)\u001b[0m\u001b[32m\\n    >>> a_list\\n    \u001b[0m\u001b[32m[\u001b[0m\u001b[32m1, 2\u001b[0m\u001b[32m]\u001b[0m\u001b[32m\\n    >>> \u001b[0m          \u001b[34m│\u001b[0m\n",
       "\u001b[34m│\u001b[0m                      \u001b[32mtype\u001b[0m\u001b[32m(\u001b[0m\u001b[32ma_list\u001b[0m\u001b[32m[\u001b[0m\u001b[32m0\u001b[0m\u001b[32m]\u001b[0m\u001b[32m)\u001b[0m\u001b[32m\\n    \u001b[0m\u001b[32m<\u001b[0m\u001b[32mclass\u001b[0m\u001b[32m 'numpy.uint32'\u001b[0m\u001b[32m>\u001b[0m\u001b[32m\\n    >>> a_tolist = a.tolist\u001b[0m\u001b[32m(\u001b[0m\u001b[32m)\u001b[0m\u001b[32m\\n    >>> \u001b[0m       \u001b[34m│\u001b[0m\n",
       "\u001b[34m│\u001b[0m                      \u001b[32ma_tolist\\n    \u001b[0m\u001b[32m[\u001b[0m\u001b[32m1, 2\u001b[0m\u001b[32m]\u001b[0m\u001b[32m\\n    >>> type\u001b[0m\u001b[32m(\u001b[0m\u001b[32ma_tolist\u001b[0m\u001b[32m[\u001b[0m\u001b[32m0\u001b[0m\u001b[32m]\u001b[0m\u001b[32m)\u001b[0m\u001b[32m\\n    \u001b[0m\u001b[32m<\u001b[0m\u001b[32mclass\u001b[0m\u001b[32m 'int'\u001b[0m\u001b[32m>\u001b[0m\u001b[32m\\n\\n    Additionally, \u001b[0m   \u001b[34m│\u001b[0m\n",
       "\u001b[34m│\u001b[0m                      \u001b[32mfor a 2D array, ``tolist`` applies recursively:\\n\\n    >>> a = np.array\u001b[0m\u001b[32m(\u001b[0m\u001b[32m[\u001b[0m\u001b[32m[\u001b[0m\u001b[32m1, 2\u001b[0m\u001b[32m]\u001b[0m\u001b[32m, \u001b[0m\u001b[32m[\u001b[0m\u001b[32m3, \u001b[0m      \u001b[34m│\u001b[0m\n",
       "\u001b[34m│\u001b[0m                      \u001b[32m4\u001b[0m\u001b[32m]\u001b[0m\u001b[32m]\u001b[0m\u001b[32m)\u001b[0m\u001b[32m\\n    >>> list\u001b[0m\u001b[32m(\u001b[0m\u001b[32ma\u001b[0m\u001b[32m)\u001b[0m\u001b[32m\\n    \u001b[0m\u001b[32m[\u001b[0m\u001b[32marray\u001b[0m\u001b[32m(\u001b[0m\u001b[32m[\u001b[0m\u001b[32m1, 2\u001b[0m\u001b[32m]\u001b[0m\u001b[32m)\u001b[0m\u001b[32m, array\u001b[0m\u001b[32m(\u001b[0m\u001b[32m[\u001b[0m\u001b[32m3, 4\u001b[0m\u001b[32m]\u001b[0m\u001b[32m)\u001b[0m\u001b[32m]\u001b[0m\u001b[32m\\n    >>> a.tolist\u001b[0m\u001b[32m(\u001b[0m\u001b[32m)\u001b[0m\u001b[32m\\n    \u001b[0m\u001b[32m[\u001b[0m\u001b[32m[\u001b[0m\u001b[32m1, \u001b[0m   \u001b[34m│\u001b[0m\n",
       "\u001b[34m│\u001b[0m                      \u001b[32m2\u001b[0m\u001b[32m]\u001b[0m\u001b[32m, \u001b[0m\u001b[32m[\u001b[0m\u001b[32m3, 4\u001b[0m\u001b[32m]\u001b[0m\u001b[32m]\u001b[0m\u001b[32m\\n\\n    The base case for this recursion is a 0D array:\\n\\n    >>> a = \u001b[0m         \u001b[34m│\u001b[0m\n",
       "\u001b[34m│\u001b[0m                      \u001b[32mnp.array\u001b[0m\u001b[32m(\u001b[0m\u001b[32m1\u001b[0m\u001b[32m)\u001b[0m\u001b[32m\\n    >>> list\u001b[0m\u001b[32m(\u001b[0m\u001b[32ma\u001b[0m\u001b[32m)\u001b[0m\u001b[32m\\n    Traceback \u001b[0m\u001b[32m(\u001b[0m\u001b[32mmost recent call last\u001b[0m\u001b[32m)\u001b[0m\u001b[32m:\\n      ...\\n    \u001b[0m      \u001b[34m│\u001b[0m\n",
       "\u001b[34m│\u001b[0m                      \u001b[32mTypeError: iteration over a 0-d array\\n    >>> a.tolist\u001b[0m\u001b[32m(\u001b[0m\u001b[32m)\u001b[0m\u001b[32m\\n    1\"\u001b[0m                          \u001b[34m│\u001b[0m\n",
       "\u001b[34m│\u001b[0m         \u001b[2;3;33m__module__\u001b[0m = \u001b[3;35mNone\u001b[0m                                                                                       \u001b[34m│\u001b[0m\n",
       "\u001b[34m│\u001b[0m           \u001b[2;3;33m__name__\u001b[0m = \u001b[32m'tolist'\u001b[0m                                                                                   \u001b[34m│\u001b[0m\n",
       "\u001b[34m│\u001b[0m       \u001b[2;3;33m__qualname__\u001b[0m = \u001b[32m'ndarray.tolist'\u001b[0m                                                                           \u001b[34m│\u001b[0m\n",
       "\u001b[34m│\u001b[0m           \u001b[2;3;33m__self__\u001b[0m = \u001b[1;35marray\u001b[0m\u001b[1m(\u001b[0m\u001b[1m[\u001b[0m\u001b[1m[\u001b[0m \u001b[1;36m1.76405235e+00\u001b[0m,  \u001b[1;36m4.00157208e-01\u001b[0m,  \u001b[1;36m9.78737984e-01\u001b[0m, \u001b[33m...\u001b[0m,                            \u001b[34m│\u001b[0m\n",
       "\u001b[34m│\u001b[0m                              \u001b[1;36m-2.05158264e-01\u001b[0m,  \u001b[1;36m3.13067702e-01\u001b[0m, \u001b[1;36m-8.54095739e-01\u001b[0m\u001b[1m]\u001b[0m,                                \u001b[34m│\u001b[0m\n",
       "\u001b[34m│\u001b[0m                             \u001b[1m[\u001b[0m\u001b[1;36m-2.55298982e+00\u001b[0m,  \u001b[1;36m6.53618595e-01\u001b[0m,  \u001b[1;36m8.64436199e-01\u001b[0m, \u001b[33m...\u001b[0m,                            \u001b[34m│\u001b[0m\n",
       "\u001b[34m│\u001b[0m                               \u001b[1;36m1.20237985e+00\u001b[0m, \u001b[1;36m-3.87326817e-01\u001b[0m, \u001b[1;36m-3.02302751e-01\u001b[0m\u001b[1m]\u001b[0m,                                \u001b[34m│\u001b[0m\n",
       "\u001b[34m│\u001b[0m                             \u001b[1m[\u001b[0m\u001b[1;36m-1.04855297e+00\u001b[0m, \u001b[1;36m-1.42001794e+00\u001b[0m, \u001b[1;36m-1.70627019e+00\u001b[0m, \u001b[33m...\u001b[0m,                            \u001b[34m│\u001b[0m\n",
       "\u001b[34m│\u001b[0m                               \u001b[1;36m3.02471898e-01\u001b[0m, \u001b[1;36m-6.34322094e-01\u001b[0m, \u001b[1;36m-3.62741166e-01\u001b[0m\u001b[1m]\u001b[0m,                                \u001b[34m│\u001b[0m\n",
       "\u001b[34m│\u001b[0m                             \u001b[33m...\u001b[0m,                                                                                \u001b[34m│\u001b[0m\n",
       "\u001b[34m│\u001b[0m                             \u001b[1m[\u001b[0m \u001b[1;36m8.73311836e-01\u001b[0m,  \u001b[1;36m1.19973618e+00\u001b[0m,  \u001b[1;36m4.56153036e-01\u001b[0m, \u001b[33m...\u001b[0m,                            \u001b[34m│\u001b[0m\n",
       "\u001b[34m│\u001b[0m                              \u001b[1;36m-1.24021634e+00\u001b[0m,  \u001b[1;36m9.00054243e-01\u001b[0m,  \u001b[1;36m1.80224223e+00\u001b[0m\u001b[1m]\u001b[0m,                                \u001b[34m│\u001b[0m\n",
       "\u001b[34m│\u001b[0m                             \u001b[1m[\u001b[0m\u001b[1;36m-2.08285103e-01\u001b[0m,  \u001b[1;36m1.57437124e+00\u001b[0m,  \u001b[1;36m1.98989494e-01\u001b[0m, \u001b[33m...\u001b[0m,                            \u001b[34m│\u001b[0m\n",
       "\u001b[34m│\u001b[0m                               \u001b[1;36m4.32837621e-01\u001b[0m, \u001b[1;36m-8.08717532e-01\u001b[0m, \u001b[1;36m-1.10412399e+00\u001b[0m\u001b[1m]\u001b[0m,                                \u001b[34m│\u001b[0m\n",
       "\u001b[34m│\u001b[0m                             \u001b[1m[\u001b[0m\u001b[1;36m-7.89102180e-01\u001b[0m,  \u001b[1;36m1.24845579e-03\u001b[0m, \u001b[1;36m-1.59939788e-01\u001b[0m, \u001b[33m...\u001b[0m,                            \u001b[34m│\u001b[0m\n",
       "\u001b[34m│\u001b[0m                               \u001b[1;36m1.58433847e-01\u001b[0m, \u001b[1;36m-1.14190142e+00\u001b[0m, \u001b[1;36m-1.31097037e+00\u001b[0m\u001b[1m]\u001b[0m\u001b[1m]\u001b[0m\u001b[1m)\u001b[0m                               \u001b[34m│\u001b[0m\n",
       "\u001b[34m│\u001b[0m \u001b[2;3;33m__text_signature__\u001b[0m = \u001b[3;35mNone\u001b[0m                                                                                       \u001b[34m│\u001b[0m\n",
       "\u001b[34m│\u001b[0m           \u001b[2;3;33m__call__\u001b[0m = \u001b[3;96mdef \u001b[0m\u001b[1;31m__call__\u001b[0m\u001b[1m(\u001b[0m*args, **kwargs\u001b[1m)\u001b[0m: \u001b[2mCall self as a function.\u001b[0m                                    \u001b[34m│\u001b[0m\n",
       "\u001b[34m│\u001b[0m          \u001b[2;3;33m__class__\u001b[0m = \u001b[3;96mclass \u001b[0m\u001b[1;31m__class__\u001b[0m\u001b[1m(\u001b[0m\u001b[1m)\u001b[0m:                                                                         \u001b[34m│\u001b[0m\n",
       "\u001b[34m│\u001b[0m        \u001b[2;3;33m__delattr__\u001b[0m = \u001b[3;96mdef \u001b[0m\u001b[1;31m__delattr__\u001b[0m\u001b[1m(\u001b[0mname, \u001b[35m/\u001b[0m\u001b[1m)\u001b[0m: \u001b[2mImplement \u001b[0m\u001b[1;2;35mdelattr\u001b[0m\u001b[1;2m(\u001b[0m\u001b[2mself, name\u001b[0m\u001b[1;2m)\u001b[0m\u001b[2m.\u001b[0m                                   \u001b[34m│\u001b[0m\n",
       "\u001b[34m│\u001b[0m            \u001b[2;3;33m__dir__\u001b[0m = \u001b[3;96mdef \u001b[0m\u001b[1;31m__dir__\u001b[0m\u001b[1m(\u001b[0m\u001b[1m)\u001b[0m: \u001b[2mDefault \u001b[0m\u001b[1;2;35mdir\u001b[0m\u001b[1;2m(\u001b[0m\u001b[1;2m)\u001b[0m\u001b[2m implementation.\u001b[0m                                               \u001b[34m│\u001b[0m\n",
       "\u001b[34m│\u001b[0m             \u001b[2;3;33m__eq__\u001b[0m = \u001b[3;96mdef \u001b[0m\u001b[1;31m__eq__\u001b[0m\u001b[1m(\u001b[0mvalue, \u001b[35m/\u001b[0m\u001b[1m)\u001b[0m: \u001b[2mReturn \u001b[0m\u001b[2;33mself\u001b[0m\u001b[2m==value.\u001b[0m                                                  \u001b[34m│\u001b[0m\n",
       "\u001b[34m│\u001b[0m         \u001b[2;3;33m__format__\u001b[0m = \u001b[3;96mdef \u001b[0m\u001b[1;31m__format__\u001b[0m\u001b[1m(\u001b[0mformat_spec, \u001b[35m/\u001b[0m\u001b[1m)\u001b[0m: \u001b[2mDefault object formatter.\u001b[0m                                  \u001b[34m│\u001b[0m\n",
       "\u001b[34m│\u001b[0m             \u001b[2;3;33m__ge__\u001b[0m = \u001b[3;96mdef \u001b[0m\u001b[1;31m__ge__\u001b[0m\u001b[1m(\u001b[0mvalue, \u001b[35m/\u001b[0m\u001b[1m)\u001b[0m: \u001b[2mReturn self>=value.\u001b[0m                                                  \u001b[34m│\u001b[0m\n",
       "\u001b[34m│\u001b[0m   \u001b[2;3;33m__getattribute__\u001b[0m = \u001b[3;96mdef \u001b[0m\u001b[1;31m__getattribute__\u001b[0m\u001b[1m(\u001b[0mname, \u001b[35m/\u001b[0m\u001b[1m)\u001b[0m: \u001b[2mReturn \u001b[0m\u001b[1;2;35mgetattr\u001b[0m\u001b[1;2m(\u001b[0m\u001b[2mself, name\u001b[0m\u001b[1;2m)\u001b[0m\u001b[2m.\u001b[0m                                 \u001b[34m│\u001b[0m\n",
       "\u001b[34m│\u001b[0m             \u001b[2;3;33m__gt__\u001b[0m = \u001b[3;96mdef \u001b[0m\u001b[1;31m__gt__\u001b[0m\u001b[1m(\u001b[0mvalue, \u001b[35m/\u001b[0m\u001b[1m)\u001b[0m: \u001b[2mReturn self>value.\u001b[0m                                                   \u001b[34m│\u001b[0m\n",
       "\u001b[34m│\u001b[0m           \u001b[2;3;33m__hash__\u001b[0m = \u001b[3;96mdef \u001b[0m\u001b[1;31m__hash__\u001b[0m\u001b[1m(\u001b[0m\u001b[1m)\u001b[0m: \u001b[2mReturn \u001b[0m\u001b[1;2;35mhash\u001b[0m\u001b[1;2m(\u001b[0m\u001b[2mself\u001b[0m\u001b[1;2m)\u001b[0m\u001b[2m.\u001b[0m                                                         \u001b[34m│\u001b[0m\n",
       "\u001b[34m│\u001b[0m           \u001b[2;3;33m__init__\u001b[0m = \u001b[3;96mdef \u001b[0m\u001b[1;31m__init__\u001b[0m\u001b[1m(\u001b[0m*args, **kwargs\u001b[1m)\u001b[0m: \u001b[2mInitialize self.  See \u001b[0m\u001b[1;2;35mhelp\u001b[0m\u001b[1;2m(\u001b[0m\u001b[1;2;35mtype\u001b[0m\u001b[1;2m(\u001b[0m\u001b[2mself\u001b[0m\u001b[1;2m)\u001b[0m\u001b[1;2m)\u001b[0m\u001b[2m for accurate \u001b[0m        \u001b[34m│\u001b[0m\n",
       "\u001b[34m│\u001b[0m                      \u001b[2msignature.\u001b[0m                                                                                 \u001b[34m│\u001b[0m\n",
       "\u001b[34m│\u001b[0m  \u001b[2;3;33m__init_subclass__\u001b[0m = \u001b[3;96mdef \u001b[0m\u001b[1;31m__init_subclass__\u001b[0m\u001b[1m(\u001b[0m\u001b[33m...\u001b[0m\u001b[1m)\u001b[0m \u001b[2mThis method is called when a class is subclassed.\u001b[0m               \u001b[34m│\u001b[0m\n",
       "\u001b[34m│\u001b[0m             \u001b[2;3;33m__le__\u001b[0m = \u001b[3;96mdef \u001b[0m\u001b[1;31m__le__\u001b[0m\u001b[1m(\u001b[0mvalue, \u001b[35m/\u001b[0m\u001b[1m)\u001b[0m: \u001b[2mReturn self<=value.\u001b[0m                                                  \u001b[34m│\u001b[0m\n",
       "\u001b[34m│\u001b[0m             \u001b[2;3;33m__lt__\u001b[0m = \u001b[3;96mdef \u001b[0m\u001b[1;31m__lt__\u001b[0m\u001b[1m(\u001b[0mvalue, \u001b[35m/\u001b[0m\u001b[1m)\u001b[0m: \u001b[2mReturn self<value.\u001b[0m                                                   \u001b[34m│\u001b[0m\n",
       "\u001b[34m│\u001b[0m             \u001b[2;3;33m__ne__\u001b[0m = \u001b[3;96mdef \u001b[0m\u001b[1;31m__ne__\u001b[0m\u001b[1m(\u001b[0mvalue, \u001b[35m/\u001b[0m\u001b[1m)\u001b[0m: \u001b[2mReturn self!=value.\u001b[0m                                                  \u001b[34m│\u001b[0m\n",
       "\u001b[34m│\u001b[0m            \u001b[2;3;33m__new__\u001b[0m = \u001b[3;96mdef \u001b[0m\u001b[1;31m__new__\u001b[0m\u001b[1m(\u001b[0m*args, **kwargs\u001b[1m)\u001b[0m: \u001b[2mCreate and return a new object.  See \u001b[0m\u001b[1;2;35mhelp\u001b[0m\u001b[1;2m(\u001b[0m\u001b[2mtype\u001b[0m\u001b[1;2m)\u001b[0m\u001b[2m for accurate\u001b[0m \u001b[34m│\u001b[0m\n",
       "\u001b[34m│\u001b[0m                      \u001b[2msignature.\u001b[0m                                                                                 \u001b[34m│\u001b[0m\n",
       "\u001b[34m│\u001b[0m         \u001b[2;3;33m__reduce__\u001b[0m = \u001b[3;96mdef \u001b[0m\u001b[1;31m__reduce__\u001b[0m\u001b[1m(\u001b[0m\u001b[33m...\u001b[0m\u001b[1m)\u001b[0m \u001b[2mHelper for pickle.\u001b[0m                                                     \u001b[34m│\u001b[0m\n",
       "\u001b[34m│\u001b[0m      \u001b[2;3;33m__reduce_ex__\u001b[0m = \u001b[3;96mdef \u001b[0m\u001b[1;31m__reduce_ex__\u001b[0m\u001b[1m(\u001b[0mprotocol, \u001b[35m/\u001b[0m\u001b[1m)\u001b[0m: \u001b[2mHelper for pickle.\u001b[0m                                         \u001b[34m│\u001b[0m\n",
       "\u001b[34m│\u001b[0m           \u001b[2;3;33m__repr__\u001b[0m = \u001b[3;96mdef \u001b[0m\u001b[1;31m__repr__\u001b[0m\u001b[1m(\u001b[0m\u001b[1m)\u001b[0m: \u001b[2mReturn \u001b[0m\u001b[1;2;35mrepr\u001b[0m\u001b[1;2m(\u001b[0m\u001b[2mself\u001b[0m\u001b[1;2m)\u001b[0m\u001b[2m.\u001b[0m                                                         \u001b[34m│\u001b[0m\n",
       "\u001b[34m│\u001b[0m        \u001b[2;3;33m__setattr__\u001b[0m = \u001b[3;96mdef \u001b[0m\u001b[1;31m__setattr__\u001b[0m\u001b[1m(\u001b[0mname, value, \u001b[35m/\u001b[0m\u001b[1m)\u001b[0m: \u001b[2mImplement \u001b[0m\u001b[1;2;35msetattr\u001b[0m\u001b[1;2m(\u001b[0m\u001b[2mself, name, value\u001b[0m\u001b[1;2m)\u001b[0m\u001b[2m.\u001b[0m                     \u001b[34m│\u001b[0m\n",
       "\u001b[34m│\u001b[0m         \u001b[2;3;33m__sizeof__\u001b[0m = \u001b[3;96mdef \u001b[0m\u001b[1;31m__sizeof__\u001b[0m\u001b[1m(\u001b[0m\u001b[1m)\u001b[0m: \u001b[2mSize of object in memory, in bytes.\u001b[0m                                      \u001b[34m│\u001b[0m\n",
       "\u001b[34m│\u001b[0m            \u001b[2;3;33m__str__\u001b[0m = \u001b[3;96mdef \u001b[0m\u001b[1;31m__str__\u001b[0m\u001b[1m(\u001b[0m\u001b[1m)\u001b[0m: \u001b[2mReturn \u001b[0m\u001b[1;2;35mstr\u001b[0m\u001b[1;2m(\u001b[0m\u001b[2mself\u001b[0m\u001b[1;2m)\u001b[0m\u001b[2m.\u001b[0m                                                           \u001b[34m│\u001b[0m\n",
       "\u001b[34m│\u001b[0m   \u001b[2;3;33m__subclasshook__\u001b[0m = \u001b[3;96mdef \u001b[0m\u001b[1;31m__subclasshook__\u001b[0m\u001b[1m(\u001b[0m\u001b[33m...\u001b[0m\u001b[1m)\u001b[0m \u001b[2mAbstract classes can override this to customize \u001b[0m\u001b[1;2;35missubclass\u001b[0m\u001b[1;2m(\u001b[0m\u001b[1;2m)\u001b[0m\u001b[2m.\u001b[0m    \u001b[34m│\u001b[0m\n",
       "\u001b[34m╰─────────────────────────────────────────────────────────────────────────────────────────────────────────────────╯\u001b[0m\n"
      ]
     },
     "metadata": {},
     "output_type": "display_data"
    }
   ],
   "source": [
    "import rich\n",
    "rich.inspect(a.tolist, methods=True, all=True)"
   ]
  },
  {
   "cell_type": "code",
   "execution_count": null,
   "id": "ccf17c43",
   "metadata": {},
   "outputs": [],
   "source": [
    "lambda x: np.power(x, 3)\n",
    "\n",
    "\n",
    "def f(x):\n",
    "    return np.power(x, 3)"
   ]
  },
  {
   "cell_type": "code",
   "execution_count": 53,
   "id": "f8a5693f",
   "metadata": {},
   "outputs": [],
   "source": [
    "d = {\n",
    "    r\"$\\sin(x)$\": np.sin,\n",
    "    r\"$\\log(x)$\": np.log,\n",
    "    r\"$\\frac{sin(x)}{x}$\": lambda x: np.sin(x) / x,\n",
    "    r\"$x^3$\": lambda x: np.power(x, 3),\n",
    "}"
   ]
  },
  {
   "cell_type": "code",
   "execution_count": 54,
   "id": "025c31fe",
   "metadata": {},
   "outputs": [
    {
     "data": {
      "text/plain": [
       "{'$\\\\sin(x)$': <ufunc 'sin'>,\n",
       " '$\\\\log(x)$': <ufunc 'log'>,\n",
       " '$\\\\frac{sin(x)}{x}$': <function __main__.<lambda>(x)>,\n",
       " '$x^3$': <function __main__.<lambda>(x)>}"
      ]
     },
     "execution_count": 54,
     "metadata": {},
     "output_type": "execute_result"
    }
   ],
   "source": [
    "d"
   ]
  },
  {
   "cell_type": "code",
   "execution_count": 55,
   "id": "bdf038fd",
   "metadata": {},
   "outputs": [],
   "source": [
    "x = np.arange(0.005, 10.0, 0.005)"
   ]
  },
  {
   "cell_type": "code",
   "execution_count": 56,
   "id": "611faf80",
   "metadata": {},
   "outputs": [],
   "source": [
    "e = {k: v(x) for k, v in d.items()}"
   ]
  },
  {
   "cell_type": "code",
   "execution_count": 57,
   "id": "a92cdcb0",
   "metadata": {},
   "outputs": [
    {
     "data": {
      "text/plain": [
       "{'$\\\\sin(x)$': array([ 0.00499998,  0.00999983,  0.01499944, ..., -0.53137431,\n",
       "        -0.53560333, -0.53981897]),\n",
       " '$\\\\log(x)$': array([-5.29831737, -4.60517019, -4.19970508, ...,  2.30108397,\n",
       "         2.30158459,  2.30208497]),\n",
       " '$\\\\frac{sin(x)}{x}$': array([ 0.99999583,  0.99998333,  0.9999625 , ..., -0.05321726,\n",
       "        -0.05361395, -0.0540089 ]),\n",
       " '$x^3$': array([1.25000000e-07, 1.00000000e-06, 3.37500000e-06, ...,\n",
       "        9.95506747e+02, 9.97002999e+02, 9.98500750e+02])}"
      ]
     },
     "execution_count": 57,
     "metadata": {},
     "output_type": "execute_result"
    }
   ],
   "source": [
    "e"
   ]
  },
  {
   "cell_type": "code",
   "execution_count": 58,
   "id": "2ff4c7fa",
   "metadata": {},
   "outputs": [],
   "source": [
    "df = pd.DataFrame(e, index=x)"
   ]
  },
  {
   "cell_type": "code",
   "execution_count": 59,
   "id": "86a8e392",
   "metadata": {},
   "outputs": [
    {
     "data": {
      "text/html": [
       "<div>\n",
       "<style scoped>\n",
       "    .dataframe tbody tr th:only-of-type {\n",
       "        vertical-align: middle;\n",
       "    }\n",
       "\n",
       "    .dataframe tbody tr th {\n",
       "        vertical-align: top;\n",
       "    }\n",
       "\n",
       "    .dataframe thead th {\n",
       "        text-align: right;\n",
       "    }\n",
       "</style>\n",
       "<table border=\"1\" class=\"dataframe\">\n",
       "  <thead>\n",
       "    <tr style=\"text-align: right;\">\n",
       "      <th></th>\n",
       "      <th>$\\sin(x)$</th>\n",
       "      <th>$\\log(x)$</th>\n",
       "      <th>$\\frac{sin(x)}{x}$</th>\n",
       "      <th>$x^3$</th>\n",
       "    </tr>\n",
       "  </thead>\n",
       "  <tbody>\n",
       "    <tr>\n",
       "      <th>0.005</th>\n",
       "      <td>0.005000</td>\n",
       "      <td>-5.298317</td>\n",
       "      <td>0.999996</td>\n",
       "      <td>1.250000e-07</td>\n",
       "    </tr>\n",
       "    <tr>\n",
       "      <th>0.010</th>\n",
       "      <td>0.010000</td>\n",
       "      <td>-4.605170</td>\n",
       "      <td>0.999983</td>\n",
       "      <td>1.000000e-06</td>\n",
       "    </tr>\n",
       "    <tr>\n",
       "      <th>0.015</th>\n",
       "      <td>0.014999</td>\n",
       "      <td>-4.199705</td>\n",
       "      <td>0.999963</td>\n",
       "      <td>3.375000e-06</td>\n",
       "    </tr>\n",
       "    <tr>\n",
       "      <th>0.020</th>\n",
       "      <td>0.019999</td>\n",
       "      <td>-3.912023</td>\n",
       "      <td>0.999933</td>\n",
       "      <td>8.000000e-06</td>\n",
       "    </tr>\n",
       "    <tr>\n",
       "      <th>0.025</th>\n",
       "      <td>0.024997</td>\n",
       "      <td>-3.688879</td>\n",
       "      <td>0.999896</td>\n",
       "      <td>1.562500e-05</td>\n",
       "    </tr>\n",
       "    <tr>\n",
       "      <th>...</th>\n",
       "      <td>...</td>\n",
       "      <td>...</td>\n",
       "      <td>...</td>\n",
       "      <td>...</td>\n",
       "    </tr>\n",
       "    <tr>\n",
       "      <th>9.975</th>\n",
       "      <td>-0.522877</td>\n",
       "      <td>2.300082</td>\n",
       "      <td>-0.052419</td>\n",
       "      <td>9.925187e+02</td>\n",
       "    </tr>\n",
       "    <tr>\n",
       "      <th>9.980</th>\n",
       "      <td>-0.527132</td>\n",
       "      <td>2.300583</td>\n",
       "      <td>-0.052819</td>\n",
       "      <td>9.940120e+02</td>\n",
       "    </tr>\n",
       "    <tr>\n",
       "      <th>9.985</th>\n",
       "      <td>-0.531374</td>\n",
       "      <td>2.301084</td>\n",
       "      <td>-0.053217</td>\n",
       "      <td>9.955067e+02</td>\n",
       "    </tr>\n",
       "    <tr>\n",
       "      <th>9.990</th>\n",
       "      <td>-0.535603</td>\n",
       "      <td>2.301585</td>\n",
       "      <td>-0.053614</td>\n",
       "      <td>9.970030e+02</td>\n",
       "    </tr>\n",
       "    <tr>\n",
       "      <th>9.995</th>\n",
       "      <td>-0.539819</td>\n",
       "      <td>2.302085</td>\n",
       "      <td>-0.054009</td>\n",
       "      <td>9.985007e+02</td>\n",
       "    </tr>\n",
       "  </tbody>\n",
       "</table>\n",
       "<p>1999 rows × 4 columns</p>\n",
       "</div>"
      ],
      "text/plain": [
       "       $\\sin(x)$  $\\log(x)$  $\\frac{sin(x)}{x}$         $x^3$\n",
       "0.005   0.005000  -5.298317            0.999996  1.250000e-07\n",
       "0.010   0.010000  -4.605170            0.999983  1.000000e-06\n",
       "0.015   0.014999  -4.199705            0.999963  3.375000e-06\n",
       "0.020   0.019999  -3.912023            0.999933  8.000000e-06\n",
       "0.025   0.024997  -3.688879            0.999896  1.562500e-05\n",
       "...          ...        ...                 ...           ...\n",
       "9.975  -0.522877   2.300082           -0.052419  9.925187e+02\n",
       "9.980  -0.527132   2.300583           -0.052819  9.940120e+02\n",
       "9.985  -0.531374   2.301084           -0.053217  9.955067e+02\n",
       "9.990  -0.535603   2.301585           -0.053614  9.970030e+02\n",
       "9.995  -0.539819   2.302085           -0.054009  9.985007e+02\n",
       "\n",
       "[1999 rows x 4 columns]"
      ]
     },
     "execution_count": 59,
     "metadata": {},
     "output_type": "execute_result"
    }
   ],
   "source": [
    "df"
   ]
  },
  {
   "cell_type": "code",
   "execution_count": 64,
   "id": "2d3e8b23",
   "metadata": {},
   "outputs": [
    {
     "data": {
      "text/plain": [
       "<AxesSubplot:>"
      ]
     },
     "execution_count": 64,
     "metadata": {},
     "output_type": "execute_result"
    },
    {
     "data": {
      "image/png": "[encoded data removed]",
      "text/plain": [
       "<Figure size 432x288 with 1 Axes>"
      ]
     },
     "metadata": {
      "image/png": {
       "height": 248,
       "width": 381
      },
      "needs_background": "light"
     },
     "output_type": "display_data"
    }
   ],
   "source": [
    "df.plot()"
   ]
  },
  {
   "cell_type": "code",
   "execution_count": 63,
   "id": "ca4df2fe",
   "metadata": {},
   "outputs": [
    {
     "data": {
      "text/plain": [
       "array([<AxesSubplot:>, <AxesSubplot:>, <AxesSubplot:>, <AxesSubplot:>],\n",
       "      dtype=object)"
      ]
     },
     "execution_count": 63,
     "metadata": {},
     "output_type": "execute_result"
    },
    {
     "data": {
      "image/png": "[encoded data removed]",
      "text/plain": [
       "<Figure size 432x288 with 4 Axes>"
      ]
     },
     "metadata": {
      "image/png": {
       "height": 249,
       "width": 381
      },
      "needs_background": "light"
     },
     "output_type": "display_data"
    }
   ],
   "source": [
    "df.plot(subplots=True)"
   ]
  },
  {
   "cell_type": "code",
   "execution_count": 46,
   "id": "0195d314",
   "metadata": {},
   "outputs": [
    {
     "data": {
      "text/html": [
       "<div>\n",
       "<style scoped>\n",
       "    .dataframe tbody tr th:only-of-type {\n",
       "        vertical-align: middle;\n",
       "    }\n",
       "\n",
       "    .dataframe tbody tr th {\n",
       "        vertical-align: top;\n",
       "    }\n",
       "\n",
       "    .dataframe thead th {\n",
       "        text-align: right;\n",
       "    }\n",
       "</style>\n",
       "<table border=\"1\" class=\"dataframe\">\n",
       "  <thead>\n",
       "    <tr style=\"text-align: right;\">\n",
       "      <th></th>\n",
       "      <th>$\\sin$</th>\n",
       "      <th>log</th>\n",
       "      <th>$\\frac{sin(x)}{x}$</th>\n",
       "      <th>x^3</th>\n",
       "    </tr>\n",
       "  </thead>\n",
       "  <tbody>\n",
       "    <tr>\n",
       "      <th>0.005</th>\n",
       "      <td>0.005000</td>\n",
       "      <td>-5.298317</td>\n",
       "      <td>0.999996</td>\n",
       "      <td>1.250000e-07</td>\n",
       "    </tr>\n",
       "    <tr>\n",
       "      <th>0.010</th>\n",
       "      <td>0.010000</td>\n",
       "      <td>-4.605170</td>\n",
       "      <td>0.999983</td>\n",
       "      <td>1.000000e-06</td>\n",
       "    </tr>\n",
       "    <tr>\n",
       "      <th>0.015</th>\n",
       "      <td>0.014999</td>\n",
       "      <td>-4.199705</td>\n",
       "      <td>0.999963</td>\n",
       "      <td>3.375000e-06</td>\n",
       "    </tr>\n",
       "    <tr>\n",
       "      <th>0.020</th>\n",
       "      <td>0.019999</td>\n",
       "      <td>-3.912023</td>\n",
       "      <td>0.999933</td>\n",
       "      <td>8.000000e-06</td>\n",
       "    </tr>\n",
       "    <tr>\n",
       "      <th>0.025</th>\n",
       "      <td>0.024997</td>\n",
       "      <td>-3.688879</td>\n",
       "      <td>0.999896</td>\n",
       "      <td>1.562500e-05</td>\n",
       "    </tr>\n",
       "    <tr>\n",
       "      <th>...</th>\n",
       "      <td>...</td>\n",
       "      <td>...</td>\n",
       "      <td>...</td>\n",
       "      <td>...</td>\n",
       "    </tr>\n",
       "    <tr>\n",
       "      <th>9.975</th>\n",
       "      <td>-0.522877</td>\n",
       "      <td>2.300082</td>\n",
       "      <td>-0.052419</td>\n",
       "      <td>9.925187e+02</td>\n",
       "    </tr>\n",
       "    <tr>\n",
       "      <th>9.980</th>\n",
       "      <td>-0.527132</td>\n",
       "      <td>2.300583</td>\n",
       "      <td>-0.052819</td>\n",
       "      <td>9.940120e+02</td>\n",
       "    </tr>\n",
       "    <tr>\n",
       "      <th>9.985</th>\n",
       "      <td>-0.531374</td>\n",
       "      <td>2.301084</td>\n",
       "      <td>-0.053217</td>\n",
       "      <td>9.955067e+02</td>\n",
       "    </tr>\n",
       "    <tr>\n",
       "      <th>9.990</th>\n",
       "      <td>-0.535603</td>\n",
       "      <td>2.301585</td>\n",
       "      <td>-0.053614</td>\n",
       "      <td>9.970030e+02</td>\n",
       "    </tr>\n",
       "    <tr>\n",
       "      <th>9.995</th>\n",
       "      <td>-0.539819</td>\n",
       "      <td>2.302085</td>\n",
       "      <td>-0.054009</td>\n",
       "      <td>9.985007e+02</td>\n",
       "    </tr>\n",
       "  </tbody>\n",
       "</table>\n",
       "<p>1999 rows × 4 columns</p>\n",
       "</div>"
      ],
      "text/plain": [
       "         $\\sin$       log  $\\frac{sin(x)}{x}$           x^3\n",
       "0.005  0.005000 -5.298317            0.999996  1.250000e-07\n",
       "0.010  0.010000 -4.605170            0.999983  1.000000e-06\n",
       "0.015  0.014999 -4.199705            0.999963  3.375000e-06\n",
       "0.020  0.019999 -3.912023            0.999933  8.000000e-06\n",
       "0.025  0.024997 -3.688879            0.999896  1.562500e-05\n",
       "...         ...       ...                 ...           ...\n",
       "9.975 -0.522877  2.300082           -0.052419  9.925187e+02\n",
       "9.980 -0.527132  2.300583           -0.052819  9.940120e+02\n",
       "9.985 -0.531374  2.301084           -0.053217  9.955067e+02\n",
       "9.990 -0.535603  2.301585           -0.053614  9.970030e+02\n",
       "9.995 -0.539819  2.302085           -0.054009  9.985007e+02\n",
       "\n",
       "[1999 rows x 4 columns]"
      ]
     },
     "execution_count": 46,
     "metadata": {},
     "output_type": "execute_result"
    }
   ],
   "source": [
    "df"
   ]
  },
  {
   "cell_type": "code",
   "execution_count": 65,
   "id": "dd3f9ac3",
   "metadata": {},
   "outputs": [
    {
     "data": {
      "text/plain": [
       "<AxesSubplot:>"
      ]
     },
     "execution_count": 65,
     "metadata": {},
     "output_type": "execute_result"
    },
    {
     "data": {
      "image/png": "[encoded data removed]",
      "text/plain": [
       "<Figure size 432x288 with 1 Axes>"
      ]
     },
     "metadata": {
      "image/png": {
       "height": 248,
       "width": 372
      },
      "needs_background": "light"
     },
     "output_type": "display_data"
    }
   ],
   "source": [
    "((df - df.min(axis=0)) / (df.max(axis=0) - df.min(axis=0))).plot()"
   ]
  },
  {
   "cell_type": "code",
   "execution_count": 66,
   "id": "b0081b2b",
   "metadata": {},
   "outputs": [
    {
     "data": {
      "text/html": [
       "<div>\n",
       "<style scoped>\n",
       "    .dataframe tbody tr th:only-of-type {\n",
       "        vertical-align: middle;\n",
       "    }\n",
       "\n",
       "    .dataframe tbody tr th {\n",
       "        vertical-align: top;\n",
       "    }\n",
       "\n",
       "    .dataframe thead th {\n",
       "        text-align: right;\n",
       "    }\n",
       "</style>\n",
       "<table border=\"1\" class=\"dataframe\">\n",
       "  <thead>\n",
       "    <tr style=\"text-align: right;\">\n",
       "      <th></th>\n",
       "      <th>a</th>\n",
       "      <th>b</th>\n",
       "      <th>c</th>\n",
       "      <th>d</th>\n",
       "      <th>e</th>\n",
       "    </tr>\n",
       "  </thead>\n",
       "  <tbody>\n",
       "    <tr>\n",
       "      <th>0</th>\n",
       "      <td>1.593274</td>\n",
       "      <td>0.568722</td>\n",
       "      <td>-0.114487</td>\n",
       "      <td>0.251630</td>\n",
       "      <td>-1.210856</td>\n",
       "    </tr>\n",
       "    <tr>\n",
       "      <th>1</th>\n",
       "      <td>-0.393734</td>\n",
       "      <td>0.085253</td>\n",
       "      <td>0.099422</td>\n",
       "      <td>-1.530616</td>\n",
       "      <td>0.327623</td>\n",
       "    </tr>\n",
       "    <tr>\n",
       "      <th>2</th>\n",
       "      <td>0.279196</td>\n",
       "      <td>-0.377051</td>\n",
       "      <td>0.004175</td>\n",
       "      <td>-1.483492</td>\n",
       "      <td>-1.479796</td>\n",
       "    </tr>\n",
       "    <tr>\n",
       "      <th>3</th>\n",
       "      <td>0.134687</td>\n",
       "      <td>-0.667723</td>\n",
       "      <td>-0.011556</td>\n",
       "      <td>0.839491</td>\n",
       "      <td>-0.173930</td>\n",
       "    </tr>\n",
       "    <tr>\n",
       "      <th>4</th>\n",
       "      <td>-2.810668</td>\n",
       "      <td>-0.150654</td>\n",
       "      <td>-0.481044</td>\n",
       "      <td>-0.234694</td>\n",
       "      <td>0.899731</td>\n",
       "    </tr>\n",
       "    <tr>\n",
       "      <th>...</th>\n",
       "      <td>...</td>\n",
       "      <td>...</td>\n",
       "      <td>...</td>\n",
       "      <td>...</td>\n",
       "      <td>...</td>\n",
       "    </tr>\n",
       "    <tr>\n",
       "      <th>995</th>\n",
       "      <td>-0.837658</td>\n",
       "      <td>1.315288</td>\n",
       "      <td>-0.364523</td>\n",
       "      <td>1.993571</td>\n",
       "      <td>1.584878</td>\n",
       "    </tr>\n",
       "    <tr>\n",
       "      <th>996</th>\n",
       "      <td>-2.104663</td>\n",
       "      <td>-2.553118</td>\n",
       "      <td>-1.242666</td>\n",
       "      <td>0.201987</td>\n",
       "      <td>-0.305332</td>\n",
       "    </tr>\n",
       "    <tr>\n",
       "      <th>997</th>\n",
       "      <td>-1.195587</td>\n",
       "      <td>-1.577903</td>\n",
       "      <td>0.849912</td>\n",
       "      <td>0.327590</td>\n",
       "      <td>-0.001670</td>\n",
       "    </tr>\n",
       "    <tr>\n",
       "      <th>998</th>\n",
       "      <td>-0.035563</td>\n",
       "      <td>-0.489252</td>\n",
       "      <td>1.930498</td>\n",
       "      <td>-0.262645</td>\n",
       "      <td>0.825932</td>\n",
       "    </tr>\n",
       "    <tr>\n",
       "      <th>999</th>\n",
       "      <td>-0.643267</td>\n",
       "      <td>-0.828981</td>\n",
       "      <td>-0.202735</td>\n",
       "      <td>-0.257866</td>\n",
       "      <td>0.070815</td>\n",
       "    </tr>\n",
       "  </tbody>\n",
       "</table>\n",
       "<p>1000 rows × 5 columns</p>\n",
       "</div>"
      ],
      "text/plain": [
       "            a         b         c         d         e\n",
       "0    1.593274  0.568722 -0.114487  0.251630 -1.210856\n",
       "1   -0.393734  0.085253  0.099422 -1.530616  0.327623\n",
       "2    0.279196 -0.377051  0.004175 -1.483492 -1.479796\n",
       "3    0.134687 -0.667723 -0.011556  0.839491 -0.173930\n",
       "4   -2.810668 -0.150654 -0.481044 -0.234694  0.899731\n",
       "..        ...       ...       ...       ...       ...\n",
       "995 -0.837658  1.315288 -0.364523  1.993571  1.584878\n",
       "996 -2.104663 -2.553118 -1.242666  0.201987 -0.305332\n",
       "997 -1.195587 -1.577903  0.849912  0.327590 -0.001670\n",
       "998 -0.035563 -0.489252  1.930498 -0.262645  0.825932\n",
       "999 -0.643267 -0.828981 -0.202735 -0.257866  0.070815\n",
       "\n",
       "[1000 rows x 5 columns]"
      ]
     },
     "execution_count": 66,
     "metadata": {},
     "output_type": "execute_result"
    }
   ],
   "source": [
    "df = pd.DataFrame(np.random.randn(1000, 5),\n",
    "                  columns=\"a,b,c,d,e\".split(\",\"))\n",
    "df"
   ]
  },
  {
   "cell_type": "code",
   "execution_count": 67,
   "id": "adc88a7d",
   "metadata": {},
   "outputs": [],
   "source": [
    "df = df.assign(f=df.sum(axis=1))"
   ]
  },
  {
   "cell_type": "code",
   "execution_count": 68,
   "id": "5cb4d055",
   "metadata": {},
   "outputs": [
    {
     "data": {
      "text/html": [
       "<div>\n",
       "<style scoped>\n",
       "    .dataframe tbody tr th:only-of-type {\n",
       "        vertical-align: middle;\n",
       "    }\n",
       "\n",
       "    .dataframe tbody tr th {\n",
       "        vertical-align: top;\n",
       "    }\n",
       "\n",
       "    .dataframe thead th {\n",
       "        text-align: right;\n",
       "    }\n",
       "</style>\n",
       "<table border=\"1\" class=\"dataframe\">\n",
       "  <thead>\n",
       "    <tr style=\"text-align: right;\">\n",
       "      <th></th>\n",
       "      <th>a</th>\n",
       "      <th>b</th>\n",
       "      <th>c</th>\n",
       "      <th>d</th>\n",
       "      <th>e</th>\n",
       "      <th>f</th>\n",
       "    </tr>\n",
       "  </thead>\n",
       "  <tbody>\n",
       "    <tr>\n",
       "      <th>0</th>\n",
       "      <td>1.593274</td>\n",
       "      <td>0.568722</td>\n",
       "      <td>-0.114487</td>\n",
       "      <td>0.251630</td>\n",
       "      <td>-1.210856</td>\n",
       "      <td>1.088284</td>\n",
       "    </tr>\n",
       "    <tr>\n",
       "      <th>1</th>\n",
       "      <td>-0.393734</td>\n",
       "      <td>0.085253</td>\n",
       "      <td>0.099422</td>\n",
       "      <td>-1.530616</td>\n",
       "      <td>0.327623</td>\n",
       "      <td>-1.412052</td>\n",
       "    </tr>\n",
       "    <tr>\n",
       "      <th>2</th>\n",
       "      <td>0.279196</td>\n",
       "      <td>-0.377051</td>\n",
       "      <td>0.004175</td>\n",
       "      <td>-1.483492</td>\n",
       "      <td>-1.479796</td>\n",
       "      <td>-3.056967</td>\n",
       "    </tr>\n",
       "    <tr>\n",
       "      <th>3</th>\n",
       "      <td>0.134687</td>\n",
       "      <td>-0.667723</td>\n",
       "      <td>-0.011556</td>\n",
       "      <td>0.839491</td>\n",
       "      <td>-0.173930</td>\n",
       "      <td>0.120969</td>\n",
       "    </tr>\n",
       "    <tr>\n",
       "      <th>4</th>\n",
       "      <td>-2.810668</td>\n",
       "      <td>-0.150654</td>\n",
       "      <td>-0.481044</td>\n",
       "      <td>-0.234694</td>\n",
       "      <td>0.899731</td>\n",
       "      <td>-2.777329</td>\n",
       "    </tr>\n",
       "    <tr>\n",
       "      <th>...</th>\n",
       "      <td>...</td>\n",
       "      <td>...</td>\n",
       "      <td>...</td>\n",
       "      <td>...</td>\n",
       "      <td>...</td>\n",
       "      <td>...</td>\n",
       "    </tr>\n",
       "    <tr>\n",
       "      <th>995</th>\n",
       "      <td>-0.837658</td>\n",
       "      <td>1.315288</td>\n",
       "      <td>-0.364523</td>\n",
       "      <td>1.993571</td>\n",
       "      <td>1.584878</td>\n",
       "      <td>3.691555</td>\n",
       "    </tr>\n",
       "    <tr>\n",
       "      <th>996</th>\n",
       "      <td>-2.104663</td>\n",
       "      <td>-2.553118</td>\n",
       "      <td>-1.242666</td>\n",
       "      <td>0.201987</td>\n",
       "      <td>-0.305332</td>\n",
       "      <td>-6.003792</td>\n",
       "    </tr>\n",
       "    <tr>\n",
       "      <th>997</th>\n",
       "      <td>-1.195587</td>\n",
       "      <td>-1.577903</td>\n",
       "      <td>0.849912</td>\n",
       "      <td>0.327590</td>\n",
       "      <td>-0.001670</td>\n",
       "      <td>-1.597657</td>\n",
       "    </tr>\n",
       "    <tr>\n",
       "      <th>998</th>\n",
       "      <td>-0.035563</td>\n",
       "      <td>-0.489252</td>\n",
       "      <td>1.930498</td>\n",
       "      <td>-0.262645</td>\n",
       "      <td>0.825932</td>\n",
       "      <td>1.968971</td>\n",
       "    </tr>\n",
       "    <tr>\n",
       "      <th>999</th>\n",
       "      <td>-0.643267</td>\n",
       "      <td>-0.828981</td>\n",
       "      <td>-0.202735</td>\n",
       "      <td>-0.257866</td>\n",
       "      <td>0.070815</td>\n",
       "      <td>-1.862035</td>\n",
       "    </tr>\n",
       "  </tbody>\n",
       "</table>\n",
       "<p>1000 rows × 6 columns</p>\n",
       "</div>"
      ],
      "text/plain": [
       "            a         b         c         d         e         f\n",
       "0    1.593274  0.568722 -0.114487  0.251630 -1.210856  1.088284\n",
       "1   -0.393734  0.085253  0.099422 -1.530616  0.327623 -1.412052\n",
       "2    0.279196 -0.377051  0.004175 -1.483492 -1.479796 -3.056967\n",
       "3    0.134687 -0.667723 -0.011556  0.839491 -0.173930  0.120969\n",
       "4   -2.810668 -0.150654 -0.481044 -0.234694  0.899731 -2.777329\n",
       "..        ...       ...       ...       ...       ...       ...\n",
       "995 -0.837658  1.315288 -0.364523  1.993571  1.584878  3.691555\n",
       "996 -2.104663 -2.553118 -1.242666  0.201987 -0.305332 -6.003792\n",
       "997 -1.195587 -1.577903  0.849912  0.327590 -0.001670 -1.597657\n",
       "998 -0.035563 -0.489252  1.930498 -0.262645  0.825932  1.968971\n",
       "999 -0.643267 -0.828981 -0.202735 -0.257866  0.070815 -1.862035\n",
       "\n",
       "[1000 rows x 6 columns]"
      ]
     },
     "execution_count": 68,
     "metadata": {},
     "output_type": "execute_result"
    }
   ],
   "source": [
    "df"
   ]
  },
  {
   "cell_type": "code",
   "execution_count": 66,
   "id": "beb63a23",
   "metadata": {},
   "outputs": [
    {
     "data": {
      "text/plain": [
       "0.6609257763922614"
      ]
     },
     "execution_count": 66,
     "metadata": {},
     "output_type": "execute_result"
    }
   ],
   "source": [
    "df.query(\"f > 5\")[\"f\"].std()"
   ]
  },
  {
   "cell_type": "code",
   "execution_count": 67,
   "id": "e6c9c212",
   "metadata": {},
   "outputs": [
    {
     "data": {
      "text/plain": [
       "2.1891090850524444"
      ]
     },
     "execution_count": 67,
     "metadata": {},
     "output_type": "execute_result"
    }
   ],
   "source": [
    "df.query(\"f <= 5\")[\"f\"].std()"
   ]
  },
  {
   "cell_type": "code",
   "execution_count": 71,
   "id": "648a86d2",
   "metadata": {},
   "outputs": [
    {
     "data": {
      "text/plain": [
       "False"
      ]
     },
     "execution_count": 71,
     "metadata": {},
     "output_type": "execute_result"
    }
   ],
   "source": [
    "\"tolist\" in dir(df)"
   ]
  },
  {
   "cell_type": "code",
   "execution_count": 29,
   "id": "95731994",
   "metadata": {},
   "outputs": [],
   "source": [
    "def search(obj, query):\n",
    "    import re\n",
    "\n",
    "    return list(filter(lambda x: re.search(query, x), dir(obj)))"
   ]
  },
  {
   "cell_type": "code",
   "execution_count": 34,
   "id": "a568a307",
   "metadata": {},
   "outputs": [
    {
     "data": {
      "text/plain": [
       "['tolist']"
      ]
     },
     "execution_count": 34,
     "metadata": {},
     "output_type": "execute_result"
    }
   ],
   "source": [
    "search(a, \"lis\")"
   ]
  },
  {
   "cell_type": "code",
   "execution_count": 1,
   "id": "9b61263f",
   "metadata": {},
   "outputs": [],
   "source": [
    "import numpy as np\n",
    "import pandas as pd"
   ]
  },
  {
   "cell_type": "code",
   "execution_count": 98,
   "id": "ba4260b9",
   "metadata": {},
   "outputs": [],
   "source": [
    "def search(obj, query):\n",
    "    import re\n",
    "    from rich import inspect\n",
    "    from rich.pretty import Pretty\n",
    "    from rich.panel import Panel\n",
    "\n",
    "    z = list(filter(lambda x: re.search(query, x), dir(obj)))\n",
    "    p = Panel(Pretty(\"a\"), title=f\"Searching for `{query}`\")\n",
    "    # return p\n",
    "    ps = []\n",
    "    for q in z:\n",
    "        ps.append(Panel(Pretty(inspect(getattr(obj, q), methods=True, docs=True))))"
   ]
  },
  {
   "cell_type": "code",
   "execution_count": 99,
   "id": "552dae5c",
   "metadata": {},
   "outputs": [
    {
     "data": {
      "text/html": [
       "<pre style=\"white-space:pre;overflow-x:auto;line-height:normal;font-family:Menlo,'DejaVu Sans Mono',consolas,'Courier New',monospace\"><span style=\"color: #000080; text-decoration-color: #000080\">╭─ </span><span style=\"color: #000080; text-decoration-color: #000080; font-weight: bold\">&lt;</span><span style=\"color: #ff00ff; text-decoration-color: #ff00ff; font-weight: bold\">built-in</span><span style=\"color: #000000; text-decoration-color: #000000\"> method lognormal of numpy.random.mtrand.RandomState object at </span><span style=\"color: #008080; text-decoration-color: #008080; font-weight: bold\">0x10c627840</span><span style=\"color: #000080; text-decoration-color: #000080; font-weight: bold\">&gt;</span><span style=\"color: #000080; text-decoration-color: #000080\"> ─╮</span>\n",
       "<span style=\"color: #000080; text-decoration-color: #000080\">│</span> <span style=\"color: #00ffff; text-decoration-color: #00ffff; font-style: italic\">def </span><span style=\"color: #800000; text-decoration-color: #800000; font-weight: bold\">RandomState.lognormal</span><span style=\"font-weight: bold\">(</span><span style=\"color: #808000; text-decoration-color: #808000\">...</span><span style=\"font-weight: bold\">)</span>                                                         <span style=\"color: #000080; text-decoration-color: #000080\">│</span>\n",
       "<span style=\"color: #000080; text-decoration-color: #000080\">│</span>                                                                                        <span style=\"color: #000080; text-decoration-color: #000080\">│</span>\n",
       "<span style=\"color: #000080; text-decoration-color: #000080\">│</span> <span style=\"color: #800080; text-decoration-color: #800080; font-weight: bold\">lognormal</span><span style=\"color: #008080; text-decoration-color: #008080; font-weight: bold\">(</span><span style=\"color: #808000; text-decoration-color: #808000\">mean</span><span style=\"color: #008080; text-decoration-color: #008080\">=</span><span style=\"color: #008080; text-decoration-color: #008080; font-weight: bold\">0.0</span><span style=\"color: #008080; text-decoration-color: #008080\">, </span><span style=\"color: #808000; text-decoration-color: #808000\">sigma</span><span style=\"color: #008080; text-decoration-color: #008080\">=</span><span style=\"color: #008080; text-decoration-color: #008080; font-weight: bold\">1.0</span><span style=\"color: #008080; text-decoration-color: #008080\">, </span><span style=\"color: #808000; text-decoration-color: #808000\">size</span><span style=\"color: #008080; text-decoration-color: #008080\">=</span><span style=\"color: #800080; text-decoration-color: #800080; font-style: italic\">None</span><span style=\"color: #008080; text-decoration-color: #008080; font-weight: bold\">)</span>                                              <span style=\"color: #000080; text-decoration-color: #000080\">│</span>\n",
       "<span style=\"color: #000080; text-decoration-color: #000080\">│</span>                                                                                        <span style=\"color: #000080; text-decoration-color: #000080\">│</span>\n",
       "<span style=\"color: #000080; text-decoration-color: #000080\">│</span> <span style=\"color: #008080; text-decoration-color: #008080; font-weight: bold\">29</span><span style=\"font-style: italic\"> attribute(s) not shown.</span> Run <span style=\"color: #800080; text-decoration-color: #800080; font-weight: bold\">inspect</span><span style=\"font-weight: bold\">(</span>inspect<span style=\"font-weight: bold\">)</span> for options.                           <span style=\"color: #000080; text-decoration-color: #000080\">│</span>\n",
       "<span style=\"color: #000080; text-decoration-color: #000080\">╰────────────────────────────────────────────────────────────────────────────────────────╯</span>\n",
       "</pre>\n"
      ],
      "text/plain": [
       "\u001b[34m╭─\u001b[0m\u001b[34m \u001b[0m\u001b[1;34m<\u001b[0m\u001b[1;95mbuilt-in\u001b[0m\u001b[39m method lognormal of numpy.random.mtrand.RandomState object at \u001b[0m\u001b[1;36m0x10c627840\u001b[0m\u001b[1;34m>\u001b[0m\u001b[34m \u001b[0m\u001b[34m─╮\u001b[0m\n",
       "\u001b[34m│\u001b[0m \u001b[3;96mdef \u001b[0m\u001b[1;31mRandomState.lognormal\u001b[0m\u001b[1m(\u001b[0m\u001b[33m...\u001b[0m\u001b[1m)\u001b[0m                                                         \u001b[34m│\u001b[0m\n",
       "\u001b[34m│\u001b[0m                                                                                        \u001b[34m│\u001b[0m\n",
       "\u001b[34m│\u001b[0m \u001b[1;35mlognormal\u001b[0m\u001b[1;36m(\u001b[0m\u001b[33mmean\u001b[0m\u001b[36m=\u001b[0m\u001b[1;36m0\u001b[0m\u001b[1;36m.0\u001b[0m\u001b[36m, \u001b[0m\u001b[33msigma\u001b[0m\u001b[36m=\u001b[0m\u001b[1;36m1\u001b[0m\u001b[1;36m.0\u001b[0m\u001b[36m, \u001b[0m\u001b[33msize\u001b[0m\u001b[36m=\u001b[0m\u001b[3;35mNone\u001b[0m\u001b[1;36m)\u001b[0m                                              \u001b[34m│\u001b[0m\n",
       "\u001b[34m│\u001b[0m                                                                                        \u001b[34m│\u001b[0m\n",
       "\u001b[34m│\u001b[0m \u001b[1;36m29\u001b[0m\u001b[3m attribute(s) not shown.\u001b[0m Run \u001b[1;35minspect\u001b[0m\u001b[1m(\u001b[0minspect\u001b[1m)\u001b[0m for options.                           \u001b[34m│\u001b[0m\n",
       "\u001b[34m╰────────────────────────────────────────────────────────────────────────────────────────╯\u001b[0m\n"
      ]
     },
     "metadata": {},
     "output_type": "display_data"
    },
    {
     "data": {
      "text/html": [
       "<pre style=\"white-space:pre;overflow-x:auto;line-height:normal;font-family:Menlo,'DejaVu Sans Mono',consolas,'Courier New',monospace\"><span style=\"color: #000080; text-decoration-color: #000080\">╭─ </span><span style=\"color: #000080; text-decoration-color: #000080; font-weight: bold\">&lt;</span><span style=\"color: #ff00ff; text-decoration-color: #ff00ff; font-weight: bold\">built-in</span><span style=\"color: #000000; text-decoration-color: #000000\"> method multivariate_normal of numpy.random.mtrand.RandomState object at </span><span style=\"color: #008080; text-decoration-color: #008080; font-weight: bold\">0x10c627840</span><span style=\"color: #000080; text-decoration-color: #000080; font-weight: bold\">&gt;</span><span style=\"color: #000080; text-decoration-color: #000080\"> ─╮</span>\n",
       "<span style=\"color: #000080; text-decoration-color: #000080\">│</span> <span style=\"color: #00ffff; text-decoration-color: #00ffff; font-style: italic\">def </span><span style=\"color: #800000; text-decoration-color: #800000; font-weight: bold\">RandomState.multivariate_normal</span><span style=\"font-weight: bold\">(</span><span style=\"color: #808000; text-decoration-color: #808000\">...</span><span style=\"font-weight: bold\">)</span>                                                         <span style=\"color: #000080; text-decoration-color: #000080\">│</span>\n",
       "<span style=\"color: #000080; text-decoration-color: #000080\">│</span>                                                                                                  <span style=\"color: #000080; text-decoration-color: #000080\">│</span>\n",
       "<span style=\"color: #000080; text-decoration-color: #000080\">│</span> <span style=\"color: #800080; text-decoration-color: #800080; font-weight: bold\">multivariate_normal</span><span style=\"color: #008080; text-decoration-color: #008080; font-weight: bold\">(</span><span style=\"color: #008080; text-decoration-color: #008080\">mean, cov, </span><span style=\"color: #808000; text-decoration-color: #808000\">size</span><span style=\"color: #008080; text-decoration-color: #008080\">=</span><span style=\"color: #800080; text-decoration-color: #800080; font-style: italic\">None</span><span style=\"color: #008080; text-decoration-color: #008080\">, </span><span style=\"color: #808000; text-decoration-color: #808000\">check_valid</span><span style=\"color: #008080; text-decoration-color: #008080\">=</span><span style=\"color: #008000; text-decoration-color: #008000\">'warn'</span><span style=\"color: #008080; text-decoration-color: #008080\">, </span><span style=\"color: #808000; text-decoration-color: #808000\">tol</span><span style=\"color: #008080; text-decoration-color: #008080\">=</span><span style=\"color: #008080; text-decoration-color: #008080; font-weight: bold\">1e-8</span><span style=\"color: #008080; text-decoration-color: #008080; font-weight: bold\">)</span>                          <span style=\"color: #000080; text-decoration-color: #000080\">│</span>\n",
       "<span style=\"color: #000080; text-decoration-color: #000080\">│</span>                                                                                                  <span style=\"color: #000080; text-decoration-color: #000080\">│</span>\n",
       "<span style=\"color: #000080; text-decoration-color: #000080\">│</span> <span style=\"color: #008080; text-decoration-color: #008080; font-weight: bold\">29</span><span style=\"font-style: italic\"> attribute(s) not shown.</span> Run <span style=\"color: #800080; text-decoration-color: #800080; font-weight: bold\">inspect</span><span style=\"font-weight: bold\">(</span>inspect<span style=\"font-weight: bold\">)</span> for options.                                     <span style=\"color: #000080; text-decoration-color: #000080\">│</span>\n",
       "<span style=\"color: #000080; text-decoration-color: #000080\">╰──────────────────────────────────────────────────────────────────────────────────────────────────╯</span>\n",
       "</pre>\n"
      ],
      "text/plain": [
       "\u001b[34m╭─\u001b[0m\u001b[34m \u001b[0m\u001b[1;34m<\u001b[0m\u001b[1;95mbuilt-in\u001b[0m\u001b[39m method multivariate_normal of numpy.random.mtrand.RandomState object at \u001b[0m\u001b[1;36m0x10c627840\u001b[0m\u001b[1;34m>\u001b[0m\u001b[34m \u001b[0m\u001b[34m─╮\u001b[0m\n",
       "\u001b[34m│\u001b[0m \u001b[3;96mdef \u001b[0m\u001b[1;31mRandomState.multivariate_normal\u001b[0m\u001b[1m(\u001b[0m\u001b[33m...\u001b[0m\u001b[1m)\u001b[0m                                                         \u001b[34m│\u001b[0m\n",
       "\u001b[34m│\u001b[0m                                                                                                  \u001b[34m│\u001b[0m\n",
       "\u001b[34m│\u001b[0m \u001b[1;35mmultivariate_normal\u001b[0m\u001b[1;36m(\u001b[0m\u001b[36mmean, cov, \u001b[0m\u001b[33msize\u001b[0m\u001b[36m=\u001b[0m\u001b[3;35mNone\u001b[0m\u001b[36m, \u001b[0m\u001b[33mcheck_valid\u001b[0m\u001b[36m=\u001b[0m\u001b[32m'warn'\u001b[0m\u001b[36m, \u001b[0m\u001b[33mtol\u001b[0m\u001b[36m=\u001b[0m\u001b[1;36m1e\u001b[0m\u001b[1;36m-8\u001b[0m\u001b[1;36m)\u001b[0m                          \u001b[34m│\u001b[0m\n",
       "\u001b[34m│\u001b[0m                                                                                                  \u001b[34m│\u001b[0m\n",
       "\u001b[34m│\u001b[0m \u001b[1;36m29\u001b[0m\u001b[3m attribute(s) not shown.\u001b[0m Run \u001b[1;35minspect\u001b[0m\u001b[1m(\u001b[0minspect\u001b[1m)\u001b[0m for options.                                     \u001b[34m│\u001b[0m\n",
       "\u001b[34m╰──────────────────────────────────────────────────────────────────────────────────────────────────╯\u001b[0m\n"
      ]
     },
     "metadata": {},
     "output_type": "display_data"
    },
    {
     "data": {
      "text/html": [
       "<pre style=\"white-space:pre;overflow-x:auto;line-height:normal;font-family:Menlo,'DejaVu Sans Mono',consolas,'Courier New',monospace\"><span style=\"color: #000080; text-decoration-color: #000080\">╭─ </span><span style=\"color: #000080; text-decoration-color: #000080; font-weight: bold\">&lt;</span><span style=\"color: #ff00ff; text-decoration-color: #ff00ff; font-weight: bold\">built-in</span><span style=\"color: #000000; text-decoration-color: #000000\"> method normal of numpy.random.mtrand.RandomState object at </span><span style=\"color: #008080; text-decoration-color: #008080; font-weight: bold\">0x10c627840</span><span style=\"color: #000080; text-decoration-color: #000080; font-weight: bold\">&gt;</span><span style=\"color: #000080; text-decoration-color: #000080\"> ─╮</span>\n",
       "<span style=\"color: #000080; text-decoration-color: #000080\">│</span> <span style=\"color: #00ffff; text-decoration-color: #00ffff; font-style: italic\">def </span><span style=\"color: #800000; text-decoration-color: #800000; font-weight: bold\">RandomState.normal</span><span style=\"font-weight: bold\">(</span><span style=\"color: #808000; text-decoration-color: #808000\">...</span><span style=\"font-weight: bold\">)</span>                                                         <span style=\"color: #000080; text-decoration-color: #000080\">│</span>\n",
       "<span style=\"color: #000080; text-decoration-color: #000080\">│</span>                                                                                     <span style=\"color: #000080; text-decoration-color: #000080\">│</span>\n",
       "<span style=\"color: #000080; text-decoration-color: #000080\">│</span> <span style=\"color: #800080; text-decoration-color: #800080; font-weight: bold\">normal</span><span style=\"color: #008080; text-decoration-color: #008080; font-weight: bold\">(</span><span style=\"color: #808000; text-decoration-color: #808000\">loc</span><span style=\"color: #008080; text-decoration-color: #008080\">=</span><span style=\"color: #008080; text-decoration-color: #008080; font-weight: bold\">0.0</span><span style=\"color: #008080; text-decoration-color: #008080\">, </span><span style=\"color: #808000; text-decoration-color: #808000\">scale</span><span style=\"color: #008080; text-decoration-color: #008080\">=</span><span style=\"color: #008080; text-decoration-color: #008080; font-weight: bold\">1.0</span><span style=\"color: #008080; text-decoration-color: #008080\">, </span><span style=\"color: #808000; text-decoration-color: #808000\">size</span><span style=\"color: #008080; text-decoration-color: #008080\">=</span><span style=\"color: #800080; text-decoration-color: #800080; font-style: italic\">None</span><span style=\"color: #008080; text-decoration-color: #008080; font-weight: bold\">)</span>                                               <span style=\"color: #000080; text-decoration-color: #000080\">│</span>\n",
       "<span style=\"color: #000080; text-decoration-color: #000080\">│</span>                                                                                     <span style=\"color: #000080; text-decoration-color: #000080\">│</span>\n",
       "<span style=\"color: #000080; text-decoration-color: #000080\">│</span> <span style=\"color: #008080; text-decoration-color: #008080; font-weight: bold\">29</span><span style=\"font-style: italic\"> attribute(s) not shown.</span> Run <span style=\"color: #800080; text-decoration-color: #800080; font-weight: bold\">inspect</span><span style=\"font-weight: bold\">(</span>inspect<span style=\"font-weight: bold\">)</span> for options.                        <span style=\"color: #000080; text-decoration-color: #000080\">│</span>\n",
       "<span style=\"color: #000080; text-decoration-color: #000080\">╰─────────────────────────────────────────────────────────────────────────────────────╯</span>\n",
       "</pre>\n"
      ],
      "text/plain": [
       "\u001b[34m╭─\u001b[0m\u001b[34m \u001b[0m\u001b[1;34m<\u001b[0m\u001b[1;95mbuilt-in\u001b[0m\u001b[39m method normal of numpy.random.mtrand.RandomState object at \u001b[0m\u001b[1;36m0x10c627840\u001b[0m\u001b[1;34m>\u001b[0m\u001b[34m \u001b[0m\u001b[34m─╮\u001b[0m\n",
       "\u001b[34m│\u001b[0m \u001b[3;96mdef \u001b[0m\u001b[1;31mRandomState.normal\u001b[0m\u001b[1m(\u001b[0m\u001b[33m...\u001b[0m\u001b[1m)\u001b[0m                                                         \u001b[34m│\u001b[0m\n",
       "\u001b[34m│\u001b[0m                                                                                     \u001b[34m│\u001b[0m\n",
       "\u001b[34m│\u001b[0m \u001b[1;35mnormal\u001b[0m\u001b[1;36m(\u001b[0m\u001b[33mloc\u001b[0m\u001b[36m=\u001b[0m\u001b[1;36m0\u001b[0m\u001b[1;36m.0\u001b[0m\u001b[36m, \u001b[0m\u001b[33mscale\u001b[0m\u001b[36m=\u001b[0m\u001b[1;36m1\u001b[0m\u001b[1;36m.0\u001b[0m\u001b[36m, \u001b[0m\u001b[33msize\u001b[0m\u001b[36m=\u001b[0m\u001b[3;35mNone\u001b[0m\u001b[1;36m)\u001b[0m                                               \u001b[34m│\u001b[0m\n",
       "\u001b[34m│\u001b[0m                                                                                     \u001b[34m│\u001b[0m\n",
       "\u001b[34m│\u001b[0m \u001b[1;36m29\u001b[0m\u001b[3m attribute(s) not shown.\u001b[0m Run \u001b[1;35minspect\u001b[0m\u001b[1m(\u001b[0minspect\u001b[1m)\u001b[0m for options.                        \u001b[34m│\u001b[0m\n",
       "\u001b[34m╰─────────────────────────────────────────────────────────────────────────────────────╯\u001b[0m\n"
      ]
     },
     "metadata": {},
     "output_type": "display_data"
    },
    {
     "data": {
      "text/html": [
       "<pre style=\"white-space:pre;overflow-x:auto;line-height:normal;font-family:Menlo,'DejaVu Sans Mono',consolas,'Courier New',monospace\"><span style=\"color: #000080; text-decoration-color: #000080\">╭─ </span><span style=\"color: #000080; text-decoration-color: #000080; font-weight: bold\">&lt;</span><span style=\"color: #ff00ff; text-decoration-color: #ff00ff; font-weight: bold\">built-in</span><span style=\"color: #000000; text-decoration-color: #000000\"> method standard_normal of numpy.random.mtrand.RandomState object at </span><span style=\"color: #008080; text-decoration-color: #008080; font-weight: bold\">0x10c627840</span><span style=\"color: #000080; text-decoration-color: #000080; font-weight: bold\">&gt;</span><span style=\"color: #000080; text-decoration-color: #000080\"> ─╮</span>\n",
       "<span style=\"color: #000080; text-decoration-color: #000080\">│</span> <span style=\"color: #00ffff; text-decoration-color: #00ffff; font-style: italic\">def </span><span style=\"color: #800000; text-decoration-color: #800000; font-weight: bold\">RandomState.standard_normal</span><span style=\"font-weight: bold\">(</span><span style=\"color: #808000; text-decoration-color: #808000\">...</span><span style=\"font-weight: bold\">)</span>                                                         <span style=\"color: #000080; text-decoration-color: #000080\">│</span>\n",
       "<span style=\"color: #000080; text-decoration-color: #000080\">│</span>                                                                                              <span style=\"color: #000080; text-decoration-color: #000080\">│</span>\n",
       "<span style=\"color: #000080; text-decoration-color: #000080\">│</span> <span style=\"color: #800080; text-decoration-color: #800080; font-weight: bold\">standard_normal</span><span style=\"color: #008080; text-decoration-color: #008080; font-weight: bold\">(</span><span style=\"color: #808000; text-decoration-color: #808000\">size</span><span style=\"color: #008080; text-decoration-color: #008080\">=</span><span style=\"color: #800080; text-decoration-color: #800080; font-style: italic\">None</span><span style=\"color: #008080; text-decoration-color: #008080; font-weight: bold\">)</span>                                                                   <span style=\"color: #000080; text-decoration-color: #000080\">│</span>\n",
       "<span style=\"color: #000080; text-decoration-color: #000080\">│</span>                                                                                              <span style=\"color: #000080; text-decoration-color: #000080\">│</span>\n",
       "<span style=\"color: #000080; text-decoration-color: #000080\">│</span> <span style=\"color: #008080; text-decoration-color: #008080; font-weight: bold\">29</span><span style=\"font-style: italic\"> attribute(s) not shown.</span> Run <span style=\"color: #800080; text-decoration-color: #800080; font-weight: bold\">inspect</span><span style=\"font-weight: bold\">(</span>inspect<span style=\"font-weight: bold\">)</span> for options.                                 <span style=\"color: #000080; text-decoration-color: #000080\">│</span>\n",
       "<span style=\"color: #000080; text-decoration-color: #000080\">╰──────────────────────────────────────────────────────────────────────────────────────────────╯</span>\n",
       "</pre>\n"
      ],
      "text/plain": [
       "\u001b[34m╭─\u001b[0m\u001b[34m \u001b[0m\u001b[1;34m<\u001b[0m\u001b[1;95mbuilt-in\u001b[0m\u001b[39m method standard_normal of numpy.random.mtrand.RandomState object at \u001b[0m\u001b[1;36m0x10c627840\u001b[0m\u001b[1;34m>\u001b[0m\u001b[34m \u001b[0m\u001b[34m─╮\u001b[0m\n",
       "\u001b[34m│\u001b[0m \u001b[3;96mdef \u001b[0m\u001b[1;31mRandomState.standard_normal\u001b[0m\u001b[1m(\u001b[0m\u001b[33m...\u001b[0m\u001b[1m)\u001b[0m                                                         \u001b[34m│\u001b[0m\n",
       "\u001b[34m│\u001b[0m                                                                                              \u001b[34m│\u001b[0m\n",
       "\u001b[34m│\u001b[0m \u001b[1;35mstandard_normal\u001b[0m\u001b[1;36m(\u001b[0m\u001b[33msize\u001b[0m\u001b[36m=\u001b[0m\u001b[3;35mNone\u001b[0m\u001b[1;36m)\u001b[0m                                                                   \u001b[34m│\u001b[0m\n",
       "\u001b[34m│\u001b[0m                                                                                              \u001b[34m│\u001b[0m\n",
       "\u001b[34m│\u001b[0m \u001b[1;36m29\u001b[0m\u001b[3m attribute(s) not shown.\u001b[0m Run \u001b[1;35minspect\u001b[0m\u001b[1m(\u001b[0minspect\u001b[1m)\u001b[0m for options.                                 \u001b[34m│\u001b[0m\n",
       "\u001b[34m╰──────────────────────────────────────────────────────────────────────────────────────────────╯\u001b[0m\n"
      ]
     },
     "metadata": {},
     "output_type": "display_data"
    }
   ],
   "source": [
    "search(np.random, \"normal\")"
   ]
  },
  {
   "cell_type": "code",
   "execution_count": 73,
   "id": "59f0fbb6",
   "metadata": {},
   "outputs": [
    {
     "data": {
      "text/plain": [
       "<function ndarray.tolist>"
      ]
     },
     "execution_count": 73,
     "metadata": {},
     "output_type": "execute_result"
    }
   ],
   "source": [
    "getattr(pd.DataFrame().values, \"tolist\")"
   ]
  },
  {
   "cell_type": "code",
   "execution_count": 70,
   "id": "178729dd",
   "metadata": {},
   "outputs": [
    {
     "data": {
      "text/html": [
       "<div>\n",
       "<style scoped>\n",
       "    .dataframe tbody tr th:only-of-type {\n",
       "        vertical-align: middle;\n",
       "    }\n",
       "\n",
       "    .dataframe tbody tr th {\n",
       "        vertical-align: top;\n",
       "    }\n",
       "\n",
       "    .dataframe thead th {\n",
       "        text-align: right;\n",
       "    }\n",
       "</style>\n",
       "<table border=\"1\" class=\"dataframe\">\n",
       "  <thead>\n",
       "    <tr style=\"text-align: right;\">\n",
       "      <th></th>\n",
       "    </tr>\n",
       "  </thead>\n",
       "  <tbody>\n",
       "  </tbody>\n",
       "</table>\n",
       "</div>"
      ],
      "text/plain": [
       "Empty DataFrame\n",
       "Columns: []\n",
       "Index: []"
      ]
     },
     "execution_count": 70,
     "metadata": {},
     "output_type": "execute_result"
    }
   ],
   "source": [
    "pd.DataFrame.to"
   ]
  },
  {
   "cell_type": "code",
   "execution_count": 14,
   "id": "9cb40233",
   "metadata": {},
   "outputs": [
    {
     "data": {
      "text/html": [
       "<pre style=\"white-space:pre;overflow-x:auto;line-height:normal;font-family:Menlo,'DejaVu Sans Mono',consolas,'Courier New',monospace\">╭───────────────────────────────────────────── Searching for {query} ─────────────────────────────────────────────╮\n",
       "│ <span style=\"font-weight: bold\">[</span><span style=\"color: #008000; text-decoration-color: #008000\">'tolist'</span><span style=\"font-weight: bold\">]</span>                                                                                                      │\n",
       "╰─────────────────────────────────────────────────────────────────────────────────────────────────────────────────╯\n",
       "</pre>\n"
      ],
      "text/plain": [
       "╭───────────────────────────────────────────── Searching for {query} ─────────────────────────────────────────────╮\n",
       "│ \u001b[1m[\u001b[0m\u001b[32m'tolist'\u001b[0m\u001b[1m]\u001b[0m                                                                                                      │\n",
       "╰─────────────────────────────────────────────────────────────────────────────────────────────────────────────────╯\n"
      ]
     },
     "execution_count": 14,
     "metadata": {},
     "output_type": "execute_result"
    }
   ],
   "source": [
    "df = pd.DataFrame()\n",
    "search(df.values, \"list\")"
   ]
  },
  {
   "cell_type": "code",
   "execution_count": 11,
   "id": "5d9b29fe",
   "metadata": {},
   "outputs": [
    {
     "data": {
      "text/html": [
       "<pre style=\"white-space:pre;overflow-x:auto;line-height:normal;font-family:Menlo,'DejaVu Sans Mono',consolas,'Courier New',monospace\">╭─────────────────────────────────────────────────────────────────────────────────────────────────────────────────╮\n",
       "│ <span style=\"font-weight: bold\">[</span>                                                                                                               │\n",
       "│     <span style=\"color: #008000; text-decoration-color: #008000\">'_constructor'</span>,                                                                                             │\n",
       "│     <span style=\"color: #008000; text-decoration-color: #008000\">'_constructor_sliced'</span>,                                                                                      │\n",
       "│     <span style=\"color: #008000; text-decoration-color: #008000\">'_to_dict_of_blocks'</span>,                                                                                       │\n",
       "│     <span style=\"color: #008000; text-decoration-color: #008000\">'kurtosis'</span>,                                                                                                 │\n",
       "│     <span style=\"color: #008000; text-decoration-color: #008000\">'to_clipboard'</span>,                                                                                             │\n",
       "│     <span style=\"color: #008000; text-decoration-color: #008000\">'to_csv'</span>,                                                                                                   │\n",
       "│     <span style=\"color: #008000; text-decoration-color: #008000\">'to_dict'</span>,                                                                                                  │\n",
       "│     <span style=\"color: #008000; text-decoration-color: #008000\">'to_excel'</span>,                                                                                                 │\n",
       "│     <span style=\"color: #008000; text-decoration-color: #008000\">'to_feather'</span>,                                                                                               │\n",
       "│     <span style=\"color: #008000; text-decoration-color: #008000\">'to_gbq'</span>,                                                                                                   │\n",
       "│     <span style=\"color: #008000; text-decoration-color: #008000\">'to_hdf'</span>,                                                                                                   │\n",
       "│     <span style=\"color: #008000; text-decoration-color: #008000\">'to_html'</span>,                                                                                                  │\n",
       "│     <span style=\"color: #008000; text-decoration-color: #008000\">'to_json'</span>,                                                                                                  │\n",
       "│     <span style=\"color: #008000; text-decoration-color: #008000\">'to_latex'</span>,                                                                                                 │\n",
       "│     <span style=\"color: #008000; text-decoration-color: #008000\">'to_markdown'</span>,                                                                                              │\n",
       "│     <span style=\"color: #008000; text-decoration-color: #008000\">'to_numpy'</span>,                                                                                                 │\n",
       "│     <span style=\"color: #008000; text-decoration-color: #008000\">'to_orc'</span>,                                                                                                   │\n",
       "│     <span style=\"color: #008000; text-decoration-color: #008000\">'to_parquet'</span>,                                                                                               │\n",
       "│     <span style=\"color: #008000; text-decoration-color: #008000\">'to_period'</span>,                                                                                                │\n",
       "│     <span style=\"color: #008000; text-decoration-color: #008000\">'to_pickle'</span>,                                                                                                │\n",
       "│     <span style=\"color: #008000; text-decoration-color: #008000\">'to_records'</span>,                                                                                               │\n",
       "│     <span style=\"color: #008000; text-decoration-color: #008000\">'to_sql'</span>,                                                                                                   │\n",
       "│     <span style=\"color: #008000; text-decoration-color: #008000\">'to_stata'</span>,                                                                                                 │\n",
       "│     <span style=\"color: #008000; text-decoration-color: #008000\">'to_string'</span>,                                                                                                │\n",
       "│     <span style=\"color: #008000; text-decoration-color: #008000\">'to_timestamp'</span>,                                                                                             │\n",
       "│     <span style=\"color: #008000; text-decoration-color: #008000\">'to_xarray'</span>,                                                                                                │\n",
       "│     <span style=\"color: #008000; text-decoration-color: #008000\">'to_xml'</span>                                                                                                    │\n",
       "│ <span style=\"font-weight: bold\">]</span>                                                                                                               │\n",
       "╰─────────────────────────────────────────────────────────────────────────────────────────────────────────────────╯\n",
       "</pre>\n"
      ],
      "text/plain": [
       "╭─────────────────────────────────────────────────────────────────────────────────────────────────────────────────╮\n",
       "│ \u001b[1m[\u001b[0m                                                                                                               │\n",
       "│     \u001b[32m'_constructor'\u001b[0m,                                                                                             │\n",
       "│     \u001b[32m'_constructor_sliced'\u001b[0m,                                                                                      │\n",
       "│     \u001b[32m'_to_dict_of_blocks'\u001b[0m,                                                                                       │\n",
       "│     \u001b[32m'kurtosis'\u001b[0m,                                                                                                 │\n",
       "│     \u001b[32m'to_clipboard'\u001b[0m,                                                                                             │\n",
       "│     \u001b[32m'to_csv'\u001b[0m,                                                                                                   │\n",
       "│     \u001b[32m'to_dict'\u001b[0m,                                                                                                  │\n",
       "│     \u001b[32m'to_excel'\u001b[0m,                                                                                                 │\n",
       "│     \u001b[32m'to_feather'\u001b[0m,                                                                                               │\n",
       "│     \u001b[32m'to_gbq'\u001b[0m,                                                                                                   │\n",
       "│     \u001b[32m'to_hdf'\u001b[0m,                                                                                                   │\n",
       "│     \u001b[32m'to_html'\u001b[0m,                                                                                                  │\n",
       "│     \u001b[32m'to_json'\u001b[0m,                                                                                                  │\n",
       "│     \u001b[32m'to_latex'\u001b[0m,                                                                                                 │\n",
       "│     \u001b[32m'to_markdown'\u001b[0m,                                                                                              │\n",
       "│     \u001b[32m'to_numpy'\u001b[0m,                                                                                                 │\n",
       "│     \u001b[32m'to_orc'\u001b[0m,                                                                                                   │\n",
       "│     \u001b[32m'to_parquet'\u001b[0m,                                                                                               │\n",
       "│     \u001b[32m'to_period'\u001b[0m,                                                                                                │\n",
       "│     \u001b[32m'to_pickle'\u001b[0m,                                                                                                │\n",
       "│     \u001b[32m'to_records'\u001b[0m,                                                                                               │\n",
       "│     \u001b[32m'to_sql'\u001b[0m,                                                                                                   │\n",
       "│     \u001b[32m'to_stata'\u001b[0m,                                                                                                 │\n",
       "│     \u001b[32m'to_string'\u001b[0m,                                                                                                │\n",
       "│     \u001b[32m'to_timestamp'\u001b[0m,                                                                                             │\n",
       "│     \u001b[32m'to_xarray'\u001b[0m,                                                                                                │\n",
       "│     \u001b[32m'to_xml'\u001b[0m                                                                                                    │\n",
       "│ \u001b[1m]\u001b[0m                                                                                                               │\n",
       "╰─────────────────────────────────────────────────────────────────────────────────────────────────────────────────╯\n"
      ]
     },
     "execution_count": 11,
     "metadata": {},
     "output_type": "execute_result"
    }
   ],
   "source": [
    "search(pd.DataFrame, \"to\")"
   ]
  },
  {
   "cell_type": "code",
   "execution_count": 47,
   "id": "aeb3e7d0",
   "metadata": {},
   "outputs": [],
   "source": [
    "q = \"normal\""
   ]
  },
  {
   "cell_type": "code",
   "execution_count": 55,
   "id": "77f8c8af",
   "metadata": {},
   "outputs": [
    {
     "data": {
      "text/plain": [
       "<function RandomState.normal>"
      ]
     },
     "execution_count": 55,
     "metadata": {},
     "output_type": "execute_result"
    }
   ],
   "source": [
    "np.random.normal"
   ]
  },
  {
   "cell_type": "code",
   "execution_count": 65,
   "id": "f7086e89",
   "metadata": {},
   "outputs": [
    {
     "data": {
      "text/html": [
       "<pre style=\"white-space:pre;overflow-x:auto;line-height:normal;font-family:Menlo,'DejaVu Sans Mono',consolas,'Courier New',monospace\"><span style=\"color: #000080; text-decoration-color: #000080\">╭─────────────── </span><span style=\"color: #000080; text-decoration-color: #000080; font-weight: bold\">&lt;</span><span style=\"color: #ff00ff; text-decoration-color: #ff00ff; font-weight: bold\">built-in</span><span style=\"color: #000000; text-decoration-color: #000000\"> method normal of numpy.random.mtrand.RandomState object at </span><span style=\"color: #008080; text-decoration-color: #008080; font-weight: bold\">0x10c627840</span><span style=\"color: #000080; text-decoration-color: #000080; font-weight: bold\">&gt;</span><span style=\"color: #000080; text-decoration-color: #000080\"> ───────────────╮</span>\n",
       "<span style=\"color: #000080; text-decoration-color: #000080\">│</span> <span style=\"color: #00ffff; text-decoration-color: #00ffff; font-style: italic\">def </span><span style=\"color: #800000; text-decoration-color: #800000; font-weight: bold\">RandomState.normal</span><span style=\"font-weight: bold\">(</span><span style=\"color: #808000; text-decoration-color: #808000\">...</span><span style=\"font-weight: bold\">)</span>                                                                                     <span style=\"color: #000080; text-decoration-color: #000080\">│</span>\n",
       "<span style=\"color: #000080; text-decoration-color: #000080\">│</span>                                                                                                                 <span style=\"color: #000080; text-decoration-color: #000080\">│</span>\n",
       "<span style=\"color: #000080; text-decoration-color: #000080\">│</span> <span style=\"color: #800080; text-decoration-color: #800080; font-weight: bold\">normal</span><span style=\"color: #008080; text-decoration-color: #008080; font-weight: bold\">(</span><span style=\"color: #808000; text-decoration-color: #808000\">loc</span><span style=\"color: #008080; text-decoration-color: #008080\">=</span><span style=\"color: #008080; text-decoration-color: #008080; font-weight: bold\">0.0</span><span style=\"color: #008080; text-decoration-color: #008080\">, </span><span style=\"color: #808000; text-decoration-color: #808000\">scale</span><span style=\"color: #008080; text-decoration-color: #008080\">=</span><span style=\"color: #008080; text-decoration-color: #008080; font-weight: bold\">1.0</span><span style=\"color: #008080; text-decoration-color: #008080\">, </span><span style=\"color: #808000; text-decoration-color: #808000\">size</span><span style=\"color: #008080; text-decoration-color: #008080\">=</span><span style=\"color: #800080; text-decoration-color: #800080; font-style: italic\">None</span><span style=\"color: #008080; text-decoration-color: #008080; font-weight: bold\">)</span>                                                                           <span style=\"color: #000080; text-decoration-color: #000080\">│</span>\n",
       "<span style=\"color: #000080; text-decoration-color: #000080\">│</span>                                                                                                                 <span style=\"color: #000080; text-decoration-color: #000080\">│</span>\n",
       "<span style=\"color: #000080; text-decoration-color: #000080\">│</span>            <span style=\"color: #bfbf7f; text-decoration-color: #bfbf7f; font-style: italic\">__doc__</span> = <span style=\"color: #008000; text-decoration-color: #008000\">'\\n        normal(loc=0.0, scale=1.0, size=None)\\n\\n        Draw random samples from a </span>    <span style=\"color: #000080; text-decoration-color: #000080\">│</span>\n",
       "<span style=\"color: #000080; text-decoration-color: #000080\">│</span>                      <span style=\"color: #008000; text-decoration-color: #008000\">normal (Gaussian) distribution.\\n\\n        The probability density function of the normal </span> <span style=\"color: #000080; text-decoration-color: #000080\">│</span>\n",
       "<span style=\"color: #000080; text-decoration-color: #000080\">│</span>                      <span style=\"color: #008000; text-decoration-color: #008000\">distribution, first\\n        derived by De Moivre and 200 years later by both Gauss and </span>   <span style=\"color: #000080; text-decoration-color: #000080\">│</span>\n",
       "<span style=\"color: #000080; text-decoration-color: #000080\">│</span>                      <span style=\"color: #008000; text-decoration-color: #008000\">Laplace\\n        independently [2]_, is often called the bell curve because of\\n        </span>   <span style=\"color: #000080; text-decoration-color: #000080\">│</span>\n",
       "<span style=\"color: #000080; text-decoration-color: #000080\">│</span>                      <span style=\"color: #008000; text-decoration-color: #008000\">its characteristic shape (see the example below).\\n\\n        The normal distributions </span>     <span style=\"color: #000080; text-decoration-color: #000080\">│</span>\n",
       "<span style=\"color: #000080; text-decoration-color: #000080\">│</span>                      <span style=\"color: #008000; text-decoration-color: #008000\">occurs often in nature.  For example, it\\n        describes the commonly occurring </span>        <span style=\"color: #000080; text-decoration-color: #000080\">│</span>\n",
       "<span style=\"color: #000080; text-decoration-color: #000080\">│</span>                      <span style=\"color: #008000; text-decoration-color: #008000\">distribution of samples influenced\\n        by a large number of tiny, random </span>             <span style=\"color: #000080; text-decoration-color: #000080\">│</span>\n",
       "<span style=\"color: #000080; text-decoration-color: #000080\">│</span>                      <span style=\"color: #008000; text-decoration-color: #008000\">disturbances, each with its own\\n        unique distribution [2]_.\\n\\n        .. note::\\n </span> <span style=\"color: #000080; text-decoration-color: #000080\">│</span>\n",
       "<span style=\"color: #000080; text-decoration-color: #000080\">│</span>                      <span style=\"color: #008000; text-decoration-color: #008000\">New code should use the ``normal`` method of a ``default_rng()``\\n            instance </span>    <span style=\"color: #000080; text-decoration-color: #000080\">│</span>\n",
       "<span style=\"color: #000080; text-decoration-color: #000080\">│</span>                      <span style=\"color: #008000; text-decoration-color: #008000\">instead; please see the :ref:`random-quick-start`.\\n\\n        Parameters\\n        </span>         <span style=\"color: #000080; text-decoration-color: #000080\">│</span>\n",
       "<span style=\"color: #000080; text-decoration-color: #000080\">│</span>                      <span style=\"color: #008000; text-decoration-color: #008000\">----------\\n        loc : float or array_like of floats\\n            Mean (\"centre\") of </span>   <span style=\"color: #000080; text-decoration-color: #000080\">│</span>\n",
       "<span style=\"color: #000080; text-decoration-color: #000080\">│</span>                      <span style=\"color: #008000; text-decoration-color: #008000\">the distribution.\\n        scale : float or array_like of floats\\n            Standard </span>    <span style=\"color: #000080; text-decoration-color: #000080\">│</span>\n",
       "<span style=\"color: #000080; text-decoration-color: #000080\">│</span>                      <span style=\"color: #008000; text-decoration-color: #008000\">deviation (spread or \"width\") of the distribution. Must be\\n            non-negative.\\n   </span> <span style=\"color: #000080; text-decoration-color: #000080\">│</span>\n",
       "<span style=\"color: #000080; text-decoration-color: #000080\">│</span>                      <span style=\"color: #008000; text-decoration-color: #008000\">size : int or tuple of ints, optional\\n            Output shape.  If the given shape is, </span>  <span style=\"color: #000080; text-decoration-color: #000080\">│</span>\n",
       "<span style=\"color: #000080; text-decoration-color: #000080\">│</span>                      <span style=\"color: #008000; text-decoration-color: #008000\">e.g., ``(m, n, k)``, then\\n            ``m * n * k`` samples are drawn.  If size is </span>       <span style=\"color: #000080; text-decoration-color: #000080\">│</span>\n",
       "<span style=\"color: #000080; text-decoration-color: #000080\">│</span>                      <span style=\"color: #008000; text-decoration-color: #008000\">``None`` (default),\\n            a single value is returned if ``loc`` and ``scale`` are </span>  <span style=\"color: #000080; text-decoration-color: #000080\">│</span>\n",
       "<span style=\"color: #000080; text-decoration-color: #000080\">│</span>                      <span style=\"color: #008000; text-decoration-color: #008000\">both scalars.\\n            Otherwise, ``np.broadcast(loc, scale).size`` samples are </span>       <span style=\"color: #000080; text-decoration-color: #000080\">│</span>\n",
       "<span style=\"color: #000080; text-decoration-color: #000080\">│</span>                      <span style=\"color: #008000; text-decoration-color: #008000\">drawn.\\n\\n        Returns\\n        -------\\n        out : ndarray or scalar\\n            </span>  <span style=\"color: #000080; text-decoration-color: #000080\">│</span>\n",
       "<span style=\"color: #000080; text-decoration-color: #000080\">│</span>                      <span style=\"color: #008000; text-decoration-color: #008000\">Drawn samples from the parameterized normal distribution.\\n\\n        See Also\\n        </span>    <span style=\"color: #000080; text-decoration-color: #000080\">│</span>\n",
       "<span style=\"color: #000080; text-decoration-color: #000080\">│</span>                      <span style=\"color: #008000; text-decoration-color: #008000\">--------\\n        scipy.stats.norm : probability density function, distribution or\\n      </span> <span style=\"color: #000080; text-decoration-color: #000080\">│</span>\n",
       "<span style=\"color: #000080; text-decoration-color: #000080\">│</span>                      <span style=\"color: #008000; text-decoration-color: #008000\">cumulative density function, etc.\\n        random.Generator.normal: which should be used </span>  <span style=\"color: #000080; text-decoration-color: #000080\">│</span>\n",
       "<span style=\"color: #000080; text-decoration-color: #000080\">│</span>                      <span style=\"color: #008000; text-decoration-color: #008000\">for new code.\\n\\n        Notes\\n        -----\\n        The probability density for the </span>    <span style=\"color: #000080; text-decoration-color: #000080\">│</span>\n",
       "<span style=\"color: #000080; text-decoration-color: #000080\">│</span>                      <span style=\"color: #008000; text-decoration-color: #008000\">Gaussian distribution is\\n\\n        .. math:: p(x) = \\\\frac{1}{\\\\sqrt{ 2 \\\\pi \\\\sigma^2 </span>   <span style=\"color: #000080; text-decoration-color: #000080\">│</span>\n",
       "<span style=\"color: #000080; text-decoration-color: #000080\">│</span>                      <span style=\"color: #008000; text-decoration-color: #008000\">}}\\n                         e^{ - \\\\frac{ (x - \\\\mu)^2 } {2 \\\\sigma^2} },\\n\\n        </span>     <span style=\"color: #000080; text-decoration-color: #000080\">│</span>\n",
       "<span style=\"color: #000080; text-decoration-color: #000080\">│</span>                      <span style=\"color: #008000; text-decoration-color: #008000\">where :math:`\\\\mu` is the mean and :math:`\\\\sigma` the standard\\n        deviation. The </span>   <span style=\"color: #000080; text-decoration-color: #000080\">│</span>\n",
       "<span style=\"color: #000080; text-decoration-color: #000080\">│</span>                      <span style=\"color: #008000; text-decoration-color: #008000\">square of the standard deviation, :math:`\\\\sigma^2`,\\n        is called the variance.\\n\\n </span> <span style=\"color: #000080; text-decoration-color: #000080\">│</span>\n",
       "<span style=\"color: #000080; text-decoration-color: #000080\">│</span>                      <span style=\"color: #008000; text-decoration-color: #008000\">The function has its peak at the mean, and its \"spread\" increases with\\n        the </span>       <span style=\"color: #000080; text-decoration-color: #000080\">│</span>\n",
       "<span style=\"color: #000080; text-decoration-color: #000080\">│</span>                      <span style=\"color: #008000; text-decoration-color: #008000\">standard deviation (the function reaches 0.607 times its maximum at\\n        :math:`x + </span>   <span style=\"color: #000080; text-decoration-color: #000080\">│</span>\n",
       "<span style=\"color: #000080; text-decoration-color: #000080\">│</span>                      <span style=\"color: #008000; text-decoration-color: #008000\">\\\\sigma` and :math:`x - \\\\sigma` [2]_).  This implies that\\n        normal is more likely </span> <span style=\"color: #000080; text-decoration-color: #000080\">│</span>\n",
       "<span style=\"color: #000080; text-decoration-color: #000080\">│</span>                      <span style=\"color: #008000; text-decoration-color: #008000\">to return samples lying close to the mean, rather\\n        than those far away.\\n\\n       </span> <span style=\"color: #000080; text-decoration-color: #000080\">│</span>\n",
       "<span style=\"color: #000080; text-decoration-color: #000080\">│</span>                      <span style=\"color: #008000; text-decoration-color: #008000\">References\\n        ----------\\n        .. [1] Wikipedia, \"Normal distribution\",\\n        </span> <span style=\"color: #000080; text-decoration-color: #000080\">│</span>\n",
       "<span style=\"color: #000080; text-decoration-color: #000080\">│</span>                      <span style=\"color: #008000; text-decoration-color: #008000\">https://en.wikipedia.org/wiki/Normal_distribution\\n        .. [2] P. R. Peebles Jr., </span>      <span style=\"color: #000080; text-decoration-color: #000080\">│</span>\n",
       "<span style=\"color: #000080; text-decoration-color: #000080\">│</span>                      <span style=\"color: #008000; text-decoration-color: #008000\">\"Central Limit Theorem\" in \"Probability,\\n               Random Variables and Random </span>      <span style=\"color: #000080; text-decoration-color: #000080\">│</span>\n",
       "<span style=\"color: #000080; text-decoration-color: #000080\">│</span>                      <span style=\"color: #008000; text-decoration-color: #008000\">Signal Principles\", 4th ed., 2001,\\n               pp. 51, 51, 125.\\n\\n        Examples\\n </span> <span style=\"color: #000080; text-decoration-color: #000080\">│</span>\n",
       "<span style=\"color: #000080; text-decoration-color: #000080\">│</span>                      <span style=\"color: #008000; text-decoration-color: #008000\">--------\\n        Draw samples from the distribution:\\n\\n        &gt;&gt;&gt; mu, sigma = 0, 0.1 # </span> <span style=\"color: #000080; text-decoration-color: #000080\">│</span>\n",
       "<span style=\"color: #000080; text-decoration-color: #000080\">│</span>                      <span style=\"color: #008000; text-decoration-color: #008000\">mean and standard deviation\\n        &gt;&gt;&gt; s = np.random.normal(mu, sigma, 1000)\\n\\n        </span> <span style=\"color: #000080; text-decoration-color: #000080\">│</span>\n",
       "<span style=\"color: #000080; text-decoration-color: #000080\">│</span>                      <span style=\"color: #008000; text-decoration-color: #008000\">Verify the mean and the variance:\\n\\n        &gt;&gt;&gt; abs(mu - np.mean(s))\\n        0.0  # may </span> <span style=\"color: #000080; text-decoration-color: #000080\">│</span>\n",
       "<span style=\"color: #000080; text-decoration-color: #000080\">│</span>                      <span style=\"color: #008000; text-decoration-color: #008000\">vary\\n\\n        &gt;&gt;&gt; abs(sigma - np.std(s, ddof=1))\\n        0.1  # may vary\\n\\n        </span>    <span style=\"color: #000080; text-decoration-color: #000080\">│</span>\n",
       "<span style=\"color: #000080; text-decoration-color: #000080\">│</span>                      <span style=\"color: #008000; text-decoration-color: #008000\">Display the histogram of the samples, along with\\n        the probability density </span>         <span style=\"color: #000080; text-decoration-color: #000080\">│</span>\n",
       "<span style=\"color: #000080; text-decoration-color: #000080\">│</span>                      <span style=\"color: #008000; text-decoration-color: #008000\">function:\\n\\n        &gt;&gt;&gt; import matplotlib.pyplot as plt\\n        &gt;&gt;&gt; count, bins, ignored</span> <span style=\"color: #000080; text-decoration-color: #000080\">│</span>\n",
       "<span style=\"color: #000080; text-decoration-color: #000080\">│</span>                      <span style=\"color: #008000; text-decoration-color: #008000\">= plt.hist(s, 30, density=True)\\n        &gt;&gt;&gt; plt.plot(bins, 1/(sigma * np.sqrt(2 * np.pi))</span> <span style=\"color: #000080; text-decoration-color: #000080\">│</span>\n",
       "<span style=\"color: #000080; text-decoration-color: #000080\">│</span>                      <span style=\"color: #008000; text-decoration-color: #008000\">*\\n        ...                np.exp( - (bins - mu)**2 / (2 * sigma**2) ),\\n        ...   </span> <span style=\"color: #000080; text-decoration-color: #000080\">│</span>\n",
       "<span style=\"color: #000080; text-decoration-color: #000080\">│</span>                      <span style=\"color: #008000; text-decoration-color: #008000\">linewidth=2, color=\\'r\\')\\n        &gt;&gt;&gt; plt.show()\\n\\n        Two-by-four array of samples </span> <span style=\"color: #000080; text-decoration-color: #000080\">│</span>\n",
       "<span style=\"color: #000080; text-decoration-color: #000080\">│</span>                      <span style=\"color: #008000; text-decoration-color: #008000\">from N(3, 6.25):\\n\\n        &gt;&gt;&gt; np.random.normal(3, 2.5, size=(2, 4))\\n        </span>            <span style=\"color: #000080; text-decoration-color: #000080\">│</span>\n",
       "<span style=\"color: #000080; text-decoration-color: #000080\">│</span>                      <span style=\"color: #008000; text-decoration-color: #008000\">array([[-4.49401501,  4.00950034, -1.81814867,  7.29718677],   # random\\n               [ </span> <span style=\"color: #000080; text-decoration-color: #000080\">│</span>\n",
       "<span style=\"color: #000080; text-decoration-color: #000080\">│</span>                      <span style=\"color: #008000; text-decoration-color: #008000\">0.39924804,  4.68456316,  4.99394529,  4.84057254]])  # random\\n\\n        '</span>                <span style=\"color: #000080; text-decoration-color: #000080\">│</span>\n",
       "<span style=\"color: #000080; text-decoration-color: #000080\">│</span>         <span style=\"color: #bfbf7f; text-decoration-color: #bfbf7f; font-style: italic\">__module__</span> = <span style=\"color: #800080; text-decoration-color: #800080; font-style: italic\">None</span>                                                                                       <span style=\"color: #000080; text-decoration-color: #000080\">│</span>\n",
       "<span style=\"color: #000080; text-decoration-color: #000080\">│</span>           <span style=\"color: #bfbf7f; text-decoration-color: #bfbf7f; font-style: italic\">__name__</span> = <span style=\"color: #008000; text-decoration-color: #008000\">'normal'</span>                                                                                   <span style=\"color: #000080; text-decoration-color: #000080\">│</span>\n",
       "<span style=\"color: #000080; text-decoration-color: #000080\">│</span>       <span style=\"color: #bfbf7f; text-decoration-color: #bfbf7f; font-style: italic\">__qualname__</span> = <span style=\"color: #008000; text-decoration-color: #008000\">'RandomState.normal'</span>                                                                       <span style=\"color: #000080; text-decoration-color: #000080\">│</span>\n",
       "<span style=\"color: #000080; text-decoration-color: #000080\">│</span>           <span style=\"color: #bfbf7f; text-decoration-color: #bfbf7f; font-style: italic\">__self__</span> = <span style=\"color: #800080; text-decoration-color: #800080; font-weight: bold\">RandomState</span><span style=\"font-weight: bold\">(</span>MT19937<span style=\"font-weight: bold\">)</span> at <span style=\"color: #008080; text-decoration-color: #008080; font-weight: bold\">0x10C627840</span>                                                        <span style=\"color: #000080; text-decoration-color: #000080\">│</span>\n",
       "<span style=\"color: #000080; text-decoration-color: #000080\">│</span> <span style=\"color: #bfbf7f; text-decoration-color: #bfbf7f; font-style: italic\">__text_signature__</span> = <span style=\"color: #800080; text-decoration-color: #800080; font-style: italic\">None</span>                                                                                       <span style=\"color: #000080; text-decoration-color: #000080\">│</span>\n",
       "<span style=\"color: #000080; text-decoration-color: #000080\">│</span>           <span style=\"color: #bfbf7f; text-decoration-color: #bfbf7f; font-style: italic\">__call__</span> = <span style=\"color: #00ffff; text-decoration-color: #00ffff; font-style: italic\">def </span><span style=\"color: #800000; text-decoration-color: #800000; font-weight: bold\">__call__</span><span style=\"font-weight: bold\">(</span>*args, **kwargs<span style=\"font-weight: bold\">)</span>: <span style=\"color: #7f7f7f; text-decoration-color: #7f7f7f\">Call self as a function.</span>                                    <span style=\"color: #000080; text-decoration-color: #000080\">│</span>\n",
       "<span style=\"color: #000080; text-decoration-color: #000080\">│</span>          <span style=\"color: #bfbf7f; text-decoration-color: #bfbf7f; font-style: italic\">__class__</span> = <span style=\"color: #00ffff; text-decoration-color: #00ffff; font-style: italic\">class </span><span style=\"color: #800000; text-decoration-color: #800000; font-weight: bold\">__class__</span><span style=\"font-weight: bold\">()</span>:                                                                         <span style=\"color: #000080; text-decoration-color: #000080\">│</span>\n",
       "<span style=\"color: #000080; text-decoration-color: #000080\">│</span>        <span style=\"color: #bfbf7f; text-decoration-color: #bfbf7f; font-style: italic\">__delattr__</span> = <span style=\"color: #00ffff; text-decoration-color: #00ffff; font-style: italic\">def </span><span style=\"color: #800000; text-decoration-color: #800000; font-weight: bold\">__delattr__</span><span style=\"font-weight: bold\">(</span>name, <span style=\"color: #800080; text-decoration-color: #800080\">/</span><span style=\"font-weight: bold\">)</span>: <span style=\"color: #7f7f7f; text-decoration-color: #7f7f7f\">Implement </span><span style=\"color: #bf7fbf; text-decoration-color: #bf7fbf; font-weight: bold\">delattr</span><span style=\"color: #7f7f7f; text-decoration-color: #7f7f7f; font-weight: bold\">(</span><span style=\"color: #7f7f7f; text-decoration-color: #7f7f7f\">self, name</span><span style=\"color: #7f7f7f; text-decoration-color: #7f7f7f; font-weight: bold\">)</span><span style=\"color: #7f7f7f; text-decoration-color: #7f7f7f\">.</span>                                   <span style=\"color: #000080; text-decoration-color: #000080\">│</span>\n",
       "<span style=\"color: #000080; text-decoration-color: #000080\">│</span>            <span style=\"color: #bfbf7f; text-decoration-color: #bfbf7f; font-style: italic\">__dir__</span> = <span style=\"color: #00ffff; text-decoration-color: #00ffff; font-style: italic\">def </span><span style=\"color: #800000; text-decoration-color: #800000; font-weight: bold\">__dir__</span><span style=\"font-weight: bold\">()</span>: <span style=\"color: #7f7f7f; text-decoration-color: #7f7f7f\">Default </span><span style=\"color: #bf7fbf; text-decoration-color: #bf7fbf; font-weight: bold\">dir</span><span style=\"color: #7f7f7f; text-decoration-color: #7f7f7f; font-weight: bold\">()</span><span style=\"color: #7f7f7f; text-decoration-color: #7f7f7f\"> implementation.</span>                                               <span style=\"color: #000080; text-decoration-color: #000080\">│</span>\n",
       "<span style=\"color: #000080; text-decoration-color: #000080\">│</span>             <span style=\"color: #bfbf7f; text-decoration-color: #bfbf7f; font-style: italic\">__eq__</span> = <span style=\"color: #00ffff; text-decoration-color: #00ffff; font-style: italic\">def </span><span style=\"color: #800000; text-decoration-color: #800000; font-weight: bold\">__eq__</span><span style=\"font-weight: bold\">(</span>value, <span style=\"color: #800080; text-decoration-color: #800080\">/</span><span style=\"font-weight: bold\">)</span>: <span style=\"color: #7f7f7f; text-decoration-color: #7f7f7f\">Return </span><span style=\"color: #bfbf7f; text-decoration-color: #bfbf7f\">self</span><span style=\"color: #7f7f7f; text-decoration-color: #7f7f7f\">==value.</span>                                                  <span style=\"color: #000080; text-decoration-color: #000080\">│</span>\n",
       "<span style=\"color: #000080; text-decoration-color: #000080\">│</span>         <span style=\"color: #bfbf7f; text-decoration-color: #bfbf7f; font-style: italic\">__format__</span> = <span style=\"color: #00ffff; text-decoration-color: #00ffff; font-style: italic\">def </span><span style=\"color: #800000; text-decoration-color: #800000; font-weight: bold\">__format__</span><span style=\"font-weight: bold\">(</span>format_spec, <span style=\"color: #800080; text-decoration-color: #800080\">/</span><span style=\"font-weight: bold\">)</span>: <span style=\"color: #7f7f7f; text-decoration-color: #7f7f7f\">Default object formatter.</span>                                  <span style=\"color: #000080; text-decoration-color: #000080\">│</span>\n",
       "<span style=\"color: #000080; text-decoration-color: #000080\">│</span>             <span style=\"color: #bfbf7f; text-decoration-color: #bfbf7f; font-style: italic\">__ge__</span> = <span style=\"color: #00ffff; text-decoration-color: #00ffff; font-style: italic\">def </span><span style=\"color: #800000; text-decoration-color: #800000; font-weight: bold\">__ge__</span><span style=\"font-weight: bold\">(</span>value, <span style=\"color: #800080; text-decoration-color: #800080\">/</span><span style=\"font-weight: bold\">)</span>: <span style=\"color: #7f7f7f; text-decoration-color: #7f7f7f\">Return self&gt;=value.</span>                                                  <span style=\"color: #000080; text-decoration-color: #000080\">│</span>\n",
       "<span style=\"color: #000080; text-decoration-color: #000080\">│</span>   <span style=\"color: #bfbf7f; text-decoration-color: #bfbf7f; font-style: italic\">__getattribute__</span> = <span style=\"color: #00ffff; text-decoration-color: #00ffff; font-style: italic\">def </span><span style=\"color: #800000; text-decoration-color: #800000; font-weight: bold\">__getattribute__</span><span style=\"font-weight: bold\">(</span>name, <span style=\"color: #800080; text-decoration-color: #800080\">/</span><span style=\"font-weight: bold\">)</span>: <span style=\"color: #7f7f7f; text-decoration-color: #7f7f7f\">Return </span><span style=\"color: #bf7fbf; text-decoration-color: #bf7fbf; font-weight: bold\">getattr</span><span style=\"color: #7f7f7f; text-decoration-color: #7f7f7f; font-weight: bold\">(</span><span style=\"color: #7f7f7f; text-decoration-color: #7f7f7f\">self, name</span><span style=\"color: #7f7f7f; text-decoration-color: #7f7f7f; font-weight: bold\">)</span><span style=\"color: #7f7f7f; text-decoration-color: #7f7f7f\">.</span>                                 <span style=\"color: #000080; text-decoration-color: #000080\">│</span>\n",
       "<span style=\"color: #000080; text-decoration-color: #000080\">│</span>             <span style=\"color: #bfbf7f; text-decoration-color: #bfbf7f; font-style: italic\">__gt__</span> = <span style=\"color: #00ffff; text-decoration-color: #00ffff; font-style: italic\">def </span><span style=\"color: #800000; text-decoration-color: #800000; font-weight: bold\">__gt__</span><span style=\"font-weight: bold\">(</span>value, <span style=\"color: #800080; text-decoration-color: #800080\">/</span><span style=\"font-weight: bold\">)</span>: <span style=\"color: #7f7f7f; text-decoration-color: #7f7f7f\">Return self&gt;value.</span>                                                   <span style=\"color: #000080; text-decoration-color: #000080\">│</span>\n",
       "<span style=\"color: #000080; text-decoration-color: #000080\">│</span>           <span style=\"color: #bfbf7f; text-decoration-color: #bfbf7f; font-style: italic\">__hash__</span> = <span style=\"color: #00ffff; text-decoration-color: #00ffff; font-style: italic\">def </span><span style=\"color: #800000; text-decoration-color: #800000; font-weight: bold\">__hash__</span><span style=\"font-weight: bold\">()</span>: <span style=\"color: #7f7f7f; text-decoration-color: #7f7f7f\">Return </span><span style=\"color: #bf7fbf; text-decoration-color: #bf7fbf; font-weight: bold\">hash</span><span style=\"color: #7f7f7f; text-decoration-color: #7f7f7f; font-weight: bold\">(</span><span style=\"color: #7f7f7f; text-decoration-color: #7f7f7f\">self</span><span style=\"color: #7f7f7f; text-decoration-color: #7f7f7f; font-weight: bold\">)</span><span style=\"color: #7f7f7f; text-decoration-color: #7f7f7f\">.</span>                                                         <span style=\"color: #000080; text-decoration-color: #000080\">│</span>\n",
       "<span style=\"color: #000080; text-decoration-color: #000080\">│</span>           <span style=\"color: #bfbf7f; text-decoration-color: #bfbf7f; font-style: italic\">__init__</span> = <span style=\"color: #00ffff; text-decoration-color: #00ffff; font-style: italic\">def </span><span style=\"color: #800000; text-decoration-color: #800000; font-weight: bold\">__init__</span><span style=\"font-weight: bold\">(</span>*args, **kwargs<span style=\"font-weight: bold\">)</span>: <span style=\"color: #7f7f7f; text-decoration-color: #7f7f7f\">Initialize self.  See </span><span style=\"color: #bf7fbf; text-decoration-color: #bf7fbf; font-weight: bold\">help</span><span style=\"color: #7f7f7f; text-decoration-color: #7f7f7f; font-weight: bold\">(</span><span style=\"color: #bf7fbf; text-decoration-color: #bf7fbf; font-weight: bold\">type</span><span style=\"color: #7f7f7f; text-decoration-color: #7f7f7f; font-weight: bold\">(</span><span style=\"color: #7f7f7f; text-decoration-color: #7f7f7f\">self</span><span style=\"color: #7f7f7f; text-decoration-color: #7f7f7f; font-weight: bold\">))</span><span style=\"color: #7f7f7f; text-decoration-color: #7f7f7f\"> for accurate </span>        <span style=\"color: #000080; text-decoration-color: #000080\">│</span>\n",
       "<span style=\"color: #000080; text-decoration-color: #000080\">│</span>                      <span style=\"color: #7f7f7f; text-decoration-color: #7f7f7f\">signature.</span>                                                                                 <span style=\"color: #000080; text-decoration-color: #000080\">│</span>\n",
       "<span style=\"color: #000080; text-decoration-color: #000080\">│</span>  <span style=\"color: #bfbf7f; text-decoration-color: #bfbf7f; font-style: italic\">__init_subclass__</span> = <span style=\"color: #00ffff; text-decoration-color: #00ffff; font-style: italic\">def </span><span style=\"color: #800000; text-decoration-color: #800000; font-weight: bold\">__init_subclass__</span><span style=\"font-weight: bold\">(</span><span style=\"color: #808000; text-decoration-color: #808000\">...</span><span style=\"font-weight: bold\">)</span> <span style=\"color: #7f7f7f; text-decoration-color: #7f7f7f\">This method is called when a class is subclassed.</span>               <span style=\"color: #000080; text-decoration-color: #000080\">│</span>\n",
       "<span style=\"color: #000080; text-decoration-color: #000080\">│</span>             <span style=\"color: #bfbf7f; text-decoration-color: #bfbf7f; font-style: italic\">__le__</span> = <span style=\"color: #00ffff; text-decoration-color: #00ffff; font-style: italic\">def </span><span style=\"color: #800000; text-decoration-color: #800000; font-weight: bold\">__le__</span><span style=\"font-weight: bold\">(</span>value, <span style=\"color: #800080; text-decoration-color: #800080\">/</span><span style=\"font-weight: bold\">)</span>: <span style=\"color: #7f7f7f; text-decoration-color: #7f7f7f\">Return self&lt;=value.</span>                                                  <span style=\"color: #000080; text-decoration-color: #000080\">│</span>\n",
       "<span style=\"color: #000080; text-decoration-color: #000080\">│</span>             <span style=\"color: #bfbf7f; text-decoration-color: #bfbf7f; font-style: italic\">__lt__</span> = <span style=\"color: #00ffff; text-decoration-color: #00ffff; font-style: italic\">def </span><span style=\"color: #800000; text-decoration-color: #800000; font-weight: bold\">__lt__</span><span style=\"font-weight: bold\">(</span>value, <span style=\"color: #800080; text-decoration-color: #800080\">/</span><span style=\"font-weight: bold\">)</span>: <span style=\"color: #7f7f7f; text-decoration-color: #7f7f7f\">Return self&lt;value.</span>                                                   <span style=\"color: #000080; text-decoration-color: #000080\">│</span>\n",
       "<span style=\"color: #000080; text-decoration-color: #000080\">│</span>             <span style=\"color: #bfbf7f; text-decoration-color: #bfbf7f; font-style: italic\">__ne__</span> = <span style=\"color: #00ffff; text-decoration-color: #00ffff; font-style: italic\">def </span><span style=\"color: #800000; text-decoration-color: #800000; font-weight: bold\">__ne__</span><span style=\"font-weight: bold\">(</span>value, <span style=\"color: #800080; text-decoration-color: #800080\">/</span><span style=\"font-weight: bold\">)</span>: <span style=\"color: #7f7f7f; text-decoration-color: #7f7f7f\">Return self!=value.</span>                                                  <span style=\"color: #000080; text-decoration-color: #000080\">│</span>\n",
       "<span style=\"color: #000080; text-decoration-color: #000080\">│</span>            <span style=\"color: #bfbf7f; text-decoration-color: #bfbf7f; font-style: italic\">__new__</span> = <span style=\"color: #00ffff; text-decoration-color: #00ffff; font-style: italic\">def </span><span style=\"color: #800000; text-decoration-color: #800000; font-weight: bold\">__new__</span><span style=\"font-weight: bold\">(</span>*args, **kwargs<span style=\"font-weight: bold\">)</span>: <span style=\"color: #7f7f7f; text-decoration-color: #7f7f7f\">Create and return a new object.  See </span><span style=\"color: #bf7fbf; text-decoration-color: #bf7fbf; font-weight: bold\">help</span><span style=\"color: #7f7f7f; text-decoration-color: #7f7f7f; font-weight: bold\">(</span><span style=\"color: #7f7f7f; text-decoration-color: #7f7f7f\">type</span><span style=\"color: #7f7f7f; text-decoration-color: #7f7f7f; font-weight: bold\">)</span><span style=\"color: #7f7f7f; text-decoration-color: #7f7f7f\"> for accurate</span> <span style=\"color: #000080; text-decoration-color: #000080\">│</span>\n",
       "<span style=\"color: #000080; text-decoration-color: #000080\">│</span>                      <span style=\"color: #7f7f7f; text-decoration-color: #7f7f7f\">signature.</span>                                                                                 <span style=\"color: #000080; text-decoration-color: #000080\">│</span>\n",
       "<span style=\"color: #000080; text-decoration-color: #000080\">│</span>         <span style=\"color: #bfbf7f; text-decoration-color: #bfbf7f; font-style: italic\">__reduce__</span> = <span style=\"color: #00ffff; text-decoration-color: #00ffff; font-style: italic\">def </span><span style=\"color: #800000; text-decoration-color: #800000; font-weight: bold\">__reduce__</span><span style=\"font-weight: bold\">(</span><span style=\"color: #808000; text-decoration-color: #808000\">...</span><span style=\"font-weight: bold\">)</span> <span style=\"color: #7f7f7f; text-decoration-color: #7f7f7f\">Helper for pickle.</span>                                                     <span style=\"color: #000080; text-decoration-color: #000080\">│</span>\n",
       "<span style=\"color: #000080; text-decoration-color: #000080\">│</span>      <span style=\"color: #bfbf7f; text-decoration-color: #bfbf7f; font-style: italic\">__reduce_ex__</span> = <span style=\"color: #00ffff; text-decoration-color: #00ffff; font-style: italic\">def </span><span style=\"color: #800000; text-decoration-color: #800000; font-weight: bold\">__reduce_ex__</span><span style=\"font-weight: bold\">(</span>protocol, <span style=\"color: #800080; text-decoration-color: #800080\">/</span><span style=\"font-weight: bold\">)</span>: <span style=\"color: #7f7f7f; text-decoration-color: #7f7f7f\">Helper for pickle.</span>                                         <span style=\"color: #000080; text-decoration-color: #000080\">│</span>\n",
       "<span style=\"color: #000080; text-decoration-color: #000080\">│</span>           <span style=\"color: #bfbf7f; text-decoration-color: #bfbf7f; font-style: italic\">__repr__</span> = <span style=\"color: #00ffff; text-decoration-color: #00ffff; font-style: italic\">def </span><span style=\"color: #800000; text-decoration-color: #800000; font-weight: bold\">__repr__</span><span style=\"font-weight: bold\">()</span>: <span style=\"color: #7f7f7f; text-decoration-color: #7f7f7f\">Return </span><span style=\"color: #bf7fbf; text-decoration-color: #bf7fbf; font-weight: bold\">repr</span><span style=\"color: #7f7f7f; text-decoration-color: #7f7f7f; font-weight: bold\">(</span><span style=\"color: #7f7f7f; text-decoration-color: #7f7f7f\">self</span><span style=\"color: #7f7f7f; text-decoration-color: #7f7f7f; font-weight: bold\">)</span><span style=\"color: #7f7f7f; text-decoration-color: #7f7f7f\">.</span>                                                         <span style=\"color: #000080; text-decoration-color: #000080\">│</span>\n",
       "<span style=\"color: #000080; text-decoration-color: #000080\">│</span>        <span style=\"color: #bfbf7f; text-decoration-color: #bfbf7f; font-style: italic\">__setattr__</span> = <span style=\"color: #00ffff; text-decoration-color: #00ffff; font-style: italic\">def </span><span style=\"color: #800000; text-decoration-color: #800000; font-weight: bold\">__setattr__</span><span style=\"font-weight: bold\">(</span>name, value, <span style=\"color: #800080; text-decoration-color: #800080\">/</span><span style=\"font-weight: bold\">)</span>: <span style=\"color: #7f7f7f; text-decoration-color: #7f7f7f\">Implement </span><span style=\"color: #bf7fbf; text-decoration-color: #bf7fbf; font-weight: bold\">setattr</span><span style=\"color: #7f7f7f; text-decoration-color: #7f7f7f; font-weight: bold\">(</span><span style=\"color: #7f7f7f; text-decoration-color: #7f7f7f\">self, name, value</span><span style=\"color: #7f7f7f; text-decoration-color: #7f7f7f; font-weight: bold\">)</span><span style=\"color: #7f7f7f; text-decoration-color: #7f7f7f\">.</span>                     <span style=\"color: #000080; text-decoration-color: #000080\">│</span>\n",
       "<span style=\"color: #000080; text-decoration-color: #000080\">│</span>         <span style=\"color: #bfbf7f; text-decoration-color: #bfbf7f; font-style: italic\">__sizeof__</span> = <span style=\"color: #00ffff; text-decoration-color: #00ffff; font-style: italic\">def </span><span style=\"color: #800000; text-decoration-color: #800000; font-weight: bold\">__sizeof__</span><span style=\"font-weight: bold\">()</span>: <span style=\"color: #7f7f7f; text-decoration-color: #7f7f7f\">Size of object in memory, in bytes.</span>                                      <span style=\"color: #000080; text-decoration-color: #000080\">│</span>\n",
       "<span style=\"color: #000080; text-decoration-color: #000080\">│</span>            <span style=\"color: #bfbf7f; text-decoration-color: #bfbf7f; font-style: italic\">__str__</span> = <span style=\"color: #00ffff; text-decoration-color: #00ffff; font-style: italic\">def </span><span style=\"color: #800000; text-decoration-color: #800000; font-weight: bold\">__str__</span><span style=\"font-weight: bold\">()</span>: <span style=\"color: #7f7f7f; text-decoration-color: #7f7f7f\">Return </span><span style=\"color: #bf7fbf; text-decoration-color: #bf7fbf; font-weight: bold\">str</span><span style=\"color: #7f7f7f; text-decoration-color: #7f7f7f; font-weight: bold\">(</span><span style=\"color: #7f7f7f; text-decoration-color: #7f7f7f\">self</span><span style=\"color: #7f7f7f; text-decoration-color: #7f7f7f; font-weight: bold\">)</span><span style=\"color: #7f7f7f; text-decoration-color: #7f7f7f\">.</span>                                                           <span style=\"color: #000080; text-decoration-color: #000080\">│</span>\n",
       "<span style=\"color: #000080; text-decoration-color: #000080\">│</span>   <span style=\"color: #bfbf7f; text-decoration-color: #bfbf7f; font-style: italic\">__subclasshook__</span> = <span style=\"color: #00ffff; text-decoration-color: #00ffff; font-style: italic\">def </span><span style=\"color: #800000; text-decoration-color: #800000; font-weight: bold\">__subclasshook__</span><span style=\"font-weight: bold\">(</span><span style=\"color: #808000; text-decoration-color: #808000\">...</span><span style=\"font-weight: bold\">)</span> <span style=\"color: #7f7f7f; text-decoration-color: #7f7f7f\">Abstract classes can override this to customize </span><span style=\"color: #bf7fbf; text-decoration-color: #bf7fbf; font-weight: bold\">issubclass</span><span style=\"color: #7f7f7f; text-decoration-color: #7f7f7f; font-weight: bold\">()</span><span style=\"color: #7f7f7f; text-decoration-color: #7f7f7f\">.</span>    <span style=\"color: #000080; text-decoration-color: #000080\">│</span>\n",
       "<span style=\"color: #000080; text-decoration-color: #000080\">╰─────────────────────────────────────────────────────────────────────────────────────────────────────────────────╯</span>\n",
       "</pre>\n"
      ],
      "text/plain": [
       "\u001b[34m╭─\u001b[0m\u001b[34m──────────────\u001b[0m\u001b[34m \u001b[0m\u001b[1;34m<\u001b[0m\u001b[1;95mbuilt-in\u001b[0m\u001b[39m method normal of numpy.random.mtrand.RandomState object at \u001b[0m\u001b[1;36m0x10c627840\u001b[0m\u001b[1;34m>\u001b[0m\u001b[34m \u001b[0m\u001b[34m──────────────\u001b[0m\u001b[34m─╮\u001b[0m\n",
       "\u001b[34m│\u001b[0m \u001b[3;96mdef \u001b[0m\u001b[1;31mRandomState.normal\u001b[0m\u001b[1m(\u001b[0m\u001b[33m...\u001b[0m\u001b[1m)\u001b[0m                                                                                     \u001b[34m│\u001b[0m\n",
       "\u001b[34m│\u001b[0m                                                                                                                 \u001b[34m│\u001b[0m\n",
       "\u001b[34m│\u001b[0m \u001b[1;35mnormal\u001b[0m\u001b[1;36m(\u001b[0m\u001b[33mloc\u001b[0m\u001b[36m=\u001b[0m\u001b[1;36m0\u001b[0m\u001b[1;36m.0\u001b[0m\u001b[36m, \u001b[0m\u001b[33mscale\u001b[0m\u001b[36m=\u001b[0m\u001b[1;36m1\u001b[0m\u001b[1;36m.0\u001b[0m\u001b[36m, \u001b[0m\u001b[33msize\u001b[0m\u001b[36m=\u001b[0m\u001b[3;35mNone\u001b[0m\u001b[1;36m)\u001b[0m                                                                           \u001b[34m│\u001b[0m\n",
       "\u001b[34m│\u001b[0m                                                                                                                 \u001b[34m│\u001b[0m\n",
       "\u001b[34m│\u001b[0m            \u001b[2;3;33m__doc__\u001b[0m = \u001b[32m'\\n        normal\u001b[0m\u001b[32m(\u001b[0m\u001b[32mloc\u001b[0m\u001b[32m=\u001b[0m\u001b[32m0\u001b[0m\u001b[32m.0, \u001b[0m\u001b[32mscale\u001b[0m\u001b[32m=\u001b[0m\u001b[32m1\u001b[0m\u001b[32m.0, \u001b[0m\u001b[32msize\u001b[0m\u001b[32m=\u001b[0m\u001b[32mNone\u001b[0m\u001b[32m)\u001b[0m\u001b[32m\\n\\n        Draw random samples from a \u001b[0m    \u001b[34m│\u001b[0m\n",
       "\u001b[34m│\u001b[0m                      \u001b[32mnormal \u001b[0m\u001b[32m(\u001b[0m\u001b[32mGaussian\u001b[0m\u001b[32m)\u001b[0m\u001b[32m distribution.\\n\\n        The probability density function of the normal \u001b[0m \u001b[34m│\u001b[0m\n",
       "\u001b[34m│\u001b[0m                      \u001b[32mdistribution, first\\n        derived by De Moivre and 200 years later by both Gauss and \u001b[0m   \u001b[34m│\u001b[0m\n",
       "\u001b[34m│\u001b[0m                      \u001b[32mLaplace\\n        independently \u001b[0m\u001b[32m[\u001b[0m\u001b[32m2\u001b[0m\u001b[32m]\u001b[0m\u001b[32m_, is often called the bell curve because of\\n        \u001b[0m   \u001b[34m│\u001b[0m\n",
       "\u001b[34m│\u001b[0m                      \u001b[32mits characteristic shape \u001b[0m\u001b[32m(\u001b[0m\u001b[32msee the example below\u001b[0m\u001b[32m)\u001b[0m\u001b[32m.\\n\\n        The normal distributions \u001b[0m     \u001b[34m│\u001b[0m\n",
       "\u001b[34m│\u001b[0m                      \u001b[32moccurs often in nature.  For example, it\\n        describes the commonly occurring \u001b[0m        \u001b[34m│\u001b[0m\n",
       "\u001b[34m│\u001b[0m                      \u001b[32mdistribution of samples influenced\\n        by a large number of tiny, random \u001b[0m             \u001b[34m│\u001b[0m\n",
       "\u001b[34m│\u001b[0m                      \u001b[32mdisturbances, each with its own\\n        unique distribution \u001b[0m\u001b[32m[\u001b[0m\u001b[32m2\u001b[0m\u001b[32m]\u001b[0m\u001b[32m_.\\n\\n        .. note::\\n \u001b[0m \u001b[34m│\u001b[0m\n",
       "\u001b[34m│\u001b[0m                      \u001b[32mNew code should use the ``normal`` method of a ``default_rng\u001b[0m\u001b[32m(\u001b[0m\u001b[32m)\u001b[0m\u001b[32m``\\n            instance \u001b[0m    \u001b[34m│\u001b[0m\n",
       "\u001b[34m│\u001b[0m                      \u001b[32minstead; please see the :ref:`random-quick-start`.\\n\\n        Parameters\\n        \u001b[0m         \u001b[34m│\u001b[0m\n",
       "\u001b[34m│\u001b[0m                      \u001b[32m----------\\n        loc : float or array_like of floats\\n            Mean \u001b[0m\u001b[32m(\u001b[0m\u001b[32m\"centre\"\u001b[0m\u001b[32m)\u001b[0m\u001b[32m of \u001b[0m   \u001b[34m│\u001b[0m\n",
       "\u001b[34m│\u001b[0m                      \u001b[32mthe distribution.\\n        scale : float or array_like of floats\\n            Standard \u001b[0m    \u001b[34m│\u001b[0m\n",
       "\u001b[34m│\u001b[0m                      \u001b[32mdeviation \u001b[0m\u001b[32m(\u001b[0m\u001b[32mspread or \"width\"\u001b[0m\u001b[32m)\u001b[0m\u001b[32m of the distribution. Must be\\n            non-negative.\\n   \u001b[0m \u001b[34m│\u001b[0m\n",
       "\u001b[34m│\u001b[0m                      \u001b[32msize : int or tuple of ints, optional\\n            Output shape.  If the given shape is, \u001b[0m  \u001b[34m│\u001b[0m\n",
       "\u001b[34m│\u001b[0m                      \u001b[32me.g., ``\u001b[0m\u001b[32m(\u001b[0m\u001b[32mm, n, k\u001b[0m\u001b[32m)\u001b[0m\u001b[32m``, then\\n            ``m * n * k`` samples are drawn.  If size is \u001b[0m       \u001b[34m│\u001b[0m\n",
       "\u001b[34m│\u001b[0m                      \u001b[32m``None`` \u001b[0m\u001b[32m(\u001b[0m\u001b[32mdefault\u001b[0m\u001b[32m)\u001b[0m\u001b[32m,\\n            a single value is returned if ``loc`` and ``scale`` are \u001b[0m  \u001b[34m│\u001b[0m\n",
       "\u001b[34m│\u001b[0m                      \u001b[32mboth scalars.\\n            Otherwise, ``np.broadcast\u001b[0m\u001b[32m(\u001b[0m\u001b[32mloc, scale\u001b[0m\u001b[32m)\u001b[0m\u001b[32m.size`` samples are \u001b[0m       \u001b[34m│\u001b[0m\n",
       "\u001b[34m│\u001b[0m                      \u001b[32mdrawn.\\n\\n        Returns\\n        -------\\n        out : ndarray or scalar\\n            \u001b[0m  \u001b[34m│\u001b[0m\n",
       "\u001b[34m│\u001b[0m                      \u001b[32mDrawn samples from the parameterized normal distribution.\\n\\n        See Also\\n        \u001b[0m    \u001b[34m│\u001b[0m\n",
       "\u001b[34m│\u001b[0m                      \u001b[32m--------\\n        scipy.stats.norm : probability density function, distribution or\\n      \u001b[0m \u001b[34m│\u001b[0m\n",
       "\u001b[34m│\u001b[0m                      \u001b[32mcumulative density function, etc.\\n        random.Generator.normal: which should be used \u001b[0m  \u001b[34m│\u001b[0m\n",
       "\u001b[34m│\u001b[0m                      \u001b[32mfor new code.\\n\\n        Notes\\n        -----\\n        The probability density for the \u001b[0m    \u001b[34m│\u001b[0m\n",
       "\u001b[34m│\u001b[0m                      \u001b[32mGaussian distribution is\\n\\n        .. math:: p\u001b[0m\u001b[32m(\u001b[0m\u001b[32mx\u001b[0m\u001b[32m)\u001b[0m\u001b[32m = \\\\frac\u001b[0m\u001b[32m{\u001b[0m\u001b[32m1\u001b[0m\u001b[32m}\u001b[0m\u001b[32m{\u001b[0m\u001b[32m\\\\sqrt\u001b[0m\u001b[32m{\u001b[0m\u001b[32m 2 \\\\pi \\\\sigma^2 \u001b[0m   \u001b[34m│\u001b[0m\n",
       "\u001b[34m│\u001b[0m                      \u001b[32m}\u001b[0m\u001b[32m}\u001b[0m\u001b[32m\\n                         e^\u001b[0m\u001b[32m{\u001b[0m\u001b[32m - \\\\frac\u001b[0m\u001b[32m{\u001b[0m\u001b[32m \u001b[0m\u001b[32m(\u001b[0m\u001b[32mx - \\\\mu\u001b[0m\u001b[32m)\u001b[0m\u001b[32m^2 \u001b[0m\u001b[32m}\u001b[0m\u001b[32m \u001b[0m\u001b[32m{\u001b[0m\u001b[32m2 \\\\sigma^2\u001b[0m\u001b[32m}\u001b[0m\u001b[32m \u001b[0m\u001b[32m}\u001b[0m\u001b[32m,\\n\\n        \u001b[0m     \u001b[34m│\u001b[0m\n",
       "\u001b[34m│\u001b[0m                      \u001b[32mwhere :math:`\\\\mu` is the mean and :math:`\\\\sigma` the standard\\n        deviation. The \u001b[0m   \u001b[34m│\u001b[0m\n",
       "\u001b[34m│\u001b[0m                      \u001b[32msquare of the standard deviation, :math:`\\\\sigma^2`,\\n        is called the variance.\\n\\n \u001b[0m \u001b[34m│\u001b[0m\n",
       "\u001b[34m│\u001b[0m                      \u001b[32mThe function has its peak at the mean, and its \"spread\" increases with\\n        the \u001b[0m       \u001b[34m│\u001b[0m\n",
       "\u001b[34m│\u001b[0m                      \u001b[32mstandard deviation \u001b[0m\u001b[32m(\u001b[0m\u001b[32mthe function reaches 0.607 times its maximum at\\n        :math:`x + \u001b[0m   \u001b[34m│\u001b[0m\n",
       "\u001b[34m│\u001b[0m                      \u001b[32m\\\\sigma` and :math:`x - \\\\sigma` \u001b[0m\u001b[32m[\u001b[0m\u001b[32m2\u001b[0m\u001b[32m]\u001b[0m\u001b[32m_\u001b[0m\u001b[32m)\u001b[0m\u001b[32m.  This implies that\\n        normal is more likely \u001b[0m \u001b[34m│\u001b[0m\n",
       "\u001b[34m│\u001b[0m                      \u001b[32mto return samples lying close to the mean, rather\\n        than those far away.\\n\\n       \u001b[0m \u001b[34m│\u001b[0m\n",
       "\u001b[34m│\u001b[0m                      \u001b[32mReferences\\n        ----------\\n        .. \u001b[0m\u001b[32m[\u001b[0m\u001b[32m1\u001b[0m\u001b[32m]\u001b[0m\u001b[32m Wikipedia, \"Normal distribution\",\\n        \u001b[0m \u001b[34m│\u001b[0m\n",
       "\u001b[34m│\u001b[0m                      \u001b[32mhttps://en.wikipedia.org/wiki/Normal_distribution\\n        .. \u001b[0m\u001b[32m[\u001b[0m\u001b[32m2\u001b[0m\u001b[32m]\u001b[0m\u001b[32m P. R. Peebles Jr., \u001b[0m      \u001b[34m│\u001b[0m\n",
       "\u001b[34m│\u001b[0m                      \u001b[32m\"Central Limit Theorem\" in \"Probability,\\n               Random Variables and Random \u001b[0m      \u001b[34m│\u001b[0m\n",
       "\u001b[34m│\u001b[0m                      \u001b[32mSignal Principles\", 4th ed., 2001,\\n               pp. 51, 51, 125.\\n\\n        Examples\\n \u001b[0m \u001b[34m│\u001b[0m\n",
       "\u001b[34m│\u001b[0m                      \u001b[32m--------\\n        Draw samples from the distribution:\\n\\n        >>> mu, sigma = 0, 0.1 # \u001b[0m \u001b[34m│\u001b[0m\n",
       "\u001b[34m│\u001b[0m                      \u001b[32mmean and standard deviation\\n        >>> s = np.random.normal\u001b[0m\u001b[32m(\u001b[0m\u001b[32mmu, sigma, 1000\u001b[0m\u001b[32m)\u001b[0m\u001b[32m\\n\\n        \u001b[0m \u001b[34m│\u001b[0m\n",
       "\u001b[34m│\u001b[0m                      \u001b[32mVerify the mean and the variance:\\n\\n        >>> abs\u001b[0m\u001b[32m(\u001b[0m\u001b[32mmu - np.mean\u001b[0m\u001b[32m(\u001b[0m\u001b[32ms\u001b[0m\u001b[32m)\u001b[0m\u001b[32m)\u001b[0m\u001b[32m\\n        0.0  # may \u001b[0m \u001b[34m│\u001b[0m\n",
       "\u001b[34m│\u001b[0m                      \u001b[32mvary\\n\\n        >>> abs\u001b[0m\u001b[32m(\u001b[0m\u001b[32msigma - np.std\u001b[0m\u001b[32m(\u001b[0m\u001b[32ms, \u001b[0m\u001b[32mddof\u001b[0m\u001b[32m=\u001b[0m\u001b[32m1\u001b[0m\u001b[32m)\u001b[0m\u001b[32m)\u001b[0m\u001b[32m\\n        0.1  # may vary\\n\\n        \u001b[0m    \u001b[34m│\u001b[0m\n",
       "\u001b[34m│\u001b[0m                      \u001b[32mDisplay the histogram of the samples, along with\\n        the probability density \u001b[0m         \u001b[34m│\u001b[0m\n",
       "\u001b[34m│\u001b[0m                      \u001b[32mfunction:\\n\\n        >>> import matplotlib.pyplot as plt\\n        >>> count, bins, ignored\u001b[0m \u001b[34m│\u001b[0m\n",
       "\u001b[34m│\u001b[0m                      \u001b[32m= plt.hist\u001b[0m\u001b[32m(\u001b[0m\u001b[32ms, 30, \u001b[0m\u001b[32mdensity\u001b[0m\u001b[32m=\u001b[0m\u001b[32mTrue\u001b[0m\u001b[32m)\u001b[0m\u001b[32m\\n        >>> plt.plot\u001b[0m\u001b[32m(\u001b[0m\u001b[32mbins, 1/\u001b[0m\u001b[32m(\u001b[0m\u001b[32msigma * np.sqrt\u001b[0m\u001b[32m(\u001b[0m\u001b[32m2 * np.pi\u001b[0m\u001b[32m)\u001b[0m\u001b[32m)\u001b[0m \u001b[34m│\u001b[0m\n",
       "\u001b[34m│\u001b[0m                      \u001b[32m*\\n        ...                np.exp\u001b[0m\u001b[32m(\u001b[0m\u001b[32m - \u001b[0m\u001b[32m(\u001b[0m\u001b[32mbins - mu\u001b[0m\u001b[32m)\u001b[0m\u001b[32m**2 / \u001b[0m\u001b[32m(\u001b[0m\u001b[32m2 * sigma**2\u001b[0m\u001b[32m)\u001b[0m\u001b[32m \u001b[0m\u001b[32m)\u001b[0m\u001b[32m,\\n        ...   \u001b[0m \u001b[34m│\u001b[0m\n",
       "\u001b[34m│\u001b[0m                      \u001b[32mlinewidth\u001b[0m\u001b[32m=\u001b[0m\u001b[32m2\u001b[0m\u001b[32m, \u001b[0m\u001b[32mcolor\u001b[0m\u001b[32m=\\'r\\'\u001b[0m\u001b[32m)\u001b[0m\u001b[32m\\n        >>> plt.show\u001b[0m\u001b[32m(\u001b[0m\u001b[32m)\u001b[0m\u001b[32m\\n\\n        Two-by-four array of samples \u001b[0m \u001b[34m│\u001b[0m\n",
       "\u001b[34m│\u001b[0m                      \u001b[32mfrom N\u001b[0m\u001b[32m(\u001b[0m\u001b[32m3, 6.25\u001b[0m\u001b[32m)\u001b[0m\u001b[32m:\\n\\n        >>> np.random.normal\u001b[0m\u001b[32m(\u001b[0m\u001b[32m3, 2.5, \u001b[0m\u001b[32msize\u001b[0m\u001b[32m=\u001b[0m\u001b[32m(\u001b[0m\u001b[32m2, 4\u001b[0m\u001b[32m)\u001b[0m\u001b[32m)\u001b[0m\u001b[32m\\n        \u001b[0m            \u001b[34m│\u001b[0m\n",
       "\u001b[34m│\u001b[0m                      \u001b[32marray\u001b[0m\u001b[32m(\u001b[0m\u001b[32m[\u001b[0m\u001b[32m[\u001b[0m\u001b[32m-4.49401501,  4.00950034, -1.81814867,  7.29718677\u001b[0m\u001b[32m]\u001b[0m\u001b[32m,   # random\\n               \u001b[0m\u001b[32m[\u001b[0m\u001b[32m \u001b[0m \u001b[34m│\u001b[0m\n",
       "\u001b[34m│\u001b[0m                      \u001b[32m0.39924804,  4.68456316,  4.99394529,  4.84057254\u001b[0m\u001b[32m]\u001b[0m\u001b[32m]\u001b[0m\u001b[32m)\u001b[0m\u001b[32m  # random\\n\\n        '\u001b[0m                \u001b[34m│\u001b[0m\n",
       "\u001b[34m│\u001b[0m         \u001b[2;3;33m__module__\u001b[0m = \u001b[3;35mNone\u001b[0m                                                                                       \u001b[34m│\u001b[0m\n",
       "\u001b[34m│\u001b[0m           \u001b[2;3;33m__name__\u001b[0m = \u001b[32m'normal'\u001b[0m                                                                                   \u001b[34m│\u001b[0m\n",
       "\u001b[34m│\u001b[0m       \u001b[2;3;33m__qualname__\u001b[0m = \u001b[32m'RandomState.normal'\u001b[0m                                                                       \u001b[34m│\u001b[0m\n",
       "\u001b[34m│\u001b[0m           \u001b[2;3;33m__self__\u001b[0m = \u001b[1;35mRandomState\u001b[0m\u001b[1m(\u001b[0mMT19937\u001b[1m)\u001b[0m at \u001b[1;36m0x10C627840\u001b[0m                                                        \u001b[34m│\u001b[0m\n",
       "\u001b[34m│\u001b[0m \u001b[2;3;33m__text_signature__\u001b[0m = \u001b[3;35mNone\u001b[0m                                                                                       \u001b[34m│\u001b[0m\n",
       "\u001b[34m│\u001b[0m           \u001b[2;3;33m__call__\u001b[0m = \u001b[3;96mdef \u001b[0m\u001b[1;31m__call__\u001b[0m\u001b[1m(\u001b[0m*args, **kwargs\u001b[1m)\u001b[0m: \u001b[2mCall self as a function.\u001b[0m                                    \u001b[34m│\u001b[0m\n",
       "\u001b[34m│\u001b[0m          \u001b[2;3;33m__class__\u001b[0m = \u001b[3;96mclass \u001b[0m\u001b[1;31m__class__\u001b[0m\u001b[1m(\u001b[0m\u001b[1m)\u001b[0m:                                                                         \u001b[34m│\u001b[0m\n",
       "\u001b[34m│\u001b[0m        \u001b[2;3;33m__delattr__\u001b[0m = \u001b[3;96mdef \u001b[0m\u001b[1;31m__delattr__\u001b[0m\u001b[1m(\u001b[0mname, \u001b[35m/\u001b[0m\u001b[1m)\u001b[0m: \u001b[2mImplement \u001b[0m\u001b[1;2;35mdelattr\u001b[0m\u001b[1;2m(\u001b[0m\u001b[2mself, name\u001b[0m\u001b[1;2m)\u001b[0m\u001b[2m.\u001b[0m                                   \u001b[34m│\u001b[0m\n",
       "\u001b[34m│\u001b[0m            \u001b[2;3;33m__dir__\u001b[0m = \u001b[3;96mdef \u001b[0m\u001b[1;31m__dir__\u001b[0m\u001b[1m(\u001b[0m\u001b[1m)\u001b[0m: \u001b[2mDefault \u001b[0m\u001b[1;2;35mdir\u001b[0m\u001b[1;2m(\u001b[0m\u001b[1;2m)\u001b[0m\u001b[2m implementation.\u001b[0m                                               \u001b[34m│\u001b[0m\n",
       "\u001b[34m│\u001b[0m             \u001b[2;3;33m__eq__\u001b[0m = \u001b[3;96mdef \u001b[0m\u001b[1;31m__eq__\u001b[0m\u001b[1m(\u001b[0mvalue, \u001b[35m/\u001b[0m\u001b[1m)\u001b[0m: \u001b[2mReturn \u001b[0m\u001b[2;33mself\u001b[0m\u001b[2m==value.\u001b[0m                                                  \u001b[34m│\u001b[0m\n",
       "\u001b[34m│\u001b[0m         \u001b[2;3;33m__format__\u001b[0m = \u001b[3;96mdef \u001b[0m\u001b[1;31m__format__\u001b[0m\u001b[1m(\u001b[0mformat_spec, \u001b[35m/\u001b[0m\u001b[1m)\u001b[0m: \u001b[2mDefault object formatter.\u001b[0m                                  \u001b[34m│\u001b[0m\n",
       "\u001b[34m│\u001b[0m             \u001b[2;3;33m__ge__\u001b[0m = \u001b[3;96mdef \u001b[0m\u001b[1;31m__ge__\u001b[0m\u001b[1m(\u001b[0mvalue, \u001b[35m/\u001b[0m\u001b[1m)\u001b[0m: \u001b[2mReturn self>=value.\u001b[0m                                                  \u001b[34m│\u001b[0m\n",
       "\u001b[34m│\u001b[0m   \u001b[2;3;33m__getattribute__\u001b[0m = \u001b[3;96mdef \u001b[0m\u001b[1;31m__getattribute__\u001b[0m\u001b[1m(\u001b[0mname, \u001b[35m/\u001b[0m\u001b[1m)\u001b[0m: \u001b[2mReturn \u001b[0m\u001b[1;2;35mgetattr\u001b[0m\u001b[1;2m(\u001b[0m\u001b[2mself, name\u001b[0m\u001b[1;2m)\u001b[0m\u001b[2m.\u001b[0m                                 \u001b[34m│\u001b[0m\n",
       "\u001b[34m│\u001b[0m             \u001b[2;3;33m__gt__\u001b[0m = \u001b[3;96mdef \u001b[0m\u001b[1;31m__gt__\u001b[0m\u001b[1m(\u001b[0mvalue, \u001b[35m/\u001b[0m\u001b[1m)\u001b[0m: \u001b[2mReturn self>value.\u001b[0m                                                   \u001b[34m│\u001b[0m\n",
       "\u001b[34m│\u001b[0m           \u001b[2;3;33m__hash__\u001b[0m = \u001b[3;96mdef \u001b[0m\u001b[1;31m__hash__\u001b[0m\u001b[1m(\u001b[0m\u001b[1m)\u001b[0m: \u001b[2mReturn \u001b[0m\u001b[1;2;35mhash\u001b[0m\u001b[1;2m(\u001b[0m\u001b[2mself\u001b[0m\u001b[1;2m)\u001b[0m\u001b[2m.\u001b[0m                                                         \u001b[34m│\u001b[0m\n",
       "\u001b[34m│\u001b[0m           \u001b[2;3;33m__init__\u001b[0m = \u001b[3;96mdef \u001b[0m\u001b[1;31m__init__\u001b[0m\u001b[1m(\u001b[0m*args, **kwargs\u001b[1m)\u001b[0m: \u001b[2mInitialize self.  See \u001b[0m\u001b[1;2;35mhelp\u001b[0m\u001b[1;2m(\u001b[0m\u001b[1;2;35mtype\u001b[0m\u001b[1;2m(\u001b[0m\u001b[2mself\u001b[0m\u001b[1;2m)\u001b[0m\u001b[1;2m)\u001b[0m\u001b[2m for accurate \u001b[0m        \u001b[34m│\u001b[0m\n",
       "\u001b[34m│\u001b[0m                      \u001b[2msignature.\u001b[0m                                                                                 \u001b[34m│\u001b[0m\n",
       "\u001b[34m│\u001b[0m  \u001b[2;3;33m__init_subclass__\u001b[0m = \u001b[3;96mdef \u001b[0m\u001b[1;31m__init_subclass__\u001b[0m\u001b[1m(\u001b[0m\u001b[33m...\u001b[0m\u001b[1m)\u001b[0m \u001b[2mThis method is called when a class is subclassed.\u001b[0m               \u001b[34m│\u001b[0m\n",
       "\u001b[34m│\u001b[0m             \u001b[2;3;33m__le__\u001b[0m = \u001b[3;96mdef \u001b[0m\u001b[1;31m__le__\u001b[0m\u001b[1m(\u001b[0mvalue, \u001b[35m/\u001b[0m\u001b[1m)\u001b[0m: \u001b[2mReturn self<=value.\u001b[0m                                                  \u001b[34m│\u001b[0m\n",
       "\u001b[34m│\u001b[0m             \u001b[2;3;33m__lt__\u001b[0m = \u001b[3;96mdef \u001b[0m\u001b[1;31m__lt__\u001b[0m\u001b[1m(\u001b[0mvalue, \u001b[35m/\u001b[0m\u001b[1m)\u001b[0m: \u001b[2mReturn self<value.\u001b[0m                                                   \u001b[34m│\u001b[0m\n",
       "\u001b[34m│\u001b[0m             \u001b[2;3;33m__ne__\u001b[0m = \u001b[3;96mdef \u001b[0m\u001b[1;31m__ne__\u001b[0m\u001b[1m(\u001b[0mvalue, \u001b[35m/\u001b[0m\u001b[1m)\u001b[0m: \u001b[2mReturn self!=value.\u001b[0m                                                  \u001b[34m│\u001b[0m\n",
       "\u001b[34m│\u001b[0m            \u001b[2;3;33m__new__\u001b[0m = \u001b[3;96mdef \u001b[0m\u001b[1;31m__new__\u001b[0m\u001b[1m(\u001b[0m*args, **kwargs\u001b[1m)\u001b[0m: \u001b[2mCreate and return a new object.  See \u001b[0m\u001b[1;2;35mhelp\u001b[0m\u001b[1;2m(\u001b[0m\u001b[2mtype\u001b[0m\u001b[1;2m)\u001b[0m\u001b[2m for accurate\u001b[0m \u001b[34m│\u001b[0m\n",
       "\u001b[34m│\u001b[0m                      \u001b[2msignature.\u001b[0m                                                                                 \u001b[34m│\u001b[0m\n",
       "\u001b[34m│\u001b[0m         \u001b[2;3;33m__reduce__\u001b[0m = \u001b[3;96mdef \u001b[0m\u001b[1;31m__reduce__\u001b[0m\u001b[1m(\u001b[0m\u001b[33m...\u001b[0m\u001b[1m)\u001b[0m \u001b[2mHelper for pickle.\u001b[0m                                                     \u001b[34m│\u001b[0m\n",
       "\u001b[34m│\u001b[0m      \u001b[2;3;33m__reduce_ex__\u001b[0m = \u001b[3;96mdef \u001b[0m\u001b[1;31m__reduce_ex__\u001b[0m\u001b[1m(\u001b[0mprotocol, \u001b[35m/\u001b[0m\u001b[1m)\u001b[0m: \u001b[2mHelper for pickle.\u001b[0m                                         \u001b[34m│\u001b[0m\n",
       "\u001b[34m│\u001b[0m           \u001b[2;3;33m__repr__\u001b[0m = \u001b[3;96mdef \u001b[0m\u001b[1;31m__repr__\u001b[0m\u001b[1m(\u001b[0m\u001b[1m)\u001b[0m: \u001b[2mReturn \u001b[0m\u001b[1;2;35mrepr\u001b[0m\u001b[1;2m(\u001b[0m\u001b[2mself\u001b[0m\u001b[1;2m)\u001b[0m\u001b[2m.\u001b[0m                                                         \u001b[34m│\u001b[0m\n",
       "\u001b[34m│\u001b[0m        \u001b[2;3;33m__setattr__\u001b[0m = \u001b[3;96mdef \u001b[0m\u001b[1;31m__setattr__\u001b[0m\u001b[1m(\u001b[0mname, value, \u001b[35m/\u001b[0m\u001b[1m)\u001b[0m: \u001b[2mImplement \u001b[0m\u001b[1;2;35msetattr\u001b[0m\u001b[1;2m(\u001b[0m\u001b[2mself, name, value\u001b[0m\u001b[1;2m)\u001b[0m\u001b[2m.\u001b[0m                     \u001b[34m│\u001b[0m\n",
       "\u001b[34m│\u001b[0m         \u001b[2;3;33m__sizeof__\u001b[0m = \u001b[3;96mdef \u001b[0m\u001b[1;31m__sizeof__\u001b[0m\u001b[1m(\u001b[0m\u001b[1m)\u001b[0m: \u001b[2mSize of object in memory, in bytes.\u001b[0m                                      \u001b[34m│\u001b[0m\n",
       "\u001b[34m│\u001b[0m            \u001b[2;3;33m__str__\u001b[0m = \u001b[3;96mdef \u001b[0m\u001b[1;31m__str__\u001b[0m\u001b[1m(\u001b[0m\u001b[1m)\u001b[0m: \u001b[2mReturn \u001b[0m\u001b[1;2;35mstr\u001b[0m\u001b[1;2m(\u001b[0m\u001b[2mself\u001b[0m\u001b[1;2m)\u001b[0m\u001b[2m.\u001b[0m                                                           \u001b[34m│\u001b[0m\n",
       "\u001b[34m│\u001b[0m   \u001b[2;3;33m__subclasshook__\u001b[0m = \u001b[3;96mdef \u001b[0m\u001b[1;31m__subclasshook__\u001b[0m\u001b[1m(\u001b[0m\u001b[33m...\u001b[0m\u001b[1m)\u001b[0m \u001b[2mAbstract classes can override this to customize \u001b[0m\u001b[1;2;35missubclass\u001b[0m\u001b[1;2m(\u001b[0m\u001b[1;2m)\u001b[0m\u001b[2m.\u001b[0m    \u001b[34m│\u001b[0m\n",
       "\u001b[34m╰─────────────────────────────────────────────────────────────────────────────────────────────────────────────────╯\u001b[0m\n"
      ]
     },
     "metadata": {},
     "output_type": "display_data"
    }
   ],
   "source": [
    "from rich import inspect\n",
    "\n",
    "inspect(eval(f\"np.random.{q}\"), methods=True, all=True)"
   ]
  },
  {
   "cell_type": "code",
   "execution_count": 63,
   "id": "41efae9d",
   "metadata": {},
   "outputs": [
    {
     "data": {
      "text/html": [
       "<pre style=\"white-space:pre;overflow-x:auto;line-height:normal;font-family:Menlo,'DejaVu Sans Mono',consolas,'Courier New',monospace\"><span style=\"color: #000080; text-decoration-color: #000080\">╭─────────────────────────────────────── </span><span style=\"color: #000080; text-decoration-color: #000080; font-weight: bold\">&lt;</span><span style=\"color: #ff00ff; text-decoration-color: #ff00ff; font-weight: bold\">function</span><span style=\"color: #000000; text-decoration-color: #000000\"> inspect at </span><span style=\"color: #008080; text-decoration-color: #008080; font-weight: bold\">0x10f3fc550</span><span style=\"color: #000080; text-decoration-color: #000080; font-weight: bold\">&gt;</span><span style=\"color: #000080; text-decoration-color: #000080\"> ───────────────────────────────────────╮</span>\n",
       "<span style=\"color: #000080; text-decoration-color: #000080\">│</span> <span style=\"color: #00ffff; text-decoration-color: #00ffff; font-style: italic\">def </span><span style=\"color: #800000; text-decoration-color: #800000; font-weight: bold\">inspect</span><span style=\"font-weight: bold\">(</span>obj: Any, *, console: Optional<span style=\"font-weight: bold\">[</span><span style=\"color: #800080; text-decoration-color: #800080; font-weight: bold\">ForwardRef</span><span style=\"font-weight: bold\">(</span><span style=\"color: #008000; text-decoration-color: #008000\">'Console'</span><span style=\"font-weight: bold\">)]</span> = <span style=\"color: #800080; text-decoration-color: #800080; font-style: italic\">None</span>, title: Optional<span style=\"font-weight: bold\">[</span>str<span style=\"font-weight: bold\">]</span> = <span style=\"color: #800080; text-decoration-color: #800080; font-style: italic\">None</span>, help:    <span style=\"color: #000080; text-decoration-color: #000080\">│</span>\n",
       "<span style=\"color: #000080; text-decoration-color: #000080\">│</span> bool = <span style=\"color: #ff0000; text-decoration-color: #ff0000; font-style: italic\">False</span>, methods: bool = <span style=\"color: #ff0000; text-decoration-color: #ff0000; font-style: italic\">False</span>, docs: bool = <span style=\"color: #00ff00; text-decoration-color: #00ff00; font-style: italic\">True</span>, private: bool = <span style=\"color: #ff0000; text-decoration-color: #ff0000; font-style: italic\">False</span>, dunder: bool = <span style=\"color: #ff0000; text-decoration-color: #ff0000; font-style: italic\">False</span>, sort: bool <span style=\"color: #000080; text-decoration-color: #000080\">│</span>\n",
       "<span style=\"color: #000080; text-decoration-color: #000080\">│</span> = <span style=\"color: #00ff00; text-decoration-color: #00ff00; font-style: italic\">True</span>, all: bool = <span style=\"color: #ff0000; text-decoration-color: #ff0000; font-style: italic\">False</span>, value: bool = <span style=\"color: #00ff00; text-decoration-color: #00ff00; font-style: italic\">True</span><span style=\"font-weight: bold\">)</span> -&gt; <span style=\"color: #800080; text-decoration-color: #800080; font-style: italic\">None</span>:                                                         <span style=\"color: #000080; text-decoration-color: #000080\">│</span>\n",
       "<span style=\"color: #000080; text-decoration-color: #000080\">│</span>                                                                                                                 <span style=\"color: #000080; text-decoration-color: #000080\">│</span>\n",
       "<span style=\"color: #000080; text-decoration-color: #000080\">│</span> <span style=\"color: #008080; text-decoration-color: #008080\">Inspect any Python object.</span>                                                                                      <span style=\"color: #000080; text-decoration-color: #000080\">│</span>\n",
       "<span style=\"color: #000080; text-decoration-color: #000080\">│</span>                                                                                                                 <span style=\"color: #000080; text-decoration-color: #000080\">│</span>\n",
       "<span style=\"color: #000080; text-decoration-color: #000080\">│</span> <span style=\"color: #008080; text-decoration-color: #008080\">* </span><span style=\"color: #800080; text-decoration-color: #800080; font-weight: bold\">inspect</span><span style=\"color: #008080; text-decoration-color: #008080; font-weight: bold\">(&lt;</span><span style=\"color: #ff00ff; text-decoration-color: #ff00ff; font-weight: bold\">OBJECT</span><span style=\"color: #008080; text-decoration-color: #008080; font-weight: bold\">&gt;)</span><span style=\"color: #008080; text-decoration-color: #008080\"> to see summarized info.</span>                                                                     <span style=\"color: #000080; text-decoration-color: #000080\">│</span>\n",
       "<span style=\"color: #000080; text-decoration-color: #000080\">│</span> <span style=\"color: #008080; text-decoration-color: #008080\">* </span><span style=\"color: #800080; text-decoration-color: #800080; font-weight: bold\">inspect</span><span style=\"color: #008080; text-decoration-color: #008080; font-weight: bold\">(&lt;</span><span style=\"color: #ff00ff; text-decoration-color: #ff00ff; font-weight: bold\">OBJECT</span><span style=\"color: #008080; text-decoration-color: #008080; font-weight: bold\">&gt;</span><span style=\"color: #008080; text-decoration-color: #008080\">, </span><span style=\"color: #808000; text-decoration-color: #808000\">methods</span><span style=\"color: #008080; text-decoration-color: #008080\">=</span><span style=\"color: #00ff00; text-decoration-color: #00ff00; font-style: italic\">True</span><span style=\"color: #008080; text-decoration-color: #008080; font-weight: bold\">)</span><span style=\"color: #008080; text-decoration-color: #008080\"> to see methods.</span>                                                               <span style=\"color: #000080; text-decoration-color: #000080\">│</span>\n",
       "<span style=\"color: #000080; text-decoration-color: #000080\">│</span> <span style=\"color: #008080; text-decoration-color: #008080\">* </span><span style=\"color: #800080; text-decoration-color: #800080; font-weight: bold\">inspect</span><span style=\"color: #008080; text-decoration-color: #008080; font-weight: bold\">(&lt;</span><span style=\"color: #ff00ff; text-decoration-color: #ff00ff; font-weight: bold\">OBJECT</span><span style=\"color: #008080; text-decoration-color: #008080; font-weight: bold\">&gt;</span><span style=\"color: #008080; text-decoration-color: #008080\">, </span><span style=\"color: #808000; text-decoration-color: #808000\">help</span><span style=\"color: #008080; text-decoration-color: #008080\">=</span><span style=\"color: #00ff00; text-decoration-color: #00ff00; font-style: italic\">True</span><span style=\"color: #008080; text-decoration-color: #008080; font-weight: bold\">)</span><span style=\"color: #008080; text-decoration-color: #008080\"> to see full </span><span style=\"color: #008080; text-decoration-color: #008080; font-weight: bold\">(</span><span style=\"color: #008080; text-decoration-color: #008080\">non-abbreviated</span><span style=\"color: #008080; text-decoration-color: #008080; font-weight: bold\">)</span><span style=\"color: #008080; text-decoration-color: #008080\"> help.</span>                                              <span style=\"color: #000080; text-decoration-color: #000080\">│</span>\n",
       "<span style=\"color: #000080; text-decoration-color: #000080\">│</span> <span style=\"color: #008080; text-decoration-color: #008080\">* </span><span style=\"color: #800080; text-decoration-color: #800080; font-weight: bold\">inspect</span><span style=\"color: #008080; text-decoration-color: #008080; font-weight: bold\">(&lt;</span><span style=\"color: #ff00ff; text-decoration-color: #ff00ff; font-weight: bold\">OBJECT</span><span style=\"color: #008080; text-decoration-color: #008080; font-weight: bold\">&gt;</span><span style=\"color: #008080; text-decoration-color: #008080\">, </span><span style=\"color: #808000; text-decoration-color: #808000\">private</span><span style=\"color: #008080; text-decoration-color: #008080\">=</span><span style=\"color: #00ff00; text-decoration-color: #00ff00; font-style: italic\">True</span><span style=\"color: #008080; text-decoration-color: #008080; font-weight: bold\">)</span><span style=\"color: #008080; text-decoration-color: #008080\"> to see private attributes </span><span style=\"color: #008080; text-decoration-color: #008080; font-weight: bold\">(</span><span style=\"color: #008080; text-decoration-color: #008080\">single underscore</span><span style=\"color: #008080; text-decoration-color: #008080; font-weight: bold\">)</span><span style=\"color: #008080; text-decoration-color: #008080\">.</span>                                <span style=\"color: #000080; text-decoration-color: #000080\">│</span>\n",
       "<span style=\"color: #000080; text-decoration-color: #000080\">│</span> <span style=\"color: #008080; text-decoration-color: #008080\">* </span><span style=\"color: #800080; text-decoration-color: #800080; font-weight: bold\">inspect</span><span style=\"color: #008080; text-decoration-color: #008080; font-weight: bold\">(&lt;</span><span style=\"color: #ff00ff; text-decoration-color: #ff00ff; font-weight: bold\">OBJECT</span><span style=\"color: #008080; text-decoration-color: #008080; font-weight: bold\">&gt;</span><span style=\"color: #008080; text-decoration-color: #008080\">, </span><span style=\"color: #808000; text-decoration-color: #808000\">dunder</span><span style=\"color: #008080; text-decoration-color: #008080\">=</span><span style=\"color: #00ff00; text-decoration-color: #00ff00; font-style: italic\">True</span><span style=\"color: #008080; text-decoration-color: #008080; font-weight: bold\">)</span><span style=\"color: #008080; text-decoration-color: #008080\"> to see attributes beginning with double underscore.</span>                            <span style=\"color: #000080; text-decoration-color: #000080\">│</span>\n",
       "<span style=\"color: #000080; text-decoration-color: #000080\">│</span> <span style=\"color: #008080; text-decoration-color: #008080\">* </span><span style=\"color: #800080; text-decoration-color: #800080; font-weight: bold\">inspect</span><span style=\"color: #008080; text-decoration-color: #008080; font-weight: bold\">(&lt;</span><span style=\"color: #ff00ff; text-decoration-color: #ff00ff; font-weight: bold\">OBJECT</span><span style=\"color: #008080; text-decoration-color: #008080; font-weight: bold\">&gt;</span><span style=\"color: #008080; text-decoration-color: #008080\">, </span><span style=\"color: #808000; text-decoration-color: #808000\">all</span><span style=\"color: #008080; text-decoration-color: #008080\">=</span><span style=\"color: #00ff00; text-decoration-color: #00ff00; font-style: italic\">True</span><span style=\"color: #008080; text-decoration-color: #008080; font-weight: bold\">)</span><span style=\"color: #008080; text-decoration-color: #008080\"> to see all attributes.</span>                                                            <span style=\"color: #000080; text-decoration-color: #000080\">│</span>\n",
       "<span style=\"color: #000080; text-decoration-color: #000080\">│</span>                                                                                                                 <span style=\"color: #000080; text-decoration-color: #000080\">│</span>\n",
       "<span style=\"color: #000080; text-decoration-color: #000080\">│</span> <span style=\"color: #008080; text-decoration-color: #008080\">Args:</span>                                                                                                           <span style=\"color: #000080; text-decoration-color: #000080\">│</span>\n",
       "<span style=\"color: #000080; text-decoration-color: #000080\">│</span> <span style=\"color: #008080; text-decoration-color: #008080\">    obj </span><span style=\"color: #008080; text-decoration-color: #008080; font-weight: bold\">(</span><span style=\"color: #008080; text-decoration-color: #008080\">Any</span><span style=\"color: #008080; text-decoration-color: #008080; font-weight: bold\">)</span><span style=\"color: #008080; text-decoration-color: #008080\">: An object to inspect.</span>                                                                            <span style=\"color: #000080; text-decoration-color: #000080\">│</span>\n",
       "<span style=\"color: #000080; text-decoration-color: #000080\">│</span> <span style=\"color: #008080; text-decoration-color: #008080\">    title </span><span style=\"color: #008080; text-decoration-color: #008080; font-weight: bold\">(</span><span style=\"color: #008080; text-decoration-color: #008080\">str, optional</span><span style=\"color: #008080; text-decoration-color: #008080; font-weight: bold\">)</span><span style=\"color: #008080; text-decoration-color: #008080\">: Title to display over inspect result, or </span><span style=\"color: #800080; text-decoration-color: #800080; font-style: italic\">None</span><span style=\"color: #008080; text-decoration-color: #008080\"> use type. Defaults to </span><span style=\"color: #800080; text-decoration-color: #800080; font-style: italic\">None</span><span style=\"color: #008080; text-decoration-color: #008080\">.</span>            <span style=\"color: #000080; text-decoration-color: #000080\">│</span>\n",
       "<span style=\"color: #000080; text-decoration-color: #000080\">│</span> <span style=\"color: #008080; text-decoration-color: #008080\">    help </span><span style=\"color: #008080; text-decoration-color: #008080; font-weight: bold\">(</span><span style=\"color: #008080; text-decoration-color: #008080\">bool, optional</span><span style=\"color: #008080; text-decoration-color: #008080; font-weight: bold\">)</span><span style=\"color: #008080; text-decoration-color: #008080\">: Show full help text rather than just first paragraph. Defaults to </span><span style=\"color: #ff0000; text-decoration-color: #ff0000; font-style: italic\">False</span><span style=\"color: #008080; text-decoration-color: #008080\">.</span>             <span style=\"color: #000080; text-decoration-color: #000080\">│</span>\n",
       "<span style=\"color: #000080; text-decoration-color: #000080\">│</span> <span style=\"color: #008080; text-decoration-color: #008080\">    methods </span><span style=\"color: #008080; text-decoration-color: #008080; font-weight: bold\">(</span><span style=\"color: #008080; text-decoration-color: #008080\">bool, optional</span><span style=\"color: #008080; text-decoration-color: #008080; font-weight: bold\">)</span><span style=\"color: #008080; text-decoration-color: #008080\">: Enable inspection of callables. Defaults to </span><span style=\"color: #ff0000; text-decoration-color: #ff0000; font-style: italic\">False</span><span style=\"color: #008080; text-decoration-color: #008080\">.</span>                                <span style=\"color: #000080; text-decoration-color: #000080\">│</span>\n",
       "<span style=\"color: #000080; text-decoration-color: #000080\">│</span> <span style=\"color: #008080; text-decoration-color: #008080\">    docs </span><span style=\"color: #008080; text-decoration-color: #008080; font-weight: bold\">(</span><span style=\"color: #008080; text-decoration-color: #008080\">bool, optional</span><span style=\"color: #008080; text-decoration-color: #008080; font-weight: bold\">)</span><span style=\"color: #008080; text-decoration-color: #008080\">: Also render doc strings. Defaults to </span><span style=\"color: #00ff00; text-decoration-color: #00ff00; font-style: italic\">True</span><span style=\"color: #008080; text-decoration-color: #008080\">.</span>                                           <span style=\"color: #000080; text-decoration-color: #000080\">│</span>\n",
       "<span style=\"color: #000080; text-decoration-color: #000080\">│</span> <span style=\"color: #008080; text-decoration-color: #008080\">    private </span><span style=\"color: #008080; text-decoration-color: #008080; font-weight: bold\">(</span><span style=\"color: #008080; text-decoration-color: #008080\">bool, optional</span><span style=\"color: #008080; text-decoration-color: #008080; font-weight: bold\">)</span><span style=\"color: #008080; text-decoration-color: #008080\">: Show private attributes </span><span style=\"color: #008080; text-decoration-color: #008080; font-weight: bold\">(</span><span style=\"color: #008080; text-decoration-color: #008080\">beginning with underscore</span><span style=\"color: #008080; text-decoration-color: #008080; font-weight: bold\">)</span><span style=\"color: #008080; text-decoration-color: #008080\">. Defaults to </span><span style=\"color: #ff0000; text-decoration-color: #ff0000; font-style: italic\">False</span><span style=\"color: #008080; text-decoration-color: #008080\">.</span>           <span style=\"color: #000080; text-decoration-color: #000080\">│</span>\n",
       "<span style=\"color: #000080; text-decoration-color: #000080\">│</span> <span style=\"color: #008080; text-decoration-color: #008080\">    dunder </span><span style=\"color: #008080; text-decoration-color: #008080; font-weight: bold\">(</span><span style=\"color: #008080; text-decoration-color: #008080\">bool, optional</span><span style=\"color: #008080; text-decoration-color: #008080; font-weight: bold\">)</span><span style=\"color: #008080; text-decoration-color: #008080\">: Show attributes starting with double underscore. Defaults to </span><span style=\"color: #ff0000; text-decoration-color: #ff0000; font-style: italic\">False</span><span style=\"color: #008080; text-decoration-color: #008080\">.</span>                <span style=\"color: #000080; text-decoration-color: #000080\">│</span>\n",
       "<span style=\"color: #000080; text-decoration-color: #000080\">│</span> <span style=\"color: #008080; text-decoration-color: #008080\">    sort </span><span style=\"color: #008080; text-decoration-color: #008080; font-weight: bold\">(</span><span style=\"color: #008080; text-decoration-color: #008080\">bool, optional</span><span style=\"color: #008080; text-decoration-color: #008080; font-weight: bold\">)</span><span style=\"color: #008080; text-decoration-color: #008080\">: Sort attributes alphabetically. Defaults to </span><span style=\"color: #00ff00; text-decoration-color: #00ff00; font-style: italic\">True</span><span style=\"color: #008080; text-decoration-color: #008080\">.</span>                                    <span style=\"color: #000080; text-decoration-color: #000080\">│</span>\n",
       "<span style=\"color: #000080; text-decoration-color: #000080\">│</span> <span style=\"color: #008080; text-decoration-color: #008080\">    all </span><span style=\"color: #008080; text-decoration-color: #008080; font-weight: bold\">(</span><span style=\"color: #008080; text-decoration-color: #008080\">bool, optional</span><span style=\"color: #008080; text-decoration-color: #008080; font-weight: bold\">)</span><span style=\"color: #008080; text-decoration-color: #008080\">: Show all attributes. Defaults to </span><span style=\"color: #ff0000; text-decoration-color: #ff0000; font-style: italic\">False</span><span style=\"color: #008080; text-decoration-color: #008080\">.</span>                                               <span style=\"color: #000080; text-decoration-color: #000080\">│</span>\n",
       "<span style=\"color: #000080; text-decoration-color: #000080\">│</span> <span style=\"color: #008080; text-decoration-color: #008080\">    value </span><span style=\"color: #008080; text-decoration-color: #008080; font-weight: bold\">(</span><span style=\"color: #008080; text-decoration-color: #008080\">bool, optional</span><span style=\"color: #008080; text-decoration-color: #008080; font-weight: bold\">)</span><span style=\"color: #008080; text-decoration-color: #008080\">: Pretty print value. Defaults to </span><span style=\"color: #00ff00; text-decoration-color: #00ff00; font-style: italic\">True</span><span style=\"color: #008080; text-decoration-color: #008080\">.</span>                                               <span style=\"color: #000080; text-decoration-color: #000080\">│</span>\n",
       "<span style=\"color: #000080; text-decoration-color: #000080\">│</span>                                                                                                                 <span style=\"color: #000080; text-decoration-color: #000080\">│</span>\n",
       "<span style=\"color: #000080; text-decoration-color: #000080\">│</span> <span style=\"color: #008080; text-decoration-color: #008080; font-weight: bold\">35</span><span style=\"font-style: italic\"> attribute(s) not shown.</span> Run <span style=\"color: #800080; text-decoration-color: #800080; font-weight: bold\">inspect</span><span style=\"font-weight: bold\">(</span>inspect<span style=\"font-weight: bold\">)</span> for options.                                                    <span style=\"color: #000080; text-decoration-color: #000080\">│</span>\n",
       "<span style=\"color: #000080; text-decoration-color: #000080\">╰─────────────────────────────────────────────────────────────────────────────────────────────────────────────────╯</span>\n",
       "</pre>\n"
      ],
      "text/plain": [
       "\u001b[34m╭─\u001b[0m\u001b[34m──────────────────────────────────────\u001b[0m\u001b[34m \u001b[0m\u001b[1;34m<\u001b[0m\u001b[1;95mfunction\u001b[0m\u001b[39m inspect at \u001b[0m\u001b[1;36m0x10f3fc550\u001b[0m\u001b[1;34m>\u001b[0m\u001b[34m \u001b[0m\u001b[34m──────────────────────────────────────\u001b[0m\u001b[34m─╮\u001b[0m\n",
       "\u001b[34m│\u001b[0m \u001b[3;96mdef \u001b[0m\u001b[1;31minspect\u001b[0m\u001b[1m(\u001b[0mobj: Any, *, console: Optional\u001b[1m[\u001b[0m\u001b[1;35mForwardRef\u001b[0m\u001b[1m(\u001b[0m\u001b[32m'Console'\u001b[0m\u001b[1m)\u001b[0m\u001b[1m]\u001b[0m = \u001b[3;35mNone\u001b[0m, title: Optional\u001b[1m[\u001b[0mstr\u001b[1m]\u001b[0m = \u001b[3;35mNone\u001b[0m, help:    \u001b[34m│\u001b[0m\n",
       "\u001b[34m│\u001b[0m bool = \u001b[3;91mFalse\u001b[0m, methods: bool = \u001b[3;91mFalse\u001b[0m, docs: bool = \u001b[3;92mTrue\u001b[0m, private: bool = \u001b[3;91mFalse\u001b[0m, dunder: bool = \u001b[3;91mFalse\u001b[0m, sort: bool \u001b[34m│\u001b[0m\n",
       "\u001b[34m│\u001b[0m = \u001b[3;92mTrue\u001b[0m, all: bool = \u001b[3;91mFalse\u001b[0m, value: bool = \u001b[3;92mTrue\u001b[0m\u001b[1m)\u001b[0m -> \u001b[3;35mNone\u001b[0m:                                                         \u001b[34m│\u001b[0m\n",
       "\u001b[34m│\u001b[0m                                                                                                                 \u001b[34m│\u001b[0m\n",
       "\u001b[34m│\u001b[0m \u001b[36mInspect any Python object.\u001b[0m                                                                                      \u001b[34m│\u001b[0m\n",
       "\u001b[34m│\u001b[0m                                                                                                                 \u001b[34m│\u001b[0m\n",
       "\u001b[34m│\u001b[0m \u001b[36m* \u001b[0m\u001b[1;35minspect\u001b[0m\u001b[1;36m(\u001b[0m\u001b[1;36m<\u001b[0m\u001b[1;95mOBJECT\u001b[0m\u001b[1;36m>\u001b[0m\u001b[1;36m)\u001b[0m\u001b[36m to see summarized info.\u001b[0m                                                                     \u001b[34m│\u001b[0m\n",
       "\u001b[34m│\u001b[0m \u001b[36m* \u001b[0m\u001b[1;35minspect\u001b[0m\u001b[1;36m(\u001b[0m\u001b[1;36m<\u001b[0m\u001b[1;95mOBJECT\u001b[0m\u001b[1;36m>\u001b[0m\u001b[36m, \u001b[0m\u001b[33mmethods\u001b[0m\u001b[36m=\u001b[0m\u001b[3;92mTrue\u001b[0m\u001b[1;36m)\u001b[0m\u001b[36m to see methods.\u001b[0m                                                               \u001b[34m│\u001b[0m\n",
       "\u001b[34m│\u001b[0m \u001b[36m* \u001b[0m\u001b[1;35minspect\u001b[0m\u001b[1;36m(\u001b[0m\u001b[1;36m<\u001b[0m\u001b[1;95mOBJECT\u001b[0m\u001b[1;36m>\u001b[0m\u001b[36m, \u001b[0m\u001b[33mhelp\u001b[0m\u001b[36m=\u001b[0m\u001b[3;92mTrue\u001b[0m\u001b[1;36m)\u001b[0m\u001b[36m to see full \u001b[0m\u001b[1;36m(\u001b[0m\u001b[36mnon-abbreviated\u001b[0m\u001b[1;36m)\u001b[0m\u001b[36m help.\u001b[0m                                              \u001b[34m│\u001b[0m\n",
       "\u001b[34m│\u001b[0m \u001b[36m* \u001b[0m\u001b[1;35minspect\u001b[0m\u001b[1;36m(\u001b[0m\u001b[1;36m<\u001b[0m\u001b[1;95mOBJECT\u001b[0m\u001b[1;36m>\u001b[0m\u001b[36m, \u001b[0m\u001b[33mprivate\u001b[0m\u001b[36m=\u001b[0m\u001b[3;92mTrue\u001b[0m\u001b[1;36m)\u001b[0m\u001b[36m to see private attributes \u001b[0m\u001b[1;36m(\u001b[0m\u001b[36msingle underscore\u001b[0m\u001b[1;36m)\u001b[0m\u001b[36m.\u001b[0m                                \u001b[34m│\u001b[0m\n",
       "\u001b[34m│\u001b[0m \u001b[36m* \u001b[0m\u001b[1;35minspect\u001b[0m\u001b[1;36m(\u001b[0m\u001b[1;36m<\u001b[0m\u001b[1;95mOBJECT\u001b[0m\u001b[1;36m>\u001b[0m\u001b[36m, \u001b[0m\u001b[33mdunder\u001b[0m\u001b[36m=\u001b[0m\u001b[3;92mTrue\u001b[0m\u001b[1;36m)\u001b[0m\u001b[36m to see attributes beginning with double underscore.\u001b[0m                            \u001b[34m│\u001b[0m\n",
       "\u001b[34m│\u001b[0m \u001b[36m* \u001b[0m\u001b[1;35minspect\u001b[0m\u001b[1;36m(\u001b[0m\u001b[1;36m<\u001b[0m\u001b[1;95mOBJECT\u001b[0m\u001b[1;36m>\u001b[0m\u001b[36m, \u001b[0m\u001b[33mall\u001b[0m\u001b[36m=\u001b[0m\u001b[3;92mTrue\u001b[0m\u001b[1;36m)\u001b[0m\u001b[36m to see all attributes.\u001b[0m                                                            \u001b[34m│\u001b[0m\n",
       "\u001b[34m│\u001b[0m                                                                                                                 \u001b[34m│\u001b[0m\n",
       "\u001b[34m│\u001b[0m \u001b[36mArgs:\u001b[0m                                                                                                           \u001b[34m│\u001b[0m\n",
       "\u001b[34m│\u001b[0m \u001b[36m    obj \u001b[0m\u001b[1;36m(\u001b[0m\u001b[36mAny\u001b[0m\u001b[1;36m)\u001b[0m\u001b[36m: An object to inspect.\u001b[0m                                                                            \u001b[34m│\u001b[0m\n",
       "\u001b[34m│\u001b[0m \u001b[36m    title \u001b[0m\u001b[1;36m(\u001b[0m\u001b[36mstr, optional\u001b[0m\u001b[1;36m)\u001b[0m\u001b[36m: Title to display over inspect result, or \u001b[0m\u001b[3;35mNone\u001b[0m\u001b[36m use type. Defaults to \u001b[0m\u001b[3;35mNone\u001b[0m\u001b[36m.\u001b[0m            \u001b[34m│\u001b[0m\n",
       "\u001b[34m│\u001b[0m \u001b[36m    help \u001b[0m\u001b[1;36m(\u001b[0m\u001b[36mbool, optional\u001b[0m\u001b[1;36m)\u001b[0m\u001b[36m: Show full help text rather than just first paragraph. Defaults to \u001b[0m\u001b[3;91mFalse\u001b[0m\u001b[36m.\u001b[0m             \u001b[34m│\u001b[0m\n",
       "\u001b[34m│\u001b[0m \u001b[36m    methods \u001b[0m\u001b[1;36m(\u001b[0m\u001b[36mbool, optional\u001b[0m\u001b[1;36m)\u001b[0m\u001b[36m: Enable inspection of callables. Defaults to \u001b[0m\u001b[3;91mFalse\u001b[0m\u001b[36m.\u001b[0m                                \u001b[34m│\u001b[0m\n",
       "\u001b[34m│\u001b[0m \u001b[36m    docs \u001b[0m\u001b[1;36m(\u001b[0m\u001b[36mbool, optional\u001b[0m\u001b[1;36m)\u001b[0m\u001b[36m: Also render doc strings. Defaults to \u001b[0m\u001b[3;92mTrue\u001b[0m\u001b[36m.\u001b[0m                                           \u001b[34m│\u001b[0m\n",
       "\u001b[34m│\u001b[0m \u001b[36m    private \u001b[0m\u001b[1;36m(\u001b[0m\u001b[36mbool, optional\u001b[0m\u001b[1;36m)\u001b[0m\u001b[36m: Show private attributes \u001b[0m\u001b[1;36m(\u001b[0m\u001b[36mbeginning with underscore\u001b[0m\u001b[1;36m)\u001b[0m\u001b[36m. Defaults to \u001b[0m\u001b[3;91mFalse\u001b[0m\u001b[36m.\u001b[0m           \u001b[34m│\u001b[0m\n",
       "\u001b[34m│\u001b[0m \u001b[36m    dunder \u001b[0m\u001b[1;36m(\u001b[0m\u001b[36mbool, optional\u001b[0m\u001b[1;36m)\u001b[0m\u001b[36m: Show attributes starting with double underscore. Defaults to \u001b[0m\u001b[3;91mFalse\u001b[0m\u001b[36m.\u001b[0m                \u001b[34m│\u001b[0m\n",
       "\u001b[34m│\u001b[0m \u001b[36m    sort \u001b[0m\u001b[1;36m(\u001b[0m\u001b[36mbool, optional\u001b[0m\u001b[1;36m)\u001b[0m\u001b[36m: Sort attributes alphabetically. Defaults to \u001b[0m\u001b[3;92mTrue\u001b[0m\u001b[36m.\u001b[0m                                    \u001b[34m│\u001b[0m\n",
       "\u001b[34m│\u001b[0m \u001b[36m    all \u001b[0m\u001b[1;36m(\u001b[0m\u001b[36mbool, optional\u001b[0m\u001b[1;36m)\u001b[0m\u001b[36m: Show all attributes. Defaults to \u001b[0m\u001b[3;91mFalse\u001b[0m\u001b[36m.\u001b[0m                                               \u001b[34m│\u001b[0m\n",
       "\u001b[34m│\u001b[0m \u001b[36m    value \u001b[0m\u001b[1;36m(\u001b[0m\u001b[36mbool, optional\u001b[0m\u001b[1;36m)\u001b[0m\u001b[36m: Pretty print value. Defaults to \u001b[0m\u001b[3;92mTrue\u001b[0m\u001b[36m.\u001b[0m                                               \u001b[34m│\u001b[0m\n",
       "\u001b[34m│\u001b[0m                                                                                                                 \u001b[34m│\u001b[0m\n",
       "\u001b[34m│\u001b[0m \u001b[1;36m35\u001b[0m\u001b[3m attribute(s) not shown.\u001b[0m Run \u001b[1;35minspect\u001b[0m\u001b[1m(\u001b[0minspect\u001b[1m)\u001b[0m for options.                                                    \u001b[34m│\u001b[0m\n",
       "\u001b[34m╰─────────────────────────────────────────────────────────────────────────────────────────────────────────────────╯\u001b[0m\n"
      ]
     },
     "metadata": {},
     "output_type": "display_data"
    }
   ],
   "source": [
    "inspect(inspect)"
   ]
  },
  {
   "cell_type": "code",
   "execution_count": 74,
   "id": "93a9cef0",
   "metadata": {},
   "outputs": [],
   "source": [
    "from dataclasses import dataclass\n",
    "\n",
    "\n",
    "@dataclass\n",
    "class InventoryItem:\n",
    "    \"\"\"Class for keeping track of an item in inventory.\"\"\"\n",
    "\n",
    "    name: str\n",
    "    unit_price: float\n",
    "    quantity_on_hand: int = 0\n"
   ]
  },
  {
   "cell_type": "code",
   "execution_count": 75,
   "id": "e493f80e",
   "metadata": {},
   "outputs": [],
   "source": [
    "c = InventoryItem(\"A\", 20)"
   ]
  },
  {
   "cell_type": "code",
   "execution_count": 76,
   "id": "5145291d",
   "metadata": {},
   "outputs": [
    {
     "data": {
      "text/plain": [
       "InventoryItem(name='A', unit_price=20, quantity_on_hand=0)"
      ]
     },
     "execution_count": 76,
     "metadata": {},
     "output_type": "execute_result"
    }
   ],
   "source": [
    "c"
   ]
  },
  {
   "cell_type": "code",
   "execution_count": 69,
   "id": "166ae8a5",
   "metadata": {},
   "outputs": [],
   "source": [
    "class InventoryItemOld:\n",
    "    def __init__(self, name: str, unit_price: float, \n",
    "                 quantity_on_hand: int = 0):\n",
    "        self.name = name\n",
    "        self.unit_price = unit_price\n",
    "        self.quantity_on_hand = quantity_on_hand"
   ]
  },
  {
   "cell_type": "code",
   "execution_count": 73,
   "id": "3a13779e",
   "metadata": {},
   "outputs": [
    {
     "data": {
      "text/plain": [
       "<__main__.InventoryItemOld at 0x166340430>"
      ]
     },
     "execution_count": 73,
     "metadata": {},
     "output_type": "execute_result"
    }
   ],
   "source": [
    "d = InventoryItemOld(\"A\", 2)\n",
    "d"
   ]
  },
  {
   "cell_type": "code",
   "execution_count": 70,
   "id": "fb203e60",
   "metadata": {},
   "outputs": [],
   "source": [
    "def greeting(name: str) -> str:\n",
    "    return 'Hello ' + name"
   ]
  },
  {
   "cell_type": "code",
   "execution_count": 71,
   "id": "f8aed6ae",
   "metadata": {},
   "outputs": [
    {
     "data": {
      "text/plain": [
       "'Hello Abc'"
      ]
     },
     "execution_count": 71,
     "metadata": {},
     "output_type": "execute_result"
    }
   ],
   "source": [
    "greeting(\"Abc\")"
   ]
  },
  {
   "cell_type": "code",
   "execution_count": 72,
   "id": "531faef0",
   "metadata": {},
   "outputs": [
    {
     "ename": "TypeError",
     "evalue": "can only concatenate str (not \"int\") to str",
     "output_type": "error",
     "traceback": [
      "\u001b[0;31m---------------------------------------------------------------------------\u001b[0m",
      "\u001b[0;31mTypeError\u001b[0m                                 Traceback (most recent call last)",
      "Input \u001b[0;32mIn [72]\u001b[0m, in \u001b[0;36m<cell line: 1>\u001b[0;34m()\u001b[0m\n\u001b[0;32m----> 1\u001b[0m \u001b[43mgreeting\u001b[49m\u001b[43m(\u001b[49m\u001b[38;5;241;43m10\u001b[39;49m\u001b[43m)\u001b[49m\n",
      "Input \u001b[0;32mIn [70]\u001b[0m, in \u001b[0;36mgreeting\u001b[0;34m(name)\u001b[0m\n\u001b[1;32m      1\u001b[0m \u001b[38;5;28;01mdef\u001b[39;00m \u001b[38;5;21mgreeting\u001b[39m(name: \u001b[38;5;28mstr\u001b[39m) \u001b[38;5;241m-\u001b[39m\u001b[38;5;241m>\u001b[39m \u001b[38;5;28mstr\u001b[39m:\n\u001b[0;32m----> 2\u001b[0m     \u001b[38;5;28;01mreturn\u001b[39;00m \u001b[38;5;124;43m'\u001b[39;49m\u001b[38;5;124;43mHello \u001b[39;49m\u001b[38;5;124;43m'\u001b[39;49m\u001b[43m \u001b[49m\u001b[38;5;241;43m+\u001b[39;49m\u001b[43m \u001b[49m\u001b[43mname\u001b[49m\n",
      "\u001b[0;31mTypeError\u001b[0m: can only concatenate str (not \"int\") to str"
     ]
    }
   ],
   "source": [
    "greeting(10)"
   ]
  },
  {
   "cell_type": "code",
   "execution_count": null,
   "id": "5c86767c",
   "metadata": {},
   "outputs": [],
   "source": []
  }
 ],
 "metadata": {
  "kernelspec": {
   "display_name": "base",
   "language": "python",
   "name": "python3"
  },
  "language_info": {
   "codemirror_mode": {
    "name": "ipython",
    "version": 3
   },
   "file_extension": ".py",
   "mimetype": "text/x-python",
   "name": "python",
   "nbconvert_exporter": "python",
   "pygments_lexer": "ipython3",
   "version": "3.8.13"
  },
  "vscode": {
   "interpreter": {
    "hash": "a5a8a649fae9f7dd41e8adc1d2fca9d99b1b7a58cc684de3b9310442441ba4ba"
   }
  }
 },
 "nbformat": 4,
 "nbformat_minor": 5
}
