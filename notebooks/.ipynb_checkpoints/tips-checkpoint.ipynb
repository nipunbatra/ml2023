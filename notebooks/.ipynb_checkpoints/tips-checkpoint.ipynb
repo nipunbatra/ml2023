{
 "cells": [
  {
   "cell_type": "code",
   "execution_count": 1,
   "id": "38fe53f7",
   "metadata": {},
   "outputs": [],
   "source": [
    "import matplotlib.pyplot as plt\n",
    "import numpy as np\n",
    "import pandas as pd"
   ]
  },
  {
   "cell_type": "code",
   "execution_count": 38,
   "id": "f8a5693f",
   "metadata": {},
   "outputs": [],
   "source": [
    "d = {\n",
    "    r\"$\\sin$\": np.sin,\n",
    "    \"log\": np.log,\n",
    "    r\"$\\frac{sin(x)}{x}$\": lambda x: np.sin(x) / x,\n",
    "    \"x^3\": lambda x: np.power(x, 3),\n",
    "}"
   ]
  },
  {
   "cell_type": "code",
   "execution_count": 39,
   "id": "025c31fe",
   "metadata": {},
   "outputs": [
    {
     "data": {
      "text/plain": [
       "{'$\\\\sin$': <ufunc 'sin'>,\n",
       " 'log': <ufunc 'log'>,\n",
       " '$\\\\frac{sin(x)}{x}$': <function __main__.<lambda>(x)>,\n",
       " 'x^3': <function __main__.<lambda>(x)>}"
      ]
     },
     "execution_count": 39,
     "metadata": {},
     "output_type": "execute_result"
    }
   ],
   "source": [
    "d"
   ]
  },
  {
   "cell_type": "code",
   "execution_count": 40,
   "id": "bdf038fd",
   "metadata": {},
   "outputs": [],
   "source": [
    "x = np.arange(0.005, 10.0, 0.005)"
   ]
  },
  {
   "cell_type": "code",
   "execution_count": 41,
   "id": "611faf80",
   "metadata": {},
   "outputs": [],
   "source": [
    "e = {k: v(x) for k, v in d.items()}"
   ]
  },
  {
   "cell_type": "code",
   "execution_count": 42,
   "id": "a92cdcb0",
   "metadata": {},
   "outputs": [
    {
     "data": {
      "text/plain": [
       "{'$\\\\sin$': array([ 0.00499998,  0.00999983,  0.01499944, ..., -0.53137431,\n",
       "        -0.53560333, -0.53981897]),\n",
       " 'log': array([-5.29831737, -4.60517019, -4.19970508, ...,  2.30108397,\n",
       "         2.30158459,  2.30208497]),\n",
       " '$\\\\frac{sin(x)}{x}$': array([ 0.99999583,  0.99998333,  0.9999625 , ..., -0.05321726,\n",
       "        -0.05361395, -0.0540089 ]),\n",
       " 'x^3': array([1.25000000e-07, 1.00000000e-06, 3.37500000e-06, ...,\n",
       "        9.95506747e+02, 9.97002999e+02, 9.98500750e+02])}"
      ]
     },
     "execution_count": 42,
     "metadata": {},
     "output_type": "execute_result"
    }
   ],
   "source": [
    "e"
   ]
  },
  {
   "cell_type": "code",
   "execution_count": 43,
   "id": "2ff4c7fa",
   "metadata": {},
   "outputs": [],
   "source": [
    "df = pd.DataFrame(e, index=x)"
   ]
  },
  {
   "cell_type": "code",
   "execution_count": 44,
   "id": "86a8e392",
   "metadata": {},
   "outputs": [
    {
     "data": {
      "text/html": [
       "<div>\n",
       "<style scoped>\n",
       "    .dataframe tbody tr th:only-of-type {\n",
       "        vertical-align: middle;\n",
       "    }\n",
       "\n",
       "    .dataframe tbody tr th {\n",
       "        vertical-align: top;\n",
       "    }\n",
       "\n",
       "    .dataframe thead th {\n",
       "        text-align: right;\n",
       "    }\n",
       "</style>\n",
       "<table border=\"1\" class=\"dataframe\">\n",
       "  <thead>\n",
       "    <tr style=\"text-align: right;\">\n",
       "      <th></th>\n",
       "      <th>$\\sin$</th>\n",
       "      <th>log</th>\n",
       "      <th>$\\frac{sin(x)}{x}$</th>\n",
       "      <th>x^3</th>\n",
       "    </tr>\n",
       "  </thead>\n",
       "  <tbody>\n",
       "    <tr>\n",
       "      <th>0.005</th>\n",
       "      <td>0.005000</td>\n",
       "      <td>-5.298317</td>\n",
       "      <td>0.999996</td>\n",
       "      <td>1.250000e-07</td>\n",
       "    </tr>\n",
       "    <tr>\n",
       "      <th>0.010</th>\n",
       "      <td>0.010000</td>\n",
       "      <td>-4.605170</td>\n",
       "      <td>0.999983</td>\n",
       "      <td>1.000000e-06</td>\n",
       "    </tr>\n",
       "    <tr>\n",
       "      <th>0.015</th>\n",
       "      <td>0.014999</td>\n",
       "      <td>-4.199705</td>\n",
       "      <td>0.999963</td>\n",
       "      <td>3.375000e-06</td>\n",
       "    </tr>\n",
       "    <tr>\n",
       "      <th>0.020</th>\n",
       "      <td>0.019999</td>\n",
       "      <td>-3.912023</td>\n",
       "      <td>0.999933</td>\n",
       "      <td>8.000000e-06</td>\n",
       "    </tr>\n",
       "    <tr>\n",
       "      <th>0.025</th>\n",
       "      <td>0.024997</td>\n",
       "      <td>-3.688879</td>\n",
       "      <td>0.999896</td>\n",
       "      <td>1.562500e-05</td>\n",
       "    </tr>\n",
       "    <tr>\n",
       "      <th>...</th>\n",
       "      <td>...</td>\n",
       "      <td>...</td>\n",
       "      <td>...</td>\n",
       "      <td>...</td>\n",
       "    </tr>\n",
       "    <tr>\n",
       "      <th>9.975</th>\n",
       "      <td>-0.522877</td>\n",
       "      <td>2.300082</td>\n",
       "      <td>-0.052419</td>\n",
       "      <td>9.925187e+02</td>\n",
       "    </tr>\n",
       "    <tr>\n",
       "      <th>9.980</th>\n",
       "      <td>-0.527132</td>\n",
       "      <td>2.300583</td>\n",
       "      <td>-0.052819</td>\n",
       "      <td>9.940120e+02</td>\n",
       "    </tr>\n",
       "    <tr>\n",
       "      <th>9.985</th>\n",
       "      <td>-0.531374</td>\n",
       "      <td>2.301084</td>\n",
       "      <td>-0.053217</td>\n",
       "      <td>9.955067e+02</td>\n",
       "    </tr>\n",
       "    <tr>\n",
       "      <th>9.990</th>\n",
       "      <td>-0.535603</td>\n",
       "      <td>2.301585</td>\n",
       "      <td>-0.053614</td>\n",
       "      <td>9.970030e+02</td>\n",
       "    </tr>\n",
       "    <tr>\n",
       "      <th>9.995</th>\n",
       "      <td>-0.539819</td>\n",
       "      <td>2.302085</td>\n",
       "      <td>-0.054009</td>\n",
       "      <td>9.985007e+02</td>\n",
       "    </tr>\n",
       "  </tbody>\n",
       "</table>\n",
       "<p>1999 rows × 4 columns</p>\n",
       "</div>"
      ],
      "text/plain": [
       "         $\\sin$       log  $\\frac{sin(x)}{x}$           x^3\n",
       "0.005  0.005000 -5.298317            0.999996  1.250000e-07\n",
       "0.010  0.010000 -4.605170            0.999983  1.000000e-06\n",
       "0.015  0.014999 -4.199705            0.999963  3.375000e-06\n",
       "0.020  0.019999 -3.912023            0.999933  8.000000e-06\n",
       "0.025  0.024997 -3.688879            0.999896  1.562500e-05\n",
       "...         ...       ...                 ...           ...\n",
       "9.975 -0.522877  2.300082           -0.052419  9.925187e+02\n",
       "9.980 -0.527132  2.300583           -0.052819  9.940120e+02\n",
       "9.985 -0.531374  2.301084           -0.053217  9.955067e+02\n",
       "9.990 -0.535603  2.301585           -0.053614  9.970030e+02\n",
       "9.995 -0.539819  2.302085           -0.054009  9.985007e+02\n",
       "\n",
       "[1999 rows x 4 columns]"
      ]
     },
     "execution_count": 44,
     "metadata": {},
     "output_type": "execute_result"
    }
   ],
   "source": [
    "df"
   ]
  },
  {
   "cell_type": "code",
   "execution_count": 45,
   "id": "ca4df2fe",
   "metadata": {},
   "outputs": [
    {
     "data": {
      "text/plain": [
       "array([<AxesSubplot: >, <AxesSubplot: >, <AxesSubplot: >, <AxesSubplot: >],\n",
       "      dtype=object)"
      ]
     },
     "execution_count": 45,
     "metadata": {},
     "output_type": "execute_result"
    },
    {
     "data": {
      "image/png": "[encoded data removed]",
      "text/plain": [
       "<Figure size 640x480 with 4 Axes>"
      ]
     },
     "metadata": {},
     "output_type": "display_data"
    }
   ],
   "source": [
    "df.plot(subplots=True)"
   ]
  },
  {
   "cell_type": "code",
   "execution_count": 46,
   "id": "0195d314",
   "metadata": {},
   "outputs": [
    {
     "data": {
      "text/html": [
       "<div>\n",
       "<style scoped>\n",
       "    .dataframe tbody tr th:only-of-type {\n",
       "        vertical-align: middle;\n",
       "    }\n",
       "\n",
       "    .dataframe tbody tr th {\n",
       "        vertical-align: top;\n",
       "    }\n",
       "\n",
       "    .dataframe thead th {\n",
       "        text-align: right;\n",
       "    }\n",
       "</style>\n",
       "<table border=\"1\" class=\"dataframe\">\n",
       "  <thead>\n",
       "    <tr style=\"text-align: right;\">\n",
       "      <th></th>\n",
       "      <th>$\\sin$</th>\n",
       "      <th>log</th>\n",
       "      <th>$\\frac{sin(x)}{x}$</th>\n",
       "      <th>x^3</th>\n",
       "    </tr>\n",
       "  </thead>\n",
       "  <tbody>\n",
       "    <tr>\n",
       "      <th>0.005</th>\n",
       "      <td>0.005000</td>\n",
       "      <td>-5.298317</td>\n",
       "      <td>0.999996</td>\n",
       "      <td>1.250000e-07</td>\n",
       "    </tr>\n",
       "    <tr>\n",
       "      <th>0.010</th>\n",
       "      <td>0.010000</td>\n",
       "      <td>-4.605170</td>\n",
       "      <td>0.999983</td>\n",
       "      <td>1.000000e-06</td>\n",
       "    </tr>\n",
       "    <tr>\n",
       "      <th>0.015</th>\n",
       "      <td>0.014999</td>\n",
       "      <td>-4.199705</td>\n",
       "      <td>0.999963</td>\n",
       "      <td>3.375000e-06</td>\n",
       "    </tr>\n",
       "    <tr>\n",
       "      <th>0.020</th>\n",
       "      <td>0.019999</td>\n",
       "      <td>-3.912023</td>\n",
       "      <td>0.999933</td>\n",
       "      <td>8.000000e-06</td>\n",
       "    </tr>\n",
       "    <tr>\n",
       "      <th>0.025</th>\n",
       "      <td>0.024997</td>\n",
       "      <td>-3.688879</td>\n",
       "      <td>0.999896</td>\n",
       "      <td>1.562500e-05</td>\n",
       "    </tr>\n",
       "    <tr>\n",
       "      <th>...</th>\n",
       "      <td>...</td>\n",
       "      <td>...</td>\n",
       "      <td>...</td>\n",
       "      <td>...</td>\n",
       "    </tr>\n",
       "    <tr>\n",
       "      <th>9.975</th>\n",
       "      <td>-0.522877</td>\n",
       "      <td>2.300082</td>\n",
       "      <td>-0.052419</td>\n",
       "      <td>9.925187e+02</td>\n",
       "    </tr>\n",
       "    <tr>\n",
       "      <th>9.980</th>\n",
       "      <td>-0.527132</td>\n",
       "      <td>2.300583</td>\n",
       "      <td>-0.052819</td>\n",
       "      <td>9.940120e+02</td>\n",
       "    </tr>\n",
       "    <tr>\n",
       "      <th>9.985</th>\n",
       "      <td>-0.531374</td>\n",
       "      <td>2.301084</td>\n",
       "      <td>-0.053217</td>\n",
       "      <td>9.955067e+02</td>\n",
       "    </tr>\n",
       "    <tr>\n",
       "      <th>9.990</th>\n",
       "      <td>-0.535603</td>\n",
       "      <td>2.301585</td>\n",
       "      <td>-0.053614</td>\n",
       "      <td>9.970030e+02</td>\n",
       "    </tr>\n",
       "    <tr>\n",
       "      <th>9.995</th>\n",
       "      <td>-0.539819</td>\n",
       "      <td>2.302085</td>\n",
       "      <td>-0.054009</td>\n",
       "      <td>9.985007e+02</td>\n",
       "    </tr>\n",
       "  </tbody>\n",
       "</table>\n",
       "<p>1999 rows × 4 columns</p>\n",
       "</div>"
      ],
      "text/plain": [
       "         $\\sin$       log  $\\frac{sin(x)}{x}$           x^3\n",
       "0.005  0.005000 -5.298317            0.999996  1.250000e-07\n",
       "0.010  0.010000 -4.605170            0.999983  1.000000e-06\n",
       "0.015  0.014999 -4.199705            0.999963  3.375000e-06\n",
       "0.020  0.019999 -3.912023            0.999933  8.000000e-06\n",
       "0.025  0.024997 -3.688879            0.999896  1.562500e-05\n",
       "...         ...       ...                 ...           ...\n",
       "9.975 -0.522877  2.300082           -0.052419  9.925187e+02\n",
       "9.980 -0.527132  2.300583           -0.052819  9.940120e+02\n",
       "9.985 -0.531374  2.301084           -0.053217  9.955067e+02\n",
       "9.990 -0.535603  2.301585           -0.053614  9.970030e+02\n",
       "9.995 -0.539819  2.302085           -0.054009  9.985007e+02\n",
       "\n",
       "[1999 rows x 4 columns]"
      ]
     },
     "execution_count": 46,
     "metadata": {},
     "output_type": "execute_result"
    }
   ],
   "source": [
    "df"
   ]
  },
  {
   "cell_type": "code",
   "execution_count": 52,
   "id": "dd3f9ac3",
   "metadata": {},
   "outputs": [
    {
     "data": {
      "text/plain": [
       "<AxesSubplot: >"
      ]
     },
     "execution_count": 52,
     "metadata": {},
     "output_type": "execute_result"
    },
    {
     "data": {
      "image/png": "[encoded data removed]",
      "text/plain": [
       "<Figure size 640x480 with 1 Axes>"
      ]
     },
     "metadata": {},
     "output_type": "display_data"
    }
   ],
   "source": [
    "((df - df.min(axis=0)) / (df.max(axis=0) - df.min(axis=0))).plot()"
   ]
  },
  {
   "cell_type": "code",
   "execution_count": 53,
   "id": "9232a94b",
   "metadata": {},
   "outputs": [
    {
     "data": {
      "text/html": [
       "<div>\n",
       "<style scoped>\n",
       "    .dataframe tbody tr th:only-of-type {\n",
       "        vertical-align: middle;\n",
       "    }\n",
       "\n",
       "    .dataframe tbody tr th {\n",
       "        vertical-align: top;\n",
       "    }\n",
       "\n",
       "    .dataframe thead th {\n",
       "        text-align: right;\n",
       "    }\n",
       "</style>\n",
       "<table border=\"1\" class=\"dataframe\">\n",
       "  <thead>\n",
       "    <tr style=\"text-align: right;\">\n",
       "      <th></th>\n",
       "      <th>$\\sin$</th>\n",
       "      <th>log</th>\n",
       "      <th>$\\frac{sin(x)}{x}$</th>\n",
       "      <th>x^3</th>\n",
       "    </tr>\n",
       "  </thead>\n",
       "  <tbody>\n",
       "    <tr>\n",
       "      <th>count</th>\n",
       "      <td>1999.000000</td>\n",
       "      <td>1999.000000</td>\n",
       "      <td>1999.000000</td>\n",
       "      <td>1999.000000</td>\n",
       "    </tr>\n",
       "    <tr>\n",
       "      <th>mean</th>\n",
       "      <td>0.592067</td>\n",
       "      <td>0.868739</td>\n",
       "      <td>0.314579</td>\n",
       "      <td>0.250250</td>\n",
       "    </tr>\n",
       "    <tr>\n",
       "      <th>std</th>\n",
       "      <td>0.333039</td>\n",
       "      <td>0.130433</td>\n",
       "      <td>0.289645</td>\n",
       "      <td>0.283765</td>\n",
       "    </tr>\n",
       "    <tr>\n",
       "      <th>min</th>\n",
       "      <td>0.000000</td>\n",
       "      <td>0.000000</td>\n",
       "      <td>0.000000</td>\n",
       "      <td>0.000000</td>\n",
       "    </tr>\n",
       "    <tr>\n",
       "      <th>25%</th>\n",
       "      <td>0.303305</td>\n",
       "      <td>0.817800</td>\n",
       "      <td>0.122614</td>\n",
       "      <td>0.015696</td>\n",
       "    </tr>\n",
       "    <tr>\n",
       "      <th>50%</th>\n",
       "      <td>0.658039</td>\n",
       "      <td>0.908867</td>\n",
       "      <td>0.232954</td>\n",
       "      <td>0.125188</td>\n",
       "    </tr>\n",
       "    <tr>\n",
       "      <th>75%</th>\n",
       "      <td>0.905481</td>\n",
       "      <td>0.962171</td>\n",
       "      <td>0.374278</td>\n",
       "      <td>0.422086</td>\n",
       "    </tr>\n",
       "    <tr>\n",
       "      <th>max</th>\n",
       "      <td>1.000000</td>\n",
       "      <td>1.000000</td>\n",
       "      <td>1.000000</td>\n",
       "      <td>1.000000</td>\n",
       "    </tr>\n",
       "  </tbody>\n",
       "</table>\n",
       "</div>"
      ],
      "text/plain": [
       "            $\\sin$          log  $\\frac{sin(x)}{x}$          x^3\n",
       "count  1999.000000  1999.000000         1999.000000  1999.000000\n",
       "mean      0.592067     0.868739            0.314579     0.250250\n",
       "std       0.333039     0.130433            0.289645     0.283765\n",
       "min       0.000000     0.000000            0.000000     0.000000\n",
       "25%       0.303305     0.817800            0.122614     0.015696\n",
       "50%       0.658039     0.908867            0.232954     0.125188\n",
       "75%       0.905481     0.962171            0.374278     0.422086\n",
       "max       1.000000     1.000000            1.000000     1.000000"
      ]
     },
     "execution_count": 53,
     "metadata": {},
     "output_type": "execute_result"
    }
   ],
   "source": [
    "((df - df.min(axis=0)) / (df.max(axis=0) - df.min(axis=0))).describe()"
   ]
  },
  {
   "cell_type": "code",
   "execution_count": 59,
   "id": "b0081b2b",
   "metadata": {},
   "outputs": [
    {
     "data": {
      "text/html": [
       "<div>\n",
       "<style scoped>\n",
       "    .dataframe tbody tr th:only-of-type {\n",
       "        vertical-align: middle;\n",
       "    }\n",
       "\n",
       "    .dataframe tbody tr th {\n",
       "        vertical-align: top;\n",
       "    }\n",
       "\n",
       "    .dataframe thead th {\n",
       "        text-align: right;\n",
       "    }\n",
       "</style>\n",
       "<table border=\"1\" class=\"dataframe\">\n",
       "  <thead>\n",
       "    <tr style=\"text-align: right;\">\n",
       "      <th></th>\n",
       "      <th>a</th>\n",
       "      <th>b</th>\n",
       "      <th>c</th>\n",
       "      <th>d</th>\n",
       "      <th>e</th>\n",
       "    </tr>\n",
       "  </thead>\n",
       "  <tbody>\n",
       "    <tr>\n",
       "      <th>0</th>\n",
       "      <td>0.433458</td>\n",
       "      <td>0.896580</td>\n",
       "      <td>0.408255</td>\n",
       "      <td>-0.079099</td>\n",
       "      <td>1.153114</td>\n",
       "    </tr>\n",
       "    <tr>\n",
       "      <th>1</th>\n",
       "      <td>0.331918</td>\n",
       "      <td>-1.014180</td>\n",
       "      <td>-0.758101</td>\n",
       "      <td>-0.709949</td>\n",
       "      <td>1.973469</td>\n",
       "    </tr>\n",
       "    <tr>\n",
       "      <th>2</th>\n",
       "      <td>-0.294558</td>\n",
       "      <td>0.051169</td>\n",
       "      <td>-2.902575</td>\n",
       "      <td>0.618588</td>\n",
       "      <td>-0.670191</td>\n",
       "    </tr>\n",
       "    <tr>\n",
       "      <th>3</th>\n",
       "      <td>0.167752</td>\n",
       "      <td>-0.763270</td>\n",
       "      <td>-0.976607</td>\n",
       "      <td>-0.478123</td>\n",
       "      <td>-0.967413</td>\n",
       "    </tr>\n",
       "    <tr>\n",
       "      <th>4</th>\n",
       "      <td>-0.545162</td>\n",
       "      <td>1.202343</td>\n",
       "      <td>-0.754906</td>\n",
       "      <td>1.343849</td>\n",
       "      <td>0.383056</td>\n",
       "    </tr>\n",
       "    <tr>\n",
       "      <th>...</th>\n",
       "      <td>...</td>\n",
       "      <td>...</td>\n",
       "      <td>...</td>\n",
       "      <td>...</td>\n",
       "      <td>...</td>\n",
       "    </tr>\n",
       "    <tr>\n",
       "      <th>995</th>\n",
       "      <td>1.280088</td>\n",
       "      <td>1.851320</td>\n",
       "      <td>-0.122801</td>\n",
       "      <td>0.548702</td>\n",
       "      <td>-0.160883</td>\n",
       "    </tr>\n",
       "    <tr>\n",
       "      <th>996</th>\n",
       "      <td>0.304803</td>\n",
       "      <td>1.505899</td>\n",
       "      <td>0.574630</td>\n",
       "      <td>-0.231856</td>\n",
       "      <td>1.172220</td>\n",
       "    </tr>\n",
       "    <tr>\n",
       "      <th>997</th>\n",
       "      <td>0.136271</td>\n",
       "      <td>-0.159211</td>\n",
       "      <td>0.346879</td>\n",
       "      <td>-1.536678</td>\n",
       "      <td>-0.599123</td>\n",
       "    </tr>\n",
       "    <tr>\n",
       "      <th>998</th>\n",
       "      <td>1.336331</td>\n",
       "      <td>-0.192232</td>\n",
       "      <td>-1.095259</td>\n",
       "      <td>0.592955</td>\n",
       "      <td>-0.308382</td>\n",
       "    </tr>\n",
       "    <tr>\n",
       "      <th>999</th>\n",
       "      <td>0.131540</td>\n",
       "      <td>0.313136</td>\n",
       "      <td>-0.184433</td>\n",
       "      <td>-1.386817</td>\n",
       "      <td>1.117958</td>\n",
       "    </tr>\n",
       "  </tbody>\n",
       "</table>\n",
       "<p>1000 rows × 5 columns</p>\n",
       "</div>"
      ],
      "text/plain": [
       "            a         b         c         d         e\n",
       "0    0.433458  0.896580  0.408255 -0.079099  1.153114\n",
       "1    0.331918 -1.014180 -0.758101 -0.709949  1.973469\n",
       "2   -0.294558  0.051169 -2.902575  0.618588 -0.670191\n",
       "3    0.167752 -0.763270 -0.976607 -0.478123 -0.967413\n",
       "4   -0.545162  1.202343 -0.754906  1.343849  0.383056\n",
       "..        ...       ...       ...       ...       ...\n",
       "995  1.280088  1.851320 -0.122801  0.548702 -0.160883\n",
       "996  0.304803  1.505899  0.574630 -0.231856  1.172220\n",
       "997  0.136271 -0.159211  0.346879 -1.536678 -0.599123\n",
       "998  1.336331 -0.192232 -1.095259  0.592955 -0.308382\n",
       "999  0.131540  0.313136 -0.184433 -1.386817  1.117958\n",
       "\n",
       "[1000 rows x 5 columns]"
      ]
     },
     "execution_count": 59,
     "metadata": {},
     "output_type": "execute_result"
    }
   ],
   "source": [
    "df = pd.DataFrame(np.random.randn(1000, 5), columns=\"a,b,c,d,e\".split(\",\"))\n",
    "df"
   ]
  },
  {
   "cell_type": "code",
   "execution_count": 61,
   "id": "adc88a7d",
   "metadata": {},
   "outputs": [],
   "source": [
    "df = df.assign(f=df.sum(axis=1))"
   ]
  },
  {
   "cell_type": "code",
   "execution_count": 62,
   "id": "5cb4d055",
   "metadata": {},
   "outputs": [
    {
     "data": {
      "text/html": [
       "<div>\n",
       "<style scoped>\n",
       "    .dataframe tbody tr th:only-of-type {\n",
       "        vertical-align: middle;\n",
       "    }\n",
       "\n",
       "    .dataframe tbody tr th {\n",
       "        vertical-align: top;\n",
       "    }\n",
       "\n",
       "    .dataframe thead th {\n",
       "        text-align: right;\n",
       "    }\n",
       "</style>\n",
       "<table border=\"1\" class=\"dataframe\">\n",
       "  <thead>\n",
       "    <tr style=\"text-align: right;\">\n",
       "      <th></th>\n",
       "      <th>a</th>\n",
       "      <th>b</th>\n",
       "      <th>c</th>\n",
       "      <th>d</th>\n",
       "      <th>e</th>\n",
       "      <th>f</th>\n",
       "    </tr>\n",
       "  </thead>\n",
       "  <tbody>\n",
       "    <tr>\n",
       "      <th>0</th>\n",
       "      <td>0.433458</td>\n",
       "      <td>0.896580</td>\n",
       "      <td>0.408255</td>\n",
       "      <td>-0.079099</td>\n",
       "      <td>1.153114</td>\n",
       "      <td>2.812307</td>\n",
       "    </tr>\n",
       "    <tr>\n",
       "      <th>1</th>\n",
       "      <td>0.331918</td>\n",
       "      <td>-1.014180</td>\n",
       "      <td>-0.758101</td>\n",
       "      <td>-0.709949</td>\n",
       "      <td>1.973469</td>\n",
       "      <td>-0.176843</td>\n",
       "    </tr>\n",
       "    <tr>\n",
       "      <th>2</th>\n",
       "      <td>-0.294558</td>\n",
       "      <td>0.051169</td>\n",
       "      <td>-2.902575</td>\n",
       "      <td>0.618588</td>\n",
       "      <td>-0.670191</td>\n",
       "      <td>-3.197568</td>\n",
       "    </tr>\n",
       "    <tr>\n",
       "      <th>3</th>\n",
       "      <td>0.167752</td>\n",
       "      <td>-0.763270</td>\n",
       "      <td>-0.976607</td>\n",
       "      <td>-0.478123</td>\n",
       "      <td>-0.967413</td>\n",
       "      <td>-3.017660</td>\n",
       "    </tr>\n",
       "    <tr>\n",
       "      <th>4</th>\n",
       "      <td>-0.545162</td>\n",
       "      <td>1.202343</td>\n",
       "      <td>-0.754906</td>\n",
       "      <td>1.343849</td>\n",
       "      <td>0.383056</td>\n",
       "      <td>1.629180</td>\n",
       "    </tr>\n",
       "    <tr>\n",
       "      <th>...</th>\n",
       "      <td>...</td>\n",
       "      <td>...</td>\n",
       "      <td>...</td>\n",
       "      <td>...</td>\n",
       "      <td>...</td>\n",
       "      <td>...</td>\n",
       "    </tr>\n",
       "    <tr>\n",
       "      <th>995</th>\n",
       "      <td>1.280088</td>\n",
       "      <td>1.851320</td>\n",
       "      <td>-0.122801</td>\n",
       "      <td>0.548702</td>\n",
       "      <td>-0.160883</td>\n",
       "      <td>3.396425</td>\n",
       "    </tr>\n",
       "    <tr>\n",
       "      <th>996</th>\n",
       "      <td>0.304803</td>\n",
       "      <td>1.505899</td>\n",
       "      <td>0.574630</td>\n",
       "      <td>-0.231856</td>\n",
       "      <td>1.172220</td>\n",
       "      <td>3.325696</td>\n",
       "    </tr>\n",
       "    <tr>\n",
       "      <th>997</th>\n",
       "      <td>0.136271</td>\n",
       "      <td>-0.159211</td>\n",
       "      <td>0.346879</td>\n",
       "      <td>-1.536678</td>\n",
       "      <td>-0.599123</td>\n",
       "      <td>-1.811862</td>\n",
       "    </tr>\n",
       "    <tr>\n",
       "      <th>998</th>\n",
       "      <td>1.336331</td>\n",
       "      <td>-0.192232</td>\n",
       "      <td>-1.095259</td>\n",
       "      <td>0.592955</td>\n",
       "      <td>-0.308382</td>\n",
       "      <td>0.333412</td>\n",
       "    </tr>\n",
       "    <tr>\n",
       "      <th>999</th>\n",
       "      <td>0.131540</td>\n",
       "      <td>0.313136</td>\n",
       "      <td>-0.184433</td>\n",
       "      <td>-1.386817</td>\n",
       "      <td>1.117958</td>\n",
       "      <td>-0.008616</td>\n",
       "    </tr>\n",
       "  </tbody>\n",
       "</table>\n",
       "<p>1000 rows × 6 columns</p>\n",
       "</div>"
      ],
      "text/plain": [
       "            a         b         c         d         e         f\n",
       "0    0.433458  0.896580  0.408255 -0.079099  1.153114  2.812307\n",
       "1    0.331918 -1.014180 -0.758101 -0.709949  1.973469 -0.176843\n",
       "2   -0.294558  0.051169 -2.902575  0.618588 -0.670191 -3.197568\n",
       "3    0.167752 -0.763270 -0.976607 -0.478123 -0.967413 -3.017660\n",
       "4   -0.545162  1.202343 -0.754906  1.343849  0.383056  1.629180\n",
       "..        ...       ...       ...       ...       ...       ...\n",
       "995  1.280088  1.851320 -0.122801  0.548702 -0.160883  3.396425\n",
       "996  0.304803  1.505899  0.574630 -0.231856  1.172220  3.325696\n",
       "997  0.136271 -0.159211  0.346879 -1.536678 -0.599123 -1.811862\n",
       "998  1.336331 -0.192232 -1.095259  0.592955 -0.308382  0.333412\n",
       "999  0.131540  0.313136 -0.184433 -1.386817  1.117958 -0.008616\n",
       "\n",
       "[1000 rows x 6 columns]"
      ]
     },
     "execution_count": 62,
     "metadata": {},
     "output_type": "execute_result"
    }
   ],
   "source": [
    "df"
   ]
  },
  {
   "cell_type": "code",
   "execution_count": 66,
   "id": "beb63a23",
   "metadata": {},
   "outputs": [
    {
     "data": {
      "text/plain": [
       "0.6609257763922614"
      ]
     },
     "execution_count": 66,
     "metadata": {},
     "output_type": "execute_result"
    }
   ],
   "source": [
    "df.query(\"f > 5\")[\"f\"].std()"
   ]
  },
  {
   "cell_type": "code",
   "execution_count": 67,
   "id": "e6c9c212",
   "metadata": {},
   "outputs": [
    {
     "data": {
      "text/plain": [
       "2.1891090850524444"
      ]
     },
     "execution_count": 67,
     "metadata": {},
     "output_type": "execute_result"
    }
   ],
   "source": [
    "df.query(\"f <= 5\")[\"f\"].std()"
   ]
  },
  {
   "cell_type": "code",
   "execution_count": 71,
   "id": "648a86d2",
   "metadata": {},
   "outputs": [
    {
     "data": {
      "text/plain": [
       "False"
      ]
     },
     "execution_count": 71,
     "metadata": {},
     "output_type": "execute_result"
    }
   ],
   "source": [
    "\"tolist\" in dir(df)"
   ]
  },
  {
   "cell_type": "code",
   "execution_count": 90,
   "id": "95731994",
   "metadata": {},
   "outputs": [
    {
     "data": {
      "text/plain": [
       "['_constructor',\n",
       " '_constructor_sliced',\n",
       " '_to_dict_of_blocks',\n",
       " 'kurtosis',\n",
       " 'to_clipboard',\n",
       " 'to_csv',\n",
       " 'to_dict',\n",
       " 'to_excel',\n",
       " 'to_feather',\n",
       " 'to_gbq',\n",
       " 'to_hdf',\n",
       " 'to_html',\n",
       " 'to_json',\n",
       " 'to_latex',\n",
       " 'to_markdown',\n",
       " 'to_numpy',\n",
       " 'to_orc',\n",
       " 'to_parquet',\n",
       " 'to_period',\n",
       " 'to_pickle',\n",
       " 'to_records',\n",
       " 'to_sql',\n",
       " 'to_stata',\n",
       " 'to_string',\n",
       " 'to_timestamp',\n",
       " 'to_xarray',\n",
       " 'to_xml']"
      ]
     },
     "execution_count": 90,
     "metadata": {},
     "output_type": "execute_result"
    }
   ],
   "source": [
    "import re\n",
    "\n",
    "list(filter(lambda x: re.search(r\"to\", x), dir(df)))"
   ]
  },
  {
   "cell_type": "code",
   "execution_count": 1,
   "id": "9b61263f",
   "metadata": {},
   "outputs": [],
   "source": [
    "import numpy as np\n",
    "import pandas as pd"
   ]
  },
  {
   "cell_type": "code",
   "execution_count": 98,
   "id": "ba4260b9",
   "metadata": {},
   "outputs": [],
   "source": [
    "def search(obj, query):\n",
    "    import re\n",
    "    from rich import inspect\n",
    "    from rich.pretty import Pretty\n",
    "    from rich.panel import Panel\n",
    "\n",
    "    z = list(filter(lambda x: re.search(query, x), dir(obj)))\n",
    "    p = Panel(Pretty(\"a\"), title=f\"Searching for `{query}`\")\n",
    "    # return p\n",
    "    ps = []\n",
    "    for q in z:\n",
    "        ps.append(Panel(Pretty(inspect(getattr(obj, q), methods=True, docs=True))))\n"
   ]
  },
  {
   "cell_type": "code",
   "execution_count": 99,
   "id": "552dae5c",
   "metadata": {},
   "outputs": [
    {
     "data": {
      "text/html": [
       "<pre style=\"white-space:pre;overflow-x:auto;line-height:normal;font-family:Menlo,'DejaVu Sans Mono',consolas,'Courier New',monospace\"><span style=\"color: #000080; text-decoration-color: #000080\">╭─ </span><span style=\"color: #000080; text-decoration-color: #000080; font-weight: bold\">&lt;</span><span style=\"color: #ff00ff; text-decoration-color: #ff00ff; font-weight: bold\">built-in</span><span style=\"color: #000000; text-decoration-color: #000000\"> method lognormal of numpy.random.mtrand.RandomState object at </span><span style=\"color: #008080; text-decoration-color: #008080; font-weight: bold\">0x10c627840</span><span style=\"color: #000080; text-decoration-color: #000080; font-weight: bold\">&gt;</span><span style=\"color: #000080; text-decoration-color: #000080\"> ─╮</span>\n",
       "<span style=\"color: #000080; text-decoration-color: #000080\">│</span> <span style=\"color: #00ffff; text-decoration-color: #00ffff; font-style: italic\">def </span><span style=\"color: #800000; text-decoration-color: #800000; font-weight: bold\">RandomState.lognormal</span><span style=\"font-weight: bold\">(</span><span style=\"color: #808000; text-decoration-color: #808000\">...</span><span style=\"font-weight: bold\">)</span>                                                         <span style=\"color: #000080; text-decoration-color: #000080\">│</span>\n",
       "<span style=\"color: #000080; text-decoration-color: #000080\">│</span>                                                                                        <span style=\"color: #000080; text-decoration-color: #000080\">│</span>\n",
       "<span style=\"color: #000080; text-decoration-color: #000080\">│</span> <span style=\"color: #800080; text-decoration-color: #800080; font-weight: bold\">lognormal</span><span style=\"color: #008080; text-decoration-color: #008080; font-weight: bold\">(</span><span style=\"color: #808000; text-decoration-color: #808000\">mean</span><span style=\"color: #008080; text-decoration-color: #008080\">=</span><span style=\"color: #008080; text-decoration-color: #008080; font-weight: bold\">0.0</span><span style=\"color: #008080; text-decoration-color: #008080\">, </span><span style=\"color: #808000; text-decoration-color: #808000\">sigma</span><span style=\"color: #008080; text-decoration-color: #008080\">=</span><span style=\"color: #008080; text-decoration-color: #008080; font-weight: bold\">1.0</span><span style=\"color: #008080; text-decoration-color: #008080\">, </span><span style=\"color: #808000; text-decoration-color: #808000\">size</span><span style=\"color: #008080; text-decoration-color: #008080\">=</span><span style=\"color: #800080; text-decoration-color: #800080; font-style: italic\">None</span><span style=\"color: #008080; text-decoration-color: #008080; font-weight: bold\">)</span>                                              <span style=\"color: #000080; text-decoration-color: #000080\">│</span>\n",
       "<span style=\"color: #000080; text-decoration-color: #000080\">│</span>                                                                                        <span style=\"color: #000080; text-decoration-color: #000080\">│</span>\n",
       "<span style=\"color: #000080; text-decoration-color: #000080\">│</span> <span style=\"color: #008080; text-decoration-color: #008080; font-weight: bold\">29</span><span style=\"font-style: italic\"> attribute(s) not shown.</span> Run <span style=\"color: #800080; text-decoration-color: #800080; font-weight: bold\">inspect</span><span style=\"font-weight: bold\">(</span>inspect<span style=\"font-weight: bold\">)</span> for options.                           <span style=\"color: #000080; text-decoration-color: #000080\">│</span>\n",
       "<span style=\"color: #000080; text-decoration-color: #000080\">╰────────────────────────────────────────────────────────────────────────────────────────╯</span>\n",
       "</pre>\n"
      ],
      "text/plain": [
       "\u001b[34m╭─\u001b[0m\u001b[34m \u001b[0m\u001b[1;34m<\u001b[0m\u001b[1;95mbuilt-in\u001b[0m\u001b[39m method lognormal of numpy.random.mtrand.RandomState object at \u001b[0m\u001b[1;36m0x10c627840\u001b[0m\u001b[1;34m>\u001b[0m\u001b[34m \u001b[0m\u001b[34m─╮\u001b[0m\n",
       "\u001b[34m│\u001b[0m \u001b[3;96mdef \u001b[0m\u001b[1;31mRandomState.lognormal\u001b[0m\u001b[1m(\u001b[0m\u001b[33m...\u001b[0m\u001b[1m)\u001b[0m                                                         \u001b[34m│\u001b[0m\n",
       "\u001b[34m│\u001b[0m                                                                                        \u001b[34m│\u001b[0m\n",
       "\u001b[34m│\u001b[0m \u001b[1;35mlognormal\u001b[0m\u001b[1;36m(\u001b[0m\u001b[33mmean\u001b[0m\u001b[36m=\u001b[0m\u001b[1;36m0\u001b[0m\u001b[1;36m.0\u001b[0m\u001b[36m, \u001b[0m\u001b[33msigma\u001b[0m\u001b[36m=\u001b[0m\u001b[1;36m1\u001b[0m\u001b[1;36m.0\u001b[0m\u001b[36m, \u001b[0m\u001b[33msize\u001b[0m\u001b[36m=\u001b[0m\u001b[3;35mNone\u001b[0m\u001b[1;36m)\u001b[0m                                              \u001b[34m│\u001b[0m\n",
       "\u001b[34m│\u001b[0m                                                                                        \u001b[34m│\u001b[0m\n",
       "\u001b[34m│\u001b[0m \u001b[1;36m29\u001b[0m\u001b[3m attribute(s) not shown.\u001b[0m Run \u001b[1;35minspect\u001b[0m\u001b[1m(\u001b[0minspect\u001b[1m)\u001b[0m for options.                           \u001b[34m│\u001b[0m\n",
       "\u001b[34m╰────────────────────────────────────────────────────────────────────────────────────────╯\u001b[0m\n"
      ]
     },
     "metadata": {},
     "output_type": "display_data"
    },
    {
     "data": {
      "text/html": [
       "<pre style=\"white-space:pre;overflow-x:auto;line-height:normal;font-family:Menlo,'DejaVu Sans Mono',consolas,'Courier New',monospace\"><span style=\"color: #000080; text-decoration-color: #000080\">╭─ </span><span style=\"color: #000080; text-decoration-color: #000080; font-weight: bold\">&lt;</span><span style=\"color: #ff00ff; text-decoration-color: #ff00ff; font-weight: bold\">built-in</span><span style=\"color: #000000; text-decoration-color: #000000\"> method multivariate_normal of numpy.random.mtrand.RandomState object at </span><span style=\"color: #008080; text-decoration-color: #008080; font-weight: bold\">0x10c627840</span><span style=\"color: #000080; text-decoration-color: #000080; font-weight: bold\">&gt;</span><span style=\"color: #000080; text-decoration-color: #000080\"> ─╮</span>\n",
       "<span style=\"color: #000080; text-decoration-color: #000080\">│</span> <span style=\"color: #00ffff; text-decoration-color: #00ffff; font-style: italic\">def </span><span style=\"color: #800000; text-decoration-color: #800000; font-weight: bold\">RandomState.multivariate_normal</span><span style=\"font-weight: bold\">(</span><span style=\"color: #808000; text-decoration-color: #808000\">...</span><span style=\"font-weight: bold\">)</span>                                                         <span style=\"color: #000080; text-decoration-color: #000080\">│</span>\n",
       "<span style=\"color: #000080; text-decoration-color: #000080\">│</span>                                                                                                  <span style=\"color: #000080; text-decoration-color: #000080\">│</span>\n",
       "<span style=\"color: #000080; text-decoration-color: #000080\">│</span> <span style=\"color: #800080; text-decoration-color: #800080; font-weight: bold\">multivariate_normal</span><span style=\"color: #008080; text-decoration-color: #008080; font-weight: bold\">(</span><span style=\"color: #008080; text-decoration-color: #008080\">mean, cov, </span><span style=\"color: #808000; text-decoration-color: #808000\">size</span><span style=\"color: #008080; text-decoration-color: #008080\">=</span><span style=\"color: #800080; text-decoration-color: #800080; font-style: italic\">None</span><span style=\"color: #008080; text-decoration-color: #008080\">, </span><span style=\"color: #808000; text-decoration-color: #808000\">check_valid</span><span style=\"color: #008080; text-decoration-color: #008080\">=</span><span style=\"color: #008000; text-decoration-color: #008000\">'warn'</span><span style=\"color: #008080; text-decoration-color: #008080\">, </span><span style=\"color: #808000; text-decoration-color: #808000\">tol</span><span style=\"color: #008080; text-decoration-color: #008080\">=</span><span style=\"color: #008080; text-decoration-color: #008080; font-weight: bold\">1e-8</span><span style=\"color: #008080; text-decoration-color: #008080; font-weight: bold\">)</span>                          <span style=\"color: #000080; text-decoration-color: #000080\">│</span>\n",
       "<span style=\"color: #000080; text-decoration-color: #000080\">│</span>                                                                                                  <span style=\"color: #000080; text-decoration-color: #000080\">│</span>\n",
       "<span style=\"color: #000080; text-decoration-color: #000080\">│</span> <span style=\"color: #008080; text-decoration-color: #008080; font-weight: bold\">29</span><span style=\"font-style: italic\"> attribute(s) not shown.</span> Run <span style=\"color: #800080; text-decoration-color: #800080; font-weight: bold\">inspect</span><span style=\"font-weight: bold\">(</span>inspect<span style=\"font-weight: bold\">)</span> for options.                                     <span style=\"color: #000080; text-decoration-color: #000080\">│</span>\n",
       "<span style=\"color: #000080; text-decoration-color: #000080\">╰──────────────────────────────────────────────────────────────────────────────────────────────────╯</span>\n",
       "</pre>\n"
      ],
      "text/plain": [
       "\u001b[34m╭─\u001b[0m\u001b[34m \u001b[0m\u001b[1;34m<\u001b[0m\u001b[1;95mbuilt-in\u001b[0m\u001b[39m method multivariate_normal of numpy.random.mtrand.RandomState object at \u001b[0m\u001b[1;36m0x10c627840\u001b[0m\u001b[1;34m>\u001b[0m\u001b[34m \u001b[0m\u001b[34m─╮\u001b[0m\n",
       "\u001b[34m│\u001b[0m \u001b[3;96mdef \u001b[0m\u001b[1;31mRandomState.multivariate_normal\u001b[0m\u001b[1m(\u001b[0m\u001b[33m...\u001b[0m\u001b[1m)\u001b[0m                                                         \u001b[34m│\u001b[0m\n",
       "\u001b[34m│\u001b[0m                                                                                                  \u001b[34m│\u001b[0m\n",
       "\u001b[34m│\u001b[0m \u001b[1;35mmultivariate_normal\u001b[0m\u001b[1;36m(\u001b[0m\u001b[36mmean, cov, \u001b[0m\u001b[33msize\u001b[0m\u001b[36m=\u001b[0m\u001b[3;35mNone\u001b[0m\u001b[36m, \u001b[0m\u001b[33mcheck_valid\u001b[0m\u001b[36m=\u001b[0m\u001b[32m'warn'\u001b[0m\u001b[36m, \u001b[0m\u001b[33mtol\u001b[0m\u001b[36m=\u001b[0m\u001b[1;36m1e\u001b[0m\u001b[1;36m-8\u001b[0m\u001b[1;36m)\u001b[0m                          \u001b[34m│\u001b[0m\n",
       "\u001b[34m│\u001b[0m                                                                                                  \u001b[34m│\u001b[0m\n",
       "\u001b[34m│\u001b[0m \u001b[1;36m29\u001b[0m\u001b[3m attribute(s) not shown.\u001b[0m Run \u001b[1;35minspect\u001b[0m\u001b[1m(\u001b[0minspect\u001b[1m)\u001b[0m for options.                                     \u001b[34m│\u001b[0m\n",
       "\u001b[34m╰──────────────────────────────────────────────────────────────────────────────────────────────────╯\u001b[0m\n"
      ]
     },
     "metadata": {},
     "output_type": "display_data"
    },
    {
     "data": {
      "text/html": [
       "<pre style=\"white-space:pre;overflow-x:auto;line-height:normal;font-family:Menlo,'DejaVu Sans Mono',consolas,'Courier New',monospace\"><span style=\"color: #000080; text-decoration-color: #000080\">╭─ </span><span style=\"color: #000080; text-decoration-color: #000080; font-weight: bold\">&lt;</span><span style=\"color: #ff00ff; text-decoration-color: #ff00ff; font-weight: bold\">built-in</span><span style=\"color: #000000; text-decoration-color: #000000\"> method normal of numpy.random.mtrand.RandomState object at </span><span style=\"color: #008080; text-decoration-color: #008080; font-weight: bold\">0x10c627840</span><span style=\"color: #000080; text-decoration-color: #000080; font-weight: bold\">&gt;</span><span style=\"color: #000080; text-decoration-color: #000080\"> ─╮</span>\n",
       "<span style=\"color: #000080; text-decoration-color: #000080\">│</span> <span style=\"color: #00ffff; text-decoration-color: #00ffff; font-style: italic\">def </span><span style=\"color: #800000; text-decoration-color: #800000; font-weight: bold\">RandomState.normal</span><span style=\"font-weight: bold\">(</span><span style=\"color: #808000; text-decoration-color: #808000\">...</span><span style=\"font-weight: bold\">)</span>                                                         <span style=\"color: #000080; text-decoration-color: #000080\">│</span>\n",
       "<span style=\"color: #000080; text-decoration-color: #000080\">│</span>                                                                                     <span style=\"color: #000080; text-decoration-color: #000080\">│</span>\n",
       "<span style=\"color: #000080; text-decoration-color: #000080\">│</span> <span style=\"color: #800080; text-decoration-color: #800080; font-weight: bold\">normal</span><span style=\"color: #008080; text-decoration-color: #008080; font-weight: bold\">(</span><span style=\"color: #808000; text-decoration-color: #808000\">loc</span><span style=\"color: #008080; text-decoration-color: #008080\">=</span><span style=\"color: #008080; text-decoration-color: #008080; font-weight: bold\">0.0</span><span style=\"color: #008080; text-decoration-color: #008080\">, </span><span style=\"color: #808000; text-decoration-color: #808000\">scale</span><span style=\"color: #008080; text-decoration-color: #008080\">=</span><span style=\"color: #008080; text-decoration-color: #008080; font-weight: bold\">1.0</span><span style=\"color: #008080; text-decoration-color: #008080\">, </span><span style=\"color: #808000; text-decoration-color: #808000\">size</span><span style=\"color: #008080; text-decoration-color: #008080\">=</span><span style=\"color: #800080; text-decoration-color: #800080; font-style: italic\">None</span><span style=\"color: #008080; text-decoration-color: #008080; font-weight: bold\">)</span>                                               <span style=\"color: #000080; text-decoration-color: #000080\">│</span>\n",
       "<span style=\"color: #000080; text-decoration-color: #000080\">│</span>                                                                                     <span style=\"color: #000080; text-decoration-color: #000080\">│</span>\n",
       "<span style=\"color: #000080; text-decoration-color: #000080\">│</span> <span style=\"color: #008080; text-decoration-color: #008080; font-weight: bold\">29</span><span style=\"font-style: italic\"> attribute(s) not shown.</span> Run <span style=\"color: #800080; text-decoration-color: #800080; font-weight: bold\">inspect</span><span style=\"font-weight: bold\">(</span>inspect<span style=\"font-weight: bold\">)</span> for options.                        <span style=\"color: #000080; text-decoration-color: #000080\">│</span>\n",
       "<span style=\"color: #000080; text-decoration-color: #000080\">╰─────────────────────────────────────────────────────────────────────────────────────╯</span>\n",
       "</pre>\n"
      ],
      "text/plain": [
       "\u001b[34m╭─\u001b[0m\u001b[34m \u001b[0m\u001b[1;34m<\u001b[0m\u001b[1;95mbuilt-in\u001b[0m\u001b[39m method normal of numpy.random.mtrand.RandomState object at \u001b[0m\u001b[1;36m0x10c627840\u001b[0m\u001b[1;34m>\u001b[0m\u001b[34m \u001b[0m\u001b[34m─╮\u001b[0m\n",
       "\u001b[34m│\u001b[0m \u001b[3;96mdef \u001b[0m\u001b[1;31mRandomState.normal\u001b[0m\u001b[1m(\u001b[0m\u001b[33m...\u001b[0m\u001b[1m)\u001b[0m                                                         \u001b[34m│\u001b[0m\n",
       "\u001b[34m│\u001b[0m                                                                                     \u001b[34m│\u001b[0m\n",
       "\u001b[34m│\u001b[0m \u001b[1;35mnormal\u001b[0m\u001b[1;36m(\u001b[0m\u001b[33mloc\u001b[0m\u001b[36m=\u001b[0m\u001b[1;36m0\u001b[0m\u001b[1;36m.0\u001b[0m\u001b[36m, \u001b[0m\u001b[33mscale\u001b[0m\u001b[36m=\u001b[0m\u001b[1;36m1\u001b[0m\u001b[1;36m.0\u001b[0m\u001b[36m, \u001b[0m\u001b[33msize\u001b[0m\u001b[36m=\u001b[0m\u001b[3;35mNone\u001b[0m\u001b[1;36m)\u001b[0m                                               \u001b[34m│\u001b[0m\n",
       "\u001b[34m│\u001b[0m                                                                                     \u001b[34m│\u001b[0m\n",
       "\u001b[34m│\u001b[0m \u001b[1;36m29\u001b[0m\u001b[3m attribute(s) not shown.\u001b[0m Run \u001b[1;35minspect\u001b[0m\u001b[1m(\u001b[0minspect\u001b[1m)\u001b[0m for options.                        \u001b[34m│\u001b[0m\n",
       "\u001b[34m╰─────────────────────────────────────────────────────────────────────────────────────╯\u001b[0m\n"
      ]
     },
     "metadata": {},
     "output_type": "display_data"
    },
    {
     "data": {
      "text/html": [
       "<pre style=\"white-space:pre;overflow-x:auto;line-height:normal;font-family:Menlo,'DejaVu Sans Mono',consolas,'Courier New',monospace\"><span style=\"color: #000080; text-decoration-color: #000080\">╭─ </span><span style=\"color: #000080; text-decoration-color: #000080; font-weight: bold\">&lt;</span><span style=\"color: #ff00ff; text-decoration-color: #ff00ff; font-weight: bold\">built-in</span><span style=\"color: #000000; text-decoration-color: #000000\"> method standard_normal of numpy.random.mtrand.RandomState object at </span><span style=\"color: #008080; text-decoration-color: #008080; font-weight: bold\">0x10c627840</span><span style=\"color: #000080; text-decoration-color: #000080; font-weight: bold\">&gt;</span><span style=\"color: #000080; text-decoration-color: #000080\"> ─╮</span>\n",
       "<span style=\"color: #000080; text-decoration-color: #000080\">│</span> <span style=\"color: #00ffff; text-decoration-color: #00ffff; font-style: italic\">def </span><span style=\"color: #800000; text-decoration-color: #800000; font-weight: bold\">RandomState.standard_normal</span><span style=\"font-weight: bold\">(</span><span style=\"color: #808000; text-decoration-color: #808000\">...</span><span style=\"font-weight: bold\">)</span>                                                         <span style=\"color: #000080; text-decoration-color: #000080\">│</span>\n",
       "<span style=\"color: #000080; text-decoration-color: #000080\">│</span>                                                                                              <span style=\"color: #000080; text-decoration-color: #000080\">│</span>\n",
       "<span style=\"color: #000080; text-decoration-color: #000080\">│</span> <span style=\"color: #800080; text-decoration-color: #800080; font-weight: bold\">standard_normal</span><span style=\"color: #008080; text-decoration-color: #008080; font-weight: bold\">(</span><span style=\"color: #808000; text-decoration-color: #808000\">size</span><span style=\"color: #008080; text-decoration-color: #008080\">=</span><span style=\"color: #800080; text-decoration-color: #800080; font-style: italic\">None</span><span style=\"color: #008080; text-decoration-color: #008080; font-weight: bold\">)</span>                                                                   <span style=\"color: #000080; text-decoration-color: #000080\">│</span>\n",
       "<span style=\"color: #000080; text-decoration-color: #000080\">│</span>                                                                                              <span style=\"color: #000080; text-decoration-color: #000080\">│</span>\n",
       "<span style=\"color: #000080; text-decoration-color: #000080\">│</span> <span style=\"color: #008080; text-decoration-color: #008080; font-weight: bold\">29</span><span style=\"font-style: italic\"> attribute(s) not shown.</span> Run <span style=\"color: #800080; text-decoration-color: #800080; font-weight: bold\">inspect</span><span style=\"font-weight: bold\">(</span>inspect<span style=\"font-weight: bold\">)</span> for options.                                 <span style=\"color: #000080; text-decoration-color: #000080\">│</span>\n",
       "<span style=\"color: #000080; text-decoration-color: #000080\">╰──────────────────────────────────────────────────────────────────────────────────────────────╯</span>\n",
       "</pre>\n"
      ],
      "text/plain": [
       "\u001b[34m╭─\u001b[0m\u001b[34m \u001b[0m\u001b[1;34m<\u001b[0m\u001b[1;95mbuilt-in\u001b[0m\u001b[39m method standard_normal of numpy.random.mtrand.RandomState object at \u001b[0m\u001b[1;36m0x10c627840\u001b[0m\u001b[1;34m>\u001b[0m\u001b[34m \u001b[0m\u001b[34m─╮\u001b[0m\n",
       "\u001b[34m│\u001b[0m \u001b[3;96mdef \u001b[0m\u001b[1;31mRandomState.standard_normal\u001b[0m\u001b[1m(\u001b[0m\u001b[33m...\u001b[0m\u001b[1m)\u001b[0m                                                         \u001b[34m│\u001b[0m\n",
       "\u001b[34m│\u001b[0m                                                                                              \u001b[34m│\u001b[0m\n",
       "\u001b[34m│\u001b[0m \u001b[1;35mstandard_normal\u001b[0m\u001b[1;36m(\u001b[0m\u001b[33msize\u001b[0m\u001b[36m=\u001b[0m\u001b[3;35mNone\u001b[0m\u001b[1;36m)\u001b[0m                                                                   \u001b[34m│\u001b[0m\n",
       "\u001b[34m│\u001b[0m                                                                                              \u001b[34m│\u001b[0m\n",
       "\u001b[34m│\u001b[0m \u001b[1;36m29\u001b[0m\u001b[3m attribute(s) not shown.\u001b[0m Run \u001b[1;35minspect\u001b[0m\u001b[1m(\u001b[0minspect\u001b[1m)\u001b[0m for options.                                 \u001b[34m│\u001b[0m\n",
       "\u001b[34m╰──────────────────────────────────────────────────────────────────────────────────────────────╯\u001b[0m\n"
      ]
     },
     "metadata": {},
     "output_type": "display_data"
    }
   ],
   "source": [
    "search(np.random, \"normal\")"
   ]
  },
  {
   "cell_type": "code",
   "execution_count": 73,
   "id": "59f0fbb6",
   "metadata": {},
   "outputs": [
    {
     "data": {
      "text/plain": [
       "<function ndarray.tolist>"
      ]
     },
     "execution_count": 73,
     "metadata": {},
     "output_type": "execute_result"
    }
   ],
   "source": [
    "getattr(pd.DataFrame().values, \"tolist\")"
   ]
  },
  {
   "cell_type": "code",
   "execution_count": 70,
   "id": "178729dd",
   "metadata": {},
   "outputs": [
    {
     "data": {
      "text/html": [
       "<div>\n",
       "<style scoped>\n",
       "    .dataframe tbody tr th:only-of-type {\n",
       "        vertical-align: middle;\n",
       "    }\n",
       "\n",
       "    .dataframe tbody tr th {\n",
       "        vertical-align: top;\n",
       "    }\n",
       "\n",
       "    .dataframe thead th {\n",
       "        text-align: right;\n",
       "    }\n",
       "</style>\n",
       "<table border=\"1\" class=\"dataframe\">\n",
       "  <thead>\n",
       "    <tr style=\"text-align: right;\">\n",
       "      <th></th>\n",
       "    </tr>\n",
       "  </thead>\n",
       "  <tbody>\n",
       "  </tbody>\n",
       "</table>\n",
       "</div>"
      ],
      "text/plain": [
       "Empty DataFrame\n",
       "Columns: []\n",
       "Index: []"
      ]
     },
     "execution_count": 70,
     "metadata": {},
     "output_type": "execute_result"
    }
   ],
   "source": [
    "pd.DataFrame.to"
   ]
  },
  {
   "cell_type": "code",
   "execution_count": 14,
   "id": "9cb40233",
   "metadata": {},
   "outputs": [
    {
     "data": {
      "text/html": [
       "<pre style=\"white-space:pre;overflow-x:auto;line-height:normal;font-family:Menlo,'DejaVu Sans Mono',consolas,'Courier New',monospace\">╭───────────────────────────────────────────── Searching for {query} ─────────────────────────────────────────────╮\n",
       "│ <span style=\"font-weight: bold\">[</span><span style=\"color: #008000; text-decoration-color: #008000\">'tolist'</span><span style=\"font-weight: bold\">]</span>                                                                                                      │\n",
       "╰─────────────────────────────────────────────────────────────────────────────────────────────────────────────────╯\n",
       "</pre>\n"
      ],
      "text/plain": [
       "╭───────────────────────────────────────────── Searching for {query} ─────────────────────────────────────────────╮\n",
       "│ \u001b[1m[\u001b[0m\u001b[32m'tolist'\u001b[0m\u001b[1m]\u001b[0m                                                                                                      │\n",
       "╰─────────────────────────────────────────────────────────────────────────────────────────────────────────────────╯\n"
      ]
     },
     "execution_count": 14,
     "metadata": {},
     "output_type": "execute_result"
    }
   ],
   "source": [
    "df = pd.DataFrame()\n",
    "search(df.values, \"list\")"
   ]
  },
  {
   "cell_type": "code",
   "execution_count": 11,
   "id": "5d9b29fe",
   "metadata": {},
   "outputs": [
    {
     "data": {
      "text/html": [
       "<pre style=\"white-space:pre;overflow-x:auto;line-height:normal;font-family:Menlo,'DejaVu Sans Mono',consolas,'Courier New',monospace\">╭─────────────────────────────────────────────────────────────────────────────────────────────────────────────────╮\n",
       "│ <span style=\"font-weight: bold\">[</span>                                                                                                               │\n",
       "│     <span style=\"color: #008000; text-decoration-color: #008000\">'_constructor'</span>,                                                                                             │\n",
       "│     <span style=\"color: #008000; text-decoration-color: #008000\">'_constructor_sliced'</span>,                                                                                      │\n",
       "│     <span style=\"color: #008000; text-decoration-color: #008000\">'_to_dict_of_blocks'</span>,                                                                                       │\n",
       "│     <span style=\"color: #008000; text-decoration-color: #008000\">'kurtosis'</span>,                                                                                                 │\n",
       "│     <span style=\"color: #008000; text-decoration-color: #008000\">'to_clipboard'</span>,                                                                                             │\n",
       "│     <span style=\"color: #008000; text-decoration-color: #008000\">'to_csv'</span>,                                                                                                   │\n",
       "│     <span style=\"color: #008000; text-decoration-color: #008000\">'to_dict'</span>,                                                                                                  │\n",
       "│     <span style=\"color: #008000; text-decoration-color: #008000\">'to_excel'</span>,                                                                                                 │\n",
       "│     <span style=\"color: #008000; text-decoration-color: #008000\">'to_feather'</span>,                                                                                               │\n",
       "│     <span style=\"color: #008000; text-decoration-color: #008000\">'to_gbq'</span>,                                                                                                   │\n",
       "│     <span style=\"color: #008000; text-decoration-color: #008000\">'to_hdf'</span>,                                                                                                   │\n",
       "│     <span style=\"color: #008000; text-decoration-color: #008000\">'to_html'</span>,                                                                                                  │\n",
       "│     <span style=\"color: #008000; text-decoration-color: #008000\">'to_json'</span>,                                                                                                  │\n",
       "│     <span style=\"color: #008000; text-decoration-color: #008000\">'to_latex'</span>,                                                                                                 │\n",
       "│     <span style=\"color: #008000; text-decoration-color: #008000\">'to_markdown'</span>,                                                                                              │\n",
       "│     <span style=\"color: #008000; text-decoration-color: #008000\">'to_numpy'</span>,                                                                                                 │\n",
       "│     <span style=\"color: #008000; text-decoration-color: #008000\">'to_orc'</span>,                                                                                                   │\n",
       "│     <span style=\"color: #008000; text-decoration-color: #008000\">'to_parquet'</span>,                                                                                               │\n",
       "│     <span style=\"color: #008000; text-decoration-color: #008000\">'to_period'</span>,                                                                                                │\n",
       "│     <span style=\"color: #008000; text-decoration-color: #008000\">'to_pickle'</span>,                                                                                                │\n",
       "│     <span style=\"color: #008000; text-decoration-color: #008000\">'to_records'</span>,                                                                                               │\n",
       "│     <span style=\"color: #008000; text-decoration-color: #008000\">'to_sql'</span>,                                                                                                   │\n",
       "│     <span style=\"color: #008000; text-decoration-color: #008000\">'to_stata'</span>,                                                                                                 │\n",
       "│     <span style=\"color: #008000; text-decoration-color: #008000\">'to_string'</span>,                                                                                                │\n",
       "│     <span style=\"color: #008000; text-decoration-color: #008000\">'to_timestamp'</span>,                                                                                             │\n",
       "│     <span style=\"color: #008000; text-decoration-color: #008000\">'to_xarray'</span>,                                                                                                │\n",
       "│     <span style=\"color: #008000; text-decoration-color: #008000\">'to_xml'</span>                                                                                                    │\n",
       "│ <span style=\"font-weight: bold\">]</span>                                                                                                               │\n",
       "╰─────────────────────────────────────────────────────────────────────────────────────────────────────────────────╯\n",
       "</pre>\n"
      ],
      "text/plain": [
       "╭─────────────────────────────────────────────────────────────────────────────────────────────────────────────────╮\n",
       "│ \u001b[1m[\u001b[0m                                                                                                               │\n",
       "│     \u001b[32m'_constructor'\u001b[0m,                                                                                             │\n",
       "│     \u001b[32m'_constructor_sliced'\u001b[0m,                                                                                      │\n",
       "│     \u001b[32m'_to_dict_of_blocks'\u001b[0m,                                                                                       │\n",
       "│     \u001b[32m'kurtosis'\u001b[0m,                                                                                                 │\n",
       "│     \u001b[32m'to_clipboard'\u001b[0m,                                                                                             │\n",
       "│     \u001b[32m'to_csv'\u001b[0m,                                                                                                   │\n",
       "│     \u001b[32m'to_dict'\u001b[0m,                                                                                                  │\n",
       "│     \u001b[32m'to_excel'\u001b[0m,                                                                                                 │\n",
       "│     \u001b[32m'to_feather'\u001b[0m,                                                                                               │\n",
       "│     \u001b[32m'to_gbq'\u001b[0m,                                                                                                   │\n",
       "│     \u001b[32m'to_hdf'\u001b[0m,                                                                                                   │\n",
       "│     \u001b[32m'to_html'\u001b[0m,                                                                                                  │\n",
       "│     \u001b[32m'to_json'\u001b[0m,                                                                                                  │\n",
       "│     \u001b[32m'to_latex'\u001b[0m,                                                                                                 │\n",
       "│     \u001b[32m'to_markdown'\u001b[0m,                                                                                              │\n",
       "│     \u001b[32m'to_numpy'\u001b[0m,                                                                                                 │\n",
       "│     \u001b[32m'to_orc'\u001b[0m,                                                                                                   │\n",
       "│     \u001b[32m'to_parquet'\u001b[0m,                                                                                               │\n",
       "│     \u001b[32m'to_period'\u001b[0m,                                                                                                │\n",
       "│     \u001b[32m'to_pickle'\u001b[0m,                                                                                                │\n",
       "│     \u001b[32m'to_records'\u001b[0m,                                                                                               │\n",
       "│     \u001b[32m'to_sql'\u001b[0m,                                                                                                   │\n",
       "│     \u001b[32m'to_stata'\u001b[0m,                                                                                                 │\n",
       "│     \u001b[32m'to_string'\u001b[0m,                                                                                                │\n",
       "│     \u001b[32m'to_timestamp'\u001b[0m,                                                                                             │\n",
       "│     \u001b[32m'to_xarray'\u001b[0m,                                                                                                │\n",
       "│     \u001b[32m'to_xml'\u001b[0m                                                                                                    │\n",
       "│ \u001b[1m]\u001b[0m                                                                                                               │\n",
       "╰─────────────────────────────────────────────────────────────────────────────────────────────────────────────────╯\n"
      ]
     },
     "execution_count": 11,
     "metadata": {},
     "output_type": "execute_result"
    }
   ],
   "source": [
    "search(pd.DataFrame, \"to\")"
   ]
  },
  {
   "cell_type": "code",
   "execution_count": 47,
   "id": "aeb3e7d0",
   "metadata": {},
   "outputs": [],
   "source": [
    "q = \"normal\""
   ]
  },
  {
   "cell_type": "code",
   "execution_count": 55,
   "id": "77f8c8af",
   "metadata": {},
   "outputs": [
    {
     "data": {
      "text/plain": [
       "<function RandomState.normal>"
      ]
     },
     "execution_count": 55,
     "metadata": {},
     "output_type": "execute_result"
    }
   ],
   "source": [
    "np.random.normal"
   ]
  },
  {
   "cell_type": "code",
   "execution_count": 65,
   "id": "f7086e89",
   "metadata": {},
   "outputs": [
    {
     "data": {
      "text/html": [
       "<pre style=\"white-space:pre;overflow-x:auto;line-height:normal;font-family:Menlo,'DejaVu Sans Mono',consolas,'Courier New',monospace\"><span style=\"color: #000080; text-decoration-color: #000080\">╭─────────────── </span><span style=\"color: #000080; text-decoration-color: #000080; font-weight: bold\">&lt;</span><span style=\"color: #ff00ff; text-decoration-color: #ff00ff; font-weight: bold\">built-in</span><span style=\"color: #000000; text-decoration-color: #000000\"> method normal of numpy.random.mtrand.RandomState object at </span><span style=\"color: #008080; text-decoration-color: #008080; font-weight: bold\">0x10c627840</span><span style=\"color: #000080; text-decoration-color: #000080; font-weight: bold\">&gt;</span><span style=\"color: #000080; text-decoration-color: #000080\"> ───────────────╮</span>\n",
       "<span style=\"color: #000080; text-decoration-color: #000080\">│</span> <span style=\"color: #00ffff; text-decoration-color: #00ffff; font-style: italic\">def </span><span style=\"color: #800000; text-decoration-color: #800000; font-weight: bold\">RandomState.normal</span><span style=\"font-weight: bold\">(</span><span style=\"color: #808000; text-decoration-color: #808000\">...</span><span style=\"font-weight: bold\">)</span>                                                                                     <span style=\"color: #000080; text-decoration-color: #000080\">│</span>\n",
       "<span style=\"color: #000080; text-decoration-color: #000080\">│</span>                                                                                                                 <span style=\"color: #000080; text-decoration-color: #000080\">│</span>\n",
       "<span style=\"color: #000080; text-decoration-color: #000080\">│</span> <span style=\"color: #800080; text-decoration-color: #800080; font-weight: bold\">normal</span><span style=\"color: #008080; text-decoration-color: #008080; font-weight: bold\">(</span><span style=\"color: #808000; text-decoration-color: #808000\">loc</span><span style=\"color: #008080; text-decoration-color: #008080\">=</span><span style=\"color: #008080; text-decoration-color: #008080; font-weight: bold\">0.0</span><span style=\"color: #008080; text-decoration-color: #008080\">, </span><span style=\"color: #808000; text-decoration-color: #808000\">scale</span><span style=\"color: #008080; text-decoration-color: #008080\">=</span><span style=\"color: #008080; text-decoration-color: #008080; font-weight: bold\">1.0</span><span style=\"color: #008080; text-decoration-color: #008080\">, </span><span style=\"color: #808000; text-decoration-color: #808000\">size</span><span style=\"color: #008080; text-decoration-color: #008080\">=</span><span style=\"color: #800080; text-decoration-color: #800080; font-style: italic\">None</span><span style=\"color: #008080; text-decoration-color: #008080; font-weight: bold\">)</span>                                                                           <span style=\"color: #000080; text-decoration-color: #000080\">│</span>\n",
       "<span style=\"color: #000080; text-decoration-color: #000080\">│</span>                                                                                                                 <span style=\"color: #000080; text-decoration-color: #000080\">│</span>\n",
       "<span style=\"color: #000080; text-decoration-color: #000080\">│</span>            <span style=\"color: #bfbf7f; text-decoration-color: #bfbf7f; font-style: italic\">__doc__</span> = <span style=\"color: #008000; text-decoration-color: #008000\">'\\n        normal(loc=0.0, scale=1.0, size=None)\\n\\n        Draw random samples from a </span>    <span style=\"color: #000080; text-decoration-color: #000080\">│</span>\n",
       "<span style=\"color: #000080; text-decoration-color: #000080\">│</span>                      <span style=\"color: #008000; text-decoration-color: #008000\">normal (Gaussian) distribution.\\n\\n        The probability density function of the normal </span> <span style=\"color: #000080; text-decoration-color: #000080\">│</span>\n",
       "<span style=\"color: #000080; text-decoration-color: #000080\">│</span>                      <span style=\"color: #008000; text-decoration-color: #008000\">distribution, first\\n        derived by De Moivre and 200 years later by both Gauss and </span>   <span style=\"color: #000080; text-decoration-color: #000080\">│</span>\n",
       "<span style=\"color: #000080; text-decoration-color: #000080\">│</span>                      <span style=\"color: #008000; text-decoration-color: #008000\">Laplace\\n        independently [2]_, is often called the bell curve because of\\n        </span>   <span style=\"color: #000080; text-decoration-color: #000080\">│</span>\n",
       "<span style=\"color: #000080; text-decoration-color: #000080\">│</span>                      <span style=\"color: #008000; text-decoration-color: #008000\">its characteristic shape (see the example below).\\n\\n        The normal distributions </span>     <span style=\"color: #000080; text-decoration-color: #000080\">│</span>\n",
       "<span style=\"color: #000080; text-decoration-color: #000080\">│</span>                      <span style=\"color: #008000; text-decoration-color: #008000\">occurs often in nature.  For example, it\\n        describes the commonly occurring </span>        <span style=\"color: #000080; text-decoration-color: #000080\">│</span>\n",
       "<span style=\"color: #000080; text-decoration-color: #000080\">│</span>                      <span style=\"color: #008000; text-decoration-color: #008000\">distribution of samples influenced\\n        by a large number of tiny, random </span>             <span style=\"color: #000080; text-decoration-color: #000080\">│</span>\n",
       "<span style=\"color: #000080; text-decoration-color: #000080\">│</span>                      <span style=\"color: #008000; text-decoration-color: #008000\">disturbances, each with its own\\n        unique distribution [2]_.\\n\\n        .. note::\\n </span> <span style=\"color: #000080; text-decoration-color: #000080\">│</span>\n",
       "<span style=\"color: #000080; text-decoration-color: #000080\">│</span>                      <span style=\"color: #008000; text-decoration-color: #008000\">New code should use the ``normal`` method of a ``default_rng()``\\n            instance </span>    <span style=\"color: #000080; text-decoration-color: #000080\">│</span>\n",
       "<span style=\"color: #000080; text-decoration-color: #000080\">│</span>                      <span style=\"color: #008000; text-decoration-color: #008000\">instead; please see the :ref:`random-quick-start`.\\n\\n        Parameters\\n        </span>         <span style=\"color: #000080; text-decoration-color: #000080\">│</span>\n",
       "<span style=\"color: #000080; text-decoration-color: #000080\">│</span>                      <span style=\"color: #008000; text-decoration-color: #008000\">----------\\n        loc : float or array_like of floats\\n            Mean (\"centre\") of </span>   <span style=\"color: #000080; text-decoration-color: #000080\">│</span>\n",
       "<span style=\"color: #000080; text-decoration-color: #000080\">│</span>                      <span style=\"color: #008000; text-decoration-color: #008000\">the distribution.\\n        scale : float or array_like of floats\\n            Standard </span>    <span style=\"color: #000080; text-decoration-color: #000080\">│</span>\n",
       "<span style=\"color: #000080; text-decoration-color: #000080\">│</span>                      <span style=\"color: #008000; text-decoration-color: #008000\">deviation (spread or \"width\") of the distribution. Must be\\n            non-negative.\\n   </span> <span style=\"color: #000080; text-decoration-color: #000080\">│</span>\n",
       "<span style=\"color: #000080; text-decoration-color: #000080\">│</span>                      <span style=\"color: #008000; text-decoration-color: #008000\">size : int or tuple of ints, optional\\n            Output shape.  If the given shape is, </span>  <span style=\"color: #000080; text-decoration-color: #000080\">│</span>\n",
       "<span style=\"color: #000080; text-decoration-color: #000080\">│</span>                      <span style=\"color: #008000; text-decoration-color: #008000\">e.g., ``(m, n, k)``, then\\n            ``m * n * k`` samples are drawn.  If size is </span>       <span style=\"color: #000080; text-decoration-color: #000080\">│</span>\n",
       "<span style=\"color: #000080; text-decoration-color: #000080\">│</span>                      <span style=\"color: #008000; text-decoration-color: #008000\">``None`` (default),\\n            a single value is returned if ``loc`` and ``scale`` are </span>  <span style=\"color: #000080; text-decoration-color: #000080\">│</span>\n",
       "<span style=\"color: #000080; text-decoration-color: #000080\">│</span>                      <span style=\"color: #008000; text-decoration-color: #008000\">both scalars.\\n            Otherwise, ``np.broadcast(loc, scale).size`` samples are </span>       <span style=\"color: #000080; text-decoration-color: #000080\">│</span>\n",
       "<span style=\"color: #000080; text-decoration-color: #000080\">│</span>                      <span style=\"color: #008000; text-decoration-color: #008000\">drawn.\\n\\n        Returns\\n        -------\\n        out : ndarray or scalar\\n            </span>  <span style=\"color: #000080; text-decoration-color: #000080\">│</span>\n",
       "<span style=\"color: #000080; text-decoration-color: #000080\">│</span>                      <span style=\"color: #008000; text-decoration-color: #008000\">Drawn samples from the parameterized normal distribution.\\n\\n        See Also\\n        </span>    <span style=\"color: #000080; text-decoration-color: #000080\">│</span>\n",
       "<span style=\"color: #000080; text-decoration-color: #000080\">│</span>                      <span style=\"color: #008000; text-decoration-color: #008000\">--------\\n        scipy.stats.norm : probability density function, distribution or\\n      </span> <span style=\"color: #000080; text-decoration-color: #000080\">│</span>\n",
       "<span style=\"color: #000080; text-decoration-color: #000080\">│</span>                      <span style=\"color: #008000; text-decoration-color: #008000\">cumulative density function, etc.\\n        random.Generator.normal: which should be used </span>  <span style=\"color: #000080; text-decoration-color: #000080\">│</span>\n",
       "<span style=\"color: #000080; text-decoration-color: #000080\">│</span>                      <span style=\"color: #008000; text-decoration-color: #008000\">for new code.\\n\\n        Notes\\n        -----\\n        The probability density for the </span>    <span style=\"color: #000080; text-decoration-color: #000080\">│</span>\n",
       "<span style=\"color: #000080; text-decoration-color: #000080\">│</span>                      <span style=\"color: #008000; text-decoration-color: #008000\">Gaussian distribution is\\n\\n        .. math:: p(x) = \\\\frac{1}{\\\\sqrt{ 2 \\\\pi \\\\sigma^2 </span>   <span style=\"color: #000080; text-decoration-color: #000080\">│</span>\n",
       "<span style=\"color: #000080; text-decoration-color: #000080\">│</span>                      <span style=\"color: #008000; text-decoration-color: #008000\">}}\\n                         e^{ - \\\\frac{ (x - \\\\mu)^2 } {2 \\\\sigma^2} },\\n\\n        </span>     <span style=\"color: #000080; text-decoration-color: #000080\">│</span>\n",
       "<span style=\"color: #000080; text-decoration-color: #000080\">│</span>                      <span style=\"color: #008000; text-decoration-color: #008000\">where :math:`\\\\mu` is the mean and :math:`\\\\sigma` the standard\\n        deviation. The </span>   <span style=\"color: #000080; text-decoration-color: #000080\">│</span>\n",
       "<span style=\"color: #000080; text-decoration-color: #000080\">│</span>                      <span style=\"color: #008000; text-decoration-color: #008000\">square of the standard deviation, :math:`\\\\sigma^2`,\\n        is called the variance.\\n\\n </span> <span style=\"color: #000080; text-decoration-color: #000080\">│</span>\n",
       "<span style=\"color: #000080; text-decoration-color: #000080\">│</span>                      <span style=\"color: #008000; text-decoration-color: #008000\">The function has its peak at the mean, and its \"spread\" increases with\\n        the </span>       <span style=\"color: #000080; text-decoration-color: #000080\">│</span>\n",
       "<span style=\"color: #000080; text-decoration-color: #000080\">│</span>                      <span style=\"color: #008000; text-decoration-color: #008000\">standard deviation (the function reaches 0.607 times its maximum at\\n        :math:`x + </span>   <span style=\"color: #000080; text-decoration-color: #000080\">│</span>\n",
       "<span style=\"color: #000080; text-decoration-color: #000080\">│</span>                      <span style=\"color: #008000; text-decoration-color: #008000\">\\\\sigma` and :math:`x - \\\\sigma` [2]_).  This implies that\\n        normal is more likely </span> <span style=\"color: #000080; text-decoration-color: #000080\">│</span>\n",
       "<span style=\"color: #000080; text-decoration-color: #000080\">│</span>                      <span style=\"color: #008000; text-decoration-color: #008000\">to return samples lying close to the mean, rather\\n        than those far away.\\n\\n       </span> <span style=\"color: #000080; text-decoration-color: #000080\">│</span>\n",
       "<span style=\"color: #000080; text-decoration-color: #000080\">│</span>                      <span style=\"color: #008000; text-decoration-color: #008000\">References\\n        ----------\\n        .. [1] Wikipedia, \"Normal distribution\",\\n        </span> <span style=\"color: #000080; text-decoration-color: #000080\">│</span>\n",
       "<span style=\"color: #000080; text-decoration-color: #000080\">│</span>                      <span style=\"color: #008000; text-decoration-color: #008000\">https://en.wikipedia.org/wiki/Normal_distribution\\n        .. [2] P. R. Peebles Jr., </span>      <span style=\"color: #000080; text-decoration-color: #000080\">│</span>\n",
       "<span style=\"color: #000080; text-decoration-color: #000080\">│</span>                      <span style=\"color: #008000; text-decoration-color: #008000\">\"Central Limit Theorem\" in \"Probability,\\n               Random Variables and Random </span>      <span style=\"color: #000080; text-decoration-color: #000080\">│</span>\n",
       "<span style=\"color: #000080; text-decoration-color: #000080\">│</span>                      <span style=\"color: #008000; text-decoration-color: #008000\">Signal Principles\", 4th ed., 2001,\\n               pp. 51, 51, 125.\\n\\n        Examples\\n </span> <span style=\"color: #000080; text-decoration-color: #000080\">│</span>\n",
       "<span style=\"color: #000080; text-decoration-color: #000080\">│</span>                      <span style=\"color: #008000; text-decoration-color: #008000\">--------\\n        Draw samples from the distribution:\\n\\n        &gt;&gt;&gt; mu, sigma = 0, 0.1 # </span> <span style=\"color: #000080; text-decoration-color: #000080\">│</span>\n",
       "<span style=\"color: #000080; text-decoration-color: #000080\">│</span>                      <span style=\"color: #008000; text-decoration-color: #008000\">mean and standard deviation\\n        &gt;&gt;&gt; s = np.random.normal(mu, sigma, 1000)\\n\\n        </span> <span style=\"color: #000080; text-decoration-color: #000080\">│</span>\n",
       "<span style=\"color: #000080; text-decoration-color: #000080\">│</span>                      <span style=\"color: #008000; text-decoration-color: #008000\">Verify the mean and the variance:\\n\\n        &gt;&gt;&gt; abs(mu - np.mean(s))\\n        0.0  # may </span> <span style=\"color: #000080; text-decoration-color: #000080\">│</span>\n",
       "<span style=\"color: #000080; text-decoration-color: #000080\">│</span>                      <span style=\"color: #008000; text-decoration-color: #008000\">vary\\n\\n        &gt;&gt;&gt; abs(sigma - np.std(s, ddof=1))\\n        0.1  # may vary\\n\\n        </span>    <span style=\"color: #000080; text-decoration-color: #000080\">│</span>\n",
       "<span style=\"color: #000080; text-decoration-color: #000080\">│</span>                      <span style=\"color: #008000; text-decoration-color: #008000\">Display the histogram of the samples, along with\\n        the probability density </span>         <span style=\"color: #000080; text-decoration-color: #000080\">│</span>\n",
       "<span style=\"color: #000080; text-decoration-color: #000080\">│</span>                      <span style=\"color: #008000; text-decoration-color: #008000\">function:\\n\\n        &gt;&gt;&gt; import matplotlib.pyplot as plt\\n        &gt;&gt;&gt; count, bins, ignored</span> <span style=\"color: #000080; text-decoration-color: #000080\">│</span>\n",
       "<span style=\"color: #000080; text-decoration-color: #000080\">│</span>                      <span style=\"color: #008000; text-decoration-color: #008000\">= plt.hist(s, 30, density=True)\\n        &gt;&gt;&gt; plt.plot(bins, 1/(sigma * np.sqrt(2 * np.pi))</span> <span style=\"color: #000080; text-decoration-color: #000080\">│</span>\n",
       "<span style=\"color: #000080; text-decoration-color: #000080\">│</span>                      <span style=\"color: #008000; text-decoration-color: #008000\">*\\n        ...                np.exp( - (bins - mu)**2 / (2 * sigma**2) ),\\n        ...   </span> <span style=\"color: #000080; text-decoration-color: #000080\">│</span>\n",
       "<span style=\"color: #000080; text-decoration-color: #000080\">│</span>                      <span style=\"color: #008000; text-decoration-color: #008000\">linewidth=2, color=\\'r\\')\\n        &gt;&gt;&gt; plt.show()\\n\\n        Two-by-four array of samples </span> <span style=\"color: #000080; text-decoration-color: #000080\">│</span>\n",
       "<span style=\"color: #000080; text-decoration-color: #000080\">│</span>                      <span style=\"color: #008000; text-decoration-color: #008000\">from N(3, 6.25):\\n\\n        &gt;&gt;&gt; np.random.normal(3, 2.5, size=(2, 4))\\n        </span>            <span style=\"color: #000080; text-decoration-color: #000080\">│</span>\n",
       "<span style=\"color: #000080; text-decoration-color: #000080\">│</span>                      <span style=\"color: #008000; text-decoration-color: #008000\">array([[-4.49401501,  4.00950034, -1.81814867,  7.29718677],   # random\\n               [ </span> <span style=\"color: #000080; text-decoration-color: #000080\">│</span>\n",
       "<span style=\"color: #000080; text-decoration-color: #000080\">│</span>                      <span style=\"color: #008000; text-decoration-color: #008000\">0.39924804,  4.68456316,  4.99394529,  4.84057254]])  # random\\n\\n        '</span>                <span style=\"color: #000080; text-decoration-color: #000080\">│</span>\n",
       "<span style=\"color: #000080; text-decoration-color: #000080\">│</span>         <span style=\"color: #bfbf7f; text-decoration-color: #bfbf7f; font-style: italic\">__module__</span> = <span style=\"color: #800080; text-decoration-color: #800080; font-style: italic\">None</span>                                                                                       <span style=\"color: #000080; text-decoration-color: #000080\">│</span>\n",
       "<span style=\"color: #000080; text-decoration-color: #000080\">│</span>           <span style=\"color: #bfbf7f; text-decoration-color: #bfbf7f; font-style: italic\">__name__</span> = <span style=\"color: #008000; text-decoration-color: #008000\">'normal'</span>                                                                                   <span style=\"color: #000080; text-decoration-color: #000080\">│</span>\n",
       "<span style=\"color: #000080; text-decoration-color: #000080\">│</span>       <span style=\"color: #bfbf7f; text-decoration-color: #bfbf7f; font-style: italic\">__qualname__</span> = <span style=\"color: #008000; text-decoration-color: #008000\">'RandomState.normal'</span>                                                                       <span style=\"color: #000080; text-decoration-color: #000080\">│</span>\n",
       "<span style=\"color: #000080; text-decoration-color: #000080\">│</span>           <span style=\"color: #bfbf7f; text-decoration-color: #bfbf7f; font-style: italic\">__self__</span> = <span style=\"color: #800080; text-decoration-color: #800080; font-weight: bold\">RandomState</span><span style=\"font-weight: bold\">(</span>MT19937<span style=\"font-weight: bold\">)</span> at <span style=\"color: #008080; text-decoration-color: #008080; font-weight: bold\">0x10C627840</span>                                                        <span style=\"color: #000080; text-decoration-color: #000080\">│</span>\n",
       "<span style=\"color: #000080; text-decoration-color: #000080\">│</span> <span style=\"color: #bfbf7f; text-decoration-color: #bfbf7f; font-style: italic\">__text_signature__</span> = <span style=\"color: #800080; text-decoration-color: #800080; font-style: italic\">None</span>                                                                                       <span style=\"color: #000080; text-decoration-color: #000080\">│</span>\n",
       "<span style=\"color: #000080; text-decoration-color: #000080\">│</span>           <span style=\"color: #bfbf7f; text-decoration-color: #bfbf7f; font-style: italic\">__call__</span> = <span style=\"color: #00ffff; text-decoration-color: #00ffff; font-style: italic\">def </span><span style=\"color: #800000; text-decoration-color: #800000; font-weight: bold\">__call__</span><span style=\"font-weight: bold\">(</span>*args, **kwargs<span style=\"font-weight: bold\">)</span>: <span style=\"color: #7f7f7f; text-decoration-color: #7f7f7f\">Call self as a function.</span>                                    <span style=\"color: #000080; text-decoration-color: #000080\">│</span>\n",
       "<span style=\"color: #000080; text-decoration-color: #000080\">│</span>          <span style=\"color: #bfbf7f; text-decoration-color: #bfbf7f; font-style: italic\">__class__</span> = <span style=\"color: #00ffff; text-decoration-color: #00ffff; font-style: italic\">class </span><span style=\"color: #800000; text-decoration-color: #800000; font-weight: bold\">__class__</span><span style=\"font-weight: bold\">()</span>:                                                                         <span style=\"color: #000080; text-decoration-color: #000080\">│</span>\n",
       "<span style=\"color: #000080; text-decoration-color: #000080\">│</span>        <span style=\"color: #bfbf7f; text-decoration-color: #bfbf7f; font-style: italic\">__delattr__</span> = <span style=\"color: #00ffff; text-decoration-color: #00ffff; font-style: italic\">def </span><span style=\"color: #800000; text-decoration-color: #800000; font-weight: bold\">__delattr__</span><span style=\"font-weight: bold\">(</span>name, <span style=\"color: #800080; text-decoration-color: #800080\">/</span><span style=\"font-weight: bold\">)</span>: <span style=\"color: #7f7f7f; text-decoration-color: #7f7f7f\">Implement </span><span style=\"color: #bf7fbf; text-decoration-color: #bf7fbf; font-weight: bold\">delattr</span><span style=\"color: #7f7f7f; text-decoration-color: #7f7f7f; font-weight: bold\">(</span><span style=\"color: #7f7f7f; text-decoration-color: #7f7f7f\">self, name</span><span style=\"color: #7f7f7f; text-decoration-color: #7f7f7f; font-weight: bold\">)</span><span style=\"color: #7f7f7f; text-decoration-color: #7f7f7f\">.</span>                                   <span style=\"color: #000080; text-decoration-color: #000080\">│</span>\n",
       "<span style=\"color: #000080; text-decoration-color: #000080\">│</span>            <span style=\"color: #bfbf7f; text-decoration-color: #bfbf7f; font-style: italic\">__dir__</span> = <span style=\"color: #00ffff; text-decoration-color: #00ffff; font-style: italic\">def </span><span style=\"color: #800000; text-decoration-color: #800000; font-weight: bold\">__dir__</span><span style=\"font-weight: bold\">()</span>: <span style=\"color: #7f7f7f; text-decoration-color: #7f7f7f\">Default </span><span style=\"color: #bf7fbf; text-decoration-color: #bf7fbf; font-weight: bold\">dir</span><span style=\"color: #7f7f7f; text-decoration-color: #7f7f7f; font-weight: bold\">()</span><span style=\"color: #7f7f7f; text-decoration-color: #7f7f7f\"> implementation.</span>                                               <span style=\"color: #000080; text-decoration-color: #000080\">│</span>\n",
       "<span style=\"color: #000080; text-decoration-color: #000080\">│</span>             <span style=\"color: #bfbf7f; text-decoration-color: #bfbf7f; font-style: italic\">__eq__</span> = <span style=\"color: #00ffff; text-decoration-color: #00ffff; font-style: italic\">def </span><span style=\"color: #800000; text-decoration-color: #800000; font-weight: bold\">__eq__</span><span style=\"font-weight: bold\">(</span>value, <span style=\"color: #800080; text-decoration-color: #800080\">/</span><span style=\"font-weight: bold\">)</span>: <span style=\"color: #7f7f7f; text-decoration-color: #7f7f7f\">Return </span><span style=\"color: #bfbf7f; text-decoration-color: #bfbf7f\">self</span><span style=\"color: #7f7f7f; text-decoration-color: #7f7f7f\">==value.</span>                                                  <span style=\"color: #000080; text-decoration-color: #000080\">│</span>\n",
       "<span style=\"color: #000080; text-decoration-color: #000080\">│</span>         <span style=\"color: #bfbf7f; text-decoration-color: #bfbf7f; font-style: italic\">__format__</span> = <span style=\"color: #00ffff; text-decoration-color: #00ffff; font-style: italic\">def </span><span style=\"color: #800000; text-decoration-color: #800000; font-weight: bold\">__format__</span><span style=\"font-weight: bold\">(</span>format_spec, <span style=\"color: #800080; text-decoration-color: #800080\">/</span><span style=\"font-weight: bold\">)</span>: <span style=\"color: #7f7f7f; text-decoration-color: #7f7f7f\">Default object formatter.</span>                                  <span style=\"color: #000080; text-decoration-color: #000080\">│</span>\n",
       "<span style=\"color: #000080; text-decoration-color: #000080\">│</span>             <span style=\"color: #bfbf7f; text-decoration-color: #bfbf7f; font-style: italic\">__ge__</span> = <span style=\"color: #00ffff; text-decoration-color: #00ffff; font-style: italic\">def </span><span style=\"color: #800000; text-decoration-color: #800000; font-weight: bold\">__ge__</span><span style=\"font-weight: bold\">(</span>value, <span style=\"color: #800080; text-decoration-color: #800080\">/</span><span style=\"font-weight: bold\">)</span>: <span style=\"color: #7f7f7f; text-decoration-color: #7f7f7f\">Return self&gt;=value.</span>                                                  <span style=\"color: #000080; text-decoration-color: #000080\">│</span>\n",
       "<span style=\"color: #000080; text-decoration-color: #000080\">│</span>   <span style=\"color: #bfbf7f; text-decoration-color: #bfbf7f; font-style: italic\">__getattribute__</span> = <span style=\"color: #00ffff; text-decoration-color: #00ffff; font-style: italic\">def </span><span style=\"color: #800000; text-decoration-color: #800000; font-weight: bold\">__getattribute__</span><span style=\"font-weight: bold\">(</span>name, <span style=\"color: #800080; text-decoration-color: #800080\">/</span><span style=\"font-weight: bold\">)</span>: <span style=\"color: #7f7f7f; text-decoration-color: #7f7f7f\">Return </span><span style=\"color: #bf7fbf; text-decoration-color: #bf7fbf; font-weight: bold\">getattr</span><span style=\"color: #7f7f7f; text-decoration-color: #7f7f7f; font-weight: bold\">(</span><span style=\"color: #7f7f7f; text-decoration-color: #7f7f7f\">self, name</span><span style=\"color: #7f7f7f; text-decoration-color: #7f7f7f; font-weight: bold\">)</span><span style=\"color: #7f7f7f; text-decoration-color: #7f7f7f\">.</span>                                 <span style=\"color: #000080; text-decoration-color: #000080\">│</span>\n",
       "<span style=\"color: #000080; text-decoration-color: #000080\">│</span>             <span style=\"color: #bfbf7f; text-decoration-color: #bfbf7f; font-style: italic\">__gt__</span> = <span style=\"color: #00ffff; text-decoration-color: #00ffff; font-style: italic\">def </span><span style=\"color: #800000; text-decoration-color: #800000; font-weight: bold\">__gt__</span><span style=\"font-weight: bold\">(</span>value, <span style=\"color: #800080; text-decoration-color: #800080\">/</span><span style=\"font-weight: bold\">)</span>: <span style=\"color: #7f7f7f; text-decoration-color: #7f7f7f\">Return self&gt;value.</span>                                                   <span style=\"color: #000080; text-decoration-color: #000080\">│</span>\n",
       "<span style=\"color: #000080; text-decoration-color: #000080\">│</span>           <span style=\"color: #bfbf7f; text-decoration-color: #bfbf7f; font-style: italic\">__hash__</span> = <span style=\"color: #00ffff; text-decoration-color: #00ffff; font-style: italic\">def </span><span style=\"color: #800000; text-decoration-color: #800000; font-weight: bold\">__hash__</span><span style=\"font-weight: bold\">()</span>: <span style=\"color: #7f7f7f; text-decoration-color: #7f7f7f\">Return </span><span style=\"color: #bf7fbf; text-decoration-color: #bf7fbf; font-weight: bold\">hash</span><span style=\"color: #7f7f7f; text-decoration-color: #7f7f7f; font-weight: bold\">(</span><span style=\"color: #7f7f7f; text-decoration-color: #7f7f7f\">self</span><span style=\"color: #7f7f7f; text-decoration-color: #7f7f7f; font-weight: bold\">)</span><span style=\"color: #7f7f7f; text-decoration-color: #7f7f7f\">.</span>                                                         <span style=\"color: #000080; text-decoration-color: #000080\">│</span>\n",
       "<span style=\"color: #000080; text-decoration-color: #000080\">│</span>           <span style=\"color: #bfbf7f; text-decoration-color: #bfbf7f; font-style: italic\">__init__</span> = <span style=\"color: #00ffff; text-decoration-color: #00ffff; font-style: italic\">def </span><span style=\"color: #800000; text-decoration-color: #800000; font-weight: bold\">__init__</span><span style=\"font-weight: bold\">(</span>*args, **kwargs<span style=\"font-weight: bold\">)</span>: <span style=\"color: #7f7f7f; text-decoration-color: #7f7f7f\">Initialize self.  See </span><span style=\"color: #bf7fbf; text-decoration-color: #bf7fbf; font-weight: bold\">help</span><span style=\"color: #7f7f7f; text-decoration-color: #7f7f7f; font-weight: bold\">(</span><span style=\"color: #bf7fbf; text-decoration-color: #bf7fbf; font-weight: bold\">type</span><span style=\"color: #7f7f7f; text-decoration-color: #7f7f7f; font-weight: bold\">(</span><span style=\"color: #7f7f7f; text-decoration-color: #7f7f7f\">self</span><span style=\"color: #7f7f7f; text-decoration-color: #7f7f7f; font-weight: bold\">))</span><span style=\"color: #7f7f7f; text-decoration-color: #7f7f7f\"> for accurate </span>        <span style=\"color: #000080; text-decoration-color: #000080\">│</span>\n",
       "<span style=\"color: #000080; text-decoration-color: #000080\">│</span>                      <span style=\"color: #7f7f7f; text-decoration-color: #7f7f7f\">signature.</span>                                                                                 <span style=\"color: #000080; text-decoration-color: #000080\">│</span>\n",
       "<span style=\"color: #000080; text-decoration-color: #000080\">│</span>  <span style=\"color: #bfbf7f; text-decoration-color: #bfbf7f; font-style: italic\">__init_subclass__</span> = <span style=\"color: #00ffff; text-decoration-color: #00ffff; font-style: italic\">def </span><span style=\"color: #800000; text-decoration-color: #800000; font-weight: bold\">__init_subclass__</span><span style=\"font-weight: bold\">(</span><span style=\"color: #808000; text-decoration-color: #808000\">...</span><span style=\"font-weight: bold\">)</span> <span style=\"color: #7f7f7f; text-decoration-color: #7f7f7f\">This method is called when a class is subclassed.</span>               <span style=\"color: #000080; text-decoration-color: #000080\">│</span>\n",
       "<span style=\"color: #000080; text-decoration-color: #000080\">│</span>             <span style=\"color: #bfbf7f; text-decoration-color: #bfbf7f; font-style: italic\">__le__</span> = <span style=\"color: #00ffff; text-decoration-color: #00ffff; font-style: italic\">def </span><span style=\"color: #800000; text-decoration-color: #800000; font-weight: bold\">__le__</span><span style=\"font-weight: bold\">(</span>value, <span style=\"color: #800080; text-decoration-color: #800080\">/</span><span style=\"font-weight: bold\">)</span>: <span style=\"color: #7f7f7f; text-decoration-color: #7f7f7f\">Return self&lt;=value.</span>                                                  <span style=\"color: #000080; text-decoration-color: #000080\">│</span>\n",
       "<span style=\"color: #000080; text-decoration-color: #000080\">│</span>             <span style=\"color: #bfbf7f; text-decoration-color: #bfbf7f; font-style: italic\">__lt__</span> = <span style=\"color: #00ffff; text-decoration-color: #00ffff; font-style: italic\">def </span><span style=\"color: #800000; text-decoration-color: #800000; font-weight: bold\">__lt__</span><span style=\"font-weight: bold\">(</span>value, <span style=\"color: #800080; text-decoration-color: #800080\">/</span><span style=\"font-weight: bold\">)</span>: <span style=\"color: #7f7f7f; text-decoration-color: #7f7f7f\">Return self&lt;value.</span>                                                   <span style=\"color: #000080; text-decoration-color: #000080\">│</span>\n",
       "<span style=\"color: #000080; text-decoration-color: #000080\">│</span>             <span style=\"color: #bfbf7f; text-decoration-color: #bfbf7f; font-style: italic\">__ne__</span> = <span style=\"color: #00ffff; text-decoration-color: #00ffff; font-style: italic\">def </span><span style=\"color: #800000; text-decoration-color: #800000; font-weight: bold\">__ne__</span><span style=\"font-weight: bold\">(</span>value, <span style=\"color: #800080; text-decoration-color: #800080\">/</span><span style=\"font-weight: bold\">)</span>: <span style=\"color: #7f7f7f; text-decoration-color: #7f7f7f\">Return self!=value.</span>                                                  <span style=\"color: #000080; text-decoration-color: #000080\">│</span>\n",
       "<span style=\"color: #000080; text-decoration-color: #000080\">│</span>            <span style=\"color: #bfbf7f; text-decoration-color: #bfbf7f; font-style: italic\">__new__</span> = <span style=\"color: #00ffff; text-decoration-color: #00ffff; font-style: italic\">def </span><span style=\"color: #800000; text-decoration-color: #800000; font-weight: bold\">__new__</span><span style=\"font-weight: bold\">(</span>*args, **kwargs<span style=\"font-weight: bold\">)</span>: <span style=\"color: #7f7f7f; text-decoration-color: #7f7f7f\">Create and return a new object.  See </span><span style=\"color: #bf7fbf; text-decoration-color: #bf7fbf; font-weight: bold\">help</span><span style=\"color: #7f7f7f; text-decoration-color: #7f7f7f; font-weight: bold\">(</span><span style=\"color: #7f7f7f; text-decoration-color: #7f7f7f\">type</span><span style=\"color: #7f7f7f; text-decoration-color: #7f7f7f; font-weight: bold\">)</span><span style=\"color: #7f7f7f; text-decoration-color: #7f7f7f\"> for accurate</span> <span style=\"color: #000080; text-decoration-color: #000080\">│</span>\n",
       "<span style=\"color: #000080; text-decoration-color: #000080\">│</span>                      <span style=\"color: #7f7f7f; text-decoration-color: #7f7f7f\">signature.</span>                                                                                 <span style=\"color: #000080; text-decoration-color: #000080\">│</span>\n",
       "<span style=\"color: #000080; text-decoration-color: #000080\">│</span>         <span style=\"color: #bfbf7f; text-decoration-color: #bfbf7f; font-style: italic\">__reduce__</span> = <span style=\"color: #00ffff; text-decoration-color: #00ffff; font-style: italic\">def </span><span style=\"color: #800000; text-decoration-color: #800000; font-weight: bold\">__reduce__</span><span style=\"font-weight: bold\">(</span><span style=\"color: #808000; text-decoration-color: #808000\">...</span><span style=\"font-weight: bold\">)</span> <span style=\"color: #7f7f7f; text-decoration-color: #7f7f7f\">Helper for pickle.</span>                                                     <span style=\"color: #000080; text-decoration-color: #000080\">│</span>\n",
       "<span style=\"color: #000080; text-decoration-color: #000080\">│</span>      <span style=\"color: #bfbf7f; text-decoration-color: #bfbf7f; font-style: italic\">__reduce_ex__</span> = <span style=\"color: #00ffff; text-decoration-color: #00ffff; font-style: italic\">def </span><span style=\"color: #800000; text-decoration-color: #800000; font-weight: bold\">__reduce_ex__</span><span style=\"font-weight: bold\">(</span>protocol, <span style=\"color: #800080; text-decoration-color: #800080\">/</span><span style=\"font-weight: bold\">)</span>: <span style=\"color: #7f7f7f; text-decoration-color: #7f7f7f\">Helper for pickle.</span>                                         <span style=\"color: #000080; text-decoration-color: #000080\">│</span>\n",
       "<span style=\"color: #000080; text-decoration-color: #000080\">│</span>           <span style=\"color: #bfbf7f; text-decoration-color: #bfbf7f; font-style: italic\">__repr__</span> = <span style=\"color: #00ffff; text-decoration-color: #00ffff; font-style: italic\">def </span><span style=\"color: #800000; text-decoration-color: #800000; font-weight: bold\">__repr__</span><span style=\"font-weight: bold\">()</span>: <span style=\"color: #7f7f7f; text-decoration-color: #7f7f7f\">Return </span><span style=\"color: #bf7fbf; text-decoration-color: #bf7fbf; font-weight: bold\">repr</span><span style=\"color: #7f7f7f; text-decoration-color: #7f7f7f; font-weight: bold\">(</span><span style=\"color: #7f7f7f; text-decoration-color: #7f7f7f\">self</span><span style=\"color: #7f7f7f; text-decoration-color: #7f7f7f; font-weight: bold\">)</span><span style=\"color: #7f7f7f; text-decoration-color: #7f7f7f\">.</span>                                                         <span style=\"color: #000080; text-decoration-color: #000080\">│</span>\n",
       "<span style=\"color: #000080; text-decoration-color: #000080\">│</span>        <span style=\"color: #bfbf7f; text-decoration-color: #bfbf7f; font-style: italic\">__setattr__</span> = <span style=\"color: #00ffff; text-decoration-color: #00ffff; font-style: italic\">def </span><span style=\"color: #800000; text-decoration-color: #800000; font-weight: bold\">__setattr__</span><span style=\"font-weight: bold\">(</span>name, value, <span style=\"color: #800080; text-decoration-color: #800080\">/</span><span style=\"font-weight: bold\">)</span>: <span style=\"color: #7f7f7f; text-decoration-color: #7f7f7f\">Implement </span><span style=\"color: #bf7fbf; text-decoration-color: #bf7fbf; font-weight: bold\">setattr</span><span style=\"color: #7f7f7f; text-decoration-color: #7f7f7f; font-weight: bold\">(</span><span style=\"color: #7f7f7f; text-decoration-color: #7f7f7f\">self, name, value</span><span style=\"color: #7f7f7f; text-decoration-color: #7f7f7f; font-weight: bold\">)</span><span style=\"color: #7f7f7f; text-decoration-color: #7f7f7f\">.</span>                     <span style=\"color: #000080; text-decoration-color: #000080\">│</span>\n",
       "<span style=\"color: #000080; text-decoration-color: #000080\">│</span>         <span style=\"color: #bfbf7f; text-decoration-color: #bfbf7f; font-style: italic\">__sizeof__</span> = <span style=\"color: #00ffff; text-decoration-color: #00ffff; font-style: italic\">def </span><span style=\"color: #800000; text-decoration-color: #800000; font-weight: bold\">__sizeof__</span><span style=\"font-weight: bold\">()</span>: <span style=\"color: #7f7f7f; text-decoration-color: #7f7f7f\">Size of object in memory, in bytes.</span>                                      <span style=\"color: #000080; text-decoration-color: #000080\">│</span>\n",
       "<span style=\"color: #000080; text-decoration-color: #000080\">│</span>            <span style=\"color: #bfbf7f; text-decoration-color: #bfbf7f; font-style: italic\">__str__</span> = <span style=\"color: #00ffff; text-decoration-color: #00ffff; font-style: italic\">def </span><span style=\"color: #800000; text-decoration-color: #800000; font-weight: bold\">__str__</span><span style=\"font-weight: bold\">()</span>: <span style=\"color: #7f7f7f; text-decoration-color: #7f7f7f\">Return </span><span style=\"color: #bf7fbf; text-decoration-color: #bf7fbf; font-weight: bold\">str</span><span style=\"color: #7f7f7f; text-decoration-color: #7f7f7f; font-weight: bold\">(</span><span style=\"color: #7f7f7f; text-decoration-color: #7f7f7f\">self</span><span style=\"color: #7f7f7f; text-decoration-color: #7f7f7f; font-weight: bold\">)</span><span style=\"color: #7f7f7f; text-decoration-color: #7f7f7f\">.</span>                                                           <span style=\"color: #000080; text-decoration-color: #000080\">│</span>\n",
       "<span style=\"color: #000080; text-decoration-color: #000080\">│</span>   <span style=\"color: #bfbf7f; text-decoration-color: #bfbf7f; font-style: italic\">__subclasshook__</span> = <span style=\"color: #00ffff; text-decoration-color: #00ffff; font-style: italic\">def </span><span style=\"color: #800000; text-decoration-color: #800000; font-weight: bold\">__subclasshook__</span><span style=\"font-weight: bold\">(</span><span style=\"color: #808000; text-decoration-color: #808000\">...</span><span style=\"font-weight: bold\">)</span> <span style=\"color: #7f7f7f; text-decoration-color: #7f7f7f\">Abstract classes can override this to customize </span><span style=\"color: #bf7fbf; text-decoration-color: #bf7fbf; font-weight: bold\">issubclass</span><span style=\"color: #7f7f7f; text-decoration-color: #7f7f7f; font-weight: bold\">()</span><span style=\"color: #7f7f7f; text-decoration-color: #7f7f7f\">.</span>    <span style=\"color: #000080; text-decoration-color: #000080\">│</span>\n",
       "<span style=\"color: #000080; text-decoration-color: #000080\">╰─────────────────────────────────────────────────────────────────────────────────────────────────────────────────╯</span>\n",
       "</pre>\n"
      ],
      "text/plain": [
       "\u001b[34m╭─\u001b[0m\u001b[34m──────────────\u001b[0m\u001b[34m \u001b[0m\u001b[1;34m<\u001b[0m\u001b[1;95mbuilt-in\u001b[0m\u001b[39m method normal of numpy.random.mtrand.RandomState object at \u001b[0m\u001b[1;36m0x10c627840\u001b[0m\u001b[1;34m>\u001b[0m\u001b[34m \u001b[0m\u001b[34m──────────────\u001b[0m\u001b[34m─╮\u001b[0m\n",
       "\u001b[34m│\u001b[0m \u001b[3;96mdef \u001b[0m\u001b[1;31mRandomState.normal\u001b[0m\u001b[1m(\u001b[0m\u001b[33m...\u001b[0m\u001b[1m)\u001b[0m                                                                                     \u001b[34m│\u001b[0m\n",
       "\u001b[34m│\u001b[0m                                                                                                                 \u001b[34m│\u001b[0m\n",
       "\u001b[34m│\u001b[0m \u001b[1;35mnormal\u001b[0m\u001b[1;36m(\u001b[0m\u001b[33mloc\u001b[0m\u001b[36m=\u001b[0m\u001b[1;36m0\u001b[0m\u001b[1;36m.0\u001b[0m\u001b[36m, \u001b[0m\u001b[33mscale\u001b[0m\u001b[36m=\u001b[0m\u001b[1;36m1\u001b[0m\u001b[1;36m.0\u001b[0m\u001b[36m, \u001b[0m\u001b[33msize\u001b[0m\u001b[36m=\u001b[0m\u001b[3;35mNone\u001b[0m\u001b[1;36m)\u001b[0m                                                                           \u001b[34m│\u001b[0m\n",
       "\u001b[34m│\u001b[0m                                                                                                                 \u001b[34m│\u001b[0m\n",
       "\u001b[34m│\u001b[0m            \u001b[2;3;33m__doc__\u001b[0m = \u001b[32m'\\n        normal\u001b[0m\u001b[32m(\u001b[0m\u001b[32mloc\u001b[0m\u001b[32m=\u001b[0m\u001b[32m0\u001b[0m\u001b[32m.0, \u001b[0m\u001b[32mscale\u001b[0m\u001b[32m=\u001b[0m\u001b[32m1\u001b[0m\u001b[32m.0, \u001b[0m\u001b[32msize\u001b[0m\u001b[32m=\u001b[0m\u001b[32mNone\u001b[0m\u001b[32m)\u001b[0m\u001b[32m\\n\\n        Draw random samples from a \u001b[0m    \u001b[34m│\u001b[0m\n",
       "\u001b[34m│\u001b[0m                      \u001b[32mnormal \u001b[0m\u001b[32m(\u001b[0m\u001b[32mGaussian\u001b[0m\u001b[32m)\u001b[0m\u001b[32m distribution.\\n\\n        The probability density function of the normal \u001b[0m \u001b[34m│\u001b[0m\n",
       "\u001b[34m│\u001b[0m                      \u001b[32mdistribution, first\\n        derived by De Moivre and 200 years later by both Gauss and \u001b[0m   \u001b[34m│\u001b[0m\n",
       "\u001b[34m│\u001b[0m                      \u001b[32mLaplace\\n        independently \u001b[0m\u001b[32m[\u001b[0m\u001b[32m2\u001b[0m\u001b[32m]\u001b[0m\u001b[32m_, is often called the bell curve because of\\n        \u001b[0m   \u001b[34m│\u001b[0m\n",
       "\u001b[34m│\u001b[0m                      \u001b[32mits characteristic shape \u001b[0m\u001b[32m(\u001b[0m\u001b[32msee the example below\u001b[0m\u001b[32m)\u001b[0m\u001b[32m.\\n\\n        The normal distributions \u001b[0m     \u001b[34m│\u001b[0m\n",
       "\u001b[34m│\u001b[0m                      \u001b[32moccurs often in nature.  For example, it\\n        describes the commonly occurring \u001b[0m        \u001b[34m│\u001b[0m\n",
       "\u001b[34m│\u001b[0m                      \u001b[32mdistribution of samples influenced\\n        by a large number of tiny, random \u001b[0m             \u001b[34m│\u001b[0m\n",
       "\u001b[34m│\u001b[0m                      \u001b[32mdisturbances, each with its own\\n        unique distribution \u001b[0m\u001b[32m[\u001b[0m\u001b[32m2\u001b[0m\u001b[32m]\u001b[0m\u001b[32m_.\\n\\n        .. note::\\n \u001b[0m \u001b[34m│\u001b[0m\n",
       "\u001b[34m│\u001b[0m                      \u001b[32mNew code should use the ``normal`` method of a ``default_rng\u001b[0m\u001b[32m(\u001b[0m\u001b[32m)\u001b[0m\u001b[32m``\\n            instance \u001b[0m    \u001b[34m│\u001b[0m\n",
       "\u001b[34m│\u001b[0m                      \u001b[32minstead; please see the :ref:`random-quick-start`.\\n\\n        Parameters\\n        \u001b[0m         \u001b[34m│\u001b[0m\n",
       "\u001b[34m│\u001b[0m                      \u001b[32m----------\\n        loc : float or array_like of floats\\n            Mean \u001b[0m\u001b[32m(\u001b[0m\u001b[32m\"centre\"\u001b[0m\u001b[32m)\u001b[0m\u001b[32m of \u001b[0m   \u001b[34m│\u001b[0m\n",
       "\u001b[34m│\u001b[0m                      \u001b[32mthe distribution.\\n        scale : float or array_like of floats\\n            Standard \u001b[0m    \u001b[34m│\u001b[0m\n",
       "\u001b[34m│\u001b[0m                      \u001b[32mdeviation \u001b[0m\u001b[32m(\u001b[0m\u001b[32mspread or \"width\"\u001b[0m\u001b[32m)\u001b[0m\u001b[32m of the distribution. Must be\\n            non-negative.\\n   \u001b[0m \u001b[34m│\u001b[0m\n",
       "\u001b[34m│\u001b[0m                      \u001b[32msize : int or tuple of ints, optional\\n            Output shape.  If the given shape is, \u001b[0m  \u001b[34m│\u001b[0m\n",
       "\u001b[34m│\u001b[0m                      \u001b[32me.g., ``\u001b[0m\u001b[32m(\u001b[0m\u001b[32mm, n, k\u001b[0m\u001b[32m)\u001b[0m\u001b[32m``, then\\n            ``m * n * k`` samples are drawn.  If size is \u001b[0m       \u001b[34m│\u001b[0m\n",
       "\u001b[34m│\u001b[0m                      \u001b[32m``None`` \u001b[0m\u001b[32m(\u001b[0m\u001b[32mdefault\u001b[0m\u001b[32m)\u001b[0m\u001b[32m,\\n            a single value is returned if ``loc`` and ``scale`` are \u001b[0m  \u001b[34m│\u001b[0m\n",
       "\u001b[34m│\u001b[0m                      \u001b[32mboth scalars.\\n            Otherwise, ``np.broadcast\u001b[0m\u001b[32m(\u001b[0m\u001b[32mloc, scale\u001b[0m\u001b[32m)\u001b[0m\u001b[32m.size`` samples are \u001b[0m       \u001b[34m│\u001b[0m\n",
       "\u001b[34m│\u001b[0m                      \u001b[32mdrawn.\\n\\n        Returns\\n        -------\\n        out : ndarray or scalar\\n            \u001b[0m  \u001b[34m│\u001b[0m\n",
       "\u001b[34m│\u001b[0m                      \u001b[32mDrawn samples from the parameterized normal distribution.\\n\\n        See Also\\n        \u001b[0m    \u001b[34m│\u001b[0m\n",
       "\u001b[34m│\u001b[0m                      \u001b[32m--------\\n        scipy.stats.norm : probability density function, distribution or\\n      \u001b[0m \u001b[34m│\u001b[0m\n",
       "\u001b[34m│\u001b[0m                      \u001b[32mcumulative density function, etc.\\n        random.Generator.normal: which should be used \u001b[0m  \u001b[34m│\u001b[0m\n",
       "\u001b[34m│\u001b[0m                      \u001b[32mfor new code.\\n\\n        Notes\\n        -----\\n        The probability density for the \u001b[0m    \u001b[34m│\u001b[0m\n",
       "\u001b[34m│\u001b[0m                      \u001b[32mGaussian distribution is\\n\\n        .. math:: p\u001b[0m\u001b[32m(\u001b[0m\u001b[32mx\u001b[0m\u001b[32m)\u001b[0m\u001b[32m = \\\\frac\u001b[0m\u001b[32m{\u001b[0m\u001b[32m1\u001b[0m\u001b[32m}\u001b[0m\u001b[32m{\u001b[0m\u001b[32m\\\\sqrt\u001b[0m\u001b[32m{\u001b[0m\u001b[32m 2 \\\\pi \\\\sigma^2 \u001b[0m   \u001b[34m│\u001b[0m\n",
       "\u001b[34m│\u001b[0m                      \u001b[32m}\u001b[0m\u001b[32m}\u001b[0m\u001b[32m\\n                         e^\u001b[0m\u001b[32m{\u001b[0m\u001b[32m - \\\\frac\u001b[0m\u001b[32m{\u001b[0m\u001b[32m \u001b[0m\u001b[32m(\u001b[0m\u001b[32mx - \\\\mu\u001b[0m\u001b[32m)\u001b[0m\u001b[32m^2 \u001b[0m\u001b[32m}\u001b[0m\u001b[32m \u001b[0m\u001b[32m{\u001b[0m\u001b[32m2 \\\\sigma^2\u001b[0m\u001b[32m}\u001b[0m\u001b[32m \u001b[0m\u001b[32m}\u001b[0m\u001b[32m,\\n\\n        \u001b[0m     \u001b[34m│\u001b[0m\n",
       "\u001b[34m│\u001b[0m                      \u001b[32mwhere :math:`\\\\mu` is the mean and :math:`\\\\sigma` the standard\\n        deviation. The \u001b[0m   \u001b[34m│\u001b[0m\n",
       "\u001b[34m│\u001b[0m                      \u001b[32msquare of the standard deviation, :math:`\\\\sigma^2`,\\n        is called the variance.\\n\\n \u001b[0m \u001b[34m│\u001b[0m\n",
       "\u001b[34m│\u001b[0m                      \u001b[32mThe function has its peak at the mean, and its \"spread\" increases with\\n        the \u001b[0m       \u001b[34m│\u001b[0m\n",
       "\u001b[34m│\u001b[0m                      \u001b[32mstandard deviation \u001b[0m\u001b[32m(\u001b[0m\u001b[32mthe function reaches 0.607 times its maximum at\\n        :math:`x + \u001b[0m   \u001b[34m│\u001b[0m\n",
       "\u001b[34m│\u001b[0m                      \u001b[32m\\\\sigma` and :math:`x - \\\\sigma` \u001b[0m\u001b[32m[\u001b[0m\u001b[32m2\u001b[0m\u001b[32m]\u001b[0m\u001b[32m_\u001b[0m\u001b[32m)\u001b[0m\u001b[32m.  This implies that\\n        normal is more likely \u001b[0m \u001b[34m│\u001b[0m\n",
       "\u001b[34m│\u001b[0m                      \u001b[32mto return samples lying close to the mean, rather\\n        than those far away.\\n\\n       \u001b[0m \u001b[34m│\u001b[0m\n",
       "\u001b[34m│\u001b[0m                      \u001b[32mReferences\\n        ----------\\n        .. \u001b[0m\u001b[32m[\u001b[0m\u001b[32m1\u001b[0m\u001b[32m]\u001b[0m\u001b[32m Wikipedia, \"Normal distribution\",\\n        \u001b[0m \u001b[34m│\u001b[0m\n",
       "\u001b[34m│\u001b[0m                      \u001b[32mhttps://en.wikipedia.org/wiki/Normal_distribution\\n        .. \u001b[0m\u001b[32m[\u001b[0m\u001b[32m2\u001b[0m\u001b[32m]\u001b[0m\u001b[32m P. R. Peebles Jr., \u001b[0m      \u001b[34m│\u001b[0m\n",
       "\u001b[34m│\u001b[0m                      \u001b[32m\"Central Limit Theorem\" in \"Probability,\\n               Random Variables and Random \u001b[0m      \u001b[34m│\u001b[0m\n",
       "\u001b[34m│\u001b[0m                      \u001b[32mSignal Principles\", 4th ed., 2001,\\n               pp. 51, 51, 125.\\n\\n        Examples\\n \u001b[0m \u001b[34m│\u001b[0m\n",
       "\u001b[34m│\u001b[0m                      \u001b[32m--------\\n        Draw samples from the distribution:\\n\\n        >>> mu, sigma = 0, 0.1 # \u001b[0m \u001b[34m│\u001b[0m\n",
       "\u001b[34m│\u001b[0m                      \u001b[32mmean and standard deviation\\n        >>> s = np.random.normal\u001b[0m\u001b[32m(\u001b[0m\u001b[32mmu, sigma, 1000\u001b[0m\u001b[32m)\u001b[0m\u001b[32m\\n\\n        \u001b[0m \u001b[34m│\u001b[0m\n",
       "\u001b[34m│\u001b[0m                      \u001b[32mVerify the mean and the variance:\\n\\n        >>> abs\u001b[0m\u001b[32m(\u001b[0m\u001b[32mmu - np.mean\u001b[0m\u001b[32m(\u001b[0m\u001b[32ms\u001b[0m\u001b[32m)\u001b[0m\u001b[32m)\u001b[0m\u001b[32m\\n        0.0  # may \u001b[0m \u001b[34m│\u001b[0m\n",
       "\u001b[34m│\u001b[0m                      \u001b[32mvary\\n\\n        >>> abs\u001b[0m\u001b[32m(\u001b[0m\u001b[32msigma - np.std\u001b[0m\u001b[32m(\u001b[0m\u001b[32ms, \u001b[0m\u001b[32mddof\u001b[0m\u001b[32m=\u001b[0m\u001b[32m1\u001b[0m\u001b[32m)\u001b[0m\u001b[32m)\u001b[0m\u001b[32m\\n        0.1  # may vary\\n\\n        \u001b[0m    \u001b[34m│\u001b[0m\n",
       "\u001b[34m│\u001b[0m                      \u001b[32mDisplay the histogram of the samples, along with\\n        the probability density \u001b[0m         \u001b[34m│\u001b[0m\n",
       "\u001b[34m│\u001b[0m                      \u001b[32mfunction:\\n\\n        >>> import matplotlib.pyplot as plt\\n        >>> count, bins, ignored\u001b[0m \u001b[34m│\u001b[0m\n",
       "\u001b[34m│\u001b[0m                      \u001b[32m= plt.hist\u001b[0m\u001b[32m(\u001b[0m\u001b[32ms, 30, \u001b[0m\u001b[32mdensity\u001b[0m\u001b[32m=\u001b[0m\u001b[32mTrue\u001b[0m\u001b[32m)\u001b[0m\u001b[32m\\n        >>> plt.plot\u001b[0m\u001b[32m(\u001b[0m\u001b[32mbins, 1/\u001b[0m\u001b[32m(\u001b[0m\u001b[32msigma * np.sqrt\u001b[0m\u001b[32m(\u001b[0m\u001b[32m2 * np.pi\u001b[0m\u001b[32m)\u001b[0m\u001b[32m)\u001b[0m \u001b[34m│\u001b[0m\n",
       "\u001b[34m│\u001b[0m                      \u001b[32m*\\n        ...                np.exp\u001b[0m\u001b[32m(\u001b[0m\u001b[32m - \u001b[0m\u001b[32m(\u001b[0m\u001b[32mbins - mu\u001b[0m\u001b[32m)\u001b[0m\u001b[32m**2 / \u001b[0m\u001b[32m(\u001b[0m\u001b[32m2 * sigma**2\u001b[0m\u001b[32m)\u001b[0m\u001b[32m \u001b[0m\u001b[32m)\u001b[0m\u001b[32m,\\n        ...   \u001b[0m \u001b[34m│\u001b[0m\n",
       "\u001b[34m│\u001b[0m                      \u001b[32mlinewidth\u001b[0m\u001b[32m=\u001b[0m\u001b[32m2\u001b[0m\u001b[32m, \u001b[0m\u001b[32mcolor\u001b[0m\u001b[32m=\\'r\\'\u001b[0m\u001b[32m)\u001b[0m\u001b[32m\\n        >>> plt.show\u001b[0m\u001b[32m(\u001b[0m\u001b[32m)\u001b[0m\u001b[32m\\n\\n        Two-by-four array of samples \u001b[0m \u001b[34m│\u001b[0m\n",
       "\u001b[34m│\u001b[0m                      \u001b[32mfrom N\u001b[0m\u001b[32m(\u001b[0m\u001b[32m3, 6.25\u001b[0m\u001b[32m)\u001b[0m\u001b[32m:\\n\\n        >>> np.random.normal\u001b[0m\u001b[32m(\u001b[0m\u001b[32m3, 2.5, \u001b[0m\u001b[32msize\u001b[0m\u001b[32m=\u001b[0m\u001b[32m(\u001b[0m\u001b[32m2, 4\u001b[0m\u001b[32m)\u001b[0m\u001b[32m)\u001b[0m\u001b[32m\\n        \u001b[0m            \u001b[34m│\u001b[0m\n",
       "\u001b[34m│\u001b[0m                      \u001b[32marray\u001b[0m\u001b[32m(\u001b[0m\u001b[32m[\u001b[0m\u001b[32m[\u001b[0m\u001b[32m-4.49401501,  4.00950034, -1.81814867,  7.29718677\u001b[0m\u001b[32m]\u001b[0m\u001b[32m,   # random\\n               \u001b[0m\u001b[32m[\u001b[0m\u001b[32m \u001b[0m \u001b[34m│\u001b[0m\n",
       "\u001b[34m│\u001b[0m                      \u001b[32m0.39924804,  4.68456316,  4.99394529,  4.84057254\u001b[0m\u001b[32m]\u001b[0m\u001b[32m]\u001b[0m\u001b[32m)\u001b[0m\u001b[32m  # random\\n\\n        '\u001b[0m                \u001b[34m│\u001b[0m\n",
       "\u001b[34m│\u001b[0m         \u001b[2;3;33m__module__\u001b[0m = \u001b[3;35mNone\u001b[0m                                                                                       \u001b[34m│\u001b[0m\n",
       "\u001b[34m│\u001b[0m           \u001b[2;3;33m__name__\u001b[0m = \u001b[32m'normal'\u001b[0m                                                                                   \u001b[34m│\u001b[0m\n",
       "\u001b[34m│\u001b[0m       \u001b[2;3;33m__qualname__\u001b[0m = \u001b[32m'RandomState.normal'\u001b[0m                                                                       \u001b[34m│\u001b[0m\n",
       "\u001b[34m│\u001b[0m           \u001b[2;3;33m__self__\u001b[0m = \u001b[1;35mRandomState\u001b[0m\u001b[1m(\u001b[0mMT19937\u001b[1m)\u001b[0m at \u001b[1;36m0x10C627840\u001b[0m                                                        \u001b[34m│\u001b[0m\n",
       "\u001b[34m│\u001b[0m \u001b[2;3;33m__text_signature__\u001b[0m = \u001b[3;35mNone\u001b[0m                                                                                       \u001b[34m│\u001b[0m\n",
       "\u001b[34m│\u001b[0m           \u001b[2;3;33m__call__\u001b[0m = \u001b[3;96mdef \u001b[0m\u001b[1;31m__call__\u001b[0m\u001b[1m(\u001b[0m*args, **kwargs\u001b[1m)\u001b[0m: \u001b[2mCall self as a function.\u001b[0m                                    \u001b[34m│\u001b[0m\n",
       "\u001b[34m│\u001b[0m          \u001b[2;3;33m__class__\u001b[0m = \u001b[3;96mclass \u001b[0m\u001b[1;31m__class__\u001b[0m\u001b[1m(\u001b[0m\u001b[1m)\u001b[0m:                                                                         \u001b[34m│\u001b[0m\n",
       "\u001b[34m│\u001b[0m        \u001b[2;3;33m__delattr__\u001b[0m = \u001b[3;96mdef \u001b[0m\u001b[1;31m__delattr__\u001b[0m\u001b[1m(\u001b[0mname, \u001b[35m/\u001b[0m\u001b[1m)\u001b[0m: \u001b[2mImplement \u001b[0m\u001b[1;2;35mdelattr\u001b[0m\u001b[1;2m(\u001b[0m\u001b[2mself, name\u001b[0m\u001b[1;2m)\u001b[0m\u001b[2m.\u001b[0m                                   \u001b[34m│\u001b[0m\n",
       "\u001b[34m│\u001b[0m            \u001b[2;3;33m__dir__\u001b[0m = \u001b[3;96mdef \u001b[0m\u001b[1;31m__dir__\u001b[0m\u001b[1m(\u001b[0m\u001b[1m)\u001b[0m: \u001b[2mDefault \u001b[0m\u001b[1;2;35mdir\u001b[0m\u001b[1;2m(\u001b[0m\u001b[1;2m)\u001b[0m\u001b[2m implementation.\u001b[0m                                               \u001b[34m│\u001b[0m\n",
       "\u001b[34m│\u001b[0m             \u001b[2;3;33m__eq__\u001b[0m = \u001b[3;96mdef \u001b[0m\u001b[1;31m__eq__\u001b[0m\u001b[1m(\u001b[0mvalue, \u001b[35m/\u001b[0m\u001b[1m)\u001b[0m: \u001b[2mReturn \u001b[0m\u001b[2;33mself\u001b[0m\u001b[2m==value.\u001b[0m                                                  \u001b[34m│\u001b[0m\n",
       "\u001b[34m│\u001b[0m         \u001b[2;3;33m__format__\u001b[0m = \u001b[3;96mdef \u001b[0m\u001b[1;31m__format__\u001b[0m\u001b[1m(\u001b[0mformat_spec, \u001b[35m/\u001b[0m\u001b[1m)\u001b[0m: \u001b[2mDefault object formatter.\u001b[0m                                  \u001b[34m│\u001b[0m\n",
       "\u001b[34m│\u001b[0m             \u001b[2;3;33m__ge__\u001b[0m = \u001b[3;96mdef \u001b[0m\u001b[1;31m__ge__\u001b[0m\u001b[1m(\u001b[0mvalue, \u001b[35m/\u001b[0m\u001b[1m)\u001b[0m: \u001b[2mReturn self>=value.\u001b[0m                                                  \u001b[34m│\u001b[0m\n",
       "\u001b[34m│\u001b[0m   \u001b[2;3;33m__getattribute__\u001b[0m = \u001b[3;96mdef \u001b[0m\u001b[1;31m__getattribute__\u001b[0m\u001b[1m(\u001b[0mname, \u001b[35m/\u001b[0m\u001b[1m)\u001b[0m: \u001b[2mReturn \u001b[0m\u001b[1;2;35mgetattr\u001b[0m\u001b[1;2m(\u001b[0m\u001b[2mself, name\u001b[0m\u001b[1;2m)\u001b[0m\u001b[2m.\u001b[0m                                 \u001b[34m│\u001b[0m\n",
       "\u001b[34m│\u001b[0m             \u001b[2;3;33m__gt__\u001b[0m = \u001b[3;96mdef \u001b[0m\u001b[1;31m__gt__\u001b[0m\u001b[1m(\u001b[0mvalue, \u001b[35m/\u001b[0m\u001b[1m)\u001b[0m: \u001b[2mReturn self>value.\u001b[0m                                                   \u001b[34m│\u001b[0m\n",
       "\u001b[34m│\u001b[0m           \u001b[2;3;33m__hash__\u001b[0m = \u001b[3;96mdef \u001b[0m\u001b[1;31m__hash__\u001b[0m\u001b[1m(\u001b[0m\u001b[1m)\u001b[0m: \u001b[2mReturn \u001b[0m\u001b[1;2;35mhash\u001b[0m\u001b[1;2m(\u001b[0m\u001b[2mself\u001b[0m\u001b[1;2m)\u001b[0m\u001b[2m.\u001b[0m                                                         \u001b[34m│\u001b[0m\n",
       "\u001b[34m│\u001b[0m           \u001b[2;3;33m__init__\u001b[0m = \u001b[3;96mdef \u001b[0m\u001b[1;31m__init__\u001b[0m\u001b[1m(\u001b[0m*args, **kwargs\u001b[1m)\u001b[0m: \u001b[2mInitialize self.  See \u001b[0m\u001b[1;2;35mhelp\u001b[0m\u001b[1;2m(\u001b[0m\u001b[1;2;35mtype\u001b[0m\u001b[1;2m(\u001b[0m\u001b[2mself\u001b[0m\u001b[1;2m)\u001b[0m\u001b[1;2m)\u001b[0m\u001b[2m for accurate \u001b[0m        \u001b[34m│\u001b[0m\n",
       "\u001b[34m│\u001b[0m                      \u001b[2msignature.\u001b[0m                                                                                 \u001b[34m│\u001b[0m\n",
       "\u001b[34m│\u001b[0m  \u001b[2;3;33m__init_subclass__\u001b[0m = \u001b[3;96mdef \u001b[0m\u001b[1;31m__init_subclass__\u001b[0m\u001b[1m(\u001b[0m\u001b[33m...\u001b[0m\u001b[1m)\u001b[0m \u001b[2mThis method is called when a class is subclassed.\u001b[0m               \u001b[34m│\u001b[0m\n",
       "\u001b[34m│\u001b[0m             \u001b[2;3;33m__le__\u001b[0m = \u001b[3;96mdef \u001b[0m\u001b[1;31m__le__\u001b[0m\u001b[1m(\u001b[0mvalue, \u001b[35m/\u001b[0m\u001b[1m)\u001b[0m: \u001b[2mReturn self<=value.\u001b[0m                                                  \u001b[34m│\u001b[0m\n",
       "\u001b[34m│\u001b[0m             \u001b[2;3;33m__lt__\u001b[0m = \u001b[3;96mdef \u001b[0m\u001b[1;31m__lt__\u001b[0m\u001b[1m(\u001b[0mvalue, \u001b[35m/\u001b[0m\u001b[1m)\u001b[0m: \u001b[2mReturn self<value.\u001b[0m                                                   \u001b[34m│\u001b[0m\n",
       "\u001b[34m│\u001b[0m             \u001b[2;3;33m__ne__\u001b[0m = \u001b[3;96mdef \u001b[0m\u001b[1;31m__ne__\u001b[0m\u001b[1m(\u001b[0mvalue, \u001b[35m/\u001b[0m\u001b[1m)\u001b[0m: \u001b[2mReturn self!=value.\u001b[0m                                                  \u001b[34m│\u001b[0m\n",
       "\u001b[34m│\u001b[0m            \u001b[2;3;33m__new__\u001b[0m = \u001b[3;96mdef \u001b[0m\u001b[1;31m__new__\u001b[0m\u001b[1m(\u001b[0m*args, **kwargs\u001b[1m)\u001b[0m: \u001b[2mCreate and return a new object.  See \u001b[0m\u001b[1;2;35mhelp\u001b[0m\u001b[1;2m(\u001b[0m\u001b[2mtype\u001b[0m\u001b[1;2m)\u001b[0m\u001b[2m for accurate\u001b[0m \u001b[34m│\u001b[0m\n",
       "\u001b[34m│\u001b[0m                      \u001b[2msignature.\u001b[0m                                                                                 \u001b[34m│\u001b[0m\n",
       "\u001b[34m│\u001b[0m         \u001b[2;3;33m__reduce__\u001b[0m = \u001b[3;96mdef \u001b[0m\u001b[1;31m__reduce__\u001b[0m\u001b[1m(\u001b[0m\u001b[33m...\u001b[0m\u001b[1m)\u001b[0m \u001b[2mHelper for pickle.\u001b[0m                                                     \u001b[34m│\u001b[0m\n",
       "\u001b[34m│\u001b[0m      \u001b[2;3;33m__reduce_ex__\u001b[0m = \u001b[3;96mdef \u001b[0m\u001b[1;31m__reduce_ex__\u001b[0m\u001b[1m(\u001b[0mprotocol, \u001b[35m/\u001b[0m\u001b[1m)\u001b[0m: \u001b[2mHelper for pickle.\u001b[0m                                         \u001b[34m│\u001b[0m\n",
       "\u001b[34m│\u001b[0m           \u001b[2;3;33m__repr__\u001b[0m = \u001b[3;96mdef \u001b[0m\u001b[1;31m__repr__\u001b[0m\u001b[1m(\u001b[0m\u001b[1m)\u001b[0m: \u001b[2mReturn \u001b[0m\u001b[1;2;35mrepr\u001b[0m\u001b[1;2m(\u001b[0m\u001b[2mself\u001b[0m\u001b[1;2m)\u001b[0m\u001b[2m.\u001b[0m                                                         \u001b[34m│\u001b[0m\n",
       "\u001b[34m│\u001b[0m        \u001b[2;3;33m__setattr__\u001b[0m = \u001b[3;96mdef \u001b[0m\u001b[1;31m__setattr__\u001b[0m\u001b[1m(\u001b[0mname, value, \u001b[35m/\u001b[0m\u001b[1m)\u001b[0m: \u001b[2mImplement \u001b[0m\u001b[1;2;35msetattr\u001b[0m\u001b[1;2m(\u001b[0m\u001b[2mself, name, value\u001b[0m\u001b[1;2m)\u001b[0m\u001b[2m.\u001b[0m                     \u001b[34m│\u001b[0m\n",
       "\u001b[34m│\u001b[0m         \u001b[2;3;33m__sizeof__\u001b[0m = \u001b[3;96mdef \u001b[0m\u001b[1;31m__sizeof__\u001b[0m\u001b[1m(\u001b[0m\u001b[1m)\u001b[0m: \u001b[2mSize of object in memory, in bytes.\u001b[0m                                      \u001b[34m│\u001b[0m\n",
       "\u001b[34m│\u001b[0m            \u001b[2;3;33m__str__\u001b[0m = \u001b[3;96mdef \u001b[0m\u001b[1;31m__str__\u001b[0m\u001b[1m(\u001b[0m\u001b[1m)\u001b[0m: \u001b[2mReturn \u001b[0m\u001b[1;2;35mstr\u001b[0m\u001b[1;2m(\u001b[0m\u001b[2mself\u001b[0m\u001b[1;2m)\u001b[0m\u001b[2m.\u001b[0m                                                           \u001b[34m│\u001b[0m\n",
       "\u001b[34m│\u001b[0m   \u001b[2;3;33m__subclasshook__\u001b[0m = \u001b[3;96mdef \u001b[0m\u001b[1;31m__subclasshook__\u001b[0m\u001b[1m(\u001b[0m\u001b[33m...\u001b[0m\u001b[1m)\u001b[0m \u001b[2mAbstract classes can override this to customize \u001b[0m\u001b[1;2;35missubclass\u001b[0m\u001b[1;2m(\u001b[0m\u001b[1;2m)\u001b[0m\u001b[2m.\u001b[0m    \u001b[34m│\u001b[0m\n",
       "\u001b[34m╰─────────────────────────────────────────────────────────────────────────────────────────────────────────────────╯\u001b[0m\n"
      ]
     },
     "metadata": {},
     "output_type": "display_data"
    }
   ],
   "source": [
    "from rich import inspect\n",
    "\n",
    "inspect(eval(f\"np.random.{q}\"), methods=True, all=True)"
   ]
  },
  {
   "cell_type": "code",
   "execution_count": 63,
   "id": "41efae9d",
   "metadata": {},
   "outputs": [
    {
     "data": {
      "text/html": [
       "<pre style=\"white-space:pre;overflow-x:auto;line-height:normal;font-family:Menlo,'DejaVu Sans Mono',consolas,'Courier New',monospace\"><span style=\"color: #000080; text-decoration-color: #000080\">╭─────────────────────────────────────── </span><span style=\"color: #000080; text-decoration-color: #000080; font-weight: bold\">&lt;</span><span style=\"color: #ff00ff; text-decoration-color: #ff00ff; font-weight: bold\">function</span><span style=\"color: #000000; text-decoration-color: #000000\"> inspect at </span><span style=\"color: #008080; text-decoration-color: #008080; font-weight: bold\">0x10f3fc550</span><span style=\"color: #000080; text-decoration-color: #000080; font-weight: bold\">&gt;</span><span style=\"color: #000080; text-decoration-color: #000080\"> ───────────────────────────────────────╮</span>\n",
       "<span style=\"color: #000080; text-decoration-color: #000080\">│</span> <span style=\"color: #00ffff; text-decoration-color: #00ffff; font-style: italic\">def </span><span style=\"color: #800000; text-decoration-color: #800000; font-weight: bold\">inspect</span><span style=\"font-weight: bold\">(</span>obj: Any, *, console: Optional<span style=\"font-weight: bold\">[</span><span style=\"color: #800080; text-decoration-color: #800080; font-weight: bold\">ForwardRef</span><span style=\"font-weight: bold\">(</span><span style=\"color: #008000; text-decoration-color: #008000\">'Console'</span><span style=\"font-weight: bold\">)]</span> = <span style=\"color: #800080; text-decoration-color: #800080; font-style: italic\">None</span>, title: Optional<span style=\"font-weight: bold\">[</span>str<span style=\"font-weight: bold\">]</span> = <span style=\"color: #800080; text-decoration-color: #800080; font-style: italic\">None</span>, help:    <span style=\"color: #000080; text-decoration-color: #000080\">│</span>\n",
       "<span style=\"color: #000080; text-decoration-color: #000080\">│</span> bool = <span style=\"color: #ff0000; text-decoration-color: #ff0000; font-style: italic\">False</span>, methods: bool = <span style=\"color: #ff0000; text-decoration-color: #ff0000; font-style: italic\">False</span>, docs: bool = <span style=\"color: #00ff00; text-decoration-color: #00ff00; font-style: italic\">True</span>, private: bool = <span style=\"color: #ff0000; text-decoration-color: #ff0000; font-style: italic\">False</span>, dunder: bool = <span style=\"color: #ff0000; text-decoration-color: #ff0000; font-style: italic\">False</span>, sort: bool <span style=\"color: #000080; text-decoration-color: #000080\">│</span>\n",
       "<span style=\"color: #000080; text-decoration-color: #000080\">│</span> = <span style=\"color: #00ff00; text-decoration-color: #00ff00; font-style: italic\">True</span>, all: bool = <span style=\"color: #ff0000; text-decoration-color: #ff0000; font-style: italic\">False</span>, value: bool = <span style=\"color: #00ff00; text-decoration-color: #00ff00; font-style: italic\">True</span><span style=\"font-weight: bold\">)</span> -&gt; <span style=\"color: #800080; text-decoration-color: #800080; font-style: italic\">None</span>:                                                         <span style=\"color: #000080; text-decoration-color: #000080\">│</span>\n",
       "<span style=\"color: #000080; text-decoration-color: #000080\">│</span>                                                                                                                 <span style=\"color: #000080; text-decoration-color: #000080\">│</span>\n",
       "<span style=\"color: #000080; text-decoration-color: #000080\">│</span> <span style=\"color: #008080; text-decoration-color: #008080\">Inspect any Python object.</span>                                                                                      <span style=\"color: #000080; text-decoration-color: #000080\">│</span>\n",
       "<span style=\"color: #000080; text-decoration-color: #000080\">│</span>                                                                                                                 <span style=\"color: #000080; text-decoration-color: #000080\">│</span>\n",
       "<span style=\"color: #000080; text-decoration-color: #000080\">│</span> <span style=\"color: #008080; text-decoration-color: #008080\">* </span><span style=\"color: #800080; text-decoration-color: #800080; font-weight: bold\">inspect</span><span style=\"color: #008080; text-decoration-color: #008080; font-weight: bold\">(&lt;</span><span style=\"color: #ff00ff; text-decoration-color: #ff00ff; font-weight: bold\">OBJECT</span><span style=\"color: #008080; text-decoration-color: #008080; font-weight: bold\">&gt;)</span><span style=\"color: #008080; text-decoration-color: #008080\"> to see summarized info.</span>                                                                     <span style=\"color: #000080; text-decoration-color: #000080\">│</span>\n",
       "<span style=\"color: #000080; text-decoration-color: #000080\">│</span> <span style=\"color: #008080; text-decoration-color: #008080\">* </span><span style=\"color: #800080; text-decoration-color: #800080; font-weight: bold\">inspect</span><span style=\"color: #008080; text-decoration-color: #008080; font-weight: bold\">(&lt;</span><span style=\"color: #ff00ff; text-decoration-color: #ff00ff; font-weight: bold\">OBJECT</span><span style=\"color: #008080; text-decoration-color: #008080; font-weight: bold\">&gt;</span><span style=\"color: #008080; text-decoration-color: #008080\">, </span><span style=\"color: #808000; text-decoration-color: #808000\">methods</span><span style=\"color: #008080; text-decoration-color: #008080\">=</span><span style=\"color: #00ff00; text-decoration-color: #00ff00; font-style: italic\">True</span><span style=\"color: #008080; text-decoration-color: #008080; font-weight: bold\">)</span><span style=\"color: #008080; text-decoration-color: #008080\"> to see methods.</span>                                                               <span style=\"color: #000080; text-decoration-color: #000080\">│</span>\n",
       "<span style=\"color: #000080; text-decoration-color: #000080\">│</span> <span style=\"color: #008080; text-decoration-color: #008080\">* </span><span style=\"color: #800080; text-decoration-color: #800080; font-weight: bold\">inspect</span><span style=\"color: #008080; text-decoration-color: #008080; font-weight: bold\">(&lt;</span><span style=\"color: #ff00ff; text-decoration-color: #ff00ff; font-weight: bold\">OBJECT</span><span style=\"color: #008080; text-decoration-color: #008080; font-weight: bold\">&gt;</span><span style=\"color: #008080; text-decoration-color: #008080\">, </span><span style=\"color: #808000; text-decoration-color: #808000\">help</span><span style=\"color: #008080; text-decoration-color: #008080\">=</span><span style=\"color: #00ff00; text-decoration-color: #00ff00; font-style: italic\">True</span><span style=\"color: #008080; text-decoration-color: #008080; font-weight: bold\">)</span><span style=\"color: #008080; text-decoration-color: #008080\"> to see full </span><span style=\"color: #008080; text-decoration-color: #008080; font-weight: bold\">(</span><span style=\"color: #008080; text-decoration-color: #008080\">non-abbreviated</span><span style=\"color: #008080; text-decoration-color: #008080; font-weight: bold\">)</span><span style=\"color: #008080; text-decoration-color: #008080\"> help.</span>                                              <span style=\"color: #000080; text-decoration-color: #000080\">│</span>\n",
       "<span style=\"color: #000080; text-decoration-color: #000080\">│</span> <span style=\"color: #008080; text-decoration-color: #008080\">* </span><span style=\"color: #800080; text-decoration-color: #800080; font-weight: bold\">inspect</span><span style=\"color: #008080; text-decoration-color: #008080; font-weight: bold\">(&lt;</span><span style=\"color: #ff00ff; text-decoration-color: #ff00ff; font-weight: bold\">OBJECT</span><span style=\"color: #008080; text-decoration-color: #008080; font-weight: bold\">&gt;</span><span style=\"color: #008080; text-decoration-color: #008080\">, </span><span style=\"color: #808000; text-decoration-color: #808000\">private</span><span style=\"color: #008080; text-decoration-color: #008080\">=</span><span style=\"color: #00ff00; text-decoration-color: #00ff00; font-style: italic\">True</span><span style=\"color: #008080; text-decoration-color: #008080; font-weight: bold\">)</span><span style=\"color: #008080; text-decoration-color: #008080\"> to see private attributes </span><span style=\"color: #008080; text-decoration-color: #008080; font-weight: bold\">(</span><span style=\"color: #008080; text-decoration-color: #008080\">single underscore</span><span style=\"color: #008080; text-decoration-color: #008080; font-weight: bold\">)</span><span style=\"color: #008080; text-decoration-color: #008080\">.</span>                                <span style=\"color: #000080; text-decoration-color: #000080\">│</span>\n",
       "<span style=\"color: #000080; text-decoration-color: #000080\">│</span> <span style=\"color: #008080; text-decoration-color: #008080\">* </span><span style=\"color: #800080; text-decoration-color: #800080; font-weight: bold\">inspect</span><span style=\"color: #008080; text-decoration-color: #008080; font-weight: bold\">(&lt;</span><span style=\"color: #ff00ff; text-decoration-color: #ff00ff; font-weight: bold\">OBJECT</span><span style=\"color: #008080; text-decoration-color: #008080; font-weight: bold\">&gt;</span><span style=\"color: #008080; text-decoration-color: #008080\">, </span><span style=\"color: #808000; text-decoration-color: #808000\">dunder</span><span style=\"color: #008080; text-decoration-color: #008080\">=</span><span style=\"color: #00ff00; text-decoration-color: #00ff00; font-style: italic\">True</span><span style=\"color: #008080; text-decoration-color: #008080; font-weight: bold\">)</span><span style=\"color: #008080; text-decoration-color: #008080\"> to see attributes beginning with double underscore.</span>                            <span style=\"color: #000080; text-decoration-color: #000080\">│</span>\n",
       "<span style=\"color: #000080; text-decoration-color: #000080\">│</span> <span style=\"color: #008080; text-decoration-color: #008080\">* </span><span style=\"color: #800080; text-decoration-color: #800080; font-weight: bold\">inspect</span><span style=\"color: #008080; text-decoration-color: #008080; font-weight: bold\">(&lt;</span><span style=\"color: #ff00ff; text-decoration-color: #ff00ff; font-weight: bold\">OBJECT</span><span style=\"color: #008080; text-decoration-color: #008080; font-weight: bold\">&gt;</span><span style=\"color: #008080; text-decoration-color: #008080\">, </span><span style=\"color: #808000; text-decoration-color: #808000\">all</span><span style=\"color: #008080; text-decoration-color: #008080\">=</span><span style=\"color: #00ff00; text-decoration-color: #00ff00; font-style: italic\">True</span><span style=\"color: #008080; text-decoration-color: #008080; font-weight: bold\">)</span><span style=\"color: #008080; text-decoration-color: #008080\"> to see all attributes.</span>                                                            <span style=\"color: #000080; text-decoration-color: #000080\">│</span>\n",
       "<span style=\"color: #000080; text-decoration-color: #000080\">│</span>                                                                                                                 <span style=\"color: #000080; text-decoration-color: #000080\">│</span>\n",
       "<span style=\"color: #000080; text-decoration-color: #000080\">│</span> <span style=\"color: #008080; text-decoration-color: #008080\">Args:</span>                                                                                                           <span style=\"color: #000080; text-decoration-color: #000080\">│</span>\n",
       "<span style=\"color: #000080; text-decoration-color: #000080\">│</span> <span style=\"color: #008080; text-decoration-color: #008080\">    obj </span><span style=\"color: #008080; text-decoration-color: #008080; font-weight: bold\">(</span><span style=\"color: #008080; text-decoration-color: #008080\">Any</span><span style=\"color: #008080; text-decoration-color: #008080; font-weight: bold\">)</span><span style=\"color: #008080; text-decoration-color: #008080\">: An object to inspect.</span>                                                                            <span style=\"color: #000080; text-decoration-color: #000080\">│</span>\n",
       "<span style=\"color: #000080; text-decoration-color: #000080\">│</span> <span style=\"color: #008080; text-decoration-color: #008080\">    title </span><span style=\"color: #008080; text-decoration-color: #008080; font-weight: bold\">(</span><span style=\"color: #008080; text-decoration-color: #008080\">str, optional</span><span style=\"color: #008080; text-decoration-color: #008080; font-weight: bold\">)</span><span style=\"color: #008080; text-decoration-color: #008080\">: Title to display over inspect result, or </span><span style=\"color: #800080; text-decoration-color: #800080; font-style: italic\">None</span><span style=\"color: #008080; text-decoration-color: #008080\"> use type. Defaults to </span><span style=\"color: #800080; text-decoration-color: #800080; font-style: italic\">None</span><span style=\"color: #008080; text-decoration-color: #008080\">.</span>            <span style=\"color: #000080; text-decoration-color: #000080\">│</span>\n",
       "<span style=\"color: #000080; text-decoration-color: #000080\">│</span> <span style=\"color: #008080; text-decoration-color: #008080\">    help </span><span style=\"color: #008080; text-decoration-color: #008080; font-weight: bold\">(</span><span style=\"color: #008080; text-decoration-color: #008080\">bool, optional</span><span style=\"color: #008080; text-decoration-color: #008080; font-weight: bold\">)</span><span style=\"color: #008080; text-decoration-color: #008080\">: Show full help text rather than just first paragraph. Defaults to </span><span style=\"color: #ff0000; text-decoration-color: #ff0000; font-style: italic\">False</span><span style=\"color: #008080; text-decoration-color: #008080\">.</span>             <span style=\"color: #000080; text-decoration-color: #000080\">│</span>\n",
       "<span style=\"color: #000080; text-decoration-color: #000080\">│</span> <span style=\"color: #008080; text-decoration-color: #008080\">    methods </span><span style=\"color: #008080; text-decoration-color: #008080; font-weight: bold\">(</span><span style=\"color: #008080; text-decoration-color: #008080\">bool, optional</span><span style=\"color: #008080; text-decoration-color: #008080; font-weight: bold\">)</span><span style=\"color: #008080; text-decoration-color: #008080\">: Enable inspection of callables. Defaults to </span><span style=\"color: #ff0000; text-decoration-color: #ff0000; font-style: italic\">False</span><span style=\"color: #008080; text-decoration-color: #008080\">.</span>                                <span style=\"color: #000080; text-decoration-color: #000080\">│</span>\n",
       "<span style=\"color: #000080; text-decoration-color: #000080\">│</span> <span style=\"color: #008080; text-decoration-color: #008080\">    docs </span><span style=\"color: #008080; text-decoration-color: #008080; font-weight: bold\">(</span><span style=\"color: #008080; text-decoration-color: #008080\">bool, optional</span><span style=\"color: #008080; text-decoration-color: #008080; font-weight: bold\">)</span><span style=\"color: #008080; text-decoration-color: #008080\">: Also render doc strings. Defaults to </span><span style=\"color: #00ff00; text-decoration-color: #00ff00; font-style: italic\">True</span><span style=\"color: #008080; text-decoration-color: #008080\">.</span>                                           <span style=\"color: #000080; text-decoration-color: #000080\">│</span>\n",
       "<span style=\"color: #000080; text-decoration-color: #000080\">│</span> <span style=\"color: #008080; text-decoration-color: #008080\">    private </span><span style=\"color: #008080; text-decoration-color: #008080; font-weight: bold\">(</span><span style=\"color: #008080; text-decoration-color: #008080\">bool, optional</span><span style=\"color: #008080; text-decoration-color: #008080; font-weight: bold\">)</span><span style=\"color: #008080; text-decoration-color: #008080\">: Show private attributes </span><span style=\"color: #008080; text-decoration-color: #008080; font-weight: bold\">(</span><span style=\"color: #008080; text-decoration-color: #008080\">beginning with underscore</span><span style=\"color: #008080; text-decoration-color: #008080; font-weight: bold\">)</span><span style=\"color: #008080; text-decoration-color: #008080\">. Defaults to </span><span style=\"color: #ff0000; text-decoration-color: #ff0000; font-style: italic\">False</span><span style=\"color: #008080; text-decoration-color: #008080\">.</span>           <span style=\"color: #000080; text-decoration-color: #000080\">│</span>\n",
       "<span style=\"color: #000080; text-decoration-color: #000080\">│</span> <span style=\"color: #008080; text-decoration-color: #008080\">    dunder </span><span style=\"color: #008080; text-decoration-color: #008080; font-weight: bold\">(</span><span style=\"color: #008080; text-decoration-color: #008080\">bool, optional</span><span style=\"color: #008080; text-decoration-color: #008080; font-weight: bold\">)</span><span style=\"color: #008080; text-decoration-color: #008080\">: Show attributes starting with double underscore. Defaults to </span><span style=\"color: #ff0000; text-decoration-color: #ff0000; font-style: italic\">False</span><span style=\"color: #008080; text-decoration-color: #008080\">.</span>                <span style=\"color: #000080; text-decoration-color: #000080\">│</span>\n",
       "<span style=\"color: #000080; text-decoration-color: #000080\">│</span> <span style=\"color: #008080; text-decoration-color: #008080\">    sort </span><span style=\"color: #008080; text-decoration-color: #008080; font-weight: bold\">(</span><span style=\"color: #008080; text-decoration-color: #008080\">bool, optional</span><span style=\"color: #008080; text-decoration-color: #008080; font-weight: bold\">)</span><span style=\"color: #008080; text-decoration-color: #008080\">: Sort attributes alphabetically. Defaults to </span><span style=\"color: #00ff00; text-decoration-color: #00ff00; font-style: italic\">True</span><span style=\"color: #008080; text-decoration-color: #008080\">.</span>                                    <span style=\"color: #000080; text-decoration-color: #000080\">│</span>\n",
       "<span style=\"color: #000080; text-decoration-color: #000080\">│</span> <span style=\"color: #008080; text-decoration-color: #008080\">    all </span><span style=\"color: #008080; text-decoration-color: #008080; font-weight: bold\">(</span><span style=\"color: #008080; text-decoration-color: #008080\">bool, optional</span><span style=\"color: #008080; text-decoration-color: #008080; font-weight: bold\">)</span><span style=\"color: #008080; text-decoration-color: #008080\">: Show all attributes. Defaults to </span><span style=\"color: #ff0000; text-decoration-color: #ff0000; font-style: italic\">False</span><span style=\"color: #008080; text-decoration-color: #008080\">.</span>                                               <span style=\"color: #000080; text-decoration-color: #000080\">│</span>\n",
       "<span style=\"color: #000080; text-decoration-color: #000080\">│</span> <span style=\"color: #008080; text-decoration-color: #008080\">    value </span><span style=\"color: #008080; text-decoration-color: #008080; font-weight: bold\">(</span><span style=\"color: #008080; text-decoration-color: #008080\">bool, optional</span><span style=\"color: #008080; text-decoration-color: #008080; font-weight: bold\">)</span><span style=\"color: #008080; text-decoration-color: #008080\">: Pretty print value. Defaults to </span><span style=\"color: #00ff00; text-decoration-color: #00ff00; font-style: italic\">True</span><span style=\"color: #008080; text-decoration-color: #008080\">.</span>                                               <span style=\"color: #000080; text-decoration-color: #000080\">│</span>\n",
       "<span style=\"color: #000080; text-decoration-color: #000080\">│</span>                                                                                                                 <span style=\"color: #000080; text-decoration-color: #000080\">│</span>\n",
       "<span style=\"color: #000080; text-decoration-color: #000080\">│</span> <span style=\"color: #008080; text-decoration-color: #008080; font-weight: bold\">35</span><span style=\"font-style: italic\"> attribute(s) not shown.</span> Run <span style=\"color: #800080; text-decoration-color: #800080; font-weight: bold\">inspect</span><span style=\"font-weight: bold\">(</span>inspect<span style=\"font-weight: bold\">)</span> for options.                                                    <span style=\"color: #000080; text-decoration-color: #000080\">│</span>\n",
       "<span style=\"color: #000080; text-decoration-color: #000080\">╰─────────────────────────────────────────────────────────────────────────────────────────────────────────────────╯</span>\n",
       "</pre>\n"
      ],
      "text/plain": [
       "\u001b[34m╭─\u001b[0m\u001b[34m──────────────────────────────────────\u001b[0m\u001b[34m \u001b[0m\u001b[1;34m<\u001b[0m\u001b[1;95mfunction\u001b[0m\u001b[39m inspect at \u001b[0m\u001b[1;36m0x10f3fc550\u001b[0m\u001b[1;34m>\u001b[0m\u001b[34m \u001b[0m\u001b[34m──────────────────────────────────────\u001b[0m\u001b[34m─╮\u001b[0m\n",
       "\u001b[34m│\u001b[0m \u001b[3;96mdef \u001b[0m\u001b[1;31minspect\u001b[0m\u001b[1m(\u001b[0mobj: Any, *, console: Optional\u001b[1m[\u001b[0m\u001b[1;35mForwardRef\u001b[0m\u001b[1m(\u001b[0m\u001b[32m'Console'\u001b[0m\u001b[1m)\u001b[0m\u001b[1m]\u001b[0m = \u001b[3;35mNone\u001b[0m, title: Optional\u001b[1m[\u001b[0mstr\u001b[1m]\u001b[0m = \u001b[3;35mNone\u001b[0m, help:    \u001b[34m│\u001b[0m\n",
       "\u001b[34m│\u001b[0m bool = \u001b[3;91mFalse\u001b[0m, methods: bool = \u001b[3;91mFalse\u001b[0m, docs: bool = \u001b[3;92mTrue\u001b[0m, private: bool = \u001b[3;91mFalse\u001b[0m, dunder: bool = \u001b[3;91mFalse\u001b[0m, sort: bool \u001b[34m│\u001b[0m\n",
       "\u001b[34m│\u001b[0m = \u001b[3;92mTrue\u001b[0m, all: bool = \u001b[3;91mFalse\u001b[0m, value: bool = \u001b[3;92mTrue\u001b[0m\u001b[1m)\u001b[0m -> \u001b[3;35mNone\u001b[0m:                                                         \u001b[34m│\u001b[0m\n",
       "\u001b[34m│\u001b[0m                                                                                                                 \u001b[34m│\u001b[0m\n",
       "\u001b[34m│\u001b[0m \u001b[36mInspect any Python object.\u001b[0m                                                                                      \u001b[34m│\u001b[0m\n",
       "\u001b[34m│\u001b[0m                                                                                                                 \u001b[34m│\u001b[0m\n",
       "\u001b[34m│\u001b[0m \u001b[36m* \u001b[0m\u001b[1;35minspect\u001b[0m\u001b[1;36m(\u001b[0m\u001b[1;36m<\u001b[0m\u001b[1;95mOBJECT\u001b[0m\u001b[1;36m>\u001b[0m\u001b[1;36m)\u001b[0m\u001b[36m to see summarized info.\u001b[0m                                                                     \u001b[34m│\u001b[0m\n",
       "\u001b[34m│\u001b[0m \u001b[36m* \u001b[0m\u001b[1;35minspect\u001b[0m\u001b[1;36m(\u001b[0m\u001b[1;36m<\u001b[0m\u001b[1;95mOBJECT\u001b[0m\u001b[1;36m>\u001b[0m\u001b[36m, \u001b[0m\u001b[33mmethods\u001b[0m\u001b[36m=\u001b[0m\u001b[3;92mTrue\u001b[0m\u001b[1;36m)\u001b[0m\u001b[36m to see methods.\u001b[0m                                                               \u001b[34m│\u001b[0m\n",
       "\u001b[34m│\u001b[0m \u001b[36m* \u001b[0m\u001b[1;35minspect\u001b[0m\u001b[1;36m(\u001b[0m\u001b[1;36m<\u001b[0m\u001b[1;95mOBJECT\u001b[0m\u001b[1;36m>\u001b[0m\u001b[36m, \u001b[0m\u001b[33mhelp\u001b[0m\u001b[36m=\u001b[0m\u001b[3;92mTrue\u001b[0m\u001b[1;36m)\u001b[0m\u001b[36m to see full \u001b[0m\u001b[1;36m(\u001b[0m\u001b[36mnon-abbreviated\u001b[0m\u001b[1;36m)\u001b[0m\u001b[36m help.\u001b[0m                                              \u001b[34m│\u001b[0m\n",
       "\u001b[34m│\u001b[0m \u001b[36m* \u001b[0m\u001b[1;35minspect\u001b[0m\u001b[1;36m(\u001b[0m\u001b[1;36m<\u001b[0m\u001b[1;95mOBJECT\u001b[0m\u001b[1;36m>\u001b[0m\u001b[36m, \u001b[0m\u001b[33mprivate\u001b[0m\u001b[36m=\u001b[0m\u001b[3;92mTrue\u001b[0m\u001b[1;36m)\u001b[0m\u001b[36m to see private attributes \u001b[0m\u001b[1;36m(\u001b[0m\u001b[36msingle underscore\u001b[0m\u001b[1;36m)\u001b[0m\u001b[36m.\u001b[0m                                \u001b[34m│\u001b[0m\n",
       "\u001b[34m│\u001b[0m \u001b[36m* \u001b[0m\u001b[1;35minspect\u001b[0m\u001b[1;36m(\u001b[0m\u001b[1;36m<\u001b[0m\u001b[1;95mOBJECT\u001b[0m\u001b[1;36m>\u001b[0m\u001b[36m, \u001b[0m\u001b[33mdunder\u001b[0m\u001b[36m=\u001b[0m\u001b[3;92mTrue\u001b[0m\u001b[1;36m)\u001b[0m\u001b[36m to see attributes beginning with double underscore.\u001b[0m                            \u001b[34m│\u001b[0m\n",
       "\u001b[34m│\u001b[0m \u001b[36m* \u001b[0m\u001b[1;35minspect\u001b[0m\u001b[1;36m(\u001b[0m\u001b[1;36m<\u001b[0m\u001b[1;95mOBJECT\u001b[0m\u001b[1;36m>\u001b[0m\u001b[36m, \u001b[0m\u001b[33mall\u001b[0m\u001b[36m=\u001b[0m\u001b[3;92mTrue\u001b[0m\u001b[1;36m)\u001b[0m\u001b[36m to see all attributes.\u001b[0m                                                            \u001b[34m│\u001b[0m\n",
       "\u001b[34m│\u001b[0m                                                                                                                 \u001b[34m│\u001b[0m\n",
       "\u001b[34m│\u001b[0m \u001b[36mArgs:\u001b[0m                                                                                                           \u001b[34m│\u001b[0m\n",
       "\u001b[34m│\u001b[0m \u001b[36m    obj \u001b[0m\u001b[1;36m(\u001b[0m\u001b[36mAny\u001b[0m\u001b[1;36m)\u001b[0m\u001b[36m: An object to inspect.\u001b[0m                                                                            \u001b[34m│\u001b[0m\n",
       "\u001b[34m│\u001b[0m \u001b[36m    title \u001b[0m\u001b[1;36m(\u001b[0m\u001b[36mstr, optional\u001b[0m\u001b[1;36m)\u001b[0m\u001b[36m: Title to display over inspect result, or \u001b[0m\u001b[3;35mNone\u001b[0m\u001b[36m use type. Defaults to \u001b[0m\u001b[3;35mNone\u001b[0m\u001b[36m.\u001b[0m            \u001b[34m│\u001b[0m\n",
       "\u001b[34m│\u001b[0m \u001b[36m    help \u001b[0m\u001b[1;36m(\u001b[0m\u001b[36mbool, optional\u001b[0m\u001b[1;36m)\u001b[0m\u001b[36m: Show full help text rather than just first paragraph. Defaults to \u001b[0m\u001b[3;91mFalse\u001b[0m\u001b[36m.\u001b[0m             \u001b[34m│\u001b[0m\n",
       "\u001b[34m│\u001b[0m \u001b[36m    methods \u001b[0m\u001b[1;36m(\u001b[0m\u001b[36mbool, optional\u001b[0m\u001b[1;36m)\u001b[0m\u001b[36m: Enable inspection of callables. Defaults to \u001b[0m\u001b[3;91mFalse\u001b[0m\u001b[36m.\u001b[0m                                \u001b[34m│\u001b[0m\n",
       "\u001b[34m│\u001b[0m \u001b[36m    docs \u001b[0m\u001b[1;36m(\u001b[0m\u001b[36mbool, optional\u001b[0m\u001b[1;36m)\u001b[0m\u001b[36m: Also render doc strings. Defaults to \u001b[0m\u001b[3;92mTrue\u001b[0m\u001b[36m.\u001b[0m                                           \u001b[34m│\u001b[0m\n",
       "\u001b[34m│\u001b[0m \u001b[36m    private \u001b[0m\u001b[1;36m(\u001b[0m\u001b[36mbool, optional\u001b[0m\u001b[1;36m)\u001b[0m\u001b[36m: Show private attributes \u001b[0m\u001b[1;36m(\u001b[0m\u001b[36mbeginning with underscore\u001b[0m\u001b[1;36m)\u001b[0m\u001b[36m. Defaults to \u001b[0m\u001b[3;91mFalse\u001b[0m\u001b[36m.\u001b[0m           \u001b[34m│\u001b[0m\n",
       "\u001b[34m│\u001b[0m \u001b[36m    dunder \u001b[0m\u001b[1;36m(\u001b[0m\u001b[36mbool, optional\u001b[0m\u001b[1;36m)\u001b[0m\u001b[36m: Show attributes starting with double underscore. Defaults to \u001b[0m\u001b[3;91mFalse\u001b[0m\u001b[36m.\u001b[0m                \u001b[34m│\u001b[0m\n",
       "\u001b[34m│\u001b[0m \u001b[36m    sort \u001b[0m\u001b[1;36m(\u001b[0m\u001b[36mbool, optional\u001b[0m\u001b[1;36m)\u001b[0m\u001b[36m: Sort attributes alphabetically. Defaults to \u001b[0m\u001b[3;92mTrue\u001b[0m\u001b[36m.\u001b[0m                                    \u001b[34m│\u001b[0m\n",
       "\u001b[34m│\u001b[0m \u001b[36m    all \u001b[0m\u001b[1;36m(\u001b[0m\u001b[36mbool, optional\u001b[0m\u001b[1;36m)\u001b[0m\u001b[36m: Show all attributes. Defaults to \u001b[0m\u001b[3;91mFalse\u001b[0m\u001b[36m.\u001b[0m                                               \u001b[34m│\u001b[0m\n",
       "\u001b[34m│\u001b[0m \u001b[36m    value \u001b[0m\u001b[1;36m(\u001b[0m\u001b[36mbool, optional\u001b[0m\u001b[1;36m)\u001b[0m\u001b[36m: Pretty print value. Defaults to \u001b[0m\u001b[3;92mTrue\u001b[0m\u001b[36m.\u001b[0m                                               \u001b[34m│\u001b[0m\n",
       "\u001b[34m│\u001b[0m                                                                                                                 \u001b[34m│\u001b[0m\n",
       "\u001b[34m│\u001b[0m \u001b[1;36m35\u001b[0m\u001b[3m attribute(s) not shown.\u001b[0m Run \u001b[1;35minspect\u001b[0m\u001b[1m(\u001b[0minspect\u001b[1m)\u001b[0m for options.                                                    \u001b[34m│\u001b[0m\n",
       "\u001b[34m╰─────────────────────────────────────────────────────────────────────────────────────────────────────────────────╯\u001b[0m\n"
      ]
     },
     "metadata": {},
     "output_type": "display_data"
    }
   ],
   "source": [
    "inspect(inspect)"
   ]
  },
  {
   "cell_type": "code",
   "execution_count": null,
   "id": "93a9cef0",
   "metadata": {},
   "outputs": [],
   "source": []
  }
 ],
 "metadata": {
  "kernelspec": {
   "display_name": "Python 3 (ipykernel)",
   "language": "python",
   "name": "python3"
  },
  "language_info": {
   "codemirror_mode": {
    "name": "ipython",
    "version": 3
   },
   "file_extension": ".py",
   "mimetype": "text/x-python",
   "name": "python",
   "nbconvert_exporter": "python",
   "pygments_lexer": "ipython3",
   "version": "3.9.15"
  }
 },
 "nbformat": 4,
 "nbformat_minor": 5
}
